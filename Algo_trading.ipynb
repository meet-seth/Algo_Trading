{
  "nbformat": 4,
  "nbformat_minor": 0,
  "metadata": {
    "colab": {
      "provenance": []
    },
    "kernelspec": {
      "name": "python3",
      "display_name": "Python 3"
    },
    "language_info": {
      "name": "python"
    }
  },
  "cells": [
    {
      "cell_type": "code",
      "source": [
        "!ssh-keygen -t rsa -b 4096"
      ],
      "metadata": {
        "colab": {
          "base_uri": "https://localhost:8080/"
        },
        "id": "3zIgJ1itjDxM",
        "outputId": "560d3eb0-9e1f-47e4-9230-1b161ca2214c"
      },
      "execution_count": null,
      "outputs": [
        {
          "output_type": "stream",
          "name": "stdout",
          "text": [
            "Generating public/private rsa key pair.\n",
            "Enter file in which to save the key (/root/.ssh/id_rsa): \n",
            "Created directory '/root/.ssh'.\n",
            "Enter passphrase (empty for no passphrase): \n",
            "Enter same passphrase again: \n",
            "Your identification has been saved in /root/.ssh/id_rsa\n",
            "Your public key has been saved in /root/.ssh/id_rsa.pub\n",
            "The key fingerprint is:\n",
            "SHA256:uTkPfyNRAM6n5+wAvlGHxVJUl4zxJ1e1GF4UYGzFmDU root@5e6827529ecf\n",
            "The key's randomart image is:\n",
            "+---[RSA 4096]----+\n",
            "|        .oo.+BXE=|\n",
            "|       o o. +B*.+|\n",
            "|        + +..oo.o|\n",
            "|         B  .  + |\n",
            "|      . S o.     |\n",
            "|     . o B.      |\n",
            "|      o * o.     |\n",
            "|       o B. o    |\n",
            "|      .   +o .   |\n",
            "+----[SHA256]-----+\n"
          ]
        }
      ]
    },
    {
      "cell_type": "code",
      "source": [
        "import yfinance as yf\n",
        "df = yf.download(tickers=['TATAMOTORS.NS','INFY.NS','RELIANCE.NS'],period='7d',interval='1m')"
      ],
      "metadata": {
        "id": "XYU324YV4jhA",
        "colab": {
          "base_uri": "https://localhost:8080/"
        },
        "outputId": "905cd946-a460-4d48-8591-ec94d196af7e"
      },
      "execution_count": null,
      "outputs": [
        {
          "output_type": "stream",
          "name": "stdout",
          "text": [
            "[*********************100%***********************]  3 of 3 completed\n"
          ]
        }
      ]
    },
    {
      "cell_type": "code",
      "source": [
        "len(df)"
      ],
      "metadata": {
        "colab": {
          "base_uri": "https://localhost:8080/"
        },
        "id": "H9sE-l7A1JKw",
        "outputId": "deb5018e-bb15-4bab-d567-c93b42b9affb"
      },
      "execution_count": null,
      "outputs": [
        {
          "output_type": "execute_result",
          "data": {
            "text/plain": [
              "2616"
            ]
          },
          "metadata": {},
          "execution_count": 3
        }
      ]
    },
    {
      "cell_type": "code",
      "source": [
        "# import pandas as pd\n",
        "df.index = df.index.tz_localize(None)"
      ],
      "metadata": {
        "id": "AI1MJHsM2Dcw"
      },
      "execution_count": null,
      "outputs": []
    },
    {
      "cell_type": "code",
      "source": [
        "df.to_excel('Stock_Data_2.xlsx')"
      ],
      "metadata": {
        "id": "AgLsaWBu9Waf"
      },
      "execution_count": null,
      "outputs": []
    },
    {
      "cell_type": "code",
      "source": [
        "!mv /content/Stock_Data_2.xlsx /content/drive/MyDrive/Stock_Data_2.xlsx"
      ],
      "metadata": {
        "id": "QT7DAkgl-26c"
      },
      "execution_count": null,
      "outputs": []
    },
    {
      "cell_type": "code",
      "source": [
        "!ssh-keyscan -t rsa github.com >> ~/.ssh/known_hosts"
      ],
      "metadata": {
        "colab": {
          "base_uri": "https://localhost:8080/"
        },
        "id": "dDx-9tA3jDpo",
        "outputId": "b7eafee8-df72-4c15-9219-a0f010ca65de"
      },
      "execution_count": null,
      "outputs": [
        {
          "output_type": "stream",
          "name": "stdout",
          "text": [
            "# github.com:22 SSH-2.0-babeld-d3c6b5ba\n"
          ]
        }
      ]
    },
    {
      "cell_type": "code",
      "source": [
        "!cat /root/.ssh/id_rsa.pub"
      ],
      "metadata": {
        "colab": {
          "base_uri": "https://localhost:8080/"
        },
        "id": "W16llEwbjV-g",
        "outputId": "13071f68-6434-4ae6-a8e1-b3d02abd1200"
      },
      "execution_count": null,
      "outputs": [
        {
          "output_type": "stream",
          "name": "stdout",
          "text": [
            "ssh-rsa AAAAB3NzaC1yc2EAAAADAQABAAACAQDVr25IXed9/jlxu5qAC2XpxpXxXnUn3MWkY9FpQUbJGQR0kY+bA45bCF6v5Bds18m2gOLYI2G+nxgw4bsU9W+gEgboAgGGgh+RHKDSG+vOvWK0tsuBGQezuNQUuoSV9yM4Ds6pIlBKKXNsFwr5g3PoNYA79VaJJQnIuXbDSvO2dnXMDx/dsNHLH/bM7m1a04u95ToHAjW5d2f96rwhtj4K58GoBRjvRjm8tubHBdArwHoLAw2u3hzx256ENGvfy3Em/H93Ve1u5bdFsifp7RAiSOELS0oVDsQyUhkHufpdQSLxIt7dm/xq3RhMU2hGaRLDVjsI4a6xuaSP5lclz52otlFBq3DRxkfgM0OR8gmx/4lnDJ9iisJ4dFbzXQC5LztJ2twhHNs40egphGz3BQKjGR1a27ovPIj8NKrnz1nLDRxm+N7JvvG/03bDXlS0Y7CuK8rnu3wmuOnjNwTdc1SUay08w/r4LD2t3Ywb7yyf0pxrx97RtkEwWfjqcXmlDCF13dp+h7apGHdYubSLsgKFHr9PsWVJOZtJNdbNUv6ErKDUTtNWATQtXFCWj0DK0VZL4CSG7t5/5otJi2nP+GBAVMEoYHK5ymGwTZIWC5XIs3YHZwvxiEU/3XWfy4Ibs2vOY+J2GHGzO8TJ+P+jYOS61X30Mt44Sbj3I7W/OM4RUQ== root@5e6827529ecf\n"
          ]
        }
      ]
    },
    {
      "cell_type": "code",
      "source": [
        "!ssh -T git@github.com"
      ],
      "metadata": {
        "colab": {
          "base_uri": "https://localhost:8080/"
        },
        "id": "ed3NFxx1jVne",
        "outputId": "fa7975bf-7429-4486-ee49-1205fcda2d01"
      },
      "execution_count": null,
      "outputs": [
        {
          "output_type": "stream",
          "name": "stdout",
          "text": [
            "Warning: Permanently added the RSA host key for IP address '140.82.113.4' to the list of known hosts.\r\n",
            "Hi meet-seth! You've successfully authenticated, but GitHub does not provide shell access.\n"
          ]
        }
      ]
    },
    {
      "cell_type": "code",
      "source": [
        "!git config --global user.email \"meetsheth1307@gmail.com\"\n",
        "!git config --global user.name \"Meet Sheth\""
      ],
      "metadata": {
        "id": "_Kxc3XXjjcH4"
      },
      "execution_count": null,
      "outputs": []
    },
    {
      "cell_type": "code",
      "execution_count": null,
      "metadata": {
        "colab": {
          "base_uri": "https://localhost:8080/"
        },
        "id": "pJHanTtZyiIL",
        "outputId": "7e39dd05-08e5-448d-ee88-dff7e659b246"
      },
      "outputs": [
        {
          "output_type": "stream",
          "name": "stdout",
          "text": [
            "Cloning into 'Algo_Trading'...\n",
            "Host key verification failed.\r\n",
            "fatal: Could not read from remote repository.\n",
            "\n",
            "Please make sure you have the correct access rights\n",
            "and the repository exists.\n"
          ]
        }
      ],
      "source": [
        "!git clone git@github.com:meet-seth/Algo_Trading.git"
      ]
    },
    {
      "cell_type": "code",
      "source": [
        "!git clone https://github.com/meet-seth/Algo_Trading.git"
      ],
      "metadata": {
        "colab": {
          "base_uri": "https://localhost:8080/"
        },
        "id": "SFarjBQnlNuQ",
        "outputId": "71046e96-3206-4a60-b00c-e96eb052d602"
      },
      "execution_count": null,
      "outputs": [
        {
          "output_type": "stream",
          "name": "stdout",
          "text": [
            "Cloning into 'Algo_Trading'...\n",
            "remote: Enumerating objects: 48, done.\u001b[K\n",
            "remote: Counting objects: 100% (48/48), done.\u001b[K\n",
            "remote: Compressing objects: 100% (30/30), done.\u001b[K\n",
            "remote: Total 48 (delta 23), reused 43 (delta 18), pack-reused 0\u001b[K\n",
            "Unpacking objects: 100% (48/48), 469.77 KiB | 2.40 MiB/s, done.\n"
          ]
        }
      ]
    },
    {
      "cell_type": "code",
      "source": [
        "!git clone https://github.com/meet-seth/Algo_Trading.git\n",
        "!python3 -m pip install yfinance"
      ],
      "metadata": {
        "colab": {
          "base_uri": "https://localhost:8080/"
        },
        "id": "LcmmSW1Z2mkW",
        "outputId": "4bd15436-6e6c-4f1e-f9f8-5194af9f6666"
      },
      "execution_count": null,
      "outputs": [
        {
          "output_type": "stream",
          "name": "stdout",
          "text": [
            "Looking in indexes: https://pypi.org/simple, https://us-python.pkg.dev/colab-wheels/public/simple/\n",
            "Requirement already satisfied: yfinance in /usr/local/lib/python3.9/dist-packages (0.2.13)\n",
            "Requirement already satisfied: pandas>=1.3.0 in /usr/local/lib/python3.9/dist-packages (from yfinance) (1.4.4)\n",
            "Requirement already satisfied: multitasking>=0.0.7 in /usr/local/lib/python3.9/dist-packages (from yfinance) (0.0.11)\n",
            "Requirement already satisfied: requests>=2.26 in /usr/local/lib/python3.9/dist-packages (from yfinance) (2.27.1)\n",
            "Requirement already satisfied: appdirs>=1.4.4 in /usr/local/lib/python3.9/dist-packages (from yfinance) (1.4.4)\n",
            "Requirement already satisfied: cryptography>=3.3.2 in /usr/local/lib/python3.9/dist-packages (from yfinance) (39.0.2)\n",
            "Requirement already satisfied: frozendict>=2.3.4 in /usr/local/lib/python3.9/dist-packages (from yfinance) (2.3.6)\n",
            "Requirement already satisfied: lxml>=4.9.1 in /usr/local/lib/python3.9/dist-packages (from yfinance) (4.9.2)\n",
            "Requirement already satisfied: pytz>=2022.5 in /usr/local/lib/python3.9/dist-packages (from yfinance) (2022.7.1)\n",
            "Requirement already satisfied: html5lib>=1.1 in /usr/local/lib/python3.9/dist-packages (from yfinance) (1.1)\n",
            "Requirement already satisfied: beautifulsoup4>=4.11.1 in /usr/local/lib/python3.9/dist-packages (from yfinance) (4.11.2)\n",
            "Requirement already satisfied: numpy>=1.16.5 in /usr/local/lib/python3.9/dist-packages (from yfinance) (1.22.4)\n",
            "Requirement already satisfied: soupsieve>1.2 in /usr/local/lib/python3.9/dist-packages (from beautifulsoup4>=4.11.1->yfinance) (2.4)\n",
            "Requirement already satisfied: cffi>=1.12 in /usr/local/lib/python3.9/dist-packages (from cryptography>=3.3.2->yfinance) (1.15.1)\n",
            "Requirement already satisfied: six>=1.9 in /usr/local/lib/python3.9/dist-packages (from html5lib>=1.1->yfinance) (1.16.0)\n",
            "Requirement already satisfied: webencodings in /usr/local/lib/python3.9/dist-packages (from html5lib>=1.1->yfinance) (0.5.1)\n",
            "Requirement already satisfied: python-dateutil>=2.8.1 in /usr/local/lib/python3.9/dist-packages (from pandas>=1.3.0->yfinance) (2.8.2)\n",
            "Requirement already satisfied: idna<4,>=2.5 in /usr/local/lib/python3.9/dist-packages (from requests>=2.26->yfinance) (3.4)\n",
            "Requirement already satisfied: charset-normalizer~=2.0.0 in /usr/local/lib/python3.9/dist-packages (from requests>=2.26->yfinance) (2.0.12)\n",
            "Requirement already satisfied: urllib3<1.27,>=1.21.1 in /usr/local/lib/python3.9/dist-packages (from requests>=2.26->yfinance) (1.26.15)\n",
            "Requirement already satisfied: certifi>=2017.4.17 in /usr/local/lib/python3.9/dist-packages (from requests>=2.26->yfinance) (2022.12.7)\n",
            "Requirement already satisfied: pycparser in /usr/local/lib/python3.9/dist-packages (from cffi>=1.12->cryptography>=3.3.2->yfinance) (2.21)\n"
          ]
        }
      ]
    },
    {
      "cell_type": "code",
      "source": [
        "import yfinance as yf"
      ],
      "metadata": {
        "id": "49qzUA802qgu"
      },
      "execution_count": null,
      "outputs": []
    },
    {
      "cell_type": "code",
      "source": [
        "import os\n",
        "os.chdir('./Algo_Trading')"
      ],
      "metadata": {
        "id": "7SxmzQet2sdo"
      },
      "execution_count": null,
      "outputs": []
    },
    {
      "cell_type": "code",
      "source": [
        "from dataset import Stock_Dataset"
      ],
      "metadata": {
        "id": "_CB477yB2_OF"
      },
      "execution_count": null,
      "outputs": []
    },
    {
      "cell_type": "code",
      "source": [
        "import numpy as np\n",
        "import pandas as pd\n",
        "import matplotlib.pyplot as plt\n",
        "import tensorflow as tf\n",
        "# import yfinance as yf"
      ],
      "metadata": {
        "id": "z85NDB7p8QI1"
      },
      "execution_count": null,
      "outputs": []
    },
    {
      "cell_type": "code",
      "source": [
        "tata = Stock_Dataset(windows=[10],horizons=[3],intercross=False,lookover=False,ticker='TATAMOTORS.NS',start='2018-01-01',end=pd.Timestamp.today(),interval='1D')"
      ],
      "metadata": {
        "colab": {
          "base_uri": "https://localhost:8080/"
        },
        "id": "yC8P9DXv2_LQ",
        "outputId": "a5efc1e8-9038-4ebd-d871-0d75aca884a3"
      },
      "execution_count": null,
      "outputs": [
        {
          "output_type": "stream",
          "name": "stdout",
          "text": [
            "\r[*********************100%***********************]  1 of 1 completed\n"
          ]
        }
      ]
    },
    {
      "cell_type": "code",
      "source": [
        "tata.create_dataset()"
      ],
      "metadata": {
        "id": "fzTFzFR32_IK"
      },
      "execution_count": null,
      "outputs": []
    },
    {
      "cell_type": "code",
      "source": [
        "tata.dataset['data_10_3']['position'].value_counts()"
      ],
      "metadata": {
        "colab": {
          "base_uri": "https://localhost:8080/"
        },
        "id": "7xsdzTCF2_E5",
        "outputId": "6ff28f3c-160e-4d0a-8d28-c41c3599cb27"
      },
      "execution_count": null,
      "outputs": [
        {
          "output_type": "execute_result",
          "data": {
            "text/plain": [
              "-1    635\n",
              " 1    633\n",
              "Name: position, dtype: int64"
            ]
          },
          "metadata": {},
          "execution_count": 16
        }
      ]
    },
    {
      "cell_type": "code",
      "source": [
        "dataset = tata.dataset['data_10_3']"
      ],
      "metadata": {
        "id": "EwUaJ9p0p-FI"
      },
      "execution_count": null,
      "outputs": []
    },
    {
      "cell_type": "code",
      "source": [
        "l = int(0.9*len(dataset))\n",
        "train = dataset.iloc[:l]\n",
        "test = dataset.iloc[l:]"
      ],
      "metadata": {
        "id": "i68h1z2dqJBs"
      },
      "execution_count": null,
      "outputs": []
    },
    {
      "cell_type": "code",
      "source": [
        "cols = ['log_returns'] + [f't-{i}' for i in range(1,11)]\n",
        "x_train = train[cols]\n",
        "y_train = train['position'].apply(lambda x: 0 if x==-1 else x)\n",
        "x_test = test[cols]\n",
        "y_test = test['position'].apply(lambda x: 0 if x==-1 else x)"
      ],
      "metadata": {
        "id": "tGvjhJ13qbyH"
      },
      "execution_count": null,
      "outputs": []
    },
    {
      "cell_type": "code",
      "source": [
        "x_train.head()"
      ],
      "metadata": {
        "colab": {
          "base_uri": "https://localhost:8080/",
          "height": 302
        },
        "id": "CzzIbLJ0qbrQ",
        "outputId": "a9d143c4-ab35-49a9-fd8b-e5fc83ad5b28"
      },
      "execution_count": null,
      "outputs": [
        {
          "output_type": "execute_result",
          "data": {
            "text/plain": [
              "            log_returns       t-1       t-2       t-3       t-4       t-5  \\\n",
              "Date                                                                        \n",
              "2018-01-16    -0.024467 -0.010927  0.005391  0.003341 -0.009761  0.009184   \n",
              "2018-01-17     0.002486 -0.024467 -0.010927  0.005391  0.003341 -0.009761   \n",
              "2018-01-18    -0.009502  0.002486 -0.024467 -0.010927  0.005391  0.003341   \n",
              "2018-01-19    -0.002151 -0.009502  0.002486 -0.024467 -0.010927  0.005391   \n",
              "2018-01-22     0.009167 -0.002151 -0.009502  0.002486 -0.024467 -0.010927   \n",
              "\n",
              "                 t-6       t-7       t-8       t-9      t-10  \n",
              "Date                                                          \n",
              "2018-01-16  0.004508  0.003830 -0.009145 -0.012368  0.034388  \n",
              "2018-01-17  0.009184  0.004508  0.003830 -0.009145 -0.012368  \n",
              "2018-01-18 -0.009761  0.009184  0.004508  0.003830 -0.009145  \n",
              "2018-01-19  0.003341 -0.009761  0.009184  0.004508  0.003830  \n",
              "2018-01-22  0.005391  0.003341 -0.009761  0.009184  0.004508  "
            ],
            "text/html": [
              "\n",
              "  <div id=\"df-98280cef-3f29-4526-b960-2bcf63f7179d\">\n",
              "    <div class=\"colab-df-container\">\n",
              "      <div>\n",
              "<style scoped>\n",
              "    .dataframe tbody tr th:only-of-type {\n",
              "        vertical-align: middle;\n",
              "    }\n",
              "\n",
              "    .dataframe tbody tr th {\n",
              "        vertical-align: top;\n",
              "    }\n",
              "\n",
              "    .dataframe thead th {\n",
              "        text-align: right;\n",
              "    }\n",
              "</style>\n",
              "<table border=\"1\" class=\"dataframe\">\n",
              "  <thead>\n",
              "    <tr style=\"text-align: right;\">\n",
              "      <th></th>\n",
              "      <th>log_returns</th>\n",
              "      <th>t-1</th>\n",
              "      <th>t-2</th>\n",
              "      <th>t-3</th>\n",
              "      <th>t-4</th>\n",
              "      <th>t-5</th>\n",
              "      <th>t-6</th>\n",
              "      <th>t-7</th>\n",
              "      <th>t-8</th>\n",
              "      <th>t-9</th>\n",
              "      <th>t-10</th>\n",
              "    </tr>\n",
              "    <tr>\n",
              "      <th>Date</th>\n",
              "      <th></th>\n",
              "      <th></th>\n",
              "      <th></th>\n",
              "      <th></th>\n",
              "      <th></th>\n",
              "      <th></th>\n",
              "      <th></th>\n",
              "      <th></th>\n",
              "      <th></th>\n",
              "      <th></th>\n",
              "      <th></th>\n",
              "    </tr>\n",
              "  </thead>\n",
              "  <tbody>\n",
              "    <tr>\n",
              "      <th>2018-01-16</th>\n",
              "      <td>-0.024467</td>\n",
              "      <td>-0.010927</td>\n",
              "      <td>0.005391</td>\n",
              "      <td>0.003341</td>\n",
              "      <td>-0.009761</td>\n",
              "      <td>0.009184</td>\n",
              "      <td>0.004508</td>\n",
              "      <td>0.003830</td>\n",
              "      <td>-0.009145</td>\n",
              "      <td>-0.012368</td>\n",
              "      <td>0.034388</td>\n",
              "    </tr>\n",
              "    <tr>\n",
              "      <th>2018-01-17</th>\n",
              "      <td>0.002486</td>\n",
              "      <td>-0.024467</td>\n",
              "      <td>-0.010927</td>\n",
              "      <td>0.005391</td>\n",
              "      <td>0.003341</td>\n",
              "      <td>-0.009761</td>\n",
              "      <td>0.009184</td>\n",
              "      <td>0.004508</td>\n",
              "      <td>0.003830</td>\n",
              "      <td>-0.009145</td>\n",
              "      <td>-0.012368</td>\n",
              "    </tr>\n",
              "    <tr>\n",
              "      <th>2018-01-18</th>\n",
              "      <td>-0.009502</td>\n",
              "      <td>0.002486</td>\n",
              "      <td>-0.024467</td>\n",
              "      <td>-0.010927</td>\n",
              "      <td>0.005391</td>\n",
              "      <td>0.003341</td>\n",
              "      <td>-0.009761</td>\n",
              "      <td>0.009184</td>\n",
              "      <td>0.004508</td>\n",
              "      <td>0.003830</td>\n",
              "      <td>-0.009145</td>\n",
              "    </tr>\n",
              "    <tr>\n",
              "      <th>2018-01-19</th>\n",
              "      <td>-0.002151</td>\n",
              "      <td>-0.009502</td>\n",
              "      <td>0.002486</td>\n",
              "      <td>-0.024467</td>\n",
              "      <td>-0.010927</td>\n",
              "      <td>0.005391</td>\n",
              "      <td>0.003341</td>\n",
              "      <td>-0.009761</td>\n",
              "      <td>0.009184</td>\n",
              "      <td>0.004508</td>\n",
              "      <td>0.003830</td>\n",
              "    </tr>\n",
              "    <tr>\n",
              "      <th>2018-01-22</th>\n",
              "      <td>0.009167</td>\n",
              "      <td>-0.002151</td>\n",
              "      <td>-0.009502</td>\n",
              "      <td>0.002486</td>\n",
              "      <td>-0.024467</td>\n",
              "      <td>-0.010927</td>\n",
              "      <td>0.005391</td>\n",
              "      <td>0.003341</td>\n",
              "      <td>-0.009761</td>\n",
              "      <td>0.009184</td>\n",
              "      <td>0.004508</td>\n",
              "    </tr>\n",
              "  </tbody>\n",
              "</table>\n",
              "</div>\n",
              "      <button class=\"colab-df-convert\" onclick=\"convertToInteractive('df-98280cef-3f29-4526-b960-2bcf63f7179d')\"\n",
              "              title=\"Convert this dataframe to an interactive table.\"\n",
              "              style=\"display:none;\">\n",
              "        \n",
              "  <svg xmlns=\"http://www.w3.org/2000/svg\" height=\"24px\"viewBox=\"0 0 24 24\"\n",
              "       width=\"24px\">\n",
              "    <path d=\"M0 0h24v24H0V0z\" fill=\"none\"/>\n",
              "    <path d=\"M18.56 5.44l.94 2.06.94-2.06 2.06-.94-2.06-.94-.94-2.06-.94 2.06-2.06.94zm-11 1L8.5 8.5l.94-2.06 2.06-.94-2.06-.94L8.5 2.5l-.94 2.06-2.06.94zm10 10l.94 2.06.94-2.06 2.06-.94-2.06-.94-.94-2.06-.94 2.06-2.06.94z\"/><path d=\"M17.41 7.96l-1.37-1.37c-.4-.4-.92-.59-1.43-.59-.52 0-1.04.2-1.43.59L10.3 9.45l-7.72 7.72c-.78.78-.78 2.05 0 2.83L4 21.41c.39.39.9.59 1.41.59.51 0 1.02-.2 1.41-.59l7.78-7.78 2.81-2.81c.8-.78.8-2.07 0-2.86zM5.41 20L4 18.59l7.72-7.72 1.47 1.35L5.41 20z\"/>\n",
              "  </svg>\n",
              "      </button>\n",
              "      \n",
              "  <style>\n",
              "    .colab-df-container {\n",
              "      display:flex;\n",
              "      flex-wrap:wrap;\n",
              "      gap: 12px;\n",
              "    }\n",
              "\n",
              "    .colab-df-convert {\n",
              "      background-color: #E8F0FE;\n",
              "      border: none;\n",
              "      border-radius: 50%;\n",
              "      cursor: pointer;\n",
              "      display: none;\n",
              "      fill: #1967D2;\n",
              "      height: 32px;\n",
              "      padding: 0 0 0 0;\n",
              "      width: 32px;\n",
              "    }\n",
              "\n",
              "    .colab-df-convert:hover {\n",
              "      background-color: #E2EBFA;\n",
              "      box-shadow: 0px 1px 2px rgba(60, 64, 67, 0.3), 0px 1px 3px 1px rgba(60, 64, 67, 0.15);\n",
              "      fill: #174EA6;\n",
              "    }\n",
              "\n",
              "    [theme=dark] .colab-df-convert {\n",
              "      background-color: #3B4455;\n",
              "      fill: #D2E3FC;\n",
              "    }\n",
              "\n",
              "    [theme=dark] .colab-df-convert:hover {\n",
              "      background-color: #434B5C;\n",
              "      box-shadow: 0px 1px 3px 1px rgba(0, 0, 0, 0.15);\n",
              "      filter: drop-shadow(0px 1px 2px rgba(0, 0, 0, 0.3));\n",
              "      fill: #FFFFFF;\n",
              "    }\n",
              "  </style>\n",
              "\n",
              "      <script>\n",
              "        const buttonEl =\n",
              "          document.querySelector('#df-98280cef-3f29-4526-b960-2bcf63f7179d button.colab-df-convert');\n",
              "        buttonEl.style.display =\n",
              "          google.colab.kernel.accessAllowed ? 'block' : 'none';\n",
              "\n",
              "        async function convertToInteractive(key) {\n",
              "          const element = document.querySelector('#df-98280cef-3f29-4526-b960-2bcf63f7179d');\n",
              "          const dataTable =\n",
              "            await google.colab.kernel.invokeFunction('convertToInteractive',\n",
              "                                                     [key], {});\n",
              "          if (!dataTable) return;\n",
              "\n",
              "          const docLinkHtml = 'Like what you see? Visit the ' +\n",
              "            '<a target=\"_blank\" href=https://colab.research.google.com/notebooks/data_table.ipynb>data table notebook</a>'\n",
              "            + ' to learn more about interactive tables.';\n",
              "          element.innerHTML = '';\n",
              "          dataTable['output_type'] = 'display_data';\n",
              "          await google.colab.output.renderOutput(dataTable, element);\n",
              "          const docLink = document.createElement('div');\n",
              "          docLink.innerHTML = docLinkHtml;\n",
              "          element.appendChild(docLink);\n",
              "        }\n",
              "      </script>\n",
              "    </div>\n",
              "  </div>\n",
              "  "
            ]
          },
          "metadata": {},
          "execution_count": 36
        }
      ]
    },
    {
      "cell_type": "code",
      "source": [
        "y_train"
      ],
      "metadata": {
        "colab": {
          "base_uri": "https://localhost:8080/"
        },
        "id": "EQ4cJjWB5dLu",
        "outputId": "26f35bb8-6744-498d-d6ca-b7e7a9701187"
      },
      "execution_count": null,
      "outputs": [
        {
          "output_type": "execute_result",
          "data": {
            "text/plain": [
              "Date\n",
              "2018-01-16    0\n",
              "2018-01-17    0\n",
              "2018-01-18    0\n",
              "2018-01-19    0\n",
              "2018-01-22    0\n",
              "             ..\n",
              "2022-08-24    0\n",
              "2022-08-25    1\n",
              "2022-08-26    1\n",
              "2022-08-29    0\n",
              "2022-08-30    1\n",
              "Name: position, Length: 1141, dtype: int64"
            ]
          },
          "metadata": {},
          "execution_count": 37
        }
      ]
    },
    {
      "cell_type": "code",
      "source": [
        "# Creating tensorflow dataset from the dataframe\n",
        "x_train_tf = tf.data.Dataset.from_tensor_slices(x_train.to_numpy().reshape(1141,1,11))\n",
        "x_test_tf = tf.data.Dataset.from_tensor_slices(x_test.to_numpy().reshape(127,1,11))\n",
        "y_train_tf = tf.data.Dataset.from_tensor_slices(y_train.to_numpy().reshape(1141,1))\n",
        "y_test_tf = tf.data.Dataset.from_tensor_slices(y_test.to_numpy().reshape(127,1))\n",
        "\n",
        "train_tf = tf.data.Dataset.zip((x_train_tf,y_train_tf))\n",
        "test_tf = tf.data.Dataset.zip((x_test_tf,y_test_tf))\n",
        "\n",
        "train_dataset = train_tf.batch(70).prefetch(tf.data.AUTOTUNE)\n",
        "test_dataset = test_tf.batch(70).prefetch(tf.data.AUTOTUNE)"
      ],
      "metadata": {
        "id": "LJBc7NWiu18u"
      },
      "execution_count": null,
      "outputs": []
    },
    {
      "cell_type": "code",
      "source": [
        "inputs = tf.keras.layers.Input(shape=(1,11))\n",
        "x = tf.keras.layers.LSTM(128,return_sequences=True,activation='relu')(inputs)\n",
        "x = tf.keras.layers.LSTM(64,return_sequences=True,activation='relu')(x)\n",
        "x = tf.keras.layers.LSTM(32,return_sequences=True,activation='relu')(x)\n",
        "x = tf.keras.layers.LSTM(8,return_sequences=True,activation='relu')(x)\n",
        "outputs = tf.keras.layers.LSTM(1,return_sequences=False,activation='sigmoid')(x)\n",
        "\n",
        "model = tf.keras.Model(inputs=inputs,outputs=outputs)"
      ],
      "metadata": {
        "id": "I0ejJHKU2_Bs"
      },
      "execution_count": null,
      "outputs": []
    },
    {
      "cell_type": "code",
      "source": [
        "model.compile(loss=tf.keras.losses.BinaryCrossentropy(from_logits=True),\n",
        "              optimizer='adam')"
      ],
      "metadata": {
        "id": "1moPUHX8_C8M"
      },
      "execution_count": null,
      "outputs": []
    },
    {
      "cell_type": "code",
      "source": [
        "history = model.fit(train_dataset,\n",
        "          epochs=20,\n",
        "          validation_data=test_dataset)"
      ],
      "metadata": {
        "id": "iOhvtjOz_P6_",
        "colab": {
          "base_uri": "https://localhost:8080/"
        },
        "outputId": "3c409318-6a1b-420f-83a3-e99a5a43baab"
      },
      "execution_count": null,
      "outputs": [
        {
          "output_type": "stream",
          "name": "stdout",
          "text": [
            "Epoch 1/20\n",
            "17/17 [==============================] - 0s 15ms/step - loss: 0.5537 - val_loss: 0.5507\n",
            "Epoch 2/20\n",
            "17/17 [==============================] - 0s 14ms/step - loss: 0.5512 - val_loss: 0.5534\n",
            "Epoch 3/20\n",
            "17/17 [==============================] - 0s 14ms/step - loss: 0.5506 - val_loss: 0.5527\n",
            "Epoch 4/20\n",
            "17/17 [==============================] - 0s 14ms/step - loss: 0.5502 - val_loss: 0.5518\n",
            "Epoch 5/20\n",
            "17/17 [==============================] - 0s 13ms/step - loss: 0.5499 - val_loss: 0.5512\n",
            "Epoch 6/20\n",
            "17/17 [==============================] - 0s 14ms/step - loss: 0.5496 - val_loss: 0.5505\n",
            "Epoch 7/20\n",
            "17/17 [==============================] - 0s 13ms/step - loss: 0.5494 - val_loss: 0.5499\n",
            "Epoch 8/20\n",
            "17/17 [==============================] - 0s 14ms/step - loss: 0.5492 - val_loss: 0.5493\n",
            "Epoch 9/20\n",
            "17/17 [==============================] - 0s 13ms/step - loss: 0.5491 - val_loss: 0.5487\n",
            "Epoch 10/20\n",
            "17/17 [==============================] - 0s 13ms/step - loss: 0.5489 - val_loss: 0.5482\n",
            "Epoch 11/20\n",
            "17/17 [==============================] - 0s 14ms/step - loss: 0.5488 - val_loss: 0.5478\n",
            "Epoch 12/20\n",
            "17/17 [==============================] - 0s 14ms/step - loss: 0.5486 - val_loss: 0.5473\n",
            "Epoch 13/20\n",
            "17/17 [==============================] - 0s 15ms/step - loss: 0.5485 - val_loss: 0.5469\n",
            "Epoch 14/20\n",
            "17/17 [==============================] - 0s 13ms/step - loss: 0.5484 - val_loss: 0.5465\n",
            "Epoch 15/20\n",
            "17/17 [==============================] - 0s 17ms/step - loss: 0.5483 - val_loss: 0.5461\n",
            "Epoch 16/20\n",
            "17/17 [==============================] - 0s 23ms/step - loss: 0.5482 - val_loss: 0.5458\n",
            "Epoch 17/20\n",
            "17/17 [==============================] - 0s 23ms/step - loss: 0.5481 - val_loss: 0.5455\n",
            "Epoch 18/20\n",
            "17/17 [==============================] - 0s 23ms/step - loss: 0.5480 - val_loss: 0.5452\n",
            "Epoch 19/20\n",
            "17/17 [==============================] - 0s 27ms/step - loss: 0.5479 - val_loss: 0.5449\n",
            "Epoch 20/20\n",
            "17/17 [==============================] - 0s 21ms/step - loss: 0.5478 - val_loss: 0.5447\n"
          ]
        }
      ]
    },
    {
      "cell_type": "code",
      "source": [
        "pd.DataFrame(history.history).plot()"
      ],
      "metadata": {
        "colab": {
          "base_uri": "https://localhost:8080/",
          "height": 284
        },
        "id": "EIrvK7qG7WGc",
        "outputId": "a35086ab-2150-49fb-be48-6f74509c5d3b"
      },
      "execution_count": null,
      "outputs": [
        {
          "output_type": "execute_result",
          "data": {
            "text/plain": [
              "<AxesSubplot:>"
            ]
          },
          "metadata": {},
          "execution_count": 46
        },
        {
          "output_type": "display_data",
          "data": {
            "text/plain": [
              "<Figure size 432x288 with 1 Axes>"
            ],
            "image/png": "[encoded data removed]"
          },
          "metadata": {
            "needs_background": "light"
          }
        }
      ]
    },
    {
      "cell_type": "code",
      "source": [
        "pred = model.predict(test_dataset)"
      ],
      "metadata": {
        "colab": {
          "base_uri": "https://localhost:8080/"
        },
        "id": "yhKaBNPF7jCn",
        "outputId": "3e980dcc-aaf6-4131-c29e-630dd65e6df0"
      },
      "execution_count": null,
      "outputs": [
        {
          "output_type": "stream",
          "name": "stdout",
          "text": [
            "2/2 [==============================] - 2s 11ms/step\n"
          ]
        }
      ]
    },
    {
      "cell_type": "code",
      "source": [
        "y_test.apply(lambda x: False if x==1 else True).sum()"
      ],
      "metadata": {
        "colab": {
          "base_uri": "https://localhost:8080/"
        },
        "id": "B5nH24tLAymc",
        "outputId": "6f68304f-ffa6-4475-8451-0a7d7ebf1cc1"
      },
      "execution_count": null,
      "outputs": [
        {
          "output_type": "execute_result",
          "data": {
            "text/plain": [
              "61"
            ]
          },
          "metadata": {},
          "execution_count": 48
        }
      ]
    },
    {
      "cell_type": "code",
      "source": [
        "(pred.round() == y_test.to_numpy().reshape(127,1)).sum()"
      ],
      "metadata": {
        "colab": {
          "base_uri": "https://localhost:8080/"
        },
        "id": "KUTIbCX8Af-n",
        "outputId": "0b983157-1637-48fc-cd44-d9c9eaf6fa15"
      },
      "execution_count": null,
      "outputs": [
        {
          "output_type": "execute_result",
          "data": {
            "text/plain": [
              "125"
            ]
          },
          "metadata": {},
          "execution_count": 53
        }
      ]
    },
    {
      "cell_type": "code",
      "source": [
        "len(pred)"
      ],
      "metadata": {
        "colab": {
          "base_uri": "https://localhost:8080/"
        },
        "id": "RTqqghk1K4vk",
        "outputId": "a7502da6-fd26-4980-d990-6d00279af808"
      },
      "execution_count": null,
      "outputs": [
        {
          "output_type": "execute_result",
          "data": {
            "text/plain": [
              "127"
            ]
          },
          "metadata": {},
          "execution_count": 54
        }
      ]
    },
    {
      "cell_type": "code",
      "source": [
        "y_test.to_numpy().reshape(127,1)"
      ],
      "metadata": {
        "colab": {
          "base_uri": "https://localhost:8080/"
        },
        "id": "QEmVoj2BJsPl",
        "outputId": "cc090c97-6973-4623-ad33-e2c396ad1a3e"
      },
      "execution_count": null,
      "outputs": [
        {
          "output_type": "execute_result",
          "data": {
            "text/plain": [
              "array([[1],\n",
              "       [1],\n",
              "       [0],\n",
              "       [0],\n",
              "       [0],\n",
              "       [0],\n",
              "       [0],\n",
              "       [1],\n",
              "       [1],\n",
              "       [1],\n",
              "       [0],\n",
              "       [0],\n",
              "       [0],\n",
              "       [0],\n",
              "       [0],\n",
              "       [1],\n",
              "       [0],\n",
              "       [0],\n",
              "       [0],\n",
              "       [0],\n",
              "       [1],\n",
              "       [1],\n",
              "       [0],\n",
              "       [1],\n",
              "       [1],\n",
              "       [1],\n",
              "       [0],\n",
              "       [0],\n",
              "       [0],\n",
              "       [1],\n",
              "       [1],\n",
              "       [0],\n",
              "       [1],\n",
              "       [1],\n",
              "       [1],\n",
              "       [0],\n",
              "       [1],\n",
              "       [1],\n",
              "       [1],\n",
              "       [1],\n",
              "       [1],\n",
              "       [1],\n",
              "       [1],\n",
              "       [1],\n",
              "       [1],\n",
              "       [1],\n",
              "       [1],\n",
              "       [0],\n",
              "       [0],\n",
              "       [1],\n",
              "       [1],\n",
              "       [1],\n",
              "       [0],\n",
              "       [0],\n",
              "       [0],\n",
              "       [1],\n",
              "       [1],\n",
              "       [1],\n",
              "       [1],\n",
              "       [1],\n",
              "       [1],\n",
              "       [1],\n",
              "       [1],\n",
              "       [1],\n",
              "       [0],\n",
              "       [0],\n",
              "       [0],\n",
              "       [0],\n",
              "       [0],\n",
              "       [0],\n",
              "       [1],\n",
              "       [1],\n",
              "       [1],\n",
              "       [1],\n",
              "       [1],\n",
              "       [0],\n",
              "       [0],\n",
              "       [0],\n",
              "       [0],\n",
              "       [0],\n",
              "       [0],\n",
              "       [1],\n",
              "       [1],\n",
              "       [0],\n",
              "       [1],\n",
              "       [1],\n",
              "       [0],\n",
              "       [0],\n",
              "       [0],\n",
              "       [1],\n",
              "       [1],\n",
              "       [1],\n",
              "       [1],\n",
              "       [0],\n",
              "       [0],\n",
              "       [1],\n",
              "       [0],\n",
              "       [0],\n",
              "       [0],\n",
              "       [1],\n",
              "       [1],\n",
              "       [1],\n",
              "       [1],\n",
              "       [1],\n",
              "       [1],\n",
              "       [1],\n",
              "       [1],\n",
              "       [0],\n",
              "       [0],\n",
              "       [0],\n",
              "       [0],\n",
              "       [0],\n",
              "       [1],\n",
              "       [1],\n",
              "       [1],\n",
              "       [0],\n",
              "       [1],\n",
              "       [0],\n",
              "       [0],\n",
              "       [0],\n",
              "       [0],\n",
              "       [0],\n",
              "       [0],\n",
              "       [0],\n",
              "       [0],\n",
              "       [0],\n",
              "       [1]])"
            ]
          },
          "metadata": {},
          "execution_count": 50
        }
      ]
    },
    {
      "cell_type": "code",
      "source": [
        "!mkdir -p /content/drive/MyDrive/Algo_model"
      ],
      "metadata": {
        "id": "C2MbZFtSLXnx"
      },
      "execution_count": null,
      "outputs": []
    },
    {
      "cell_type": "code",
      "source": [
        "model.save('/content/drive/MyDrive/Algo_model/Model_03/03/2023_16_44_data_10_3')"
      ],
      "metadata": {
        "colab": {
          "base_uri": "https://localhost:8080/"
        },
        "id": "TIXK-LXGLie2",
        "outputId": "137bd4be-faff-4b33-87e2-9b3ad2f0a8b0"
      },
      "execution_count": null,
      "outputs": [
        {
          "output_type": "stream",
          "name": "stderr",
          "text": [
            "WARNING:absl:Found untraced functions such as _update_step_xla while saving (showing 1 of 1). These functions will not be directly callable after loading.\n"
          ]
        }
      ]
    },
    {
      "cell_type": "code",
      "source": [
        "!cd ./Algo_Trading/"
      ],
      "metadata": {
        "id": "a82w4dlSkeOA"
      },
      "execution_count": null,
      "outputs": []
    },
    {
      "cell_type": "code",
      "source": [
        "tata_ds = tata_stock.create_dataset()"
      ],
      "metadata": {
        "id": "J-t2ojKLkWKi",
        "colab": {
          "base_uri": "https://localhost:8080/",
          "height": 167
        },
        "outputId": "7254c52b-9f54-40af-9582-cd3c4df06772"
      },
      "execution_count": null,
      "outputs": [
        {
          "output_type": "error",
          "ename": "NameError",
          "evalue": "ignored",
          "traceback": [
            "\u001b[0;31m---------------------------------------------------------------------------\u001b[0m",
            "\u001b[0;31mNameError\u001b[0m                                 Traceback (most recent call last)",
            "\u001b[0;32m<ipython-input-7-7eeefc184933>\u001b[0m in \u001b[0;36m<module>\u001b[0;34m\u001b[0m\n\u001b[0;32m----> 1\u001b[0;31m \u001b[0mtata_ds\u001b[0m \u001b[0;34m=\u001b[0m \u001b[0mtata_stock\u001b[0m\u001b[0;34m.\u001b[0m\u001b[0mcreate_dataset\u001b[0m\u001b[0;34m(\u001b[0m\u001b[0;34m)\u001b[0m\u001b[0;34m\u001b[0m\u001b[0;34m\u001b[0m\u001b[0m\n\u001b[0m",
            "\u001b[0;31mNameError\u001b[0m: name 'tata_stock' is not defined"
          ]
        }
      ]
    },
    {
      "cell_type": "code",
      "source": [
        "tata_ds.head()"
      ],
      "metadata": {
        "colab": {
          "base_uri": "https://localhost:8080/",
          "height": 331
        },
        "id": "_ZYu5mEWldnS",
        "outputId": "d97ea81a-d1d2-40c3-e6cf-f12bcec29917"
      },
      "execution_count": null,
      "outputs": [
        {
          "output_type": "execute_result",
          "data": {
            "text/plain": [
              "                t-20      t-19      t-18      t-17      t-16      t-15  \\\n",
              "Date                                                                     \n",
              "2011-02-02 -0.007711 -0.012088 -0.017140 -0.057784 -0.011407 -0.015976   \n",
              "2011-02-03 -0.012088 -0.017140 -0.057784 -0.011407 -0.015976  0.050473   \n",
              "2011-02-04 -0.017140 -0.057784 -0.011407 -0.015976  0.050473  0.015236   \n",
              "2011-02-07 -0.057784 -0.011407 -0.015976  0.050473  0.015236 -0.044900   \n",
              "2011-02-08 -0.011407 -0.015976  0.050473  0.015236 -0.044900 -0.003007   \n",
              "\n",
              "                t-14      t-13      t-12      t-11  ...       t-3       t-2  \\\n",
              "Date                                                ...                       \n",
              "2011-02-02  0.050473  0.015236 -0.044900 -0.003007  ... -0.038834 -0.002829   \n",
              "2011-02-03  0.015236 -0.044900 -0.003007  0.017407  ... -0.002829 -0.070423   \n",
              "2011-02-04 -0.044900 -0.003007  0.017407 -0.005685  ... -0.070423  0.041411   \n",
              "2011-02-07 -0.003007  0.017407 -0.005685  0.001634  ...  0.041411  0.037476   \n",
              "2011-02-08  0.017407 -0.005685  0.001634 -0.006129  ...  0.037476 -0.005157   \n",
              "\n",
              "                 t-1  log_returns  t+1  t+2  t+3  t+4  t+5  t+6  \n",
              "Date                                                             \n",
              "2011-02-02 -0.070423     0.041411  0.0  0.0  0.0  0.0  0.0  0.0  \n",
              "2011-02-03  0.041411     0.037476  0.0  0.0  0.0  0.0  0.0  0.0  \n",
              "2011-02-04  0.037476    -0.005157  0.0  0.0  0.0  0.0  0.0  0.0  \n",
              "2011-02-07 -0.005157    -0.003918  0.0  0.0  0.0  0.0  0.0  1.0  \n",
              "2011-02-08 -0.003918    -0.030198  0.0  0.0  0.0  1.0  1.0  1.0  \n",
              "\n",
              "[5 rows x 27 columns]"
            ],
            "text/html": [
              "\n",
              "  <div id=\"df-636408b8-c72e-4fd2-a275-16023a5c7b90\">\n",
              "    <div class=\"colab-df-container\">\n",
              "      <div>\n",
              "<style scoped>\n",
              "    .dataframe tbody tr th:only-of-type {\n",
              "        vertical-align: middle;\n",
              "    }\n",
              "\n",
              "    .dataframe tbody tr th {\n",
              "        vertical-align: top;\n",
              "    }\n",
              "\n",
              "    .dataframe thead th {\n",
              "        text-align: right;\n",
              "    }\n",
              "</style>\n",
              "<table border=\"1\" class=\"dataframe\">\n",
              "  <thead>\n",
              "    <tr style=\"text-align: right;\">\n",
              "      <th></th>\n",
              "      <th>t-20</th>\n",
              "      <th>t-19</th>\n",
              "      <th>t-18</th>\n",
              "      <th>t-17</th>\n",
              "      <th>t-16</th>\n",
              "      <th>t-15</th>\n",
              "      <th>t-14</th>\n",
              "      <th>t-13</th>\n",
              "      <th>t-12</th>\n",
              "      <th>t-11</th>\n",
              "      <th>...</th>\n",
              "      <th>t-3</th>\n",
              "      <th>t-2</th>\n",
              "      <th>t-1</th>\n",
              "      <th>log_returns</th>\n",
              "      <th>t+1</th>\n",
              "      <th>t+2</th>\n",
              "      <th>t+3</th>\n",
              "      <th>t+4</th>\n",
              "      <th>t+5</th>\n",
              "      <th>t+6</th>\n",
              "    </tr>\n",
              "    <tr>\n",
              "      <th>Date</th>\n",
              "      <th></th>\n",
              "      <th></th>\n",
              "      <th></th>\n",
              "      <th></th>\n",
              "      <th></th>\n",
              "      <th></th>\n",
              "      <th></th>\n",
              "      <th></th>\n",
              "      <th></th>\n",
              "      <th></th>\n",
              "      <th></th>\n",
              "      <th></th>\n",
              "      <th></th>\n",
              "      <th></th>\n",
              "      <th></th>\n",
              "      <th></th>\n",
              "      <th></th>\n",
              "      <th></th>\n",
              "      <th></th>\n",
              "      <th></th>\n",
              "      <th></th>\n",
              "    </tr>\n",
              "  </thead>\n",
              "  <tbody>\n",
              "    <tr>\n",
              "      <th>2011-02-02</th>\n",
              "      <td>-0.007711</td>\n",
              "      <td>-0.012088</td>\n",
              "      <td>-0.017140</td>\n",
              "      <td>-0.057784</td>\n",
              "      <td>-0.011407</td>\n",
              "      <td>-0.015976</td>\n",
              "      <td>0.050473</td>\n",
              "      <td>0.015236</td>\n",
              "      <td>-0.044900</td>\n",
              "      <td>-0.003007</td>\n",
              "      <td>...</td>\n",
              "      <td>-0.038834</td>\n",
              "      <td>-0.002829</td>\n",
              "      <td>-0.070423</td>\n",
              "      <td>0.041411</td>\n",
              "      <td>0.0</td>\n",
              "      <td>0.0</td>\n",
              "      <td>0.0</td>\n",
              "      <td>0.0</td>\n",
              "      <td>0.0</td>\n",
              "      <td>0.0</td>\n",
              "    </tr>\n",
              "    <tr>\n",
              "      <th>2011-02-03</th>\n",
              "      <td>-0.012088</td>\n",
              "      <td>-0.017140</td>\n",
              "      <td>-0.057784</td>\n",
              "      <td>-0.011407</td>\n",
              "      <td>-0.015976</td>\n",
              "      <td>0.050473</td>\n",
              "      <td>0.015236</td>\n",
              "      <td>-0.044900</td>\n",
              "      <td>-0.003007</td>\n",
              "      <td>0.017407</td>\n",
              "      <td>...</td>\n",
              "      <td>-0.002829</td>\n",
              "      <td>-0.070423</td>\n",
              "      <td>0.041411</td>\n",
              "      <td>0.037476</td>\n",
              "      <td>0.0</td>\n",
              "      <td>0.0</td>\n",
              "      <td>0.0</td>\n",
              "      <td>0.0</td>\n",
              "      <td>0.0</td>\n",
              "      <td>0.0</td>\n",
              "    </tr>\n",
              "    <tr>\n",
              "      <th>2011-02-04</th>\n",
              "      <td>-0.017140</td>\n",
              "      <td>-0.057784</td>\n",
              "      <td>-0.011407</td>\n",
              "      <td>-0.015976</td>\n",
              "      <td>0.050473</td>\n",
              "      <td>0.015236</td>\n",
              "      <td>-0.044900</td>\n",
              "      <td>-0.003007</td>\n",
              "      <td>0.017407</td>\n",
              "      <td>-0.005685</td>\n",
              "      <td>...</td>\n",
              "      <td>-0.070423</td>\n",
              "      <td>0.041411</td>\n",
              "      <td>0.037476</td>\n",
              "      <td>-0.005157</td>\n",
              "      <td>0.0</td>\n",
              "      <td>0.0</td>\n",
              "      <td>0.0</td>\n",
              "      <td>0.0</td>\n",
              "      <td>0.0</td>\n",
              "      <td>0.0</td>\n",
              "    </tr>\n",
              "    <tr>\n",
              "      <th>2011-02-07</th>\n",
              "      <td>-0.057784</td>\n",
              "      <td>-0.011407</td>\n",
              "      <td>-0.015976</td>\n",
              "      <td>0.050473</td>\n",
              "      <td>0.015236</td>\n",
              "      <td>-0.044900</td>\n",
              "      <td>-0.003007</td>\n",
              "      <td>0.017407</td>\n",
              "      <td>-0.005685</td>\n",
              "      <td>0.001634</td>\n",
              "      <td>...</td>\n",
              "      <td>0.041411</td>\n",
              "      <td>0.037476</td>\n",
              "      <td>-0.005157</td>\n",
              "      <td>-0.003918</td>\n",
              "      <td>0.0</td>\n",
              "      <td>0.0</td>\n",
              "      <td>0.0</td>\n",
              "      <td>0.0</td>\n",
              "      <td>0.0</td>\n",
              "      <td>1.0</td>\n",
              "    </tr>\n",
              "    <tr>\n",
              "      <th>2011-02-08</th>\n",
              "      <td>-0.011407</td>\n",
              "      <td>-0.015976</td>\n",
              "      <td>0.050473</td>\n",
              "      <td>0.015236</td>\n",
              "      <td>-0.044900</td>\n",
              "      <td>-0.003007</td>\n",
              "      <td>0.017407</td>\n",
              "      <td>-0.005685</td>\n",
              "      <td>0.001634</td>\n",
              "      <td>-0.006129</td>\n",
              "      <td>...</td>\n",
              "      <td>0.037476</td>\n",
              "      <td>-0.005157</td>\n",
              "      <td>-0.003918</td>\n",
              "      <td>-0.030198</td>\n",
              "      <td>0.0</td>\n",
              "      <td>0.0</td>\n",
              "      <td>0.0</td>\n",
              "      <td>1.0</td>\n",
              "      <td>1.0</td>\n",
              "      <td>1.0</td>\n",
              "    </tr>\n",
              "  </tbody>\n",
              "</table>\n",
              "<p>5 rows × 27 columns</p>\n",
              "</div>\n",
              "      <button class=\"colab-df-convert\" onclick=\"convertToInteractive('df-636408b8-c72e-4fd2-a275-16023a5c7b90')\"\n",
              "              title=\"Convert this dataframe to an interactive table.\"\n",
              "              style=\"display:none;\">\n",
              "        \n",
              "  <svg xmlns=\"http://www.w3.org/2000/svg\" height=\"24px\"viewBox=\"0 0 24 24\"\n",
              "       width=\"24px\">\n",
              "    <path d=\"M0 0h24v24H0V0z\" fill=\"none\"/>\n",
              "    <path d=\"M18.56 5.44l.94 2.06.94-2.06 2.06-.94-2.06-.94-.94-2.06-.94 2.06-2.06.94zm-11 1L8.5 8.5l.94-2.06 2.06-.94-2.06-.94L8.5 2.5l-.94 2.06-2.06.94zm10 10l.94 2.06.94-2.06 2.06-.94-2.06-.94-.94-2.06-.94 2.06-2.06.94z\"/><path d=\"M17.41 7.96l-1.37-1.37c-.4-.4-.92-.59-1.43-.59-.52 0-1.04.2-1.43.59L10.3 9.45l-7.72 7.72c-.78.78-.78 2.05 0 2.83L4 21.41c.39.39.9.59 1.41.59.51 0 1.02-.2 1.41-.59l7.78-7.78 2.81-2.81c.8-.78.8-2.07 0-2.86zM5.41 20L4 18.59l7.72-7.72 1.47 1.35L5.41 20z\"/>\n",
              "  </svg>\n",
              "      </button>\n",
              "      \n",
              "  <style>\n",
              "    .colab-df-container {\n",
              "      display:flex;\n",
              "      flex-wrap:wrap;\n",
              "      gap: 12px;\n",
              "    }\n",
              "\n",
              "    .colab-df-convert {\n",
              "      background-color: #E8F0FE;\n",
              "      border: none;\n",
              "      border-radius: 50%;\n",
              "      cursor: pointer;\n",
              "      display: none;\n",
              "      fill: #1967D2;\n",
              "      height: 32px;\n",
              "      padding: 0 0 0 0;\n",
              "      width: 32px;\n",
              "    }\n",
              "\n",
              "    .colab-df-convert:hover {\n",
              "      background-color: #E2EBFA;\n",
              "      box-shadow: 0px 1px 2px rgba(60, 64, 67, 0.3), 0px 1px 3px 1px rgba(60, 64, 67, 0.15);\n",
              "      fill: #174EA6;\n",
              "    }\n",
              "\n",
              "    [theme=dark] .colab-df-convert {\n",
              "      background-color: #3B4455;\n",
              "      fill: #D2E3FC;\n",
              "    }\n",
              "\n",
              "    [theme=dark] .colab-df-convert:hover {\n",
              "      background-color: #434B5C;\n",
              "      box-shadow: 0px 1px 3px 1px rgba(0, 0, 0, 0.15);\n",
              "      filter: drop-shadow(0px 1px 2px rgba(0, 0, 0, 0.3));\n",
              "      fill: #FFFFFF;\n",
              "    }\n",
              "  </style>\n",
              "\n",
              "      <script>\n",
              "        const buttonEl =\n",
              "          document.querySelector('#df-636408b8-c72e-4fd2-a275-16023a5c7b90 button.colab-df-convert');\n",
              "        buttonEl.style.display =\n",
              "          google.colab.kernel.accessAllowed ? 'block' : 'none';\n",
              "\n",
              "        async function convertToInteractive(key) {\n",
              "          const element = document.querySelector('#df-636408b8-c72e-4fd2-a275-16023a5c7b90');\n",
              "          const dataTable =\n",
              "            await google.colab.kernel.invokeFunction('convertToInteractive',\n",
              "                                                     [key], {});\n",
              "          if (!dataTable) return;\n",
              "\n",
              "          const docLinkHtml = 'Like what you see? Visit the ' +\n",
              "            '<a target=\"_blank\" href=https://colab.research.google.com/notebooks/data_table.ipynb>data table notebook</a>'\n",
              "            + ' to learn more about interactive tables.';\n",
              "          element.innerHTML = '';\n",
              "          dataTable['output_type'] = 'display_data';\n",
              "          await google.colab.output.renderOutput(dataTable, element);\n",
              "          const docLink = document.createElement('div');\n",
              "          docLink.innerHTML = docLinkHtml;\n",
              "          element.appendChild(docLink);\n",
              "        }\n",
              "      </script>\n",
              "    </div>\n",
              "  </div>\n",
              "  "
            ]
          },
          "metadata": {},
          "execution_count": 13
        }
      ]
    },
    {
      "cell_type": "code",
      "source": [
        "feature_ls = [f't{i}' for i in range(-20,0)] + ['log_returns']\n",
        "target_ls = [f't+{i}' for i in range(1,7)]\n",
        "\n",
        "x_ds = tata_ds[feature_ls]\n",
        "y_ds = tata_ds[target_ls]\n",
        "\n",
        "\n",
        "\n",
        "split_len = int(0.8*len(x_ds))\n",
        "\n",
        "train_x,test_x = x_ds.iloc[:split_len],x_ds.iloc[split_len:]\n",
        "# train_y,test_y = y_ds.iloc[:split_len],y_ds.iloc[split_len:]\n",
        "\n",
        "# x_train = tf.data.Dataset.from_tensor_slices(train_x)\n",
        "# x_test = tf.data.Dataset.from_tensor_slices(test_x)\n",
        "# y_train = tf.data.Dataset.from_tensor_slices(train_y)\n",
        "# y_test = tf.data.Dataset.from_tensor_slices(test_y)\n",
        "\n",
        "# train_data = tf.data.Dataset.zip((x_train,y_train))\n",
        "# test_data = tf.data.Dataset.zip((x_test,y_test))\n",
        "\n",
        "# train_data = train_data.batch(32).prefetch(tf.data.AUTOTUNE)\n",
        "# test_data = test_data.batch(32).prefetch(tf.data.AUTOTUNE)"
      ],
      "metadata": {
        "id": "JbSGyC7LleZq"
      },
      "execution_count": null,
      "outputs": []
    },
    {
      "cell_type": "code",
      "source": [
        "y_ds.head()"
      ],
      "metadata": {
        "colab": {
          "base_uri": "https://localhost:8080/",
          "height": 238
        },
        "id": "P5ss6LudmdE1",
        "outputId": "ea94bde4-b863-477b-b058-02454bfe061b"
      },
      "execution_count": null,
      "outputs": [
        {
          "output_type": "execute_result",
          "data": {
            "text/plain": [
              "            t+1  t+2  t+3  t+4  t+5  t+6\n",
              "Date                                    \n",
              "2011-02-02  0.0  0.0  0.0  0.0  0.0  0.0\n",
              "2011-02-03  0.0  0.0  0.0  0.0  0.0  0.0\n",
              "2011-02-04  0.0  0.0  0.0  0.0  0.0  0.0\n",
              "2011-02-07  0.0  0.0  0.0  0.0  0.0  1.0\n",
              "2011-02-08  0.0  0.0  0.0  1.0  1.0  1.0"
            ],
            "text/html": [
              "\n",
              "  <div id=\"df-826dd9d3-5891-4c15-bb37-9ddfac57280e\">\n",
              "    <div class=\"colab-df-container\">\n",
              "      <div>\n",
              "<style scoped>\n",
              "    .dataframe tbody tr th:only-of-type {\n",
              "        vertical-align: middle;\n",
              "    }\n",
              "\n",
              "    .dataframe tbody tr th {\n",
              "        vertical-align: top;\n",
              "    }\n",
              "\n",
              "    .dataframe thead th {\n",
              "        text-align: right;\n",
              "    }\n",
              "</style>\n",
              "<table border=\"1\" class=\"dataframe\">\n",
              "  <thead>\n",
              "    <tr style=\"text-align: right;\">\n",
              "      <th></th>\n",
              "      <th>t+1</th>\n",
              "      <th>t+2</th>\n",
              "      <th>t+3</th>\n",
              "      <th>t+4</th>\n",
              "      <th>t+5</th>\n",
              "      <th>t+6</th>\n",
              "    </tr>\n",
              "    <tr>\n",
              "      <th>Date</th>\n",
              "      <th></th>\n",
              "      <th></th>\n",
              "      <th></th>\n",
              "      <th></th>\n",
              "      <th></th>\n",
              "      <th></th>\n",
              "    </tr>\n",
              "  </thead>\n",
              "  <tbody>\n",
              "    <tr>\n",
              "      <th>2011-02-02</th>\n",
              "      <td>0.0</td>\n",
              "      <td>0.0</td>\n",
              "      <td>0.0</td>\n",
              "      <td>0.0</td>\n",
              "      <td>0.0</td>\n",
              "      <td>0.0</td>\n",
              "    </tr>\n",
              "    <tr>\n",
              "      <th>2011-02-03</th>\n",
              "      <td>0.0</td>\n",
              "      <td>0.0</td>\n",
              "      <td>0.0</td>\n",
              "      <td>0.0</td>\n",
              "      <td>0.0</td>\n",
              "      <td>0.0</td>\n",
              "    </tr>\n",
              "    <tr>\n",
              "      <th>2011-02-04</th>\n",
              "      <td>0.0</td>\n",
              "      <td>0.0</td>\n",
              "      <td>0.0</td>\n",
              "      <td>0.0</td>\n",
              "      <td>0.0</td>\n",
              "      <td>0.0</td>\n",
              "    </tr>\n",
              "    <tr>\n",
              "      <th>2011-02-07</th>\n",
              "      <td>0.0</td>\n",
              "      <td>0.0</td>\n",
              "      <td>0.0</td>\n",
              "      <td>0.0</td>\n",
              "      <td>0.0</td>\n",
              "      <td>1.0</td>\n",
              "    </tr>\n",
              "    <tr>\n",
              "      <th>2011-02-08</th>\n",
              "      <td>0.0</td>\n",
              "      <td>0.0</td>\n",
              "      <td>0.0</td>\n",
              "      <td>1.0</td>\n",
              "      <td>1.0</td>\n",
              "      <td>1.0</td>\n",
              "    </tr>\n",
              "  </tbody>\n",
              "</table>\n",
              "</div>\n",
              "      <button class=\"colab-df-convert\" onclick=\"convertToInteractive('df-826dd9d3-5891-4c15-bb37-9ddfac57280e')\"\n",
              "              title=\"Convert this dataframe to an interactive table.\"\n",
              "              style=\"display:none;\">\n",
              "        \n",
              "  <svg xmlns=\"http://www.w3.org/2000/svg\" height=\"24px\"viewBox=\"0 0 24 24\"\n",
              "       width=\"24px\">\n",
              "    <path d=\"M0 0h24v24H0V0z\" fill=\"none\"/>\n",
              "    <path d=\"M18.56 5.44l.94 2.06.94-2.06 2.06-.94-2.06-.94-.94-2.06-.94 2.06-2.06.94zm-11 1L8.5 8.5l.94-2.06 2.06-.94-2.06-.94L8.5 2.5l-.94 2.06-2.06.94zm10 10l.94 2.06.94-2.06 2.06-.94-2.06-.94-.94-2.06-.94 2.06-2.06.94z\"/><path d=\"M17.41 7.96l-1.37-1.37c-.4-.4-.92-.59-1.43-.59-.52 0-1.04.2-1.43.59L10.3 9.45l-7.72 7.72c-.78.78-.78 2.05 0 2.83L4 21.41c.39.39.9.59 1.41.59.51 0 1.02-.2 1.41-.59l7.78-7.78 2.81-2.81c.8-.78.8-2.07 0-2.86zM5.41 20L4 18.59l7.72-7.72 1.47 1.35L5.41 20z\"/>\n",
              "  </svg>\n",
              "      </button>\n",
              "      \n",
              "  <style>\n",
              "    .colab-df-container {\n",
              "      display:flex;\n",
              "      flex-wrap:wrap;\n",
              "      gap: 12px;\n",
              "    }\n",
              "\n",
              "    .colab-df-convert {\n",
              "      background-color: #E8F0FE;\n",
              "      border: none;\n",
              "      border-radius: 50%;\n",
              "      cursor: pointer;\n",
              "      display: none;\n",
              "      fill: #1967D2;\n",
              "      height: 32px;\n",
              "      padding: 0 0 0 0;\n",
              "      width: 32px;\n",
              "    }\n",
              "\n",
              "    .colab-df-convert:hover {\n",
              "      background-color: #E2EBFA;\n",
              "      box-shadow: 0px 1px 2px rgba(60, 64, 67, 0.3), 0px 1px 3px 1px rgba(60, 64, 67, 0.15);\n",
              "      fill: #174EA6;\n",
              "    }\n",
              "\n",
              "    [theme=dark] .colab-df-convert {\n",
              "      background-color: #3B4455;\n",
              "      fill: #D2E3FC;\n",
              "    }\n",
              "\n",
              "    [theme=dark] .colab-df-convert:hover {\n",
              "      background-color: #434B5C;\n",
              "      box-shadow: 0px 1px 3px 1px rgba(0, 0, 0, 0.15);\n",
              "      filter: drop-shadow(0px 1px 2px rgba(0, 0, 0, 0.3));\n",
              "      fill: #FFFFFF;\n",
              "    }\n",
              "  </style>\n",
              "\n",
              "      <script>\n",
              "        const buttonEl =\n",
              "          document.querySelector('#df-826dd9d3-5891-4c15-bb37-9ddfac57280e button.colab-df-convert');\n",
              "        buttonEl.style.display =\n",
              "          google.colab.kernel.accessAllowed ? 'block' : 'none';\n",
              "\n",
              "        async function convertToInteractive(key) {\n",
              "          const element = document.querySelector('#df-826dd9d3-5891-4c15-bb37-9ddfac57280e');\n",
              "          const dataTable =\n",
              "            await google.colab.kernel.invokeFunction('convertToInteractive',\n",
              "                                                     [key], {});\n",
              "          if (!dataTable) return;\n",
              "\n",
              "          const docLinkHtml = 'Like what you see? Visit the ' +\n",
              "            '<a target=\"_blank\" href=https://colab.research.google.com/notebooks/data_table.ipynb>data table notebook</a>'\n",
              "            + ' to learn more about interactive tables.';\n",
              "          element.innerHTML = '';\n",
              "          dataTable['output_type'] = 'display_data';\n",
              "          await google.colab.output.renderOutput(dataTable, element);\n",
              "          const docLink = document.createElement('div');\n",
              "          docLink.innerHTML = docLinkHtml;\n",
              "          element.appendChild(docLink);\n",
              "        }\n",
              "      </script>\n",
              "    </div>\n",
              "  </div>\n",
              "  "
            ]
          },
          "metadata": {},
          "execution_count": 9
        }
      ]
    },
    {
      "cell_type": "code",
      "source": [
        "psuedo_y_ds = y_ds.replace(to_replace=[0,-1],value=[-1,0])"
      ],
      "metadata": {
        "id": "sVi2SSTlmRi6"
      },
      "execution_count": null,
      "outputs": []
    },
    {
      "cell_type": "code",
      "source": [
        "split_len = int(0.8*len(x_ds))"
      ],
      "metadata": {
        "id": "HxKgj9deqg6k"
      },
      "execution_count": null,
      "outputs": []
    },
    {
      "cell_type": "code",
      "source": [
        "one_hot_y = tf.one_hot(psuedo_y_ds.to_numpy().astype(np.int32),depth=2)\n",
        "train_y,test_y = one_hot_y[:split_len],one_hot_y[split_len:]"
      ],
      "metadata": {
        "id": "lUYicJ_nngMG"
      },
      "execution_count": null,
      "outputs": []
    },
    {
      "cell_type": "code",
      "source": [
        "normalizer = tf.keras.layers.Normalization(axis=-1)\n",
        "normalizer.adapt(x_ds)"
      ],
      "metadata": {
        "id": "wO95V2MEpEWz"
      },
      "execution_count": null,
      "outputs": []
    },
    {
      "cell_type": "code",
      "source": [
        "x_train = tf.data.Dataset.from_tensor_slices(train_x)\n",
        "x_test = tf.data.Dataset.from_tensor_slices(test_x)\n",
        "y_train = tf.data.Dataset.from_tensor_slices(train_y)\n",
        "y_test = tf.data.Dataset.from_tensor_slices(test_y)\n",
        "\n",
        "train_data = tf.data.Dataset.zip((x_train,y_train))\n",
        "test_data = tf.data.Dataset.zip((x_test,y_test))\n",
        "\n",
        "train_data = train_data.batch(32).prefetch(tf.data.AUTOTUNE)\n",
        "test_data = test_data.batch(32).prefetch(tf.data.AUTOTUNE)"
      ],
      "metadata": {
        "id": "Vls38J1VObcM"
      },
      "execution_count": null,
      "outputs": []
    },
    {
      "cell_type": "code",
      "source": [
        "for i in train_data:\n",
        "  print(i[1])\n",
        "  # print(normalizer(i[0]))\n",
        "  break"
      ],
      "metadata": {
        "colab": {
          "base_uri": "https://localhost:8080/"
        },
        "id": "2Z6GTHKPdJeX",
        "outputId": "0df009ac-5000-4f36-dfe0-299db3815f20"
      },
      "execution_count": null,
      "outputs": [
        {
          "output_type": "stream",
          "name": "stdout",
          "text": [
            "tf.Tensor(\n",
            "[[[0. 0.]\n",
            "  [0. 0.]\n",
            "  [0. 0.]\n",
            "  [0. 0.]\n",
            "  [0. 0.]\n",
            "  [0. 0.]]\n",
            "\n",
            " [[0. 0.]\n",
            "  [0. 0.]\n",
            "  [0. 0.]\n",
            "  [0. 0.]\n",
            "  [0. 0.]\n",
            "  [0. 0.]]\n",
            "\n",
            " [[0. 0.]\n",
            "  [0. 0.]\n",
            "  [0. 0.]\n",
            "  [0. 0.]\n",
            "  [0. 0.]\n",
            "  [0. 0.]]\n",
            "\n",
            " [[0. 0.]\n",
            "  [0. 0.]\n",
            "  [0. 0.]\n",
            "  [0. 0.]\n",
            "  [0. 0.]\n",
            "  [0. 1.]]\n",
            "\n",
            " [[0. 0.]\n",
            "  [0. 0.]\n",
            "  [0. 0.]\n",
            "  [0. 1.]\n",
            "  [0. 1.]\n",
            "  [0. 1.]]\n",
            "\n",
            " [[0. 0.]\n",
            "  [0. 0.]\n",
            "  [0. 1.]\n",
            "  [0. 1.]\n",
            "  [0. 1.]\n",
            "  [0. 1.]]\n",
            "\n",
            " [[0. 0.]\n",
            "  [0. 1.]\n",
            "  [0. 1.]\n",
            "  [0. 1.]\n",
            "  [0. 1.]\n",
            "  [0. 1.]]\n",
            "\n",
            " [[0. 0.]\n",
            "  [0. 1.]\n",
            "  [0. 1.]\n",
            "  [0. 1.]\n",
            "  [0. 0.]\n",
            "  [0. 0.]]\n",
            "\n",
            " [[0. 0.]\n",
            "  [0. 0.]\n",
            "  [0. 0.]\n",
            "  [0. 0.]\n",
            "  [0. 0.]\n",
            "  [0. 0.]]\n",
            "\n",
            " [[0. 0.]\n",
            "  [0. 0.]\n",
            "  [0. 0.]\n",
            "  [0. 0.]\n",
            "  [1. 0.]\n",
            "  [1. 0.]]\n",
            "\n",
            " [[0. 0.]\n",
            "  [0. 0.]\n",
            "  [0. 0.]\n",
            "  [1. 0.]\n",
            "  [1. 0.]\n",
            "  [1. 0.]]\n",
            "\n",
            " [[0. 0.]\n",
            "  [1. 0.]\n",
            "  [1. 0.]\n",
            "  [1. 0.]\n",
            "  [1. 0.]\n",
            "  [1. 0.]]\n",
            "\n",
            " [[0. 0.]\n",
            "  [0. 0.]\n",
            "  [0. 0.]\n",
            "  [1. 0.]\n",
            "  [1. 0.]\n",
            "  [1. 0.]]\n",
            "\n",
            " [[0. 0.]\n",
            "  [0. 0.]\n",
            "  [1. 0.]\n",
            "  [0. 0.]\n",
            "  [0. 0.]\n",
            "  [0. 0.]]\n",
            "\n",
            " [[0. 0.]\n",
            "  [0. 0.]\n",
            "  [0. 0.]\n",
            "  [0. 0.]\n",
            "  [0. 0.]\n",
            "  [0. 0.]]\n",
            "\n",
            " [[1. 0.]\n",
            "  [0. 0.]\n",
            "  [0. 0.]\n",
            "  [0. 0.]\n",
            "  [0. 0.]\n",
            "  [0. 0.]]\n",
            "\n",
            " [[0. 0.]\n",
            "  [0. 0.]\n",
            "  [0. 1.]\n",
            "  [0. 1.]\n",
            "  [0. 1.]\n",
            "  [0. 0.]]\n",
            "\n",
            " [[0. 0.]\n",
            "  [0. 0.]\n",
            "  [0. 0.]\n",
            "  [0. 0.]\n",
            "  [0. 0.]\n",
            "  [0. 0.]]\n",
            "\n",
            " [[0. 0.]\n",
            "  [0. 1.]\n",
            "  [0. 1.]\n",
            "  [0. 0.]\n",
            "  [0. 0.]\n",
            "  [0. 0.]]\n",
            "\n",
            " [[0. 0.]\n",
            "  [0. 0.]\n",
            "  [0. 0.]\n",
            "  [0. 0.]\n",
            "  [0. 0.]\n",
            "  [0. 0.]]\n",
            "\n",
            " [[0. 0.]\n",
            "  [0. 0.]\n",
            "  [0. 0.]\n",
            "  [0. 0.]\n",
            "  [0. 0.]\n",
            "  [0. 0.]]\n",
            "\n",
            " [[0. 0.]\n",
            "  [0. 0.]\n",
            "  [0. 0.]\n",
            "  [0. 0.]\n",
            "  [0. 0.]\n",
            "  [0. 0.]]\n",
            "\n",
            " [[0. 0.]\n",
            "  [0. 0.]\n",
            "  [0. 0.]\n",
            "  [0. 0.]\n",
            "  [0. 0.]\n",
            "  [0. 0.]]\n",
            "\n",
            " [[0. 0.]\n",
            "  [0. 0.]\n",
            "  [0. 0.]\n",
            "  [0. 0.]\n",
            "  [0. 0.]\n",
            "  [0. 0.]]\n",
            "\n",
            " [[0. 0.]\n",
            "  [0. 0.]\n",
            "  [0. 0.]\n",
            "  [0. 0.]\n",
            "  [0. 0.]\n",
            "  [0. 0.]]\n",
            "\n",
            " [[0. 0.]\n",
            "  [0. 0.]\n",
            "  [0. 0.]\n",
            "  [0. 0.]\n",
            "  [0. 0.]\n",
            "  [0. 0.]]\n",
            "\n",
            " [[0. 0.]\n",
            "  [0. 0.]\n",
            "  [0. 0.]\n",
            "  [0. 0.]\n",
            "  [0. 0.]\n",
            "  [0. 0.]]\n",
            "\n",
            " [[0. 0.]\n",
            "  [0. 0.]\n",
            "  [0. 0.]\n",
            "  [0. 0.]\n",
            "  [0. 0.]\n",
            "  [0. 0.]]\n",
            "\n",
            " [[0. 0.]\n",
            "  [0. 0.]\n",
            "  [0. 0.]\n",
            "  [0. 0.]\n",
            "  [0. 0.]\n",
            "  [0. 0.]]\n",
            "\n",
            " [[0. 0.]\n",
            "  [0. 0.]\n",
            "  [0. 0.]\n",
            "  [0. 0.]\n",
            "  [0. 0.]\n",
            "  [0. 0.]]\n",
            "\n",
            " [[0. 0.]\n",
            "  [0. 0.]\n",
            "  [0. 0.]\n",
            "  [0. 0.]\n",
            "  [0. 0.]\n",
            "  [0. 0.]]\n",
            "\n",
            " [[0. 0.]\n",
            "  [0. 0.]\n",
            "  [0. 0.]\n",
            "  [0. 0.]\n",
            "  [0. 0.]\n",
            "  [0. 1.]]], shape=(32, 6, 2), dtype=float32)\n"
          ]
        }
      ]
    },
    {
      "cell_type": "code",
      "source": [
        "inputs = tf.keras.layers.Input(shape=(21))\n",
        "x = normalizer(inputs)\n",
        "x = tf.keras.layers.Reshape((1,21),input_shape=(21,))(x)\n",
        "x = tf.keras.layers.LSTM(64,return_sequences=True)(x)\n",
        "x = tf.keras.layers.LSTM(32,return_sequences=True)(x)\n",
        "x = tf.keras.layers.LSTM(16,return_sequences=True)(x)\n",
        "x = tf.keras.layers.Dense(7,activation='relu')(x)\n",
        "x_h = [tf.keras.layers.Dense(2,activation='sigmoid',name=f'final_{i}')(x) for i in range(1,7)]\n",
        "outputs = tf.keras.layers.Concatenate(axis=1)(x_h)\n",
        "model_1 = tf.keras.Model(inputs=inputs,outputs=outputs)"
      ],
      "metadata": {
        "id": "MbOiEtwKp9uE"
      },
      "execution_count": null,
      "outputs": []
    },
    {
      "cell_type": "code",
      "source": [
        "\n",
        "\n"
      ],
      "metadata": {
        "id": "naB0_F-Id5HA",
        "colab": {
          "base_uri": "https://localhost:8080/"
        },
        "outputId": "66cb15da-03ba-4271-be20-0bad41ff3c38"
      },
      "execution_count": null,
      "outputs": [
        {
          "output_type": "execute_result",
          "data": {
            "text/plain": [
              "TensorShape([None, 6, 2])"
            ]
          },
          "metadata": {},
          "execution_count": 21
        }
      ]
    },
    {
      "cell_type": "code",
      "source": [
        "model_1.compile(loss=tf.keras.losses.CategoricalCrossentropy(),\n",
        "                optimizer='adam',\n",
        "                metrics=['accuracy'])"
      ],
      "metadata": {
        "id": "Ww4O3gQ5yVLJ"
      },
      "execution_count": null,
      "outputs": []
    },
    {
      "cell_type": "code",
      "source": [
        "model_1.fit(train_data,\n",
        "            epochs=10,\n",
        "            validation_data=test_data)"
      ],
      "metadata": {
        "colab": {
          "base_uri": "https://localhost:8080/"
        },
        "id": "9BVDmQ7byVF2",
        "outputId": "49ab707f-61c1-45b7-a512-135b90fd1844"
      },
      "execution_count": null,
      "outputs": [
        {
          "output_type": "stream",
          "name": "stdout",
          "text": [
            "Epoch 1/10\n",
            "75/75 [==============================] - 12s 30ms/step - loss: 0.1106 - accuracy: 0.2797 - val_loss: 0.1551 - val_accuracy: 0.3763\n",
            "Epoch 2/10\n",
            "75/75 [==============================] - 1s 13ms/step - loss: 0.1106 - accuracy: 0.3659 - val_loss: 0.1551 - val_accuracy: 0.4420\n",
            "Epoch 3/10\n",
            "75/75 [==============================] - 1s 13ms/step - loss: 0.1106 - accuracy: 0.4156 - val_loss: 0.1552 - val_accuracy: 0.4780\n",
            "Epoch 4/10\n",
            "75/75 [==============================] - 1s 13ms/step - loss: 0.1105 - accuracy: 0.4354 - val_loss: 0.1551 - val_accuracy: 0.4841\n",
            "Epoch 5/10\n",
            "75/75 [==============================] - 1s 10ms/step - loss: 0.1104 - accuracy: 0.4371 - val_loss: 0.1550 - val_accuracy: 0.4880\n",
            "Epoch 6/10\n",
            "75/75 [==============================] - 1s 8ms/step - loss: 0.1100 - accuracy: 0.4253 - val_loss: 0.1543 - val_accuracy: 0.4802\n",
            "Epoch 7/10\n",
            "75/75 [==============================] - 1s 8ms/step - loss: 0.1089 - accuracy: 0.4058 - val_loss: 0.1533 - val_accuracy: 0.4702\n",
            "Epoch 8/10\n",
            "75/75 [==============================] - 1s 8ms/step - loss: 0.1071 - accuracy: 0.4183 - val_loss: 0.1517 - val_accuracy: 0.4836\n",
            "Epoch 9/10\n",
            "75/75 [==============================] - 1s 8ms/step - loss: 0.1046 - accuracy: 0.4410 - val_loss: 0.1516 - val_accuracy: 0.4969\n",
            "Epoch 10/10\n",
            "75/75 [==============================] - 1s 8ms/step - loss: 0.1016 - accuracy: 0.4521 - val_loss: 0.1530 - val_accuracy: 0.4961\n"
          ]
        },
        {
          "output_type": "execute_result",
          "data": {
            "text/plain": [
              "<keras.callbacks.History at 0x7f09a00f19d0>"
            ]
          },
          "metadata": {},
          "execution_count": 24
        }
      ]
    },
    {
      "cell_type": "code",
      "source": [
        "y_t = tf.one_hot(tf.random.uniform(shape=(32,7),dtype=tf.int32,minval=-1,maxval=1),depth=2)\n",
        "y_p = tf.one_hot(tf.random.uniform(shape=(32,7),dtype=tf.int32,minval=-1,maxval=1),depth=2)\n",
        "# print(y_t,y_p)\n",
        "cce = tf.keras.losses.CategoricalCrossentropy(reduction=tf.keras.losses.Reduction.SUM)\n",
        "print(cce(y_t,y_p).numpy())"
      ],
      "metadata": {
        "colab": {
          "base_uri": "https://localhost:8080/"
        },
        "id": "bh74PAulwS4X",
        "outputId": "a4cc19ae-416a-4bd2-d5cd-2de51482c3b5"
      },
      "execution_count": null,
      "outputs": [
        {
          "output_type": "stream",
          "name": "stdout",
          "text": [
            "nan\n"
          ]
        }
      ]
    },
    {
      "cell_type": "code",
      "source": [
        "for i in train_data:\n",
        "  idx = np.array([-1,0,1])\n",
        "  # print(i[1].numpy())\n",
        "  print(tf.one_hot(idx[tf.cast(i[1],dtype=tf.int32).numpy()],depth=2))\n",
        "  break"
      ],
      "metadata": {
        "colab": {
          "base_uri": "https://localhost:8080/"
        },
        "id": "bb-Gm3mdxjLh",
        "outputId": "e21affb6-ddae-42f2-c72a-d24db4a8ef70"
      },
      "execution_count": null,
      "outputs": [
        {
          "output_type": "stream",
          "name": "stdout",
          "text": [
            "tf.Tensor(\n",
            "[[[0. 0.]\n",
            "  [0. 0.]\n",
            "  [0. 0.]\n",
            "  [0. 0.]\n",
            "  [0. 0.]\n",
            "  [0. 0.]]\n",
            "\n",
            " [[0. 0.]\n",
            "  [0. 0.]\n",
            "  [0. 0.]\n",
            "  [0. 0.]\n",
            "  [0. 0.]\n",
            "  [0. 0.]]\n",
            "\n",
            " [[0. 0.]\n",
            "  [0. 0.]\n",
            "  [0. 0.]\n",
            "  [0. 0.]\n",
            "  [0. 0.]\n",
            "  [0. 0.]]\n",
            "\n",
            " [[0. 0.]\n",
            "  [0. 0.]\n",
            "  [0. 0.]\n",
            "  [0. 0.]\n",
            "  [0. 0.]\n",
            "  [1. 0.]]\n",
            "\n",
            " [[0. 0.]\n",
            "  [0. 0.]\n",
            "  [0. 0.]\n",
            "  [1. 0.]\n",
            "  [1. 0.]\n",
            "  [1. 0.]]\n",
            "\n",
            " [[0. 0.]\n",
            "  [0. 0.]\n",
            "  [1. 0.]\n",
            "  [1. 0.]\n",
            "  [1. 0.]\n",
            "  [1. 0.]]\n",
            "\n",
            " [[0. 0.]\n",
            "  [1. 0.]\n",
            "  [1. 0.]\n",
            "  [1. 0.]\n",
            "  [1. 0.]\n",
            "  [1. 0.]]\n",
            "\n",
            " [[0. 0.]\n",
            "  [1. 0.]\n",
            "  [1. 0.]\n",
            "  [1. 0.]\n",
            "  [0. 0.]\n",
            "  [0. 0.]]\n",
            "\n",
            " [[0. 0.]\n",
            "  [0. 0.]\n",
            "  [0. 0.]\n",
            "  [0. 0.]\n",
            "  [0. 0.]\n",
            "  [0. 0.]]\n",
            "\n",
            " [[0. 0.]\n",
            "  [0. 0.]\n",
            "  [0. 0.]\n",
            "  [0. 0.]\n",
            "  [0. 1.]\n",
            "  [0. 1.]]\n",
            "\n",
            " [[0. 0.]\n",
            "  [0. 0.]\n",
            "  [0. 0.]\n",
            "  [0. 1.]\n",
            "  [0. 1.]\n",
            "  [0. 1.]]\n",
            "\n",
            " [[0. 0.]\n",
            "  [0. 1.]\n",
            "  [0. 1.]\n",
            "  [0. 1.]\n",
            "  [0. 1.]\n",
            "  [0. 1.]]\n",
            "\n",
            " [[0. 0.]\n",
            "  [0. 0.]\n",
            "  [0. 0.]\n",
            "  [0. 1.]\n",
            "  [0. 1.]\n",
            "  [0. 1.]]\n",
            "\n",
            " [[0. 0.]\n",
            "  [0. 0.]\n",
            "  [0. 1.]\n",
            "  [0. 0.]\n",
            "  [0. 0.]\n",
            "  [0. 0.]]\n",
            "\n",
            " [[0. 0.]\n",
            "  [0. 0.]\n",
            "  [0. 0.]\n",
            "  [0. 0.]\n",
            "  [0. 0.]\n",
            "  [0. 0.]]\n",
            "\n",
            " [[0. 1.]\n",
            "  [0. 0.]\n",
            "  [0. 0.]\n",
            "  [0. 0.]\n",
            "  [0. 0.]\n",
            "  [0. 0.]]\n",
            "\n",
            " [[0. 0.]\n",
            "  [0. 0.]\n",
            "  [1. 0.]\n",
            "  [1. 0.]\n",
            "  [1. 0.]\n",
            "  [0. 0.]]\n",
            "\n",
            " [[0. 0.]\n",
            "  [0. 0.]\n",
            "  [0. 0.]\n",
            "  [0. 0.]\n",
            "  [0. 0.]\n",
            "  [0. 0.]]\n",
            "\n",
            " [[0. 0.]\n",
            "  [1. 0.]\n",
            "  [1. 0.]\n",
            "  [0. 0.]\n",
            "  [0. 0.]\n",
            "  [0. 0.]]\n",
            "\n",
            " [[0. 0.]\n",
            "  [0. 0.]\n",
            "  [0. 0.]\n",
            "  [0. 0.]\n",
            "  [0. 0.]\n",
            "  [0. 0.]]\n",
            "\n",
            " [[0. 0.]\n",
            "  [0. 0.]\n",
            "  [0. 0.]\n",
            "  [0. 0.]\n",
            "  [0. 0.]\n",
            "  [0. 0.]]\n",
            "\n",
            " [[0. 0.]\n",
            "  [0. 0.]\n",
            "  [0. 0.]\n",
            "  [0. 0.]\n",
            "  [0. 0.]\n",
            "  [0. 0.]]\n",
            "\n",
            " [[0. 0.]\n",
            "  [0. 0.]\n",
            "  [0. 0.]\n",
            "  [0. 0.]\n",
            "  [0. 0.]\n",
            "  [0. 0.]]\n",
            "\n",
            " [[0. 0.]\n",
            "  [0. 0.]\n",
            "  [0. 0.]\n",
            "  [0. 0.]\n",
            "  [0. 0.]\n",
            "  [0. 0.]]\n",
            "\n",
            " [[0. 0.]\n",
            "  [0. 0.]\n",
            "  [0. 0.]\n",
            "  [0. 0.]\n",
            "  [0. 0.]\n",
            "  [0. 0.]]\n",
            "\n",
            " [[0. 0.]\n",
            "  [0. 0.]\n",
            "  [0. 0.]\n",
            "  [0. 0.]\n",
            "  [0. 0.]\n",
            "  [0. 0.]]\n",
            "\n",
            " [[0. 0.]\n",
            "  [0. 0.]\n",
            "  [0. 0.]\n",
            "  [0. 0.]\n",
            "  [0. 0.]\n",
            "  [0. 0.]]\n",
            "\n",
            " [[0. 0.]\n",
            "  [0. 0.]\n",
            "  [0. 0.]\n",
            "  [0. 0.]\n",
            "  [0. 0.]\n",
            "  [0. 0.]]\n",
            "\n",
            " [[0. 0.]\n",
            "  [0. 0.]\n",
            "  [0. 0.]\n",
            "  [0. 0.]\n",
            "  [0. 0.]\n",
            "  [0. 0.]]\n",
            "\n",
            " [[0. 0.]\n",
            "  [0. 0.]\n",
            "  [0. 0.]\n",
            "  [0. 0.]\n",
            "  [0. 0.]\n",
            "  [0. 0.]]\n",
            "\n",
            " [[0. 0.]\n",
            "  [0. 0.]\n",
            "  [0. 0.]\n",
            "  [0. 0.]\n",
            "  [0. 0.]\n",
            "  [0. 0.]]\n",
            "\n",
            " [[0. 0.]\n",
            "  [0. 0.]\n",
            "  [0. 0.]\n",
            "  [0. 0.]\n",
            "  [0. 0.]\n",
            "  [1. 0.]]], shape=(32, 6, 2), dtype=float32)\n"
          ]
        }
      ]
    },
    {
      "cell_type": "code",
      "source": [
        "print(y_p)"
      ],
      "metadata": {
        "colab": {
          "base_uri": "https://localhost:8080/"
        },
        "id": "6QvydhxVxmBc",
        "outputId": "67317b23-f000-44ff-a107-007180bb585c"
      },
      "execution_count": null,
      "outputs": [
        {
          "output_type": "stream",
          "name": "stdout",
          "text": [
            "tf.Tensor(\n",
            "[[[0. 0.]\n",
            "  [0. 0.]\n",
            "  [1. 0.]\n",
            "  [1. 0.]\n",
            "  [0. 0.]\n",
            "  [0. 0.]\n",
            "  [0. 0.]]], shape=(1, 7, 2), dtype=float32)\n"
          ]
        }
      ]
    },
    {
      "cell_type": "code",
      "source": [
        "history_1 = model_1.fit()"
      ],
      "metadata": {
        "colab": {
          "base_uri": "https://localhost:8080/"
        },
        "id": "aewKinYXfYpL",
        "outputId": "d0303252-b2ae-4111-eecf-bb7d771785d1"
      },
      "execution_count": null,
      "outputs": [
        {
          "output_type": "execute_result",
          "data": {
            "text/plain": [
              "TensorShape([None, 1, 41])"
            ]
          },
          "metadata": {},
          "execution_count": 25
        }
      ]
    },
    {
      "cell_type": "code",
      "source": [
        "indices = tf.constant([[0,1,-1,1,0,-1],\n",
        "                    [0,0,1,-1,1,0]])\n",
        "idx = tf.constant([-1,0,1])\n",
        "idx[indices]"
      ],
      "metadata": {
        "colab": {
          "base_uri": "https://localhost:8080/",
          "height": 365
        },
        "id": "k8sLJxwIsQKC",
        "outputId": "1598eb64-2454-4031-8076-70a47b351195"
      },
      "execution_count": null,
      "outputs": [
        {
          "output_type": "error",
          "ename": "InvalidArgumentError",
          "evalue": "ignored",
          "traceback": [
            "\u001b[0;31m---------------------------------------------------------------------------\u001b[0m",
            "\u001b[0;31mInvalidArgumentError\u001b[0m                      Traceback (most recent call last)",
            "\u001b[0;32m<ipython-input-80-0f81f3d47127>\u001b[0m in \u001b[0;36m<module>\u001b[0;34m\u001b[0m\n\u001b[1;32m      2\u001b[0m                     [0,0,1,-1,1,0]])\n\u001b[1;32m      3\u001b[0m \u001b[0midx\u001b[0m \u001b[0;34m=\u001b[0m \u001b[0mtf\u001b[0m\u001b[0;34m.\u001b[0m\u001b[0mconstant\u001b[0m\u001b[0;34m(\u001b[0m\u001b[0;34m[\u001b[0m\u001b[0;34m-\u001b[0m\u001b[0;36m1\u001b[0m\u001b[0;34m,\u001b[0m\u001b[0;36m0\u001b[0m\u001b[0;34m,\u001b[0m\u001b[0;36m1\u001b[0m\u001b[0;34m]\u001b[0m\u001b[0;34m)\u001b[0m\u001b[0;34m\u001b[0m\u001b[0;34m\u001b[0m\u001b[0m\n\u001b[0;32m----> 4\u001b[0;31m \u001b[0midx\u001b[0m\u001b[0;34m[\u001b[0m\u001b[0mindices\u001b[0m\u001b[0;34m]\u001b[0m\u001b[0;34m\u001b[0m\u001b[0;34m\u001b[0m\u001b[0m\n\u001b[0m",
            "\u001b[0;32m/usr/local/lib/python3.9/dist-packages/tensorflow/python/util/traceback_utils.py\u001b[0m in \u001b[0;36merror_handler\u001b[0;34m(*args, **kwargs)\u001b[0m\n\u001b[1;32m    151\u001b[0m     \u001b[0;32mexcept\u001b[0m \u001b[0mException\u001b[0m \u001b[0;32mas\u001b[0m \u001b[0me\u001b[0m\u001b[0;34m:\u001b[0m\u001b[0;34m\u001b[0m\u001b[0;34m\u001b[0m\u001b[0m\n\u001b[1;32m    152\u001b[0m       \u001b[0mfiltered_tb\u001b[0m \u001b[0;34m=\u001b[0m \u001b[0m_process_traceback_frames\u001b[0m\u001b[0;34m(\u001b[0m\u001b[0me\u001b[0m\u001b[0;34m.\u001b[0m\u001b[0m__traceback__\u001b[0m\u001b[0;34m)\u001b[0m\u001b[0;34m\u001b[0m\u001b[0;34m\u001b[0m\u001b[0m\n\u001b[0;32m--> 153\u001b[0;31m       \u001b[0;32mraise\u001b[0m \u001b[0me\u001b[0m\u001b[0;34m.\u001b[0m\u001b[0mwith_traceback\u001b[0m\u001b[0;34m(\u001b[0m\u001b[0mfiltered_tb\u001b[0m\u001b[0;34m)\u001b[0m \u001b[0;32mfrom\u001b[0m \u001b[0;32mNone\u001b[0m\u001b[0;34m\u001b[0m\u001b[0;34m\u001b[0m\u001b[0m\n\u001b[0m\u001b[1;32m    154\u001b[0m     \u001b[0;32mfinally\u001b[0m\u001b[0;34m:\u001b[0m\u001b[0;34m\u001b[0m\u001b[0;34m\u001b[0m\u001b[0m\n\u001b[1;32m    155\u001b[0m       \u001b[0;32mdel\u001b[0m \u001b[0mfiltered_tb\u001b[0m\u001b[0;34m\u001b[0m\u001b[0;34m\u001b[0m\u001b[0m\n",
            "\u001b[0;32m/usr/local/lib/python3.9/dist-packages/tensorflow/python/framework/ops.py\u001b[0m in \u001b[0;36mraise_from_not_ok_status\u001b[0;34m(e, name)\u001b[0m\n\u001b[1;32m   7213\u001b[0m \u001b[0;32mdef\u001b[0m \u001b[0mraise_from_not_ok_status\u001b[0m\u001b[0;34m(\u001b[0m\u001b[0me\u001b[0m\u001b[0;34m,\u001b[0m \u001b[0mname\u001b[0m\u001b[0;34m)\u001b[0m\u001b[0;34m:\u001b[0m\u001b[0;34m\u001b[0m\u001b[0;34m\u001b[0m\u001b[0m\n\u001b[1;32m   7214\u001b[0m   \u001b[0me\u001b[0m\u001b[0;34m.\u001b[0m\u001b[0mmessage\u001b[0m \u001b[0;34m+=\u001b[0m \u001b[0;34m(\u001b[0m\u001b[0;34m\" name: \"\u001b[0m \u001b[0;34m+\u001b[0m \u001b[0mname\u001b[0m \u001b[0;32mif\u001b[0m \u001b[0mname\u001b[0m \u001b[0;32mis\u001b[0m \u001b[0;32mnot\u001b[0m \u001b[0;32mNone\u001b[0m \u001b[0;32melse\u001b[0m \u001b[0;34m\"\"\u001b[0m\u001b[0;34m)\u001b[0m\u001b[0;34m\u001b[0m\u001b[0;34m\u001b[0m\u001b[0m\n\u001b[0;32m-> 7215\u001b[0;31m   \u001b[0;32mraise\u001b[0m \u001b[0mcore\u001b[0m\u001b[0;34m.\u001b[0m\u001b[0m_status_to_exception\u001b[0m\u001b[0;34m(\u001b[0m\u001b[0me\u001b[0m\u001b[0;34m)\u001b[0m \u001b[0;32mfrom\u001b[0m \u001b[0;32mNone\u001b[0m  \u001b[0;31m# pylint: disable=protected-access\u001b[0m\u001b[0;34m\u001b[0m\u001b[0;34m\u001b[0m\u001b[0m\n\u001b[0m\u001b[1;32m   7216\u001b[0m \u001b[0;34m\u001b[0m\u001b[0m\n\u001b[1;32m   7217\u001b[0m \u001b[0;34m\u001b[0m\u001b[0m\n",
            "\u001b[0;31mInvalidArgumentError\u001b[0m: {{function_node __wrapped__StridedSlice_device_/job:localhost/replica:0/task:0/device:CPU:0}} Expected begin, end, and strides to be 1D equal size tensors, but got shapes [1,2,6], [1,2,6], and [1] instead. [Op:StridedSlice] name: strided_slice/"
          ]
        }
      ]
    },
    {
      "cell_type": "code",
      "source": [
        "np.floor((indices-1)/2)"
      ],
      "metadata": {
        "colab": {
          "base_uri": "https://localhost:8080/"
        },
        "id": "zSHk2X9uspi0",
        "outputId": "185fdbf6-a054-45e6-e62c-c32d623dd8b8"
      },
      "execution_count": null,
      "outputs": [
        {
          "output_type": "execute_result",
          "data": {
            "text/plain": [
              "array([-1.,  0., -1.])"
            ]
          },
          "metadata": {},
          "execution_count": 31
        }
      ]
    },
    {
      "cell_type": "markdown",
      "source": [
        "# Current Working"
      ],
      "metadata": {
        "id": "py0Gq9fGBEPL"
      }
    },
    {
      "cell_type": "code",
      "source": [
        "!python3 -m pip install eodhd -U"
      ],
      "metadata": {
        "colab": {
          "base_uri": "https://localhost:8080/"
        },
        "id": "bntby9hvoiTe",
        "outputId": "fa7b0c34-6885-4cb2-9f6b-84d0306079ad"
      },
      "execution_count": null,
      "outputs": [
        {
          "output_type": "stream",
          "name": "stdout",
          "text": [
            "Looking in indexes: https://pypi.org/simple, https://us-python.pkg.dev/colab-wheels/public/simple/\n",
            "Collecting eodhd\n",
            "  Downloading eodhd-1.0.9.tar.gz (8.7 kB)\n",
            "  Preparing metadata (setup.py) ... \u001b[?25l\u001b[?25hdone\n",
            "Collecting websockets==10.3\n",
            "  Downloading websockets-10.3-cp39-cp39-manylinux_2_5_x86_64.manylinux1_x86_64.manylinux_2_12_x86_64.manylinux2010_x86_64.whl (111 kB)\n",
            "\u001b[2K     \u001b[90m━━━━━━━━━━━━━━━━━━━━━━━━━━━━━━━━━━━━━━━\u001b[0m \u001b[32m111.3/111.3 KB\u001b[0m \u001b[31m3.6 MB/s\u001b[0m eta \u001b[36m0:00:00\u001b[0m\n",
            "\u001b[?25hCollecting websocket-client==1.3.3\n",
            "  Downloading websocket_client-1.3.3-py3-none-any.whl (54 kB)\n",
            "\u001b[2K     \u001b[90m━━━━━━━━━━━━━━━━━━━━━━━━━━━━━━━━━━━━━━━━\u001b[0m \u001b[32m54.3/54.3 KB\u001b[0m \u001b[31m5.8 MB/s\u001b[0m eta \u001b[36m0:00:00\u001b[0m\n",
            "\u001b[?25hCollecting requests==2.28.1\n",
            "  Downloading requests-2.28.1-py3-none-any.whl (62 kB)\n",
            "\u001b[2K     \u001b[90m━━━━━━━━━━━━━━━━━━━━━━━━━━━━━━━━━━━━━━━━\u001b[0m \u001b[32m62.8/62.8 KB\u001b[0m \u001b[31m7.0 MB/s\u001b[0m eta \u001b[36m0:00:00\u001b[0m\n",
            "\u001b[?25hCollecting rich==12.5.1\n",
            "  Downloading rich-12.5.1-py3-none-any.whl (235 kB)\n",
            "\u001b[2K     \u001b[90m━━━━━━━━━━━━━━━━━━━━━━━━━━━━━━━━━━━━━━\u001b[0m \u001b[32m235.6/235.6 KB\u001b[0m \u001b[31m10.8 MB/s\u001b[0m eta \u001b[36m0:00:00\u001b[0m\n",
            "\u001b[?25hCollecting pandas==1.5.1\n",
            "  Downloading pandas-1.5.1-cp39-cp39-manylinux_2_17_x86_64.manylinux2014_x86_64.whl (12.2 MB)\n",
            "\u001b[2K     \u001b[90m━━━━━━━━━━━━━━━━━━━━━━━━━━━━━━━━━━━━━━━━\u001b[0m \u001b[32m12.2/12.2 MB\u001b[0m \u001b[31m74.1 MB/s\u001b[0m eta \u001b[36m0:00:00\u001b[0m\n",
            "\u001b[?25hCollecting numpy==1.24.1\n",
            "  Downloading numpy-1.24.1-cp39-cp39-manylinux_2_17_x86_64.manylinux2014_x86_64.whl (17.3 MB)\n",
            "\u001b[2K     \u001b[90m━━━━━━━━━━━━━━━━━━━━━━━━━━━━━━━━━━━━━━━━\u001b[0m \u001b[32m17.3/17.3 MB\u001b[0m \u001b[31m58.7 MB/s\u001b[0m eta \u001b[36m0:00:00\u001b[0m\n",
            "\u001b[?25hRequirement already satisfied: python-dateutil>=2.8.1 in /usr/local/lib/python3.9/dist-packages (from pandas==1.5.1->eodhd) (2.8.2)\n",
            "Requirement already satisfied: pytz>=2020.1 in /usr/local/lib/python3.9/dist-packages (from pandas==1.5.1->eodhd) (2022.7.1)\n",
            "Requirement already satisfied: charset-normalizer<3,>=2 in /usr/local/lib/python3.9/dist-packages (from requests==2.28.1->eodhd) (2.0.12)\n",
            "Requirement already satisfied: idna<4,>=2.5 in /usr/local/lib/python3.9/dist-packages (from requests==2.28.1->eodhd) (3.4)\n",
            "Requirement already satisfied: urllib3<1.27,>=1.21.1 in /usr/local/lib/python3.9/dist-packages (from requests==2.28.1->eodhd) (1.26.15)\n",
            "Requirement already satisfied: certifi>=2017.4.17 in /usr/local/lib/python3.9/dist-packages (from requests==2.28.1->eodhd) (2022.12.7)\n",
            "Collecting commonmark<0.10.0,>=0.9.0\n",
            "  Downloading commonmark-0.9.1-py2.py3-none-any.whl (51 kB)\n",
            "\u001b[2K     \u001b[90m━━━━━━━━━━━━━━━━━━━━━━━━━━━━━━━━━━━━━━━━\u001b[0m \u001b[32m51.1/51.1 KB\u001b[0m \u001b[31m5.8 MB/s\u001b[0m eta \u001b[36m0:00:00\u001b[0m\n",
            "\u001b[?25hRequirement already satisfied: pygments<3.0.0,>=2.6.0 in /usr/local/lib/python3.9/dist-packages (from rich==12.5.1->eodhd) (2.14.0)\n",
            "Requirement already satisfied: six>=1.5 in /usr/local/lib/python3.9/dist-packages (from python-dateutil>=2.8.1->pandas==1.5.1->eodhd) (1.16.0)\n",
            "Building wheels for collected packages: eodhd\n",
            "  Building wheel for eodhd (setup.py) ... \u001b[?25l\u001b[?25hdone\n",
            "  Created wheel for eodhd: filename=eodhd-1.0.9-py3-none-any.whl size=9069 sha256=ce4cc9289deb5288a5df41b5a1fc6f9b26af49c7b4b5c88a6e087b63a91c9421\n",
            "  Stored in directory: /root/.cache/pip/wheels/d6/17/a3/216fe45f799f80d4c76da4f02866dc7a0a984f2cb240d491c9\n",
            "Successfully built eodhd\n",
            "Installing collected packages: commonmark, websockets, websocket-client, rich, requests, numpy, pandas, eodhd\n",
            "  Attempting uninstall: rich\n",
            "    Found existing installation: rich 13.3.2\n",
            "    Uninstalling rich-13.3.2:\n",
            "      Successfully uninstalled rich-13.3.2\n",
            "  Attempting uninstall: requests\n",
            "    Found existing installation: requests 2.27.1\n",
            "    Uninstalling requests-2.27.1:\n",
            "      Successfully uninstalled requests-2.27.1\n",
            "  Attempting uninstall: numpy\n",
            "    Found existing installation: numpy 1.22.4\n",
            "    Uninstalling numpy-1.22.4:\n",
            "      Successfully uninstalled numpy-1.22.4\n",
            "  Attempting uninstall: pandas\n",
            "    Found existing installation: pandas 1.4.4\n",
            "    Uninstalling pandas-1.4.4:\n",
            "      Successfully uninstalled pandas-1.4.4\n",
            "\u001b[31mERROR: pip's dependency resolver does not currently take into account all the packages that are installed. This behaviour is the source of the following dependency conflicts.\n",
            "numba 0.56.4 requires numpy<1.24,>=1.18, but you have numpy 1.24.1 which is incompatible.\u001b[0m\u001b[31m\n",
            "\u001b[0mSuccessfully installed commonmark-0.9.1 eodhd-1.0.9 numpy-1.24.1 pandas-1.5.1 requests-2.28.1 rich-12.5.1 websocket-client-1.3.3 websockets-10.3\n"
          ]
        }
      ]
    },
    {
      "cell_type": "code",
      "source": [
        "from eodhd import APIClient\n",
        "api = APIClient(\"641ee0ca4a5447.61245162\")"
      ],
      "metadata": {
        "id": "OzzEltzkon5G"
      },
      "execution_count": null,
      "outputs": []
    },
    {
      "cell_type": "code",
      "source": [
        "df_exchanges = api.get_exchanges()"
      ],
      "metadata": {
        "id": "UlJqwg4Fo9e7"
      },
      "execution_count": null,
      "outputs": []
    },
    {
      "cell_type": "code",
      "source": [
        "df_exchanges.head()"
      ],
      "metadata": {
        "colab": {
          "base_uri": "https://localhost:8080/",
          "height": 206
        },
        "id": "lw2KkyRBpS-m",
        "outputId": "2f42a5d7-56b5-43a0-9e44-da0bc0e9f836"
      },
      "execution_count": null,
      "outputs": [
        {
          "output_type": "execute_result",
          "data": {
            "text/plain": [
              "                   Name Code OperatingMIC Country Currency CountryISO2  \\\n",
              "0            USA Stocks   US   XNAS, XNYS     USA      USD          US   \n",
              "1       London Exchange  LSE         XLON      UK      GBP          GB   \n",
              "2  TSX Venture Exchange    V         XTSX  Canada      CAD          CA   \n",
              "3          NEO Exchange  NEO         NEOE  Canada      CAD          CA   \n",
              "4      Toronto Exchange   TO         XTSE  Canada      CAD          CA   \n",
              "\n",
              "  CountryISO3  \n",
              "0         USA  \n",
              "1         GBR  \n",
              "2         CAN  \n",
              "3         CAN  \n",
              "4         CAN  "
            ],
            "text/html": [
              "\n",
              "  <div id=\"df-190c8b57-b669-4565-a89a-2833dabb5c5d\">\n",
              "    <div class=\"colab-df-container\">\n",
              "      <div>\n",
              "<style scoped>\n",
              "    .dataframe tbody tr th:only-of-type {\n",
              "        vertical-align: middle;\n",
              "    }\n",
              "\n",
              "    .dataframe tbody tr th {\n",
              "        vertical-align: top;\n",
              "    }\n",
              "\n",
              "    .dataframe thead th {\n",
              "        text-align: right;\n",
              "    }\n",
              "</style>\n",
              "<table border=\"1\" class=\"dataframe\">\n",
              "  <thead>\n",
              "    <tr style=\"text-align: right;\">\n",
              "      <th></th>\n",
              "      <th>Name</th>\n",
              "      <th>Code</th>\n",
              "      <th>OperatingMIC</th>\n",
              "      <th>Country</th>\n",
              "      <th>Currency</th>\n",
              "      <th>CountryISO2</th>\n",
              "      <th>CountryISO3</th>\n",
              "    </tr>\n",
              "  </thead>\n",
              "  <tbody>\n",
              "    <tr>\n",
              "      <th>0</th>\n",
              "      <td>USA Stocks</td>\n",
              "      <td>US</td>\n",
              "      <td>XNAS, XNYS</td>\n",
              "      <td>USA</td>\n",
              "      <td>USD</td>\n",
              "      <td>US</td>\n",
              "      <td>USA</td>\n",
              "    </tr>\n",
              "    <tr>\n",
              "      <th>1</th>\n",
              "      <td>London Exchange</td>\n",
              "      <td>LSE</td>\n",
              "      <td>XLON</td>\n",
              "      <td>UK</td>\n",
              "      <td>GBP</td>\n",
              "      <td>GB</td>\n",
              "      <td>GBR</td>\n",
              "    </tr>\n",
              "    <tr>\n",
              "      <th>2</th>\n",
              "      <td>TSX Venture Exchange</td>\n",
              "      <td>V</td>\n",
              "      <td>XTSX</td>\n",
              "      <td>Canada</td>\n",
              "      <td>CAD</td>\n",
              "      <td>CA</td>\n",
              "      <td>CAN</td>\n",
              "    </tr>\n",
              "    <tr>\n",
              "      <th>3</th>\n",
              "      <td>NEO Exchange</td>\n",
              "      <td>NEO</td>\n",
              "      <td>NEOE</td>\n",
              "      <td>Canada</td>\n",
              "      <td>CAD</td>\n",
              "      <td>CA</td>\n",
              "      <td>CAN</td>\n",
              "    </tr>\n",
              "    <tr>\n",
              "      <th>4</th>\n",
              "      <td>Toronto Exchange</td>\n",
              "      <td>TO</td>\n",
              "      <td>XTSE</td>\n",
              "      <td>Canada</td>\n",
              "      <td>CAD</td>\n",
              "      <td>CA</td>\n",
              "      <td>CAN</td>\n",
              "    </tr>\n",
              "  </tbody>\n",
              "</table>\n",
              "</div>\n",
              "      <button class=\"colab-df-convert\" onclick=\"convertToInteractive('df-190c8b57-b669-4565-a89a-2833dabb5c5d')\"\n",
              "              title=\"Convert this dataframe to an interactive table.\"\n",
              "              style=\"display:none;\">\n",
              "        \n",
              "  <svg xmlns=\"http://www.w3.org/2000/svg\" height=\"24px\"viewBox=\"0 0 24 24\"\n",
              "       width=\"24px\">\n",
              "    <path d=\"M0 0h24v24H0V0z\" fill=\"none\"/>\n",
              "    <path d=\"M18.56 5.44l.94 2.06.94-2.06 2.06-.94-2.06-.94-.94-2.06-.94 2.06-2.06.94zm-11 1L8.5 8.5l.94-2.06 2.06-.94-2.06-.94L8.5 2.5l-.94 2.06-2.06.94zm10 10l.94 2.06.94-2.06 2.06-.94-2.06-.94-.94-2.06-.94 2.06-2.06.94z\"/><path d=\"M17.41 7.96l-1.37-1.37c-.4-.4-.92-.59-1.43-.59-.52 0-1.04.2-1.43.59L10.3 9.45l-7.72 7.72c-.78.78-.78 2.05 0 2.83L4 21.41c.39.39.9.59 1.41.59.51 0 1.02-.2 1.41-.59l7.78-7.78 2.81-2.81c.8-.78.8-2.07 0-2.86zM5.41 20L4 18.59l7.72-7.72 1.47 1.35L5.41 20z\"/>\n",
              "  </svg>\n",
              "      </button>\n",
              "      \n",
              "  <style>\n",
              "    .colab-df-container {\n",
              "      display:flex;\n",
              "      flex-wrap:wrap;\n",
              "      gap: 12px;\n",
              "    }\n",
              "\n",
              "    .colab-df-convert {\n",
              "      background-color: #E8F0FE;\n",
              "      border: none;\n",
              "      border-radius: 50%;\n",
              "      cursor: pointer;\n",
              "      display: none;\n",
              "      fill: #1967D2;\n",
              "      height: 32px;\n",
              "      padding: 0 0 0 0;\n",
              "      width: 32px;\n",
              "    }\n",
              "\n",
              "    .colab-df-convert:hover {\n",
              "      background-color: #E2EBFA;\n",
              "      box-shadow: 0px 1px 2px rgba(60, 64, 67, 0.3), 0px 1px 3px 1px rgba(60, 64, 67, 0.15);\n",
              "      fill: #174EA6;\n",
              "    }\n",
              "\n",
              "    [theme=dark] .colab-df-convert {\n",
              "      background-color: #3B4455;\n",
              "      fill: #D2E3FC;\n",
              "    }\n",
              "\n",
              "    [theme=dark] .colab-df-convert:hover {\n",
              "      background-color: #434B5C;\n",
              "      box-shadow: 0px 1px 3px 1px rgba(0, 0, 0, 0.15);\n",
              "      filter: drop-shadow(0px 1px 2px rgba(0, 0, 0, 0.3));\n",
              "      fill: #FFFFFF;\n",
              "    }\n",
              "  </style>\n",
              "\n",
              "      <script>\n",
              "        const buttonEl =\n",
              "          document.querySelector('#df-190c8b57-b669-4565-a89a-2833dabb5c5d button.colab-df-convert');\n",
              "        buttonEl.style.display =\n",
              "          google.colab.kernel.accessAllowed ? 'block' : 'none';\n",
              "\n",
              "        async function convertToInteractive(key) {\n",
              "          const element = document.querySelector('#df-190c8b57-b669-4565-a89a-2833dabb5c5d');\n",
              "          const dataTable =\n",
              "            await google.colab.kernel.invokeFunction('convertToInteractive',\n",
              "                                                     [key], {});\n",
              "          if (!dataTable) return;\n",
              "\n",
              "          const docLinkHtml = 'Like what you see? Visit the ' +\n",
              "            '<a target=\"_blank\" href=https://colab.research.google.com/notebooks/data_table.ipynb>data table notebook</a>'\n",
              "            + ' to learn more about interactive tables.';\n",
              "          element.innerHTML = '';\n",
              "          dataTable['output_type'] = 'display_data';\n",
              "          await google.colab.output.renderOutput(dataTable, element);\n",
              "          const docLink = document.createElement('div');\n",
              "          docLink.innerHTML = docLinkHtml;\n",
              "          element.appendChild(docLink);\n",
              "        }\n",
              "      </script>\n",
              "    </div>\n",
              "  </div>\n",
              "  "
            ]
          },
          "metadata": {},
          "execution_count": 155
        }
      ]
    },
    {
      "cell_type": "code",
      "source": [
        "df_exchanges[df_exchanges['Country']=='India']"
      ],
      "metadata": {
        "colab": {
          "base_uri": "https://localhost:8080/"
        },
        "id": "ta8Jf9tApBtV",
        "outputId": "a5eca0c1-33fa-40f1-8d38-d19135160f97"
      },
      "execution_count": null,
      "outputs": [
        {
          "output_type": "stream",
          "name": "stderr",
          "text": [
            "ERROR:root:Internal Python error in the inspect module.\n",
            "Below is the traceback from this internal error.\n",
            "\n",
            "ERROR:root:Internal Python error in the inspect module.\n",
            "Below is the traceback from this internal error.\n",
            "\n",
            "ERROR:root:Internal Python error in the inspect module.\n",
            "Below is the traceback from this internal error.\n",
            "\n"
          ]
        },
        {
          "output_type": "stream",
          "name": "stdout",
          "text": [
            "Traceback (most recent call last):\n",
            "  File \"/usr/local/lib/python3.9/dist-packages/pandas/core/indexes/base.py\", line 3629, in get_loc\n",
            "    this = self.unique()\n",
            "KeyError: 'country'\n",
            "\n",
            "The above exception was the direct cause of the following exception:\n",
            "\n",
            "Traceback (most recent call last):\n",
            "  File \"/usr/local/lib/python3.9/dist-packages/IPython/core/interactiveshell.py\", line 3326, in run_code\n",
            "    exec(code_obj, self.user_global_ns, self.user_ns)\n",
            "KeyError: 'country'\n",
            "\n",
            "During handling of the above exception, another exception occurred:\n",
            "\n",
            "Traceback (most recent call last):\n",
            "  File \"/usr/local/lib/python3.9/dist-packages/IPython/core/interactiveshell.py\", line 2040, in showtraceback\n",
            "    stb = value._render_traceback_()\n",
            "AttributeError: 'KeyError' object has no attribute '_render_traceback_'\n",
            "\n",
            "During handling of the above exception, another exception occurred:\n",
            "\n",
            "Traceback (most recent call last):\n",
            "  File \"/usr/local/lib/python3.9/dist-packages/IPython/core/ultratb.py\", line 1101, in get_records\n",
            "    return _fixed_getinnerframes(etb, number_of_lines_of_context, tb_offset)\n",
            "AssertionError\n",
            "Traceback (most recent call last):\n",
            "  File \"/usr/local/lib/python3.9/dist-packages/pandas/core/indexes/base.py\", line 3629, in get_loc\n",
            "    this = self.unique()\n",
            "KeyError: 'country'\n",
            "\n",
            "The above exception was the direct cause of the following exception:\n",
            "\n",
            "Traceback (most recent call last):\n",
            "  File \"/usr/local/lib/python3.9/dist-packages/IPython/core/interactiveshell.py\", line 3326, in run_code\n",
            "    exec(code_obj, self.user_global_ns, self.user_ns)\n",
            "KeyError: 'country'\n",
            "\n",
            "During handling of the above exception, another exception occurred:\n",
            "\n",
            "Traceback (most recent call last):\n",
            "  File \"/usr/local/lib/python3.9/dist-packages/IPython/core/interactiveshell.py\", line 2040, in showtraceback\n",
            "    stb = value._render_traceback_()\n",
            "AttributeError: 'KeyError' object has no attribute '_render_traceback_'\n",
            "\n",
            "During handling of the above exception, another exception occurred:\n",
            "\n",
            "Traceback (most recent call last):\n",
            "  File \"/usr/local/lib/python3.9/dist-packages/IPython/core/interactiveshell.py\", line 3249, in run_ast_nodes\n",
            "    if (await self.run_code(code, result,  async_=asy)):\n",
            "TypeError: can only concatenate str (not \"list\") to str\n",
            "\n",
            "During handling of the above exception, another exception occurred:\n",
            "\n",
            "Traceback (most recent call last):\n",
            "  File \"/usr/local/lib/python3.9/dist-packages/IPython/core/interactiveshell.py\", line 2040, in showtraceback\n",
            "    stb = value._render_traceback_()\n",
            "AttributeError: 'TypeError' object has no attribute '_render_traceback_'\n",
            "\n",
            "During handling of the above exception, another exception occurred:\n",
            "\n",
            "Traceback (most recent call last):\n",
            "  File \"/usr/local/lib/python3.9/dist-packages/IPython/core/ultratb.py\", line 1101, in get_records\n",
            "    return _fixed_getinnerframes(etb, number_of_lines_of_context, tb_offset)\n",
            "AssertionError\n",
            "Traceback (most recent call last):\n",
            "  File \"/usr/local/lib/python3.9/dist-packages/pandas/core/indexes/base.py\", line 3629, in get_loc\n",
            "    this = self.unique()\n",
            "KeyError: 'country'\n",
            "\n",
            "The above exception was the direct cause of the following exception:\n",
            "\n",
            "Traceback (most recent call last):\n",
            "  File \"/usr/local/lib/python3.9/dist-packages/IPython/core/interactiveshell.py\", line 3326, in run_code\n",
            "    exec(code_obj, self.user_global_ns, self.user_ns)\n",
            "KeyError: 'country'\n",
            "\n",
            "During handling of the above exception, another exception occurred:\n",
            "\n",
            "Traceback (most recent call last):\n",
            "  File \"/usr/local/lib/python3.9/dist-packages/IPython/core/interactiveshell.py\", line 2040, in showtraceback\n",
            "    stb = value._render_traceback_()\n",
            "AttributeError: 'KeyError' object has no attribute '_render_traceback_'\n",
            "\n",
            "During handling of the above exception, another exception occurred:\n",
            "\n",
            "Traceback (most recent call last):\n",
            "  File \"/usr/local/lib/python3.9/dist-packages/IPython/core/interactiveshell.py\", line 3249, in run_ast_nodes\n",
            "    if (await self.run_code(code, result,  async_=asy)):\n",
            "TypeError: can only concatenate str (not \"list\") to str\n",
            "\n",
            "During handling of the above exception, another exception occurred:\n",
            "\n",
            "Traceback (most recent call last):\n",
            "  File \"/usr/local/lib/python3.9/dist-packages/IPython/core/interactiveshell.py\", line 2040, in showtraceback\n",
            "    stb = value._render_traceback_()\n",
            "AttributeError: 'TypeError' object has no attribute '_render_traceback_'\n",
            "\n",
            "During handling of the above exception, another exception occurred:\n",
            "\n",
            "Traceback (most recent call last):\n",
            "  File \"/usr/local/lib/python3.9/dist-packages/IPython/core/interactiveshell.py\", line 2881, in _run_cell\n",
            "    return runner(coro)\n",
            "TypeError: can only concatenate str (not \"list\") to str\n",
            "\n",
            "During handling of the above exception, another exception occurred:\n",
            "\n",
            "Traceback (most recent call last):\n",
            "  File \"/usr/local/lib/python3.9/dist-packages/IPython/core/interactiveshell.py\", line 2040, in showtraceback\n",
            "    stb = value._render_traceback_()\n",
            "AttributeError: 'TypeError' object has no attribute '_render_traceback_'\n",
            "\n",
            "During handling of the above exception, another exception occurred:\n",
            "\n",
            "Traceback (most recent call last):\n",
            "  File \"/usr/local/lib/python3.9/dist-packages/IPython/core/ultratb.py\", line 1101, in get_records\n",
            "    return _fixed_getinnerframes(etb, number_of_lines_of_context, tb_offset)\n",
            "AssertionError\n"
          ]
        }
      ]
    },
    {
      "cell_type": "code",
      "source": [
        "df_exchanges[df_exchanges['Country']=='India']"
      ],
      "metadata": {
        "colab": {
          "base_uri": "https://localhost:8080/",
          "height": 112
        },
        "id": "efLsXeHIplk9",
        "outputId": "b5dc1154-02ed-42b4-829d-e3e46627ebf2"
      },
      "execution_count": null,
      "outputs": [
        {
          "output_type": "execute_result",
          "data": {
            "text/plain": [
              "               Name Code OperatingMIC Country Currency CountryISO2 CountryISO3\n",
              "38  Bombay Exchange  BSE         XBOM   India      INR          IN         IND\n",
              "46      NSE (India)  NSE         XNSE   India      INR          IN         IND"
            ],
            "text/html": [
              "\n",
              "  <div id=\"df-bc804f7c-c9df-47b0-9a84-aca507f88473\">\n",
              "    <div class=\"colab-df-container\">\n",
              "      <div>\n",
              "<style scoped>\n",
              "    .dataframe tbody tr th:only-of-type {\n",
              "        vertical-align: middle;\n",
              "    }\n",
              "\n",
              "    .dataframe tbody tr th {\n",
              "        vertical-align: top;\n",
              "    }\n",
              "\n",
              "    .dataframe thead th {\n",
              "        text-align: right;\n",
              "    }\n",
              "</style>\n",
              "<table border=\"1\" class=\"dataframe\">\n",
              "  <thead>\n",
              "    <tr style=\"text-align: right;\">\n",
              "      <th></th>\n",
              "      <th>Name</th>\n",
              "      <th>Code</th>\n",
              "      <th>OperatingMIC</th>\n",
              "      <th>Country</th>\n",
              "      <th>Currency</th>\n",
              "      <th>CountryISO2</th>\n",
              "      <th>CountryISO3</th>\n",
              "    </tr>\n",
              "  </thead>\n",
              "  <tbody>\n",
              "    <tr>\n",
              "      <th>38</th>\n",
              "      <td>Bombay Exchange</td>\n",
              "      <td>BSE</td>\n",
              "      <td>XBOM</td>\n",
              "      <td>India</td>\n",
              "      <td>INR</td>\n",
              "      <td>IN</td>\n",
              "      <td>IND</td>\n",
              "    </tr>\n",
              "    <tr>\n",
              "      <th>46</th>\n",
              "      <td>NSE (India)</td>\n",
              "      <td>NSE</td>\n",
              "      <td>XNSE</td>\n",
              "      <td>India</td>\n",
              "      <td>INR</td>\n",
              "      <td>IN</td>\n",
              "      <td>IND</td>\n",
              "    </tr>\n",
              "  </tbody>\n",
              "</table>\n",
              "</div>\n",
              "      <button class=\"colab-df-convert\" onclick=\"convertToInteractive('df-bc804f7c-c9df-47b0-9a84-aca507f88473')\"\n",
              "              title=\"Convert this dataframe to an interactive table.\"\n",
              "              style=\"display:none;\">\n",
              "        \n",
              "  <svg xmlns=\"http://www.w3.org/2000/svg\" height=\"24px\"viewBox=\"0 0 24 24\"\n",
              "       width=\"24px\">\n",
              "    <path d=\"M0 0h24v24H0V0z\" fill=\"none\"/>\n",
              "    <path d=\"M18.56 5.44l.94 2.06.94-2.06 2.06-.94-2.06-.94-.94-2.06-.94 2.06-2.06.94zm-11 1L8.5 8.5l.94-2.06 2.06-.94-2.06-.94L8.5 2.5l-.94 2.06-2.06.94zm10 10l.94 2.06.94-2.06 2.06-.94-2.06-.94-.94-2.06-.94 2.06-2.06.94z\"/><path d=\"M17.41 7.96l-1.37-1.37c-.4-.4-.92-.59-1.43-.59-.52 0-1.04.2-1.43.59L10.3 9.45l-7.72 7.72c-.78.78-.78 2.05 0 2.83L4 21.41c.39.39.9.59 1.41.59.51 0 1.02-.2 1.41-.59l7.78-7.78 2.81-2.81c.8-.78.8-2.07 0-2.86zM5.41 20L4 18.59l7.72-7.72 1.47 1.35L5.41 20z\"/>\n",
              "  </svg>\n",
              "      </button>\n",
              "      \n",
              "  <style>\n",
              "    .colab-df-container {\n",
              "      display:flex;\n",
              "      flex-wrap:wrap;\n",
              "      gap: 12px;\n",
              "    }\n",
              "\n",
              "    .colab-df-convert {\n",
              "      background-color: #E8F0FE;\n",
              "      border: none;\n",
              "      border-radius: 50%;\n",
              "      cursor: pointer;\n",
              "      display: none;\n",
              "      fill: #1967D2;\n",
              "      height: 32px;\n",
              "      padding: 0 0 0 0;\n",
              "      width: 32px;\n",
              "    }\n",
              "\n",
              "    .colab-df-convert:hover {\n",
              "      background-color: #E2EBFA;\n",
              "      box-shadow: 0px 1px 2px rgba(60, 64, 67, 0.3), 0px 1px 3px 1px rgba(60, 64, 67, 0.15);\n",
              "      fill: #174EA6;\n",
              "    }\n",
              "\n",
              "    [theme=dark] .colab-df-convert {\n",
              "      background-color: #3B4455;\n",
              "      fill: #D2E3FC;\n",
              "    }\n",
              "\n",
              "    [theme=dark] .colab-df-convert:hover {\n",
              "      background-color: #434B5C;\n",
              "      box-shadow: 0px 1px 3px 1px rgba(0, 0, 0, 0.15);\n",
              "      filter: drop-shadow(0px 1px 2px rgba(0, 0, 0, 0.3));\n",
              "      fill: #FFFFFF;\n",
              "    }\n",
              "  </style>\n",
              "\n",
              "      <script>\n",
              "        const buttonEl =\n",
              "          document.querySelector('#df-bc804f7c-c9df-47b0-9a84-aca507f88473 button.colab-df-convert');\n",
              "        buttonEl.style.display =\n",
              "          google.colab.kernel.accessAllowed ? 'block' : 'none';\n",
              "\n",
              "        async function convertToInteractive(key) {\n",
              "          const element = document.querySelector('#df-bc804f7c-c9df-47b0-9a84-aca507f88473');\n",
              "          const dataTable =\n",
              "            await google.colab.kernel.invokeFunction('convertToInteractive',\n",
              "                                                     [key], {});\n",
              "          if (!dataTable) return;\n",
              "\n",
              "          const docLinkHtml = 'Like what you see? Visit the ' +\n",
              "            '<a target=\"_blank\" href=https://colab.research.google.com/notebooks/data_table.ipynb>data table notebook</a>'\n",
              "            + ' to learn more about interactive tables.';\n",
              "          element.innerHTML = '';\n",
              "          dataTable['output_type'] = 'display_data';\n",
              "          await google.colab.output.renderOutput(dataTable, element);\n",
              "          const docLink = document.createElement('div');\n",
              "          docLink.innerHTML = docLinkHtml;\n",
              "          element.appendChild(docLink);\n",
              "        }\n",
              "      </script>\n",
              "    </div>\n",
              "  </div>\n",
              "  "
            ]
          },
          "metadata": {},
          "execution_count": 157
        }
      ]
    },
    {
      "cell_type": "code",
      "source": [
        "df_symbols = api.get_exchange_symbols('NSE')"
      ],
      "metadata": {
        "id": "EjwK2KAFqKu9"
      },
      "execution_count": null,
      "outputs": []
    },
    {
      "cell_type": "code",
      "source": [
        "df_symbols[df_symbols['Code']=='TATAMOTORS']"
      ],
      "metadata": {
        "colab": {
          "base_uri": "https://localhost:8080/",
          "height": 81
        },
        "id": "WKjsBpXTqXyw",
        "outputId": "e695ac81-3657-4fe9-fe16-f0af27b9b7c7"
      },
      "execution_count": null,
      "outputs": [
        {
          "output_type": "execute_result",
          "data": {
            "text/plain": [
              "            Code                 Name Country Exchange Currency          Type  \\\n",
              "1878  TATAMOTORS  Tata Motors Limited   India      NSE      INR  Common Stock   \n",
              "\n",
              "              Isin  \n",
              "1878  INE155A01022  "
            ],
            "text/html": [
              "\n",
              "  <div id=\"df-67078ae0-abed-4ead-b212-8a409e387d07\">\n",
              "    <div class=\"colab-df-container\">\n",
              "      <div>\n",
              "<style scoped>\n",
              "    .dataframe tbody tr th:only-of-type {\n",
              "        vertical-align: middle;\n",
              "    }\n",
              "\n",
              "    .dataframe tbody tr th {\n",
              "        vertical-align: top;\n",
              "    }\n",
              "\n",
              "    .dataframe thead th {\n",
              "        text-align: right;\n",
              "    }\n",
              "</style>\n",
              "<table border=\"1\" class=\"dataframe\">\n",
              "  <thead>\n",
              "    <tr style=\"text-align: right;\">\n",
              "      <th></th>\n",
              "      <th>Code</th>\n",
              "      <th>Name</th>\n",
              "      <th>Country</th>\n",
              "      <th>Exchange</th>\n",
              "      <th>Currency</th>\n",
              "      <th>Type</th>\n",
              "      <th>Isin</th>\n",
              "    </tr>\n",
              "  </thead>\n",
              "  <tbody>\n",
              "    <tr>\n",
              "      <th>1878</th>\n",
              "      <td>TATAMOTORS</td>\n",
              "      <td>Tata Motors Limited</td>\n",
              "      <td>India</td>\n",
              "      <td>NSE</td>\n",
              "      <td>INR</td>\n",
              "      <td>Common Stock</td>\n",
              "      <td>INE155A01022</td>\n",
              "    </tr>\n",
              "  </tbody>\n",
              "</table>\n",
              "</div>\n",
              "      <button class=\"colab-df-convert\" onclick=\"convertToInteractive('df-67078ae0-abed-4ead-b212-8a409e387d07')\"\n",
              "              title=\"Convert this dataframe to an interactive table.\"\n",
              "              style=\"display:none;\">\n",
              "        \n",
              "  <svg xmlns=\"http://www.w3.org/2000/svg\" height=\"24px\"viewBox=\"0 0 24 24\"\n",
              "       width=\"24px\">\n",
              "    <path d=\"M0 0h24v24H0V0z\" fill=\"none\"/>\n",
              "    <path d=\"M18.56 5.44l.94 2.06.94-2.06 2.06-.94-2.06-.94-.94-2.06-.94 2.06-2.06.94zm-11 1L8.5 8.5l.94-2.06 2.06-.94-2.06-.94L8.5 2.5l-.94 2.06-2.06.94zm10 10l.94 2.06.94-2.06 2.06-.94-2.06-.94-.94-2.06-.94 2.06-2.06.94z\"/><path d=\"M17.41 7.96l-1.37-1.37c-.4-.4-.92-.59-1.43-.59-.52 0-1.04.2-1.43.59L10.3 9.45l-7.72 7.72c-.78.78-.78 2.05 0 2.83L4 21.41c.39.39.9.59 1.41.59.51 0 1.02-.2 1.41-.59l7.78-7.78 2.81-2.81c.8-.78.8-2.07 0-2.86zM5.41 20L4 18.59l7.72-7.72 1.47 1.35L5.41 20z\"/>\n",
              "  </svg>\n",
              "      </button>\n",
              "      \n",
              "  <style>\n",
              "    .colab-df-container {\n",
              "      display:flex;\n",
              "      flex-wrap:wrap;\n",
              "      gap: 12px;\n",
              "    }\n",
              "\n",
              "    .colab-df-convert {\n",
              "      background-color: #E8F0FE;\n",
              "      border: none;\n",
              "      border-radius: 50%;\n",
              "      cursor: pointer;\n",
              "      display: none;\n",
              "      fill: #1967D2;\n",
              "      height: 32px;\n",
              "      padding: 0 0 0 0;\n",
              "      width: 32px;\n",
              "    }\n",
              "\n",
              "    .colab-df-convert:hover {\n",
              "      background-color: #E2EBFA;\n",
              "      box-shadow: 0px 1px 2px rgba(60, 64, 67, 0.3), 0px 1px 3px 1px rgba(60, 64, 67, 0.15);\n",
              "      fill: #174EA6;\n",
              "    }\n",
              "\n",
              "    [theme=dark] .colab-df-convert {\n",
              "      background-color: #3B4455;\n",
              "      fill: #D2E3FC;\n",
              "    }\n",
              "\n",
              "    [theme=dark] .colab-df-convert:hover {\n",
              "      background-color: #434B5C;\n",
              "      box-shadow: 0px 1px 3px 1px rgba(0, 0, 0, 0.15);\n",
              "      filter: drop-shadow(0px 1px 2px rgba(0, 0, 0, 0.3));\n",
              "      fill: #FFFFFF;\n",
              "    }\n",
              "  </style>\n",
              "\n",
              "      <script>\n",
              "        const buttonEl =\n",
              "          document.querySelector('#df-67078ae0-abed-4ead-b212-8a409e387d07 button.colab-df-convert');\n",
              "        buttonEl.style.display =\n",
              "          google.colab.kernel.accessAllowed ? 'block' : 'none';\n",
              "\n",
              "        async function convertToInteractive(key) {\n",
              "          const element = document.querySelector('#df-67078ae0-abed-4ead-b212-8a409e387d07');\n",
              "          const dataTable =\n",
              "            await google.colab.kernel.invokeFunction('convertToInteractive',\n",
              "                                                     [key], {});\n",
              "          if (!dataTable) return;\n",
              "\n",
              "          const docLinkHtml = 'Like what you see? Visit the ' +\n",
              "            '<a target=\"_blank\" href=https://colab.research.google.com/notebooks/data_table.ipynb>data table notebook</a>'\n",
              "            + ' to learn more about interactive tables.';\n",
              "          element.innerHTML = '';\n",
              "          dataTable['output_type'] = 'display_data';\n",
              "          await google.colab.output.renderOutput(dataTable, element);\n",
              "          const docLink = document.createElement('div');\n",
              "          docLink.innerHTML = docLinkHtml;\n",
              "          element.appendChild(docLink);\n",
              "        }\n",
              "      </script>\n",
              "    </div>\n",
              "  </div>\n",
              "  "
            ]
          },
          "metadata": {},
          "execution_count": 162
        }
      ]
    },
    {
      "cell_type": "code",
      "source": [
        "df_1m = api.get_historical_data('TATAMOTORS.NSE','15m')"
      ],
      "metadata": {
        "colab": {
          "base_uri": "https://localhost:8080/",
          "height": 34
        },
        "id": "LcOf1rboq2kK",
        "outputId": "e7eddb25-806c-48a2-888b-366b96ada4c6"
      },
      "execution_count": null,
      "outputs": [
        {
          "output_type": "display_data",
          "data": {
            "text/plain": [
              "\u001b[2;36m[12:10:25]\u001b[0m\u001b[2;36m \u001b[0m\u001b[32m'15m'\u001b[0m is not a valid Interval                                                           \u001b]8;id=274660;file:///usr/local/lib/python3.9/dist-packages/eodhd/apiclient.py\u001b\\\u001b[2mapiclient.py\u001b[0m\u001b]8;;\u001b\\\u001b[2m:\u001b[0m\u001b]8;id=553045;file:///usr/local/lib/python3.9/dist-packages/eodhd/apiclient.py#177\u001b\\\u001b[2m177\u001b[0m\u001b]8;;\u001b\\\n"
            ],
            "text/html": [
              "<pre style=\"white-space:pre;overflow-x:auto;line-height:normal;font-family:Menlo,'DejaVu Sans Mono',consolas,'Courier New',monospace\"><span style=\"color: #7fbfbf; text-decoration-color: #7fbfbf\">[12:10:25] </span><span style=\"color: #008000; text-decoration-color: #008000\">'15m'</span> is not a valid Interval                                                           <a href=\"file:///usr/local/lib/python3.9/dist-packages/eodhd/apiclient.py\" target=\"_blank\"><span style=\"color: #7f7f7f; text-decoration-color: #7f7f7f\">apiclient.py</span></a><span style=\"color: #7f7f7f; text-decoration-color: #7f7f7f\">:</span><a href=\"file:///usr/local/lib/python3.9/dist-packages/eodhd/apiclient.py#177\" target=\"_blank\"><span style=\"color: #7f7f7f; text-decoration-color: #7f7f7f\">177</span></a>\n",
              "</pre>\n"
            ]
          },
          "metadata": {}
        }
      ]
    },
    {
      "cell_type": "code",
      "source": [
        "df_1m"
      ],
      "metadata": {
        "colab": {
          "base_uri": "https://localhost:8080/",
          "height": 455
        },
        "id": "lxR0TLUarDSr",
        "outputId": "c7bfc215-6803-4a31-97b3-917ae68c3ac3"
      },
      "execution_count": null,
      "outputs": [
        {
          "output_type": "execute_result",
          "data": {
            "text/plain": [
              "                    symbol interval    open    high     low   close  \\\n",
              "date                                                                  \n",
              "2022-05-30  TATAMOTORS.NSE       1d  437.00  445.20  436.00  442.40   \n",
              "2022-05-31  TATAMOTORS.NSE       1d  443.95  449.50  440.40  443.55   \n",
              "2022-06-01  TATAMOTORS.NSE       1d  445.10  446.00  439.60  444.60   \n",
              "2022-06-02  TATAMOTORS.NSE       1d  445.00  445.60  435.65  439.15   \n",
              "2022-06-03  TATAMOTORS.NSE       1d  444.90  445.05  430.50  431.90   \n",
              "...                    ...      ...     ...     ...     ...     ...   \n",
              "2023-03-20  TATAMOTORS.NSE       1d  415.60  416.95  405.50  410.75   \n",
              "2023-03-21  TATAMOTORS.NSE       1d  412.85  413.90  407.70  412.55   \n",
              "2023-03-22  TATAMOTORS.NSE       1d  416.00  418.40  413.75  416.10   \n",
              "2023-03-23  TATAMOTORS.NSE       1d  416.00  422.50  416.00  419.15   \n",
              "2023-03-24  TATAMOTORS.NSE       1d  419.00  420.55  414.80  416.50   \n",
              "\n",
              "            adjusted_close    volume  \n",
              "date                                  \n",
              "2022-05-30          442.40  18500266  \n",
              "2022-05-31          443.55  22308219  \n",
              "2022-06-01          444.60  11930669  \n",
              "2022-06-02          439.15  12742438  \n",
              "2022-06-03          431.90  12780122  \n",
              "...                    ...       ...  \n",
              "2023-03-20          410.75  10075022  \n",
              "2023-03-21          412.55   7391950  \n",
              "2023-03-22          416.10   5728054  \n",
              "2023-03-23          419.15   9817460  \n",
              "2023-03-24          416.50   6876316  \n",
              "\n",
              "[207 rows x 8 columns]"
            ],
            "text/html": [
              "\n",
              "  <div id=\"df-d2cd547d-26a1-4cda-ba86-7efa2377b163\">\n",
              "    <div class=\"colab-df-container\">\n",
              "      <div>\n",
              "<style scoped>\n",
              "    .dataframe tbody tr th:only-of-type {\n",
              "        vertical-align: middle;\n",
              "    }\n",
              "\n",
              "    .dataframe tbody tr th {\n",
              "        vertical-align: top;\n",
              "    }\n",
              "\n",
              "    .dataframe thead th {\n",
              "        text-align: right;\n",
              "    }\n",
              "</style>\n",
              "<table border=\"1\" class=\"dataframe\">\n",
              "  <thead>\n",
              "    <tr style=\"text-align: right;\">\n",
              "      <th></th>\n",
              "      <th>symbol</th>\n",
              "      <th>interval</th>\n",
              "      <th>open</th>\n",
              "      <th>high</th>\n",
              "      <th>low</th>\n",
              "      <th>close</th>\n",
              "      <th>adjusted_close</th>\n",
              "      <th>volume</th>\n",
              "    </tr>\n",
              "    <tr>\n",
              "      <th>date</th>\n",
              "      <th></th>\n",
              "      <th></th>\n",
              "      <th></th>\n",
              "      <th></th>\n",
              "      <th></th>\n",
              "      <th></th>\n",
              "      <th></th>\n",
              "      <th></th>\n",
              "    </tr>\n",
              "  </thead>\n",
              "  <tbody>\n",
              "    <tr>\n",
              "      <th>2022-05-30</th>\n",
              "      <td>TATAMOTORS.NSE</td>\n",
              "      <td>1d</td>\n",
              "      <td>437.00</td>\n",
              "      <td>445.20</td>\n",
              "      <td>436.00</td>\n",
              "      <td>442.40</td>\n",
              "      <td>442.40</td>\n",
              "      <td>18500266</td>\n",
              "    </tr>\n",
              "    <tr>\n",
              "      <th>2022-05-31</th>\n",
              "      <td>TATAMOTORS.NSE</td>\n",
              "      <td>1d</td>\n",
              "      <td>443.95</td>\n",
              "      <td>449.50</td>\n",
              "      <td>440.40</td>\n",
              "      <td>443.55</td>\n",
              "      <td>443.55</td>\n",
              "      <td>22308219</td>\n",
              "    </tr>\n",
              "    <tr>\n",
              "      <th>2022-06-01</th>\n",
              "      <td>TATAMOTORS.NSE</td>\n",
              "      <td>1d</td>\n",
              "      <td>445.10</td>\n",
              "      <td>446.00</td>\n",
              "      <td>439.60</td>\n",
              "      <td>444.60</td>\n",
              "      <td>444.60</td>\n",
              "      <td>11930669</td>\n",
              "    </tr>\n",
              "    <tr>\n",
              "      <th>2022-06-02</th>\n",
              "      <td>TATAMOTORS.NSE</td>\n",
              "      <td>1d</td>\n",
              "      <td>445.00</td>\n",
              "      <td>445.60</td>\n",
              "      <td>435.65</td>\n",
              "      <td>439.15</td>\n",
              "      <td>439.15</td>\n",
              "      <td>12742438</td>\n",
              "    </tr>\n",
              "    <tr>\n",
              "      <th>2022-06-03</th>\n",
              "      <td>TATAMOTORS.NSE</td>\n",
              "      <td>1d</td>\n",
              "      <td>444.90</td>\n",
              "      <td>445.05</td>\n",
              "      <td>430.50</td>\n",
              "      <td>431.90</td>\n",
              "      <td>431.90</td>\n",
              "      <td>12780122</td>\n",
              "    </tr>\n",
              "    <tr>\n",
              "      <th>...</th>\n",
              "      <td>...</td>\n",
              "      <td>...</td>\n",
              "      <td>...</td>\n",
              "      <td>...</td>\n",
              "      <td>...</td>\n",
              "      <td>...</td>\n",
              "      <td>...</td>\n",
              "      <td>...</td>\n",
              "    </tr>\n",
              "    <tr>\n",
              "      <th>2023-03-20</th>\n",
              "      <td>TATAMOTORS.NSE</td>\n",
              "      <td>1d</td>\n",
              "      <td>415.60</td>\n",
              "      <td>416.95</td>\n",
              "      <td>405.50</td>\n",
              "      <td>410.75</td>\n",
              "      <td>410.75</td>\n",
              "      <td>10075022</td>\n",
              "    </tr>\n",
              "    <tr>\n",
              "      <th>2023-03-21</th>\n",
              "      <td>TATAMOTORS.NSE</td>\n",
              "      <td>1d</td>\n",
              "      <td>412.85</td>\n",
              "      <td>413.90</td>\n",
              "      <td>407.70</td>\n",
              "      <td>412.55</td>\n",
              "      <td>412.55</td>\n",
              "      <td>7391950</td>\n",
              "    </tr>\n",
              "    <tr>\n",
              "      <th>2023-03-22</th>\n",
              "      <td>TATAMOTORS.NSE</td>\n",
              "      <td>1d</td>\n",
              "      <td>416.00</td>\n",
              "      <td>418.40</td>\n",
              "      <td>413.75</td>\n",
              "      <td>416.10</td>\n",
              "      <td>416.10</td>\n",
              "      <td>5728054</td>\n",
              "    </tr>\n",
              "    <tr>\n",
              "      <th>2023-03-23</th>\n",
              "      <td>TATAMOTORS.NSE</td>\n",
              "      <td>1d</td>\n",
              "      <td>416.00</td>\n",
              "      <td>422.50</td>\n",
              "      <td>416.00</td>\n",
              "      <td>419.15</td>\n",
              "      <td>419.15</td>\n",
              "      <td>9817460</td>\n",
              "    </tr>\n",
              "    <tr>\n",
              "      <th>2023-03-24</th>\n",
              "      <td>TATAMOTORS.NSE</td>\n",
              "      <td>1d</td>\n",
              "      <td>419.00</td>\n",
              "      <td>420.55</td>\n",
              "      <td>414.80</td>\n",
              "      <td>416.50</td>\n",
              "      <td>416.50</td>\n",
              "      <td>6876316</td>\n",
              "    </tr>\n",
              "  </tbody>\n",
              "</table>\n",
              "<p>207 rows × 8 columns</p>\n",
              "</div>\n",
              "      <button class=\"colab-df-convert\" onclick=\"convertToInteractive('df-d2cd547d-26a1-4cda-ba86-7efa2377b163')\"\n",
              "              title=\"Convert this dataframe to an interactive table.\"\n",
              "              style=\"display:none;\">\n",
              "        \n",
              "  <svg xmlns=\"http://www.w3.org/2000/svg\" height=\"24px\"viewBox=\"0 0 24 24\"\n",
              "       width=\"24px\">\n",
              "    <path d=\"M0 0h24v24H0V0z\" fill=\"none\"/>\n",
              "    <path d=\"M18.56 5.44l.94 2.06.94-2.06 2.06-.94-2.06-.94-.94-2.06-.94 2.06-2.06.94zm-11 1L8.5 8.5l.94-2.06 2.06-.94-2.06-.94L8.5 2.5l-.94 2.06-2.06.94zm10 10l.94 2.06.94-2.06 2.06-.94-2.06-.94-.94-2.06-.94 2.06-2.06.94z\"/><path d=\"M17.41 7.96l-1.37-1.37c-.4-.4-.92-.59-1.43-.59-.52 0-1.04.2-1.43.59L10.3 9.45l-7.72 7.72c-.78.78-.78 2.05 0 2.83L4 21.41c.39.39.9.59 1.41.59.51 0 1.02-.2 1.41-.59l7.78-7.78 2.81-2.81c.8-.78.8-2.07 0-2.86zM5.41 20L4 18.59l7.72-7.72 1.47 1.35L5.41 20z\"/>\n",
              "  </svg>\n",
              "      </button>\n",
              "      \n",
              "  <style>\n",
              "    .colab-df-container {\n",
              "      display:flex;\n",
              "      flex-wrap:wrap;\n",
              "      gap: 12px;\n",
              "    }\n",
              "\n",
              "    .colab-df-convert {\n",
              "      background-color: #E8F0FE;\n",
              "      border: none;\n",
              "      border-radius: 50%;\n",
              "      cursor: pointer;\n",
              "      display: none;\n",
              "      fill: #1967D2;\n",
              "      height: 32px;\n",
              "      padding: 0 0 0 0;\n",
              "      width: 32px;\n",
              "    }\n",
              "\n",
              "    .colab-df-convert:hover {\n",
              "      background-color: #E2EBFA;\n",
              "      box-shadow: 0px 1px 2px rgba(60, 64, 67, 0.3), 0px 1px 3px 1px rgba(60, 64, 67, 0.15);\n",
              "      fill: #174EA6;\n",
              "    }\n",
              "\n",
              "    [theme=dark] .colab-df-convert {\n",
              "      background-color: #3B4455;\n",
              "      fill: #D2E3FC;\n",
              "    }\n",
              "\n",
              "    [theme=dark] .colab-df-convert:hover {\n",
              "      background-color: #434B5C;\n",
              "      box-shadow: 0px 1px 3px 1px rgba(0, 0, 0, 0.15);\n",
              "      filter: drop-shadow(0px 1px 2px rgba(0, 0, 0, 0.3));\n",
              "      fill: #FFFFFF;\n",
              "    }\n",
              "  </style>\n",
              "\n",
              "      <script>\n",
              "        const buttonEl =\n",
              "          document.querySelector('#df-d2cd547d-26a1-4cda-ba86-7efa2377b163 button.colab-df-convert');\n",
              "        buttonEl.style.display =\n",
              "          google.colab.kernel.accessAllowed ? 'block' : 'none';\n",
              "\n",
              "        async function convertToInteractive(key) {\n",
              "          const element = document.querySelector('#df-d2cd547d-26a1-4cda-ba86-7efa2377b163');\n",
              "          const dataTable =\n",
              "            await google.colab.kernel.invokeFunction('convertToInteractive',\n",
              "                                                     [key], {});\n",
              "          if (!dataTable) return;\n",
              "\n",
              "          const docLinkHtml = 'Like what you see? Visit the ' +\n",
              "            '<a target=\"_blank\" href=https://colab.research.google.com/notebooks/data_table.ipynb>data table notebook</a>'\n",
              "            + ' to learn more about interactive tables.';\n",
              "          element.innerHTML = '';\n",
              "          dataTable['output_type'] = 'display_data';\n",
              "          await google.colab.output.renderOutput(dataTable, element);\n",
              "          const docLink = document.createElement('div');\n",
              "          docLink.innerHTML = docLinkHtml;\n",
              "          element.appendChild(docLink);\n",
              "        }\n",
              "      </script>\n",
              "    </div>\n",
              "  </div>\n",
              "  "
            ]
          },
          "metadata": {},
          "execution_count": 166
        }
      ]
    },
    {
      "cell_type": "code",
      "source": [
        "!git clone https://github.com/meet-seth/Algo_Trading.git\n",
        "!python3 -m pip install yfinance"
      ],
      "metadata": {
        "colab": {
          "base_uri": "https://localhost:8080/"
        },
        "id": "hd3sWiDQBDYZ",
        "outputId": "0ca8e1ce-9dcf-4a0a-8a2e-a48b41b3d0c0"
      },
      "execution_count": null,
      "outputs": [
        {
          "output_type": "stream",
          "name": "stdout",
          "text": [
            "Cloning into 'Algo_Trading'...\n",
            "remote: Enumerating objects: 52, done.\u001b[K\n",
            "remote: Counting objects: 100% (52/52), done.\u001b[K\n",
            "remote: Compressing objects: 100% (33/33), done.\u001b[K\n",
            "remote: Total 52 (delta 26), reused 45 (delta 19), pack-reused 0\u001b[K\n",
            "Unpacking objects: 100% (52/52), 472.08 KiB | 3.60 MiB/s, done.\n",
            "Looking in indexes: https://pypi.org/simple, https://us-python.pkg.dev/colab-wheels/public/simple/\n",
            "Requirement already satisfied: yfinance in /usr/local/lib/python3.9/dist-packages (0.2.13)\n",
            "Requirement already satisfied: numpy>=1.16.5 in /usr/local/lib/python3.9/dist-packages (from yfinance) (1.22.4)\n",
            "Requirement already satisfied: frozendict>=2.3.4 in /usr/local/lib/python3.9/dist-packages (from yfinance) (2.3.6)\n",
            "Requirement already satisfied: pandas>=1.3.0 in /usr/local/lib/python3.9/dist-packages (from yfinance) (1.4.4)\n",
            "Requirement already satisfied: beautifulsoup4>=4.11.1 in /usr/local/lib/python3.9/dist-packages (from yfinance) (4.11.2)\n",
            "Requirement already satisfied: multitasking>=0.0.7 in /usr/local/lib/python3.9/dist-packages (from yfinance) (0.0.11)\n",
            "Requirement already satisfied: html5lib>=1.1 in /usr/local/lib/python3.9/dist-packages (from yfinance) (1.1)\n",
            "Requirement already satisfied: lxml>=4.9.1 in /usr/local/lib/python3.9/dist-packages (from yfinance) (4.9.2)\n",
            "Requirement already satisfied: cryptography>=3.3.2 in /usr/local/lib/python3.9/dist-packages (from yfinance) (39.0.2)\n",
            "Requirement already satisfied: appdirs>=1.4.4 in /usr/local/lib/python3.9/dist-packages (from yfinance) (1.4.4)\n",
            "Requirement already satisfied: pytz>=2022.5 in /usr/local/lib/python3.9/dist-packages (from yfinance) (2022.7.1)\n",
            "Requirement already satisfied: requests>=2.26 in /usr/local/lib/python3.9/dist-packages (from yfinance) (2.27.1)\n",
            "Requirement already satisfied: soupsieve>1.2 in /usr/local/lib/python3.9/dist-packages (from beautifulsoup4>=4.11.1->yfinance) (2.4)\n",
            "Requirement already satisfied: cffi>=1.12 in /usr/local/lib/python3.9/dist-packages (from cryptography>=3.3.2->yfinance) (1.15.1)\n",
            "Requirement already satisfied: six>=1.9 in /usr/local/lib/python3.9/dist-packages (from html5lib>=1.1->yfinance) (1.16.0)\n",
            "Requirement already satisfied: webencodings in /usr/local/lib/python3.9/dist-packages (from html5lib>=1.1->yfinance) (0.5.1)\n",
            "Requirement already satisfied: python-dateutil>=2.8.1 in /usr/local/lib/python3.9/dist-packages (from pandas>=1.3.0->yfinance) (2.8.2)\n",
            "Requirement already satisfied: charset-normalizer~=2.0.0 in /usr/local/lib/python3.9/dist-packages (from requests>=2.26->yfinance) (2.0.12)\n",
            "Requirement already satisfied: urllib3<1.27,>=1.21.1 in /usr/local/lib/python3.9/dist-packages (from requests>=2.26->yfinance) (1.26.15)\n",
            "Requirement already satisfied: idna<4,>=2.5 in /usr/local/lib/python3.9/dist-packages (from requests>=2.26->yfinance) (3.4)\n",
            "Requirement already satisfied: certifi>=2017.4.17 in /usr/local/lib/python3.9/dist-packages (from requests>=2.26->yfinance) (2022.12.7)\n",
            "Requirement already satisfied: pycparser in /usr/local/lib/python3.9/dist-packages (from cffi>=1.12->cryptography>=3.3.2->yfinance) (2.21)\n"
          ]
        }
      ]
    },
    {
      "cell_type": "code",
      "source": [
        "import os\n",
        "os.chdir('./Algo_Trading')"
      ],
      "metadata": {
        "id": "enlorY_ek6wc"
      },
      "execution_count": null,
      "outputs": []
    },
    {
      "cell_type": "code",
      "source": [
        "import tensorflow as tf\n",
        "import numpy as np\n",
        "import matplotlib.pyplot as plt\n",
        "import yfinance as yf\n",
        "import pandas as pd\n",
        "from dataset import Stock_Dataset_2 as std2"
      ],
      "metadata": {
        "id": "-5VO08TykWSJ"
      },
      "execution_count": null,
      "outputs": []
    },
    {
      "cell_type": "code",
      "source": [
        "tata_stock = std2(ticker='TATAMOTORS.NS',start='2011-01-01',\n",
        "                  end=pd.Timestamp.today(),interval='1D')\n",
        "tata_ds = tata_stock.create_dataset(qty=5,window=20,horizon=7)"
      ],
      "metadata": {
        "colab": {
          "base_uri": "https://localhost:8080/"
        },
        "id": "b9Cju5NkkWPI",
        "outputId": "756ac8b5-50e4-4a18-a604-dc86e1b8059b"
      },
      "execution_count": null,
      "outputs": [
        {
          "output_type": "stream",
          "name": "stdout",
          "text": [
            "\r[*********************100%***********************]  1 of 1 completed\n"
          ]
        },
        {
          "output_type": "stream",
          "name": "stderr",
          "text": [
            "/content/Algo_Trading/dataset.py:120: SettingWithCopyWarning: \n",
            "A value is trying to be set on a copy of a slice from a DataFrame\n",
            "\n",
            "See the caveats in the documentation: https://pandas.pydata.org/pandas-docs/stable/user_guide/indexing.html#returning-a-view-versus-a-copy\n",
            "  self.data[key_ls].dropna(inplace=True)\n"
          ]
        }
      ]
    },
    {
      "cell_type": "code",
      "source": [
        "data = tata_stock.data"
      ],
      "metadata": {
        "id": "BxoFn3aWA1X_"
      },
      "execution_count": null,
      "outputs": []
    },
    {
      "cell_type": "code",
      "source": [],
      "metadata": {
        "colab": {
          "base_uri": "https://localhost:8080/"
        },
        "id": "mvFmaaRHDMKQ",
        "outputId": "39e8d575-3195-4541-90bb-3cefaaba0ea9"
      },
      "execution_count": null,
      "outputs": [
        {
          "output_type": "execute_result",
          "data": {
            "text/plain": [
              "Date\n",
              "2011-01-03    0.0\n",
              "2011-01-04    0.0\n",
              "2011-01-05   -1.0\n",
              "2011-01-06    0.0\n",
              "2011-01-07    0.0\n",
              "             ... \n",
              "2023-03-09    0.0\n",
              "2023-03-10    0.0\n",
              "2023-03-13    0.0\n",
              "2023-03-14    0.0\n",
              "2023-03-15    0.0\n",
              "Name: t+2, Length: 3010, dtype: float64"
            ]
          },
          "metadata": {},
          "execution_count": 42
        }
      ]
    },
    {
      "cell_type": "code",
      "source": [
        "price_data = data.price.copy()"
      ],
      "metadata": {
        "id": "i-VC04hzBVhh"
      },
      "execution_count": null,
      "outputs": []
    },
    {
      "cell_type": "code",
      "source": [
        "qty = 1\n",
        "new_df = pd.DataFrame(price_data)\n",
        "new_df['price_t-1'] = new_df.price.shift(1)\n",
        "new_df['turnover'] = qty*new_df['price']+new_df['price_t-1']\n",
        "new_df['stt'] = round(0.1*new_df['turnover']/100,2)\n",
        "new_df['txn_nse'] = round(0.00345*new_df['turnover']/100,2)\n",
        "new_df['gst'] = round(18/100*new_df['txn_nse'],2)\n",
        "new_df['stamp'] = round(0.015/100*new_df['price_t-1']*qty)\n",
        "new_df['cost'] = new_df['stt']+new_df['txn_nse']+new_df['gst']+new_df['stamp']+15.94\n",
        "s_pnl = new_df['price']-new_df['price_t-1']\n",
        "new_df['sigmoid'] = (np.sign(s_pnl)*(s_pnl.abs()-new_df['cost']).apply(lambda x: 1 if x>0 else 0)).abs()\n",
        "new_df['tanh'] = np.sign(new_df['price'] - new_df['price_t-1'])\n",
        "new_df['log_returns'] = np.log(new_df['price']/new_df['price_t-1'])\n",
        "for i in range(1,7):\n",
        "  new_df[f'r-{i}'] = new_df['log_returns'] .shift(i)\n",
        "feature_ls = ['log_returns']+[f'r-{i}' for i in range(1,7)]\n",
        "new_df = new_df.dropna()\n",
        "new_df = new_df[feature_ls+['tanh','sigmoid']]"
      ],
      "metadata": {
        "id": "7CApRIObkODK"
      },
      "execution_count": null,
      "outputs": []
    },
    {
      "cell_type": "code",
      "source": [
        "new_df['sigmoid'].value_counts()"
      ],
      "metadata": {
        "colab": {
          "base_uri": "https://localhost:8080/"
        },
        "id": "mXVIzzlikSAj",
        "outputId": "4559f4a0-734b-4a7e-c165-6572e7b87c0f"
      },
      "execution_count": null,
      "outputs": [
        {
          "output_type": "execute_result",
          "data": {
            "text/plain": [
              "0.0    2876\n",
              "1.0     134\n",
              "Name: sigmoid, dtype: int64"
            ]
          },
          "metadata": {},
          "execution_count": 144
        }
      ]
    },
    {
      "cell_type": "code",
      "source": [
        "X = new_df[feature_ls]\n",
        "y = new_df[['tanh','sigmoid']]\n",
        "split_len = int(0.8*len(X))\n",
        "x_train,x_test,y_train, y_test = X[:split_len],X[split_len:],y[:split_len],y[split_len:]\n",
        "train_x = tf.data.Dataset.from_tensor_slices(x_train)\n",
        "test_x = tf.data.Dataset.from_tensor_slices(x_test)\n",
        "train_y = tf.data.Dataset.from_tensor_slices(y_train)\n",
        "test_y = tf.data.Dataset.from_tensor_slices(y_test)\n",
        "\n",
        "train_data = tf.data.Dataset.zip((train_x,train_y)).batch(32).prefetch(tf.data.AUTOTUNE)\n",
        "test_data = tf.data.Dataset.zip((test_x,test_y)).batch(32).prefetch(tf.data.AUTOTUNE)"
      ],
      "metadata": {
        "id": "BLDnS61KUlAQ"
      },
      "execution_count": null,
      "outputs": []
    },
    {
      "cell_type": "code",
      "source": [
        "y['tanh'] = y['tanh'].replace(to_replace=[-1],value=[0])"
      ],
      "metadata": {
        "colab": {
          "base_uri": "https://localhost:8080/"
        },
        "id": "dpjn4taTetmw",
        "outputId": "404b4210-20c8-4b91-e856-e4ce0b5765c0"
      },
      "execution_count": null,
      "outputs": [
        {
          "output_type": "stream",
          "name": "stderr",
          "text": [
            "<ipython-input-106-22182bbe6aef>:1: SettingWithCopyWarning: \n",
            "A value is trying to be set on a copy of a slice from a DataFrame.\n",
            "Try using .loc[row_indexer,col_indexer] = value instead\n",
            "\n",
            "See the caveats in the documentation: https://pandas.pydata.org/pandas-docs/stable/user_guide/indexing.html#returning-a-view-versus-a-copy\n",
            "  y['tanh'] = y['tanh'].replace(to_replace=[-1],value=[0])\n"
          ]
        }
      ]
    },
    {
      "cell_type": "code",
      "source": [
        "y_train_t, y_test_t = y['tanh'][:split_len], y['tanh'][split_len:]\n",
        "y_train_s, y_test_s = y['sigmoid'][:split_len], y['sigmoid'][split_len:]\n",
        "\n",
        "train_y_t, test_y_t = tf.data.Dataset.from_tensor_slices(y_train_t), tf.data.Dataset.from_tensor_slices(y_test_t)\n",
        "train_y_s, test_y_s = tf.data.Dataset.from_tensor_slices(y_train_s), tf.data.Dataset.from_tensor_slices(y_test_s)\n",
        "\n",
        "train_t = tf.data.Dataset.zip((train_x,train_y_t)).batch(32).prefetch(tf.data.AUTOTUNE)\n",
        "test_t = tf.data.Dataset.zip((test_x,test_y_t)).batch(32).prefetch(tf.data.AUTOTUNE)\n",
        "\n",
        "train_s = tf.data.Dataset.zip((train_x,train_y_s)).batch(32).prefetch(tf.data.AUTOTUNE)\n",
        "test_s = tf.data.Dataset.zip((test_x,test_y_s)).batch(32).prefetch(tf.data.AUTOTUNE)"
      ],
      "metadata": {
        "id": "XWIj4rWPafej"
      },
      "execution_count": null,
      "outputs": []
    },
    {
      "cell_type": "code",
      "source": [
        "norm_1 = tf.keras.layers.Normalization()\n",
        "norm_1.adapt(new_df[feature_ls])"
      ],
      "metadata": {
        "id": "5FkbgJMlUzz5"
      },
      "execution_count": null,
      "outputs": []
    },
    {
      "cell_type": "code",
      "source": [
        "inp_1 = tf.keras.layers.Input(shape=(7,))\n",
        "x = norm_1(inp_1)\n",
        "x = tf.keras.layers.Reshape((1,7),input_shape=(7,))(x)\n",
        "x = tf.keras.layers.LSTM(64,return_sequences=True)(x)\n",
        "x = tf.keras.layers.LSTM(32,return_sequences=True)(x)\n",
        "x = tf.keras.layers.LSTM(16,return_sequences=True)(x)\n",
        "out_1 = tf.keras.layers.LSTM(8,return_sequences=True)(x)\n",
        "body_1 = tf.keras.Model(inputs=inp_1,outputs=out_1)"
      ],
      "metadata": {
        "id": "mbq3d4ztWYWX"
      },
      "execution_count": null,
      "outputs": []
    },
    {
      "cell_type": "code",
      "source": [
        "tan_body = tf.keras.models.clone_model(body_1)\n",
        "\n",
        "inp_t = tf.keras.layers.Input(shape=(7,))\n",
        "x = tan_body(inp_t)\n",
        "x = tf.keras.layers.Dense(4,activation='relu')(x)\n",
        "out_t = tf.keras.layers.Dense(1,activation='sigmoid')(x)\n",
        "out_t = tf.keras.layers.Reshape((1,),input_shape=(1,1))(out_t)\n",
        "tan_model = tf.keras.Model(inputs=inp_t,outputs=out_t)"
      ],
      "metadata": {
        "id": "xuxJQgDFXnk4"
      },
      "execution_count": null,
      "outputs": []
    },
    {
      "cell_type": "code",
      "source": [
        "# sig_body = tf.keras.models.clone_model(body_1)\n",
        "\n",
        "inp_s = tf.keras.layers.Input(shape=(7,))\n",
        "x = sig_body(inp_s)\n",
        "x = tf.keras.layers.BatchNormalization()(x)\n",
        "x = tf.keras.layers.Dropout(0.2)(x)\n",
        "x = tf.keras.layers.Dense(4,activation='relu')(x)\n",
        "x = tf.keras.layers.BatchNormalization()(x)\n",
        "x = tf.keras.layers.Dropout(0.2)(x)\n",
        "out_s = tf.keras.layers.Dense(1,activation='sigmoid')(x)\n",
        "out_s = tf.keras.layers.Reshape((1,),input_shape=(1,1))(out_s)\n",
        "sig_model = tf.keras.Model(inputs=inp_s,outputs=out_s)"
      ],
      "metadata": {
        "id": "PUD6d39gYv3X"
      },
      "execution_count": null,
      "outputs": []
    },
    {
      "cell_type": "code",
      "source": [
        "tan_model.compile(loss=tf.keras.losses.BinaryCrossentropy(),\n",
        "                  optimizer='adam',\n",
        "                  metrics=['accuracy'])"
      ],
      "metadata": {
        "id": "VEMQs6HSbtDZ"
      },
      "execution_count": null,
      "outputs": []
    },
    {
      "cell_type": "code",
      "source": [
        "history_t = tan_model.fit(train_t,\n",
        "              epochs=500,\n",
        "              validation_data=test_t,\n",
        "              callbacks=[tf.keras.callbacks.EarlyStopping(patience=20,restore_best_weights=True),\n",
        "                         tf.keras.callbacks.ReduceLROnPlateau(patience=10,min_lr=0.0001)])"
      ],
      "metadata": {
        "colab": {
          "base_uri": "https://localhost:8080/"
        },
        "id": "ZJppGN1AbtAi",
        "outputId": "3a7ba3e0-ca93-41d1-fecb-aa70a0195944"
      },
      "execution_count": null,
      "outputs": [
        {
          "output_type": "stream",
          "name": "stdout",
          "text": [
            "Epoch 1/500\n",
            "76/76 [==============================] - 14s 41ms/step - loss: 0.6931 - accuracy: 0.5062 - val_loss: 0.6937 - val_accuracy: 0.4601 - lr: 0.0010\n",
            "Epoch 2/500\n",
            "76/76 [==============================] - 1s 11ms/step - loss: 0.6928 - accuracy: 0.5141 - val_loss: 0.6950 - val_accuracy: 0.4601 - lr: 0.0010\n",
            "Epoch 3/500\n",
            "76/76 [==============================] - 1s 11ms/step - loss: 0.6837 - accuracy: 0.5141 - val_loss: 0.6722 - val_accuracy: 0.4601 - lr: 0.0010\n",
            "Epoch 4/500\n",
            "76/76 [==============================] - 1s 11ms/step - loss: 0.5233 - accuracy: 0.7342 - val_loss: 0.4164 - val_accuracy: 0.9485 - lr: 0.0010\n",
            "Epoch 5/500\n",
            "76/76 [==============================] - 1s 10ms/step - loss: 0.3146 - accuracy: 0.9593 - val_loss: 0.2585 - val_accuracy: 0.9850 - lr: 0.0010\n",
            "Epoch 6/500\n",
            "76/76 [==============================] - 1s 11ms/step - loss: 0.1846 - accuracy: 0.9755 - val_loss: 0.1319 - val_accuracy: 0.9884 - lr: 0.0010\n",
            "Epoch 7/500\n",
            "76/76 [==============================] - 1s 11ms/step - loss: 0.0991 - accuracy: 0.9792 - val_loss: 0.0751 - val_accuracy: 0.9801 - lr: 0.0010\n",
            "Epoch 8/500\n",
            "76/76 [==============================] - 1s 11ms/step - loss: 0.0602 - accuracy: 0.9855 - val_loss: 0.0650 - val_accuracy: 0.9801 - lr: 0.0010\n",
            "Epoch 9/500\n",
            "76/76 [==============================] - 1s 11ms/step - loss: 0.0467 - accuracy: 0.9855 - val_loss: 0.0682 - val_accuracy: 0.9767 - lr: 0.0010\n",
            "Epoch 10/500\n",
            "76/76 [==============================] - 1s 19ms/step - loss: 0.0359 - accuracy: 0.9880 - val_loss: 0.0296 - val_accuracy: 0.9884 - lr: 0.0010\n",
            "Epoch 11/500\n",
            "76/76 [==============================] - 3s 33ms/step - loss: 0.0405 - accuracy: 0.9850 - val_loss: 0.0250 - val_accuracy: 0.9900 - lr: 0.0010\n",
            "Epoch 12/500\n",
            "76/76 [==============================] - 1s 16ms/step - loss: 0.0353 - accuracy: 0.9855 - val_loss: 0.0221 - val_accuracy: 0.9934 - lr: 0.0010\n",
            "Epoch 13/500\n",
            "76/76 [==============================] - 1s 12ms/step - loss: 0.0295 - accuracy: 0.9884 - val_loss: 0.0196 - val_accuracy: 0.9934 - lr: 0.0010\n",
            "Epoch 14/500\n",
            "76/76 [==============================] - 1s 11ms/step - loss: 0.0259 - accuracy: 0.9892 - val_loss: 0.0185 - val_accuracy: 0.9934 - lr: 0.0010\n",
            "Epoch 15/500\n",
            "76/76 [==============================] - 1s 11ms/step - loss: 0.0234 - accuracy: 0.9896 - val_loss: 0.0175 - val_accuracy: 0.9934 - lr: 0.0010\n",
            "Epoch 16/500\n",
            "76/76 [==============================] - 1s 10ms/step - loss: 0.0205 - accuracy: 0.9913 - val_loss: 0.0166 - val_accuracy: 0.9934 - lr: 0.0010\n",
            "Epoch 17/500\n",
            "76/76 [==============================] - 1s 11ms/step - loss: 0.0232 - accuracy: 0.9913 - val_loss: 0.0308 - val_accuracy: 0.9867 - lr: 0.0010\n",
            "Epoch 18/500\n",
            "76/76 [==============================] - 1s 10ms/step - loss: 0.0172 - accuracy: 0.9921 - val_loss: 0.0185 - val_accuracy: 0.9917 - lr: 0.0010\n",
            "Epoch 19/500\n",
            "76/76 [==============================] - 1s 10ms/step - loss: 0.0135 - accuracy: 0.9946 - val_loss: 0.0288 - val_accuracy: 0.9850 - lr: 0.0010\n",
            "Epoch 20/500\n",
            "76/76 [==============================] - 1s 12ms/step - loss: 0.0110 - accuracy: 0.9971 - val_loss: 0.0289 - val_accuracy: 0.9867 - lr: 0.0010\n",
            "Epoch 21/500\n",
            "76/76 [==============================] - 1s 11ms/step - loss: 0.0122 - accuracy: 0.9954 - val_loss: 0.0293 - val_accuracy: 0.9850 - lr: 0.0010\n",
            "Epoch 22/500\n",
            "76/76 [==============================] - 1s 11ms/step - loss: 0.0113 - accuracy: 0.9954 - val_loss: 0.0282 - val_accuracy: 0.9850 - lr: 0.0010\n",
            "Epoch 23/500\n",
            "76/76 [==============================] - 1s 16ms/step - loss: 0.0138 - accuracy: 0.9946 - val_loss: 0.0323 - val_accuracy: 0.9850 - lr: 0.0010\n",
            "Epoch 24/500\n",
            "76/76 [==============================] - 1s 16ms/step - loss: 0.0113 - accuracy: 0.9958 - val_loss: 0.0324 - val_accuracy: 0.9850 - lr: 0.0010\n",
            "Epoch 25/500\n",
            "76/76 [==============================] - 1s 16ms/step - loss: 0.0169 - accuracy: 0.9934 - val_loss: 0.1005 - val_accuracy: 0.9718 - lr: 0.0010\n",
            "Epoch 26/500\n",
            "76/76 [==============================] - 1s 13ms/step - loss: 0.0508 - accuracy: 0.9826 - val_loss: 0.0215 - val_accuracy: 0.9900 - lr: 0.0010\n",
            "Epoch 27/500\n",
            "76/76 [==============================] - 1s 16ms/step - loss: 0.0154 - accuracy: 0.9942 - val_loss: 0.0201 - val_accuracy: 0.9917 - lr: 1.0000e-04\n",
            "Epoch 28/500\n",
            "76/76 [==============================] - 1s 16ms/step - loss: 0.0134 - accuracy: 0.9946 - val_loss: 0.0176 - val_accuracy: 0.9934 - lr: 1.0000e-04\n",
            "Epoch 29/500\n",
            "76/76 [==============================] - 1s 15ms/step - loss: 0.0119 - accuracy: 0.9954 - val_loss: 0.0156 - val_accuracy: 0.9934 - lr: 1.0000e-04\n",
            "Epoch 30/500\n",
            "76/76 [==============================] - 1s 13ms/step - loss: 0.0107 - accuracy: 0.9971 - val_loss: 0.0139 - val_accuracy: 0.9934 - lr: 1.0000e-04\n",
            "Epoch 31/500\n",
            "76/76 [==============================] - 1s 12ms/step - loss: 0.0097 - accuracy: 0.9967 - val_loss: 0.0127 - val_accuracy: 0.9950 - lr: 1.0000e-04\n",
            "Epoch 32/500\n",
            "76/76 [==============================] - 1s 11ms/step - loss: 0.0087 - accuracy: 0.9971 - val_loss: 0.0117 - val_accuracy: 0.9983 - lr: 1.0000e-04\n",
            "Epoch 33/500\n",
            "76/76 [==============================] - 1s 11ms/step - loss: 0.0080 - accuracy: 0.9975 - val_loss: 0.0110 - val_accuracy: 0.9983 - lr: 1.0000e-04\n",
            "Epoch 34/500\n",
            "76/76 [==============================] - 1s 13ms/step - loss: 0.0076 - accuracy: 0.9979 - val_loss: 0.0105 - val_accuracy: 0.9983 - lr: 1.0000e-04\n",
            "Epoch 35/500\n",
            "76/76 [==============================] - 1s 16ms/step - loss: 0.0073 - accuracy: 0.9988 - val_loss: 0.0102 - val_accuracy: 0.9983 - lr: 1.0000e-04\n",
            "Epoch 36/500\n",
            "76/76 [==============================] - 1s 16ms/step - loss: 0.0071 - accuracy: 0.9988 - val_loss: 0.0100 - val_accuracy: 0.9983 - lr: 1.0000e-04\n",
            "Epoch 37/500\n",
            "76/76 [==============================] - 1s 15ms/step - loss: 0.0070 - accuracy: 0.9988 - val_loss: 0.0098 - val_accuracy: 0.9983 - lr: 1.0000e-04\n",
            "Epoch 38/500\n",
            "76/76 [==============================] - 1s 11ms/step - loss: 0.0069 - accuracy: 0.9988 - val_loss: 0.0097 - val_accuracy: 0.9983 - lr: 1.0000e-04\n",
            "Epoch 39/500\n",
            "76/76 [==============================] - 1s 12ms/step - loss: 0.0068 - accuracy: 0.9983 - val_loss: 0.0095 - val_accuracy: 0.9983 - lr: 1.0000e-04\n",
            "Epoch 40/500\n",
            "76/76 [==============================] - 1s 11ms/step - loss: 0.0068 - accuracy: 0.9983 - val_loss: 0.0094 - val_accuracy: 0.9983 - lr: 1.0000e-04\n",
            "Epoch 41/500\n",
            "76/76 [==============================] - 1s 11ms/step - loss: 0.0067 - accuracy: 0.9979 - val_loss: 0.0093 - val_accuracy: 0.9983 - lr: 1.0000e-04\n",
            "Epoch 42/500\n",
            "76/76 [==============================] - 1s 11ms/step - loss: 0.0067 - accuracy: 0.9979 - val_loss: 0.0092 - val_accuracy: 0.9983 - lr: 1.0000e-04\n",
            "Epoch 43/500\n",
            "76/76 [==============================] - 1s 11ms/step - loss: 0.0066 - accuracy: 0.9979 - val_loss: 0.0091 - val_accuracy: 0.9983 - lr: 1.0000e-04\n",
            "Epoch 44/500\n",
            "76/76 [==============================] - 1s 11ms/step - loss: 0.0065 - accuracy: 0.9979 - val_loss: 0.0091 - val_accuracy: 0.9983 - lr: 1.0000e-04\n",
            "Epoch 45/500\n",
            "76/76 [==============================] - 1s 11ms/step - loss: 0.0065 - accuracy: 0.9979 - val_loss: 0.0090 - val_accuracy: 0.9983 - lr: 1.0000e-04\n",
            "Epoch 46/500\n",
            "76/76 [==============================] - 1s 14ms/step - loss: 0.0064 - accuracy: 0.9979 - val_loss: 0.0090 - val_accuracy: 0.9983 - lr: 1.0000e-04\n",
            "Epoch 47/500\n",
            "76/76 [==============================] - 1s 16ms/step - loss: 0.0064 - accuracy: 0.9979 - val_loss: 0.0089 - val_accuracy: 0.9967 - lr: 1.0000e-04\n",
            "Epoch 48/500\n",
            "76/76 [==============================] - 1s 16ms/step - loss: 0.0063 - accuracy: 0.9979 - val_loss: 0.0088 - val_accuracy: 0.9967 - lr: 1.0000e-04\n",
            "Epoch 49/500\n",
            "76/76 [==============================] - 1s 15ms/step - loss: 0.0063 - accuracy: 0.9979 - val_loss: 0.0088 - val_accuracy: 0.9967 - lr: 1.0000e-04\n",
            "Epoch 50/500\n",
            "76/76 [==============================] - 1s 13ms/step - loss: 0.0063 - accuracy: 0.9979 - val_loss: 0.0087 - val_accuracy: 0.9967 - lr: 1.0000e-04\n",
            "Epoch 51/500\n",
            "76/76 [==============================] - 1s 12ms/step - loss: 0.0062 - accuracy: 0.9979 - val_loss: 0.0087 - val_accuracy: 0.9967 - lr: 1.0000e-04\n",
            "Epoch 52/500\n",
            "76/76 [==============================] - 1s 11ms/step - loss: 0.0062 - accuracy: 0.9979 - val_loss: 0.0086 - val_accuracy: 0.9967 - lr: 1.0000e-04\n",
            "Epoch 53/500\n",
            "76/76 [==============================] - 1s 11ms/step - loss: 0.0061 - accuracy: 0.9979 - val_loss: 0.0085 - val_accuracy: 0.9967 - lr: 1.0000e-04\n",
            "Epoch 54/500\n",
            "76/76 [==============================] - 1s 11ms/step - loss: 0.0061 - accuracy: 0.9979 - val_loss: 0.0085 - val_accuracy: 0.9967 - lr: 1.0000e-04\n",
            "Epoch 55/500\n",
            "76/76 [==============================] - 1s 11ms/step - loss: 0.0060 - accuracy: 0.9979 - val_loss: 0.0084 - val_accuracy: 0.9967 - lr: 1.0000e-04\n",
            "Epoch 56/500\n",
            "76/76 [==============================] - 1s 12ms/step - loss: 0.0060 - accuracy: 0.9979 - val_loss: 0.0084 - val_accuracy: 0.9967 - lr: 1.0000e-04\n",
            "Epoch 57/500\n",
            "76/76 [==============================] - 1s 12ms/step - loss: 0.0059 - accuracy: 0.9979 - val_loss: 0.0083 - val_accuracy: 0.9967 - lr: 1.0000e-04\n",
            "Epoch 58/500\n",
            "76/76 [==============================] - 1s 12ms/step - loss: 0.0059 - accuracy: 0.9979 - val_loss: 0.0082 - val_accuracy: 0.9967 - lr: 1.0000e-04\n",
            "Epoch 59/500\n",
            "76/76 [==============================] - 1s 17ms/step - loss: 0.0058 - accuracy: 0.9979 - val_loss: 0.0082 - val_accuracy: 0.9967 - lr: 1.0000e-04\n",
            "Epoch 60/500\n",
            "76/76 [==============================] - 1s 13ms/step - loss: 0.0057 - accuracy: 0.9979 - val_loss: 0.0081 - val_accuracy: 0.9967 - lr: 1.0000e-04\n",
            "Epoch 61/500\n",
            "76/76 [==============================] - 1s 11ms/step - loss: 0.0057 - accuracy: 0.9979 - val_loss: 0.0081 - val_accuracy: 0.9967 - lr: 1.0000e-04\n",
            "Epoch 62/500\n",
            "76/76 [==============================] - 1s 12ms/step - loss: 0.0056 - accuracy: 0.9979 - val_loss: 0.0080 - val_accuracy: 0.9967 - lr: 1.0000e-04\n",
            "Epoch 63/500\n",
            "76/76 [==============================] - 1s 11ms/step - loss: 0.0056 - accuracy: 0.9979 - val_loss: 0.0080 - val_accuracy: 0.9967 - lr: 1.0000e-04\n",
            "Epoch 64/500\n",
            "76/76 [==============================] - 1s 11ms/step - loss: 0.0055 - accuracy: 0.9979 - val_loss: 0.0079 - val_accuracy: 0.9967 - lr: 1.0000e-04\n",
            "Epoch 65/500\n",
            "76/76 [==============================] - 1s 11ms/step - loss: 0.0055 - accuracy: 0.9979 - val_loss: 0.0079 - val_accuracy: 0.9967 - lr: 1.0000e-04\n",
            "Epoch 66/500\n",
            "76/76 [==============================] - 1s 11ms/step - loss: 0.0054 - accuracy: 0.9979 - val_loss: 0.0078 - val_accuracy: 0.9967 - lr: 1.0000e-04\n",
            "Epoch 67/500\n",
            "76/76 [==============================] - 1s 12ms/step - loss: 0.0054 - accuracy: 0.9979 - val_loss: 0.0077 - val_accuracy: 0.9967 - lr: 1.0000e-04\n",
            "Epoch 68/500\n",
            "76/76 [==============================] - 1s 11ms/step - loss: 0.0054 - accuracy: 0.9979 - val_loss: 0.0077 - val_accuracy: 0.9967 - lr: 1.0000e-04\n",
            "Epoch 69/500\n",
            "76/76 [==============================] - 1s 11ms/step - loss: 0.0053 - accuracy: 0.9979 - val_loss: 0.0076 - val_accuracy: 0.9967 - lr: 1.0000e-04\n",
            "Epoch 70/500\n",
            "76/76 [==============================] - 1s 15ms/step - loss: 0.0053 - accuracy: 0.9979 - val_loss: 0.0075 - val_accuracy: 0.9967 - lr: 1.0000e-04\n",
            "Epoch 71/500\n",
            "76/76 [==============================] - 1s 15ms/step - loss: 0.0052 - accuracy: 0.9979 - val_loss: 0.0075 - val_accuracy: 0.9967 - lr: 1.0000e-04\n",
            "Epoch 72/500\n",
            "76/76 [==============================] - 1s 16ms/step - loss: 0.0052 - accuracy: 0.9979 - val_loss: 0.0074 - val_accuracy: 0.9967 - lr: 1.0000e-04\n",
            "Epoch 73/500\n",
            "76/76 [==============================] - 1s 15ms/step - loss: 0.0051 - accuracy: 0.9979 - val_loss: 0.0074 - val_accuracy: 0.9967 - lr: 1.0000e-04\n",
            "Epoch 74/500\n",
            "76/76 [==============================] - 1s 11ms/step - loss: 0.0051 - accuracy: 0.9979 - val_loss: 0.0073 - val_accuracy: 0.9967 - lr: 1.0000e-04\n",
            "Epoch 75/500\n",
            "76/76 [==============================] - 1s 11ms/step - loss: 0.0050 - accuracy: 0.9979 - val_loss: 0.0073 - val_accuracy: 0.9967 - lr: 1.0000e-04\n",
            "Epoch 76/500\n",
            "76/76 [==============================] - 1s 11ms/step - loss: 0.0050 - accuracy: 0.9979 - val_loss: 0.0072 - val_accuracy: 0.9967 - lr: 1.0000e-04\n",
            "Epoch 77/500\n",
            "76/76 [==============================] - 1s 11ms/step - loss: 0.0050 - accuracy: 0.9979 - val_loss: 0.0072 - val_accuracy: 0.9967 - lr: 1.0000e-04\n",
            "Epoch 78/500\n",
            "76/76 [==============================] - 1s 11ms/step - loss: 0.0049 - accuracy: 0.9979 - val_loss: 0.0071 - val_accuracy: 0.9967 - lr: 1.0000e-04\n",
            "Epoch 79/500\n",
            "76/76 [==============================] - 1s 11ms/step - loss: 0.0049 - accuracy: 0.9979 - val_loss: 0.0071 - val_accuracy: 0.9967 - lr: 1.0000e-04\n",
            "Epoch 80/500\n",
            "76/76 [==============================] - 1s 10ms/step - loss: 0.0048 - accuracy: 0.9979 - val_loss: 0.0070 - val_accuracy: 0.9967 - lr: 1.0000e-04\n",
            "Epoch 81/500\n",
            "76/76 [==============================] - 1s 11ms/step - loss: 0.0048 - accuracy: 0.9979 - val_loss: 0.0070 - val_accuracy: 0.9967 - lr: 1.0000e-04\n",
            "Epoch 82/500\n",
            "76/76 [==============================] - 1s 11ms/step - loss: 0.0047 - accuracy: 0.9979 - val_loss: 0.0070 - val_accuracy: 0.9967 - lr: 1.0000e-04\n",
            "Epoch 83/500\n",
            "76/76 [==============================] - 1s 14ms/step - loss: 0.0047 - accuracy: 0.9979 - val_loss: 0.0069 - val_accuracy: 0.9967 - lr: 1.0000e-04\n",
            "Epoch 84/500\n",
            "76/76 [==============================] - 1s 16ms/step - loss: 0.0047 - accuracy: 0.9979 - val_loss: 0.0069 - val_accuracy: 0.9983 - lr: 1.0000e-04\n",
            "Epoch 85/500\n",
            "76/76 [==============================] - 1s 16ms/step - loss: 0.0046 - accuracy: 0.9979 - val_loss: 0.0068 - val_accuracy: 0.9983 - lr: 1.0000e-04\n",
            "Epoch 86/500\n",
            "76/76 [==============================] - 1s 14ms/step - loss: 0.0046 - accuracy: 0.9979 - val_loss: 0.0068 - val_accuracy: 0.9983 - lr: 1.0000e-04\n",
            "Epoch 87/500\n",
            "76/76 [==============================] - 1s 11ms/step - loss: 0.0045 - accuracy: 0.9979 - val_loss: 0.0067 - val_accuracy: 0.9983 - lr: 1.0000e-04\n",
            "Epoch 88/500\n",
            "76/76 [==============================] - 1s 11ms/step - loss: 0.0045 - accuracy: 0.9979 - val_loss: 0.0067 - val_accuracy: 0.9983 - lr: 1.0000e-04\n",
            "Epoch 89/500\n",
            "76/76 [==============================] - 1s 11ms/step - loss: 0.0045 - accuracy: 0.9979 - val_loss: 0.0067 - val_accuracy: 0.9983 - lr: 1.0000e-04\n",
            "Epoch 90/500\n",
            "76/76 [==============================] - 1s 11ms/step - loss: 0.0044 - accuracy: 0.9979 - val_loss: 0.0066 - val_accuracy: 0.9983 - lr: 1.0000e-04\n",
            "Epoch 91/500\n",
            "76/76 [==============================] - 1s 11ms/step - loss: 0.0044 - accuracy: 0.9979 - val_loss: 0.0066 - val_accuracy: 0.9983 - lr: 1.0000e-04\n",
            "Epoch 92/500\n",
            "76/76 [==============================] - 1s 11ms/step - loss: 0.0044 - accuracy: 0.9979 - val_loss: 0.0066 - val_accuracy: 0.9983 - lr: 1.0000e-04\n",
            "Epoch 93/500\n",
            "76/76 [==============================] - 1s 11ms/step - loss: 0.0043 - accuracy: 0.9979 - val_loss: 0.0065 - val_accuracy: 0.9983 - lr: 1.0000e-04\n",
            "Epoch 94/500\n",
            "76/76 [==============================] - 1s 11ms/step - loss: 0.0043 - accuracy: 0.9979 - val_loss: 0.0065 - val_accuracy: 0.9983 - lr: 1.0000e-04\n",
            "Epoch 95/500\n",
            "76/76 [==============================] - 1s 12ms/step - loss: 0.0043 - accuracy: 0.9979 - val_loss: 0.0064 - val_accuracy: 0.9983 - lr: 1.0000e-04\n",
            "Epoch 96/500\n",
            "76/76 [==============================] - 1s 15ms/step - loss: 0.0042 - accuracy: 0.9979 - val_loss: 0.0064 - val_accuracy: 0.9983 - lr: 1.0000e-04\n",
            "Epoch 97/500\n",
            "76/76 [==============================] - 1s 15ms/step - loss: 0.0042 - accuracy: 0.9979 - val_loss: 0.0064 - val_accuracy: 0.9983 - lr: 1.0000e-04\n",
            "Epoch 98/500\n",
            "76/76 [==============================] - 1s 16ms/step - loss: 0.0042 - accuracy: 0.9979 - val_loss: 0.0063 - val_accuracy: 0.9983 - lr: 1.0000e-04\n",
            "Epoch 99/500\n",
            "76/76 [==============================] - 1s 12ms/step - loss: 0.0041 - accuracy: 0.9979 - val_loss: 0.0063 - val_accuracy: 0.9983 - lr: 1.0000e-04\n",
            "Epoch 100/500\n",
            "76/76 [==============================] - 1s 11ms/step - loss: 0.0041 - accuracy: 0.9979 - val_loss: 0.0063 - val_accuracy: 0.9983 - lr: 1.0000e-04\n",
            "Epoch 101/500\n",
            "76/76 [==============================] - 1s 11ms/step - loss: 0.0041 - accuracy: 0.9979 - val_loss: 0.0062 - val_accuracy: 0.9983 - lr: 1.0000e-04\n",
            "Epoch 102/500\n",
            "76/76 [==============================] - 1s 11ms/step - loss: 0.0041 - accuracy: 0.9979 - val_loss: 0.0062 - val_accuracy: 0.9983 - lr: 1.0000e-04\n",
            "Epoch 103/500\n",
            "76/76 [==============================] - 1s 11ms/step - loss: 0.0040 - accuracy: 0.9979 - val_loss: 0.0062 - val_accuracy: 0.9983 - lr: 1.0000e-04\n",
            "Epoch 104/500\n",
            "76/76 [==============================] - 1s 11ms/step - loss: 0.0040 - accuracy: 0.9979 - val_loss: 0.0061 - val_accuracy: 0.9983 - lr: 1.0000e-04\n",
            "Epoch 105/500\n",
            "76/76 [==============================] - 1s 12ms/step - loss: 0.0040 - accuracy: 0.9979 - val_loss: 0.0061 - val_accuracy: 0.9983 - lr: 1.0000e-04\n",
            "Epoch 106/500\n",
            "76/76 [==============================] - 1s 11ms/step - loss: 0.0040 - accuracy: 0.9979 - val_loss: 0.0061 - val_accuracy: 0.9983 - lr: 1.0000e-04\n",
            "Epoch 107/500\n",
            "76/76 [==============================] - 1s 10ms/step - loss: 0.0039 - accuracy: 0.9979 - val_loss: 0.0060 - val_accuracy: 0.9983 - lr: 1.0000e-04\n",
            "Epoch 108/500\n",
            "76/76 [==============================] - 1s 17ms/step - loss: 0.0039 - accuracy: 0.9979 - val_loss: 0.0060 - val_accuracy: 0.9983 - lr: 1.0000e-04\n",
            "Epoch 109/500\n",
            "76/76 [==============================] - 1s 16ms/step - loss: 0.0039 - accuracy: 0.9979 - val_loss: 0.0060 - val_accuracy: 0.9983 - lr: 1.0000e-04\n",
            "Epoch 110/500\n",
            "76/76 [==============================] - 1s 16ms/step - loss: 0.0038 - accuracy: 0.9979 - val_loss: 0.0060 - val_accuracy: 0.9983 - lr: 1.0000e-04\n",
            "Epoch 111/500\n",
            "76/76 [==============================] - 1s 12ms/step - loss: 0.0038 - accuracy: 0.9979 - val_loss: 0.0059 - val_accuracy: 0.9983 - lr: 1.0000e-04\n",
            "Epoch 112/500\n",
            "76/76 [==============================] - 1s 11ms/step - loss: 0.0038 - accuracy: 0.9979 - val_loss: 0.0059 - val_accuracy: 0.9983 - lr: 1.0000e-04\n",
            "Epoch 113/500\n",
            "76/76 [==============================] - 1s 11ms/step - loss: 0.0037 - accuracy: 0.9979 - val_loss: 0.0059 - val_accuracy: 0.9983 - lr: 1.0000e-04\n",
            "Epoch 114/500\n",
            "76/76 [==============================] - 1s 11ms/step - loss: 0.0037 - accuracy: 0.9979 - val_loss: 0.0059 - val_accuracy: 0.9983 - lr: 1.0000e-04\n",
            "Epoch 115/500\n",
            "76/76 [==============================] - 1s 11ms/step - loss: 0.0037 - accuracy: 0.9979 - val_loss: 0.0059 - val_accuracy: 0.9983 - lr: 1.0000e-04\n",
            "Epoch 116/500\n",
            "76/76 [==============================] - 1s 11ms/step - loss: 0.0036 - accuracy: 0.9983 - val_loss: 0.0058 - val_accuracy: 0.9983 - lr: 1.0000e-04\n",
            "Epoch 117/500\n",
            "76/76 [==============================] - 1s 11ms/step - loss: 0.0036 - accuracy: 0.9983 - val_loss: 0.0058 - val_accuracy: 0.9983 - lr: 1.0000e-04\n",
            "Epoch 118/500\n",
            "76/76 [==============================] - 1s 11ms/step - loss: 0.0036 - accuracy: 0.9983 - val_loss: 0.0058 - val_accuracy: 0.9983 - lr: 1.0000e-04\n",
            "Epoch 119/500\n",
            "76/76 [==============================] - 1s 11ms/step - loss: 0.0035 - accuracy: 0.9983 - val_loss: 0.0058 - val_accuracy: 0.9983 - lr: 1.0000e-04\n",
            "Epoch 120/500\n",
            "76/76 [==============================] - 1s 15ms/step - loss: 0.0035 - accuracy: 0.9983 - val_loss: 0.0058 - val_accuracy: 0.9983 - lr: 1.0000e-04\n",
            "Epoch 121/500\n",
            "76/76 [==============================] - 1s 17ms/step - loss: 0.0035 - accuracy: 0.9983 - val_loss: 0.0058 - val_accuracy: 0.9983 - lr: 1.0000e-04\n",
            "Epoch 122/500\n",
            "76/76 [==============================] - 1s 16ms/step - loss: 0.0035 - accuracy: 0.9988 - val_loss: 0.0058 - val_accuracy: 0.9983 - lr: 1.0000e-04\n",
            "Epoch 123/500\n",
            "76/76 [==============================] - 1s 15ms/step - loss: 0.0035 - accuracy: 0.9988 - val_loss: 0.0058 - val_accuracy: 0.9983 - lr: 1.0000e-04\n",
            "Epoch 124/500\n",
            "76/76 [==============================] - 1s 11ms/step - loss: 0.0034 - accuracy: 0.9988 - val_loss: 0.0058 - val_accuracy: 0.9983 - lr: 1.0000e-04\n",
            "Epoch 125/500\n",
            "76/76 [==============================] - 1s 11ms/step - loss: 0.0034 - accuracy: 0.9988 - val_loss: 0.0057 - val_accuracy: 0.9983 - lr: 1.0000e-04\n",
            "Epoch 126/500\n",
            "76/76 [==============================] - 1s 11ms/step - loss: 0.0034 - accuracy: 0.9988 - val_loss: 0.0057 - val_accuracy: 0.9983 - lr: 1.0000e-04\n",
            "Epoch 127/500\n",
            "76/76 [==============================] - 1s 11ms/step - loss: 0.0034 - accuracy: 0.9988 - val_loss: 0.0057 - val_accuracy: 0.9983 - lr: 1.0000e-04\n",
            "Epoch 128/500\n",
            "76/76 [==============================] - 1s 11ms/step - loss: 0.0033 - accuracy: 0.9988 - val_loss: 0.0057 - val_accuracy: 0.9983 - lr: 1.0000e-04\n",
            "Epoch 129/500\n",
            "76/76 [==============================] - 1s 10ms/step - loss: 0.0033 - accuracy: 0.9988 - val_loss: 0.0057 - val_accuracy: 0.9983 - lr: 1.0000e-04\n",
            "Epoch 130/500\n",
            "76/76 [==============================] - 1s 11ms/step - loss: 0.0033 - accuracy: 0.9988 - val_loss: 0.0057 - val_accuracy: 0.9983 - lr: 1.0000e-04\n",
            "Epoch 131/500\n",
            "76/76 [==============================] - 1s 12ms/step - loss: 0.0033 - accuracy: 0.9988 - val_loss: 0.0057 - val_accuracy: 0.9983 - lr: 1.0000e-04\n",
            "Epoch 132/500\n",
            "76/76 [==============================] - 1s 11ms/step - loss: 0.0033 - accuracy: 0.9988 - val_loss: 0.0057 - val_accuracy: 0.9983 - lr: 1.0000e-04\n",
            "Epoch 133/500\n",
            "76/76 [==============================] - 1s 15ms/step - loss: 0.0032 - accuracy: 0.9988 - val_loss: 0.0057 - val_accuracy: 0.9983 - lr: 1.0000e-04\n",
            "Epoch 134/500\n",
            "76/76 [==============================] - 1s 15ms/step - loss: 0.0032 - accuracy: 0.9988 - val_loss: 0.0057 - val_accuracy: 0.9983 - lr: 1.0000e-04\n",
            "Epoch 135/500\n",
            "76/76 [==============================] - 1s 16ms/step - loss: 0.0032 - accuracy: 0.9988 - val_loss: 0.0057 - val_accuracy: 0.9983 - lr: 1.0000e-04\n",
            "Epoch 136/500\n",
            "76/76 [==============================] - 1s 15ms/step - loss: 0.0032 - accuracy: 0.9988 - val_loss: 0.0056 - val_accuracy: 0.9983 - lr: 1.0000e-04\n",
            "Epoch 137/500\n",
            "76/76 [==============================] - 1s 11ms/step - loss: 0.0032 - accuracy: 0.9988 - val_loss: 0.0056 - val_accuracy: 0.9983 - lr: 1.0000e-04\n",
            "Epoch 138/500\n",
            "76/76 [==============================] - 1s 10ms/step - loss: 0.0032 - accuracy: 0.9988 - val_loss: 0.0057 - val_accuracy: 0.9983 - lr: 1.0000e-04\n",
            "Epoch 139/500\n",
            "76/76 [==============================] - 1s 11ms/step - loss: 0.0032 - accuracy: 0.9988 - val_loss: 0.0056 - val_accuracy: 0.9983 - lr: 1.0000e-04\n",
            "Epoch 140/500\n",
            "76/76 [==============================] - 1s 11ms/step - loss: 0.0031 - accuracy: 0.9988 - val_loss: 0.0056 - val_accuracy: 0.9983 - lr: 1.0000e-04\n",
            "Epoch 141/500\n",
            "76/76 [==============================] - 1s 12ms/step - loss: 0.0031 - accuracy: 0.9988 - val_loss: 0.0056 - val_accuracy: 0.9983 - lr: 1.0000e-04\n",
            "Epoch 142/500\n",
            "76/76 [==============================] - 1s 11ms/step - loss: 0.0031 - accuracy: 0.9988 - val_loss: 0.0056 - val_accuracy: 0.9983 - lr: 1.0000e-04\n",
            "Epoch 143/500\n",
            "76/76 [==============================] - 1s 11ms/step - loss: 0.0030 - accuracy: 0.9988 - val_loss: 0.0056 - val_accuracy: 0.9983 - lr: 1.0000e-04\n",
            "Epoch 144/500\n",
            "76/76 [==============================] - 1s 11ms/step - loss: 0.0030 - accuracy: 0.9988 - val_loss: 0.0056 - val_accuracy: 0.9983 - lr: 1.0000e-04\n",
            "Epoch 145/500\n",
            "76/76 [==============================] - 1s 11ms/step - loss: 0.0030 - accuracy: 0.9988 - val_loss: 0.0056 - val_accuracy: 0.9983 - lr: 1.0000e-04\n",
            "Epoch 146/500\n",
            "76/76 [==============================] - 1s 15ms/step - loss: 0.0030 - accuracy: 0.9988 - val_loss: 0.0056 - val_accuracy: 0.9983 - lr: 1.0000e-04\n",
            "Epoch 147/500\n",
            "76/76 [==============================] - 1s 16ms/step - loss: 0.0030 - accuracy: 0.9988 - val_loss: 0.0056 - val_accuracy: 0.9983 - lr: 1.0000e-04\n",
            "Epoch 148/500\n",
            "76/76 [==============================] - 1s 15ms/step - loss: 0.0030 - accuracy: 0.9988 - val_loss: 0.0056 - val_accuracy: 0.9983 - lr: 1.0000e-04\n",
            "Epoch 149/500\n",
            "76/76 [==============================] - 1s 15ms/step - loss: 0.0030 - accuracy: 0.9988 - val_loss: 0.0056 - val_accuracy: 0.9983 - lr: 1.0000e-04\n",
            "Epoch 150/500\n",
            "76/76 [==============================] - 1s 11ms/step - loss: 0.0030 - accuracy: 0.9988 - val_loss: 0.0056 - val_accuracy: 0.9983 - lr: 1.0000e-04\n",
            "Epoch 151/500\n",
            "76/76 [==============================] - 1s 11ms/step - loss: 0.0029 - accuracy: 0.9988 - val_loss: 0.0056 - val_accuracy: 0.9983 - lr: 1.0000e-04\n",
            "Epoch 152/500\n",
            "76/76 [==============================] - 1s 11ms/step - loss: 0.0029 - accuracy: 0.9988 - val_loss: 0.0056 - val_accuracy: 0.9983 - lr: 1.0000e-04\n",
            "Epoch 153/500\n",
            "76/76 [==============================] - 1s 11ms/step - loss: 0.0029 - accuracy: 0.9988 - val_loss: 0.0056 - val_accuracy: 0.9983 - lr: 1.0000e-04\n",
            "Epoch 154/500\n",
            "76/76 [==============================] - 1s 11ms/step - loss: 0.0029 - accuracy: 0.9988 - val_loss: 0.0056 - val_accuracy: 0.9983 - lr: 1.0000e-04\n",
            "Epoch 155/500\n",
            "76/76 [==============================] - 1s 11ms/step - loss: 0.0029 - accuracy: 0.9992 - val_loss: 0.0056 - val_accuracy: 0.9983 - lr: 1.0000e-04\n",
            "Epoch 156/500\n",
            "76/76 [==============================] - 1s 11ms/step - loss: 0.0029 - accuracy: 0.9992 - val_loss: 0.0056 - val_accuracy: 0.9983 - lr: 1.0000e-04\n",
            "Epoch 157/500\n",
            "76/76 [==============================] - 1s 11ms/step - loss: 0.0028 - accuracy: 0.9992 - val_loss: 0.0056 - val_accuracy: 0.9983 - lr: 1.0000e-04\n",
            "Epoch 158/500\n",
            "76/76 [==============================] - 1s 13ms/step - loss: 0.0028 - accuracy: 0.9992 - val_loss: 0.0056 - val_accuracy: 0.9983 - lr: 1.0000e-04\n",
            "Epoch 159/500\n",
            "76/76 [==============================] - 1s 13ms/step - loss: 0.0028 - accuracy: 0.9992 - val_loss: 0.0056 - val_accuracy: 0.9983 - lr: 1.0000e-04\n",
            "Epoch 160/500\n",
            "76/76 [==============================] - 1s 16ms/step - loss: 0.0028 - accuracy: 0.9992 - val_loss: 0.0056 - val_accuracy: 0.9983 - lr: 1.0000e-04\n",
            "Epoch 161/500\n",
            "76/76 [==============================] - 1s 16ms/step - loss: 0.0028 - accuracy: 0.9992 - val_loss: 0.0056 - val_accuracy: 0.9983 - lr: 1.0000e-04\n",
            "Epoch 162/500\n",
            "76/76 [==============================] - 1s 16ms/step - loss: 0.0028 - accuracy: 0.9992 - val_loss: 0.0056 - val_accuracy: 0.9983 - lr: 1.0000e-04\n"
          ]
        },
        {
          "output_type": "execute_result",
          "data": {
            "text/plain": [
              "<keras.callbacks.History at 0x7f697b377bb0>"
            ]
          },
          "metadata": {},
          "execution_count": 116
        }
      ]
    },
    {
      "cell_type": "code",
      "source": [
        "sig_model.compile(loss=tf.keras.losses.BinaryCrossentropy(),\n",
        "                  optimizer='adam',\n",
        "                  metrics='accuracy')"
      ],
      "metadata": {
        "id": "YD-63fX6bs9j"
      },
      "execution_count": null,
      "outputs": []
    },
    {
      "cell_type": "code",
      "source": [
        "callback_lst = [tf.keras.callbacks.EarlyStopping(patience=20,restore_best_weights=True),\n",
        "                tf.keras.callbacks.ReduceLROnPlateau(patience=10,min_lr=0.0001)]\n",
        "history_s = sig_model.fit(train_s,\n",
        "                          epochs=500,\n",
        "                          validation_data=test_s,\n",
        "                          callbacks=callback_lst)"
      ],
      "metadata": {
        "colab": {
          "base_uri": "https://localhost:8080/"
        },
        "id": "bmekzXJBbs6c",
        "outputId": "b7c15987-5aa8-496b-fd3f-a32612e42f9b"
      },
      "execution_count": null,
      "outputs": [
        {
          "output_type": "stream",
          "name": "stdout",
          "text": [
            "Epoch 1/500\n",
            "76/76 [==============================] - 15s 36ms/step - loss: 0.6469 - accuracy: 0.9306 - val_loss: 0.6026 - val_accuracy: 0.9302 - lr: 0.0010\n",
            "Epoch 2/500\n",
            "76/76 [==============================] - 1s 11ms/step - loss: 0.5417 - accuracy: 0.9618 - val_loss: 0.5020 - val_accuracy: 0.9302 - lr: 0.0010\n",
            "Epoch 3/500\n",
            "76/76 [==============================] - 1s 11ms/step - loss: 0.4345 - accuracy: 0.9618 - val_loss: 0.4109 - val_accuracy: 0.9302 - lr: 0.0010\n",
            "Epoch 4/500\n",
            "76/76 [==============================] - 1s 11ms/step - loss: 0.3465 - accuracy: 0.9618 - val_loss: 0.3429 - val_accuracy: 0.9302 - lr: 0.0010\n",
            "Epoch 5/500\n",
            "76/76 [==============================] - 1s 11ms/step - loss: 0.2840 - accuracy: 0.9618 - val_loss: 0.2992 - val_accuracy: 0.9302 - lr: 0.0010\n",
            "Epoch 6/500\n",
            "76/76 [==============================] - 1s 16ms/step - loss: 0.2388 - accuracy: 0.9618 - val_loss: 0.2737 - val_accuracy: 0.9302 - lr: 0.0010\n",
            "Epoch 7/500\n",
            "76/76 [==============================] - 1s 16ms/step - loss: 0.2118 - accuracy: 0.9618 - val_loss: 0.2608 - val_accuracy: 0.9302 - lr: 0.0010\n",
            "Epoch 8/500\n",
            "76/76 [==============================] - 1s 17ms/step - loss: 0.1979 - accuracy: 0.9618 - val_loss: 0.2549 - val_accuracy: 0.9302 - lr: 0.0010\n",
            "Epoch 9/500\n",
            "76/76 [==============================] - 1s 13ms/step - loss: 0.1917 - accuracy: 0.9618 - val_loss: 0.2531 - val_accuracy: 0.9302 - lr: 0.0010\n",
            "Epoch 10/500\n",
            "76/76 [==============================] - 1s 12ms/step - loss: 0.1843 - accuracy: 0.9618 - val_loss: 0.2533 - val_accuracy: 0.9302 - lr: 0.0010\n",
            "Epoch 11/500\n",
            "76/76 [==============================] - 1s 12ms/step - loss: 0.1830 - accuracy: 0.9618 - val_loss: 0.2545 - val_accuracy: 0.9302 - lr: 0.0010\n",
            "Epoch 12/500\n",
            "76/76 [==============================] - 1s 12ms/step - loss: 0.1805 - accuracy: 0.9618 - val_loss: 0.2559 - val_accuracy: 0.9302 - lr: 0.0010\n",
            "Epoch 13/500\n",
            "76/76 [==============================] - 1s 11ms/step - loss: 0.1744 - accuracy: 0.9618 - val_loss: 0.2575 - val_accuracy: 0.9302 - lr: 0.0010\n",
            "Epoch 14/500\n",
            "76/76 [==============================] - 1s 11ms/step - loss: 0.1734 - accuracy: 0.9618 - val_loss: 0.2591 - val_accuracy: 0.9302 - lr: 0.0010\n",
            "Epoch 15/500\n",
            "76/76 [==============================] - 1s 11ms/step - loss: 0.1813 - accuracy: 0.9618 - val_loss: 0.2600 - val_accuracy: 0.9302 - lr: 0.0010\n",
            "Epoch 16/500\n",
            "76/76 [==============================] - 1s 12ms/step - loss: 0.1712 - accuracy: 0.9618 - val_loss: 0.2612 - val_accuracy: 0.9302 - lr: 0.0010\n",
            "Epoch 17/500\n",
            "76/76 [==============================] - 1s 11ms/step - loss: 0.1773 - accuracy: 0.9618 - val_loss: 0.2618 - val_accuracy: 0.9302 - lr: 0.0010\n",
            "Epoch 18/500\n",
            "76/76 [==============================] - 1s 15ms/step - loss: 0.1733 - accuracy: 0.9618 - val_loss: 0.2625 - val_accuracy: 0.9302 - lr: 0.0010\n",
            "Epoch 19/500\n",
            "76/76 [==============================] - 1s 16ms/step - loss: 0.1743 - accuracy: 0.9618 - val_loss: 0.2632 - val_accuracy: 0.9302 - lr: 0.0010\n",
            "Epoch 20/500\n",
            "76/76 [==============================] - 1s 16ms/step - loss: 0.1738 - accuracy: 0.9618 - val_loss: 0.2632 - val_accuracy: 0.9302 - lr: 1.0000e-04\n",
            "Epoch 21/500\n",
            "76/76 [==============================] - 1s 15ms/step - loss: 0.1737 - accuracy: 0.9618 - val_loss: 0.2633 - val_accuracy: 0.9302 - lr: 1.0000e-04\n",
            "Epoch 22/500\n",
            "76/76 [==============================] - 1s 11ms/step - loss: 0.1759 - accuracy: 0.9618 - val_loss: 0.2634 - val_accuracy: 0.9302 - lr: 1.0000e-04\n",
            "Epoch 23/500\n",
            "76/76 [==============================] - 1s 11ms/step - loss: 0.1722 - accuracy: 0.9618 - val_loss: 0.2634 - val_accuracy: 0.9302 - lr: 1.0000e-04\n",
            "Epoch 24/500\n",
            "76/76 [==============================] - 1s 11ms/step - loss: 0.1746 - accuracy: 0.9618 - val_loss: 0.2634 - val_accuracy: 0.9302 - lr: 1.0000e-04\n",
            "Epoch 25/500\n",
            "76/76 [==============================] - 1s 12ms/step - loss: 0.1719 - accuracy: 0.9618 - val_loss: 0.2635 - val_accuracy: 0.9302 - lr: 1.0000e-04\n",
            "Epoch 26/500\n",
            "76/76 [==============================] - 1s 12ms/step - loss: 0.1730 - accuracy: 0.9618 - val_loss: 0.2635 - val_accuracy: 0.9302 - lr: 1.0000e-04\n",
            "Epoch 27/500\n",
            "76/76 [==============================] - 1s 11ms/step - loss: 0.1810 - accuracy: 0.9618 - val_loss: 0.2635 - val_accuracy: 0.9302 - lr: 1.0000e-04\n",
            "Epoch 28/500\n",
            "76/76 [==============================] - 1s 11ms/step - loss: 0.1703 - accuracy: 0.9618 - val_loss: 0.2636 - val_accuracy: 0.9302 - lr: 1.0000e-04\n",
            "Epoch 29/500\n",
            "76/76 [==============================] - 1s 11ms/step - loss: 0.1764 - accuracy: 0.9618 - val_loss: 0.2636 - val_accuracy: 0.9302 - lr: 1.0000e-04\n"
          ]
        }
      ]
    },
    {
      "cell_type": "code",
      "source": [
        "test['sigmoid'].value_counts()"
      ],
      "metadata": {
        "colab": {
          "base_uri": "https://localhost:8080/"
        },
        "id": "_Ovi6qBHFNt4",
        "outputId": "0f645ea6-8dbe-4bd4-f2ed-5345ea88c6f5"
      },
      "execution_count": null,
      "outputs": [
        {
          "output_type": "execute_result",
          "data": {
            "text/plain": [
              "0.0    2932\n",
              "1.0      77\n",
              "Name: sigmoid, dtype: int64"
            ]
          },
          "metadata": {},
          "execution_count": 125
        }
      ]
    },
    {
      "cell_type": "code",
      "source": [
        "(pnl*test['tanh']).value_counts()"
      ],
      "metadata": {
        "colab": {
          "base_uri": "https://localhost:8080/"
        },
        "id": "pfVbU8HDBVce",
        "outputId": "e57bafc3-274e-4d15-ff62-81a2b9110db0"
      },
      "execution_count": null,
      "outputs": [
        {
          "output_type": "execute_result",
          "data": {
            "text/plain": [
              "0.0    2875\n",
              "1.0     134\n",
              "dtype: int64"
            ]
          },
          "metadata": {},
          "execution_count": 72
        }
      ]
    },
    {
      "cell_type": "code",
      "source": [],
      "metadata": {
        "id": "nlJmP24NBVZJ"
      },
      "execution_count": null,
      "outputs": []
    },
    {
      "cell_type": "code",
      "source": [],
      "metadata": {
        "id": "XHGCq-HpBVVp"
      },
      "execution_count": null,
      "outputs": []
    },
    {
      "cell_type": "code",
      "source": [
        "def plot_hist(hist):\n",
        "  h_df = pd.DataFrame(hist)\n",
        "  fig = plt.figure(figsize=(10,5))\n",
        "  axs = fig.subplots(1,2,gridspec_kw={'wspace':0.5,'width_ratios':[2,2]})\n",
        "  axs[0].plot(h_df['loss'],label='train_loss',color='b')\n",
        "  axs[0].plot(h_df['val_loss'],label='val_loss',color='r')\n",
        "  axs[0].set(xlabel='epochs',ylabel='loss')\n",
        "  axs[0].legend()\n",
        "  axs[1].plot(h_df['accuracy'],label='train_acc',color='b')\n",
        "  axs[1].plot(h_df['val_accuracy'],label='val_acc',color='r')\n",
        "  axs[1].set(xlabel='epochs',ylabel='accuracy')\n",
        "  plt.legend()\n",
        "  plt.show()"
      ],
      "metadata": {
        "id": "rFJ8s5W-30A4"
      },
      "execution_count": null,
      "outputs": []
    },
    {
      "cell_type": "code",
      "source": [
        "# Features Data\n",
        "feature_ls = [f't{i}' for i in range(-19,0)] + ['log_returns']\n",
        "\n",
        "x_ds = tata_ds[feature_ls]\n",
        "y_ds = tata_ds['final_targets'].replace(to_replace=[-1,0,1],value=[1,-1,0]).to_numpy().astype(np.int32)\n",
        "y_ds = tf.one_hot(y_ds,depth=2)\n",
        "\n",
        "split_len = int(0.8*len(x_ds))\n",
        "\n",
        "train_x,test_x = x_ds.iloc[:split_len],x_ds.iloc[split_len:]\n",
        "train_y, test_y = y_ds[:split_len],y_ds[split_len:]\n",
        "\n",
        "x_train = tf.data.Dataset.from_tensor_slices(train_x)\n",
        "x_test = tf.data.Dataset.from_tensor_slices(test_x)\n",
        "y_train = tf.data.Dataset.from_tensor_slices(train_y)\n",
        "y_test = tf.data.Dataset.from_tensor_slices(test_y)\n",
        "\n",
        "train_data = tf.data.Dataset.zip((x_train,y_train))\n",
        "test_data = tf.data.Dataset.zip((x_test,y_test))\n",
        "\n",
        "train_data = train_data.batch(32).prefetch(tf.data.AUTOTUNE)\n",
        "test_data = test_data.batch(32).prefetch(tf.data.AUTOTUNE)\n",
        "\n",
        "normalizer = tf.keras.layers.Normalization(axis=-1)\n",
        "normalizer.adapt(x_ds)"
      ],
      "metadata": {
        "id": "Bol4ooEYpeJ5"
      },
      "execution_count": null,
      "outputs": []
    },
    {
      "cell_type": "code",
      "source": [
        "inputs_1 = tf.keras.layers.Input(shape=(20,))\n",
        "# x = normalizer(inputs_1)\n",
        "x = tf.keras.layers.Reshape((1,20),input_shape=(20,))(inputs_1)\n",
        "x = tf.keras.layers.LSTM(20,return_sequences=True)(x)\n",
        "x = tf.keras.layers.LSTM(32,return_sequences=True)(x)\n",
        "x = tf.keras.layers.LSTM(16,return_sequences=True)(x)\n",
        "x = tf.keras.layers.LSTM(8,return_sequences=True)(x)\n",
        "x = tf.keras.layers.LSTM(4,return_sequences=True)(x)\n",
        "outputs_1 = tf.keras.layers.LSTM(2,return_sequences=False,activation='softmax')(x)\n",
        "model_1 = tf.keras.Model(inputs=inputs_1,outputs=outputs_1)"
      ],
      "metadata": {
        "id": "vQyQtpi7Hx-A"
      },
      "execution_count": null,
      "outputs": []
    },
    {
      "cell_type": "code",
      "source": [
        "model_1.compile(loss=tf.keras.losses.CategoricalCrossentropy(),\n",
        "                optimizer='adam',\n",
        "                metrics=['accuracy'])"
      ],
      "metadata": {
        "id": "hKIuChi-LEUT"
      },
      "execution_count": null,
      "outputs": []
    },
    {
      "cell_type": "code",
      "source": [
        "history_1=model_1.fit(train_data,\n",
        "            epochs=50,\n",
        "            validation_data=test_data)"
      ],
      "metadata": {
        "colab": {
          "base_uri": "https://localhost:8080/"
        },
        "id": "OreL_ousL2bh",
        "outputId": "48267bb7-13f0-4c29-8785-f9f6c63ce029"
      },
      "execution_count": null,
      "outputs": [
        {
          "output_type": "stream",
          "name": "stdout",
          "text": [
            "Epoch 1/50\n",
            "75/75 [==============================] - 16s 43ms/step - loss: 0.3245 - accuracy: 0.6169 - val_loss: 0.4092 - val_accuracy: 0.2709\n",
            "Epoch 2/50\n",
            "75/75 [==============================] - 1s 16ms/step - loss: 0.3245 - accuracy: 0.3798 - val_loss: 0.4094 - val_accuracy: 0.2709\n",
            "Epoch 3/50\n",
            "75/75 [==============================] - 1s 19ms/step - loss: 0.3244 - accuracy: 0.2401 - val_loss: 0.4095 - val_accuracy: 0.2709\n",
            "Epoch 4/50\n",
            "75/75 [==============================] - 1s 14ms/step - loss: 0.3244 - accuracy: 0.2401 - val_loss: 0.4097 - val_accuracy: 0.2709\n",
            "Epoch 5/50\n",
            "75/75 [==============================] - 1s 14ms/step - loss: 0.3244 - accuracy: 0.2401 - val_loss: 0.4098 - val_accuracy: 0.2709\n",
            "Epoch 6/50\n",
            "75/75 [==============================] - 1s 15ms/step - loss: 0.3244 - accuracy: 0.2401 - val_loss: 0.4099 - val_accuracy: 0.2709\n",
            "Epoch 7/50\n",
            "75/75 [==============================] - 1s 14ms/step - loss: 0.3244 - accuracy: 0.2401 - val_loss: 0.4100 - val_accuracy: 0.2709\n",
            "Epoch 8/50\n",
            "75/75 [==============================] - 1s 14ms/step - loss: 0.3244 - accuracy: 0.2401 - val_loss: 0.4101 - val_accuracy: 0.2709\n",
            "Epoch 9/50\n",
            "75/75 [==============================] - 1s 13ms/step - loss: 0.3244 - accuracy: 0.2401 - val_loss: 0.4102 - val_accuracy: 0.2709\n",
            "Epoch 10/50\n",
            "75/75 [==============================] - 1s 14ms/step - loss: 0.3244 - accuracy: 0.2401 - val_loss: 0.4102 - val_accuracy: 0.2709\n",
            "Epoch 11/50\n",
            "75/75 [==============================] - 1s 13ms/step - loss: 0.3243 - accuracy: 0.2401 - val_loss: 0.4103 - val_accuracy: 0.2709\n",
            "Epoch 12/50\n",
            "75/75 [==============================] - 2s 27ms/step - loss: 0.3243 - accuracy: 0.2401 - val_loss: 0.4104 - val_accuracy: 0.2709\n",
            "Epoch 13/50\n",
            "75/75 [==============================] - 2s 19ms/step - loss: 0.3243 - accuracy: 0.2401 - val_loss: 0.4104 - val_accuracy: 0.2709\n",
            "Epoch 14/50\n",
            "75/75 [==============================] - 1s 14ms/step - loss: 0.3243 - accuracy: 0.2401 - val_loss: 0.4105 - val_accuracy: 0.2709\n",
            "Epoch 15/50\n",
            "75/75 [==============================] - 1s 13ms/step - loss: 0.3243 - accuracy: 0.2401 - val_loss: 0.4105 - val_accuracy: 0.2709\n",
            "Epoch 16/50\n",
            "75/75 [==============================] - 1s 14ms/step - loss: 0.3243 - accuracy: 0.2401 - val_loss: 0.4105 - val_accuracy: 0.2709\n",
            "Epoch 17/50\n",
            "75/75 [==============================] - 1s 13ms/step - loss: 0.3243 - accuracy: 0.2401 - val_loss: 0.4106 - val_accuracy: 0.2709\n",
            "Epoch 18/50\n",
            "75/75 [==============================] - 1s 14ms/step - loss: 0.3243 - accuracy: 0.2401 - val_loss: 0.4106 - val_accuracy: 0.2709\n",
            "Epoch 19/50\n",
            "75/75 [==============================] - 1s 13ms/step - loss: 0.3243 - accuracy: 0.2401 - val_loss: 0.4106 - val_accuracy: 0.2709\n",
            "Epoch 20/50\n",
            "75/75 [==============================] - 1s 14ms/step - loss: 0.3243 - accuracy: 0.2401 - val_loss: 0.4106 - val_accuracy: 0.2709\n",
            "Epoch 21/50\n",
            "75/75 [==============================] - 1s 14ms/step - loss: 0.3243 - accuracy: 0.2401 - val_loss: 0.4106 - val_accuracy: 0.2709\n",
            "Epoch 22/50\n",
            "75/75 [==============================] - 1s 18ms/step - loss: 0.3243 - accuracy: 0.2401 - val_loss: 0.4107 - val_accuracy: 0.2709\n",
            "Epoch 23/50\n",
            "75/75 [==============================] - 1s 18ms/step - loss: 0.3243 - accuracy: 0.2401 - val_loss: 0.4107 - val_accuracy: 0.2709\n",
            "Epoch 24/50\n",
            "75/75 [==============================] - 1s 13ms/step - loss: 0.3243 - accuracy: 0.2401 - val_loss: 0.4107 - val_accuracy: 0.2709\n",
            "Epoch 25/50\n",
            "75/75 [==============================] - 1s 14ms/step - loss: 0.3243 - accuracy: 0.2401 - val_loss: 0.4107 - val_accuracy: 0.2709\n",
            "Epoch 26/50\n",
            "75/75 [==============================] - 1s 14ms/step - loss: 0.3243 - accuracy: 0.2401 - val_loss: 0.4107 - val_accuracy: 0.2709\n",
            "Epoch 27/50\n",
            "75/75 [==============================] - 1s 14ms/step - loss: 0.3243 - accuracy: 0.2401 - val_loss: 0.4107 - val_accuracy: 0.2709\n",
            "Epoch 28/50\n",
            "75/75 [==============================] - 1s 13ms/step - loss: 0.3243 - accuracy: 0.2401 - val_loss: 0.4107 - val_accuracy: 0.2709\n",
            "Epoch 29/50\n",
            "75/75 [==============================] - 1s 14ms/step - loss: 0.3243 - accuracy: 0.2401 - val_loss: 0.4107 - val_accuracy: 0.2709\n",
            "Epoch 30/50\n",
            "75/75 [==============================] - 1s 14ms/step - loss: 0.3243 - accuracy: 0.2401 - val_loss: 0.4107 - val_accuracy: 0.2709\n",
            "Epoch 31/50\n",
            "75/75 [==============================] - 1s 17ms/step - loss: 0.3243 - accuracy: 0.2401 - val_loss: 0.4108 - val_accuracy: 0.2709\n",
            "Epoch 32/50\n",
            "75/75 [==============================] - 1s 19ms/step - loss: 0.3243 - accuracy: 0.2401 - val_loss: 0.4108 - val_accuracy: 0.2709\n",
            "Epoch 33/50\n",
            "75/75 [==============================] - 1s 14ms/step - loss: 0.3243 - accuracy: 0.2401 - val_loss: 0.4108 - val_accuracy: 0.2709\n",
            "Epoch 34/50\n",
            "75/75 [==============================] - 1s 13ms/step - loss: 0.3243 - accuracy: 0.2401 - val_loss: 0.4108 - val_accuracy: 0.2709\n",
            "Epoch 35/50\n",
            "75/75 [==============================] - 1s 14ms/step - loss: 0.3243 - accuracy: 0.2401 - val_loss: 0.4108 - val_accuracy: 0.2709\n",
            "Epoch 36/50\n",
            "75/75 [==============================] - 1s 13ms/step - loss: 0.3243 - accuracy: 0.2401 - val_loss: 0.4108 - val_accuracy: 0.2709\n",
            "Epoch 37/50\n",
            "75/75 [==============================] - 1s 14ms/step - loss: 0.3243 - accuracy: 0.2401 - val_loss: 0.4108 - val_accuracy: 0.2709\n",
            "Epoch 38/50\n",
            "75/75 [==============================] - 1s 14ms/step - loss: 0.3243 - accuracy: 0.2401 - val_loss: 0.4108 - val_accuracy: 0.2709\n",
            "Epoch 39/50\n",
            "75/75 [==============================] - 1s 13ms/step - loss: 0.3243 - accuracy: 0.2401 - val_loss: 0.4108 - val_accuracy: 0.2709\n",
            "Epoch 40/50\n",
            "75/75 [==============================] - 1s 19ms/step - loss: 0.3243 - accuracy: 0.2401 - val_loss: 0.4108 - val_accuracy: 0.2709\n",
            "Epoch 41/50\n",
            "75/75 [==============================] - 2s 20ms/step - loss: 0.3243 - accuracy: 0.2401 - val_loss: 0.4108 - val_accuracy: 0.2709\n",
            "Epoch 42/50\n",
            "75/75 [==============================] - 1s 13ms/step - loss: 0.3243 - accuracy: 0.2401 - val_loss: 0.4108 - val_accuracy: 0.2709\n",
            "Epoch 43/50\n",
            "75/75 [==============================] - 1s 13ms/step - loss: 0.3243 - accuracy: 0.2401 - val_loss: 0.4108 - val_accuracy: 0.2709\n",
            "Epoch 44/50\n",
            "75/75 [==============================] - 1s 13ms/step - loss: 0.3243 - accuracy: 0.2401 - val_loss: 0.4108 - val_accuracy: 0.2709\n",
            "Epoch 45/50\n",
            "75/75 [==============================] - 1s 15ms/step - loss: 0.3243 - accuracy: 0.2401 - val_loss: 0.4108 - val_accuracy: 0.2709\n",
            "Epoch 46/50\n",
            "75/75 [==============================] - 1s 14ms/step - loss: 0.3243 - accuracy: 0.2401 - val_loss: 0.4108 - val_accuracy: 0.2709\n",
            "Epoch 47/50\n",
            "75/75 [==============================] - 1s 13ms/step - loss: 0.3243 - accuracy: 0.2401 - val_loss: 0.4108 - val_accuracy: 0.2709\n",
            "Epoch 48/50\n",
            "75/75 [==============================] - 1s 13ms/step - loss: 0.3243 - accuracy: 0.2401 - val_loss: 0.4108 - val_accuracy: 0.2709\n",
            "Epoch 49/50\n",
            "75/75 [==============================] - 1s 14ms/step - loss: 0.3243 - accuracy: 0.2401 - val_loss: 0.4108 - val_accuracy: 0.2709\n",
            "Epoch 50/50\n",
            "75/75 [==============================] - 2s 20ms/step - loss: 0.3243 - accuracy: 0.2401 - val_loss: 0.4108 - val_accuracy: 0.2709\n"
          ]
        }
      ]
    },
    {
      "cell_type": "code",
      "source": [
        "plot_hist(history_1.history)"
      ],
      "metadata": {
        "colab": {
          "base_uri": "https://localhost:8080/",
          "height": 334
        },
        "id": "cWki9FAtNoOa",
        "outputId": "c4b5752e-cddf-4fbe-8d7d-af5674af536d"
      },
      "execution_count": null,
      "outputs": [
        {
          "output_type": "display_data",
          "data": {
            "text/plain": [
              "<Figure size 720x360 with 2 Axes>"
            ],
            "image/png": "[encoded data removed]"
          },
          "metadata": {
            "needs_background": "light"
          }
        }
      ]
    },
    {
      "cell_type": "code",
      "source": [
        "inputs_2 = tf.keras.layers.Input(shape=(20,))\n",
        "x = normalizer(inputs_2)\n",
        "x = tf.keras.layers.Reshape((1,20),input_shape=(20,))(x)\n",
        "x = tf.keras.layers.LSTM(128,return_sequences=True,dropout=0.2)(x)\n",
        "x = tf.keras.layers.LSTM(64,return_sequences=True,dropout=0.2)(x)\n",
        "x = tf.keras.layers.LSTM(32,return_sequences=True,dropout=0.2)(x)\n",
        "x = tf.keras.layers.LSTM(8,return_sequences=True,dropout=0.2)(x)\n",
        "x = tf.keras.layers.Dense(2,activation='softmax')(x)\n",
        "outputs_2 = tf.keras.layers.Reshape((2,),input_shape=(1,2))(x)\n",
        "model_2 = tf.keras.Model(inputs=inputs_2,outputs=outputs_2)"
      ],
      "metadata": {
        "id": "5yUlqA05SZ2Z"
      },
      "execution_count": null,
      "outputs": []
    },
    {
      "cell_type": "code",
      "source": [
        "model_2.compile(loss=tf.keras.losses.CategoricalCrossentropy(),\n",
        "                optimizer='adam',\n",
        "                metrics=['accuracy'])"
      ],
      "metadata": {
        "id": "nAFbETHYWbiK"
      },
      "execution_count": null,
      "outputs": []
    },
    {
      "cell_type": "code",
      "source": [
        "history_2 = model_2.fit(train_data,\n",
        "            epochs=50,\n",
        "            validation_data=test_data)"
      ],
      "metadata": {
        "colab": {
          "base_uri": "https://localhost:8080/"
        },
        "id": "SfjuIEeWW34j",
        "outputId": "3122cd28-b12c-43db-97ad-b0e3c696bb42"
      },
      "execution_count": null,
      "outputs": [
        {
          "output_type": "stream",
          "name": "stdout",
          "text": [
            "Epoch 1/50\n",
            "75/75 [==============================] - 13s 38ms/step - loss: 0.3247 - accuracy: 0.6223 - val_loss: 0.4093 - val_accuracy: 0.2860\n",
            "Epoch 2/50\n",
            "75/75 [==============================] - 2s 20ms/step - loss: 0.3244 - accuracy: 0.3823 - val_loss: 0.4095 - val_accuracy: 0.2726\n",
            "Epoch 3/50\n",
            "75/75 [==============================] - 1s 18ms/step - loss: 0.3243 - accuracy: 0.3513 - val_loss: 0.4094 - val_accuracy: 0.3144\n",
            "Epoch 4/50\n",
            "75/75 [==============================] - 1s 13ms/step - loss: 0.3239 - accuracy: 0.4262 - val_loss: 0.4087 - val_accuracy: 0.3913\n",
            "Epoch 5/50\n",
            "75/75 [==============================] - 1s 13ms/step - loss: 0.3228 - accuracy: 0.4672 - val_loss: 0.4071 - val_accuracy: 0.4615\n",
            "Epoch 6/50\n",
            "75/75 [==============================] - 1s 13ms/step - loss: 0.3220 - accuracy: 0.4818 - val_loss: 0.4068 - val_accuracy: 0.4666\n",
            "Epoch 7/50\n",
            "75/75 [==============================] - 1s 14ms/step - loss: 0.3188 - accuracy: 0.4893 - val_loss: 0.4073 - val_accuracy: 0.4398\n",
            "Epoch 8/50\n",
            "75/75 [==============================] - 1s 14ms/step - loss: 0.3163 - accuracy: 0.4956 - val_loss: 0.4064 - val_accuracy: 0.4615\n",
            "Epoch 9/50\n",
            "75/75 [==============================] - 1s 14ms/step - loss: 0.3127 - accuracy: 0.4960 - val_loss: 0.4076 - val_accuracy: 0.3896\n",
            "Epoch 10/50\n",
            "75/75 [==============================] - 1s 15ms/step - loss: 0.3103 - accuracy: 0.4755 - val_loss: 0.4069 - val_accuracy: 0.3896\n",
            "Epoch 11/50\n",
            "75/75 [==============================] - 1s 17ms/step - loss: 0.3055 - accuracy: 0.4864 - val_loss: 0.4116 - val_accuracy: 0.4013\n",
            "Epoch 12/50\n",
            "75/75 [==============================] - 2s 20ms/step - loss: 0.3044 - accuracy: 0.4676 - val_loss: 0.4131 - val_accuracy: 0.3846\n",
            "Epoch 13/50\n",
            "75/75 [==============================] - 1s 14ms/step - loss: 0.3030 - accuracy: 0.4751 - val_loss: 0.4115 - val_accuracy: 0.4181\n",
            "Epoch 14/50\n",
            "75/75 [==============================] - 1s 14ms/step - loss: 0.2964 - accuracy: 0.5002 - val_loss: 0.4163 - val_accuracy: 0.3930\n",
            "Epoch 15/50\n",
            "75/75 [==============================] - 1s 14ms/step - loss: 0.2984 - accuracy: 0.4764 - val_loss: 0.4205 - val_accuracy: 0.4064\n",
            "Epoch 16/50\n",
            "75/75 [==============================] - 1s 14ms/step - loss: 0.2944 - accuracy: 0.4797 - val_loss: 0.4238 - val_accuracy: 0.3813\n",
            "Epoch 17/50\n",
            "75/75 [==============================] - 1s 13ms/step - loss: 0.2918 - accuracy: 0.4902 - val_loss: 0.4264 - val_accuracy: 0.3896\n",
            "Epoch 18/50\n",
            "75/75 [==============================] - 1s 14ms/step - loss: 0.2890 - accuracy: 0.4872 - val_loss: 0.4262 - val_accuracy: 0.4047\n",
            "Epoch 19/50\n",
            "75/75 [==============================] - 1s 14ms/step - loss: 0.2980 - accuracy: 0.4718 - val_loss: 0.4220 - val_accuracy: 0.3813\n",
            "Epoch 20/50\n",
            "75/75 [==============================] - 1s 15ms/step - loss: 0.2974 - accuracy: 0.4739 - val_loss: 0.4211 - val_accuracy: 0.4030\n",
            "Epoch 21/50\n",
            "75/75 [==============================] - 1s 19ms/step - loss: 0.2905 - accuracy: 0.4822 - val_loss: 0.4238 - val_accuracy: 0.3880\n",
            "Epoch 22/50\n",
            "75/75 [==============================] - 2s 21ms/step - loss: 0.2906 - accuracy: 0.4810 - val_loss: 0.4299 - val_accuracy: 0.3963\n",
            "Epoch 23/50\n",
            "75/75 [==============================] - 1s 14ms/step - loss: 0.2946 - accuracy: 0.4977 - val_loss: 0.4286 - val_accuracy: 0.3896\n",
            "Epoch 24/50\n",
            "75/75 [==============================] - 1s 13ms/step - loss: 0.2925 - accuracy: 0.4764 - val_loss: 0.4301 - val_accuracy: 0.3930\n",
            "Epoch 25/50\n",
            "75/75 [==============================] - 1s 14ms/step - loss: 0.2856 - accuracy: 0.4902 - val_loss: 0.4362 - val_accuracy: 0.4130\n",
            "Epoch 26/50\n",
            "75/75 [==============================] - 1s 14ms/step - loss: 0.2807 - accuracy: 0.4939 - val_loss: 0.4391 - val_accuracy: 0.3846\n",
            "Epoch 27/50\n",
            "75/75 [==============================] - 1s 13ms/step - loss: 0.2864 - accuracy: 0.4785 - val_loss: 0.4372 - val_accuracy: 0.3829\n",
            "Epoch 28/50\n",
            "75/75 [==============================] - 1s 14ms/step - loss: 0.2840 - accuracy: 0.4944 - val_loss: 0.4384 - val_accuracy: 0.3896\n",
            "Epoch 29/50\n",
            "75/75 [==============================] - 1s 13ms/step - loss: 0.2909 - accuracy: 0.4910 - val_loss: 0.4349 - val_accuracy: 0.3846\n",
            "Epoch 30/50\n",
            "75/75 [==============================] - 1s 14ms/step - loss: 0.2838 - accuracy: 0.5077 - val_loss: 0.4451 - val_accuracy: 0.4030\n",
            "Epoch 31/50\n",
            "75/75 [==============================] - 1s 20ms/step - loss: 0.2809 - accuracy: 0.4923 - val_loss: 0.4435 - val_accuracy: 0.3863\n",
            "Epoch 32/50\n",
            "75/75 [==============================] - 1s 18ms/step - loss: 0.2776 - accuracy: 0.4931 - val_loss: 0.4434 - val_accuracy: 0.3846\n",
            "Epoch 33/50\n",
            "75/75 [==============================] - 1s 14ms/step - loss: 0.2682 - accuracy: 0.5098 - val_loss: 0.4502 - val_accuracy: 0.4047\n",
            "Epoch 34/50\n",
            "75/75 [==============================] - 1s 14ms/step - loss: 0.2752 - accuracy: 0.5102 - val_loss: 0.4509 - val_accuracy: 0.4080\n",
            "Epoch 35/50\n",
            "75/75 [==============================] - 1s 13ms/step - loss: 0.2834 - accuracy: 0.5048 - val_loss: 0.4464 - val_accuracy: 0.3863\n",
            "Epoch 36/50\n",
            "75/75 [==============================] - 1s 13ms/step - loss: 0.2772 - accuracy: 0.5128 - val_loss: 0.4481 - val_accuracy: 0.3930\n",
            "Epoch 37/50\n",
            "75/75 [==============================] - 1s 14ms/step - loss: 0.2771 - accuracy: 0.5123 - val_loss: 0.4537 - val_accuracy: 0.4080\n",
            "Epoch 38/50\n",
            "75/75 [==============================] - 1s 14ms/step - loss: 0.2762 - accuracy: 0.5061 - val_loss: 0.4537 - val_accuracy: 0.3980\n",
            "Epoch 39/50\n",
            "75/75 [==============================] - 1s 14ms/step - loss: 0.2721 - accuracy: 0.5136 - val_loss: 0.4639 - val_accuracy: 0.4064\n",
            "Epoch 40/50\n",
            "75/75 [==============================] - 1s 17ms/step - loss: 0.2752 - accuracy: 0.4998 - val_loss: 0.4604 - val_accuracy: 0.3829\n",
            "Epoch 41/50\n",
            "75/75 [==============================] - 2s 26ms/step - loss: 0.2772 - accuracy: 0.5019 - val_loss: 0.4619 - val_accuracy: 0.4047\n",
            "Epoch 42/50\n",
            "75/75 [==============================] - 1s 14ms/step - loss: 0.2694 - accuracy: 0.5115 - val_loss: 0.4716 - val_accuracy: 0.3963\n",
            "Epoch 43/50\n",
            "75/75 [==============================] - 1s 14ms/step - loss: 0.2662 - accuracy: 0.5190 - val_loss: 0.4662 - val_accuracy: 0.3946\n",
            "Epoch 44/50\n",
            "75/75 [==============================] - 1s 13ms/step - loss: 0.2707 - accuracy: 0.5107 - val_loss: 0.4640 - val_accuracy: 0.3863\n",
            "Epoch 45/50\n",
            "75/75 [==============================] - 1s 13ms/step - loss: 0.2712 - accuracy: 0.5220 - val_loss: 0.4679 - val_accuracy: 0.3896\n",
            "Epoch 46/50\n",
            "75/75 [==============================] - 1s 14ms/step - loss: 0.2661 - accuracy: 0.5249 - val_loss: 0.4717 - val_accuracy: 0.4097\n",
            "Epoch 47/50\n",
            "75/75 [==============================] - 1s 14ms/step - loss: 0.2733 - accuracy: 0.5332 - val_loss: 0.4641 - val_accuracy: 0.4013\n",
            "Epoch 48/50\n",
            "75/75 [==============================] - 1s 14ms/step - loss: 0.2683 - accuracy: 0.5186 - val_loss: 0.4734 - val_accuracy: 0.4013\n",
            "Epoch 49/50\n",
            "75/75 [==============================] - 1s 15ms/step - loss: 0.2619 - accuracy: 0.5274 - val_loss: 0.4822 - val_accuracy: 0.4013\n",
            "Epoch 50/50\n",
            "75/75 [==============================] - 1s 20ms/step - loss: 0.2693 - accuracy: 0.5303 - val_loss: 0.4799 - val_accuracy: 0.4197\n"
          ]
        }
      ]
    },
    {
      "cell_type": "code",
      "source": [
        "plot_hist(history_2.history)"
      ],
      "metadata": {
        "colab": {
          "base_uri": "https://localhost:8080/",
          "height": 334
        },
        "id": "hhzlApGHXzJz",
        "outputId": "80fe8f1b-4887-4b5c-c2ec-2fa4bbec8afc"
      },
      "execution_count": null,
      "outputs": [
        {
          "output_type": "display_data",
          "data": {
            "text/plain": [
              "<Figure size 720x360 with 2 Axes>"
            ],
            "image/png": "[encoded data removed]"
          },
          "metadata": {
            "needs_background": "light"
          }
        }
      ]
    },
    {
      "cell_type": "code",
      "source": [],
      "metadata": {
        "id": "NqlhYJHv9IBS"
      },
      "execution_count": null,
      "outputs": []
    },
    {
      "cell_type": "code",
      "source": [
        "import pandas as pd\n",
        "stock_data = pd.read_excel('/content/drive/MyDrive/STOCK_DATA.xlsx',header=[0,1],index_col=[0],parse_dates=True)"
      ],
      "metadata": {
        "id": "4E70qTJv9H-4"
      },
      "execution_count": null,
      "outputs": []
    },
    {
      "cell_type": "code",
      "source": [
        "stock_data.head()"
      ],
      "metadata": {
        "colab": {
          "base_uri": "https://localhost:8080/",
          "height": 388
        },
        "id": "Gzs6hOov9H8M",
        "outputId": "22040f8e-a41c-4102-a04b-aaede282dd7d"
      },
      "execution_count": null,
      "outputs": [
        {
          "output_type": "execute_result",
          "data": {
            "text/plain": [
              "                               INFY.NS                                         \\\n",
              "Datetime                     Adj Close        Close         High          Low   \n",
              "2023-03-16 09:15:00+05:30  1411.099976  1411.099976  1416.750000  1411.000000   \n",
              "2023-03-16 09:16:00+05:30  1408.150024  1408.150024  1410.900024  1408.000000   \n",
              "2023-03-16 09:17:00+05:30  1402.500000  1402.500000  1407.800049  1400.849976   \n",
              "2023-03-16 09:18:00+05:30  1403.000000  1403.000000  1403.199951  1399.150024   \n",
              "2023-03-16 09:19:00+05:30  1400.800049  1400.800049  1403.000000  1399.050049   \n",
              "\n",
              "                                                RELIANCE.NS               \\\n",
              "Datetime                          Open  Volume    Adj Close        Close   \n",
              "2023-03-16 09:15:00+05:30  1416.750000       0  2228.949951  2228.949951   \n",
              "2023-03-16 09:16:00+05:30  1410.800049   59611  2235.000000  2235.000000   \n",
              "2023-03-16 09:17:00+05:30  1407.699951  106612  2227.399902  2227.399902   \n",
              "2023-03-16 09:18:00+05:30  1402.050049  104405  2224.550049  2224.550049   \n",
              "2023-03-16 09:19:00+05:30  1403.000000   74492  2222.750000  2222.750000   \n",
              "\n",
              "                                                                          \\\n",
              "Datetime                          High          Low         Open  Volume   \n",
              "2023-03-16 09:15:00+05:30  2243.949951  2227.800049  2243.000000       0   \n",
              "2023-03-16 09:16:00+05:30  2235.350098  2229.000000  2229.850098   53241   \n",
              "2023-03-16 09:17:00+05:30  2234.149902  2227.399902  2233.600098   57327   \n",
              "2023-03-16 09:18:00+05:30  2227.500000  2221.149902  2227.399902   75079   \n",
              "2023-03-16 09:19:00+05:30  2225.899902  2222.449951  2224.850098  100588   \n",
              "\n",
              "                          TATAMOTORS.NS                                      \\\n",
              "Datetime                      Adj Close       Close        High         Low   \n",
              "2023-03-16 09:15:00+05:30    411.799988  411.799988  413.200012  409.850006   \n",
              "2023-03-16 09:16:00+05:30    411.850006  411.850006  412.500000  411.250000   \n",
              "2023-03-16 09:17:00+05:30    411.299988  411.299988  411.750000  410.600006   \n",
              "2023-03-16 09:18:00+05:30    412.649994  412.649994  412.750000  410.500000   \n",
              "2023-03-16 09:19:00+05:30    412.200012  412.200012  413.399994  411.850006   \n",
              "\n",
              "                                               \n",
              "Datetime                         Open  Volume  \n",
              "2023-03-16 09:15:00+05:30  413.049988       0  \n",
              "2023-03-16 09:16:00+05:30  411.649994  107956  \n",
              "2023-03-16 09:17:00+05:30  411.750000   63792  \n",
              "2023-03-16 09:18:00+05:30  411.299988  115611  \n",
              "2023-03-16 09:19:00+05:30  412.899994   66974  "
            ],
            "text/html": [
              "\n",
              "  <div id=\"df-b0c4af43-f917-434a-9404-14477af4fe64\">\n",
              "    <div class=\"colab-df-container\">\n",
              "      <div>\n",
              "<style scoped>\n",
              "    .dataframe tbody tr th:only-of-type {\n",
              "        vertical-align: middle;\n",
              "    }\n",
              "\n",
              "    .dataframe tbody tr th {\n",
              "        vertical-align: top;\n",
              "    }\n",
              "\n",
              "    .dataframe thead tr th {\n",
              "        text-align: left;\n",
              "    }\n",
              "</style>\n",
              "<table border=\"1\" class=\"dataframe\">\n",
              "  <thead>\n",
              "    <tr>\n",
              "      <th></th>\n",
              "      <th colspan=\"6\" halign=\"left\">INFY.NS</th>\n",
              "      <th colspan=\"6\" halign=\"left\">RELIANCE.NS</th>\n",
              "      <th colspan=\"6\" halign=\"left\">TATAMOTORS.NS</th>\n",
              "    </tr>\n",
              "    <tr>\n",
              "      <th>Datetime</th>\n",
              "      <th>Adj Close</th>\n",
              "      <th>Close</th>\n",
              "      <th>High</th>\n",
              "      <th>Low</th>\n",
              "      <th>Open</th>\n",
              "      <th>Volume</th>\n",
              "      <th>Adj Close</th>\n",
              "      <th>Close</th>\n",
              "      <th>High</th>\n",
              "      <th>Low</th>\n",
              "      <th>Open</th>\n",
              "      <th>Volume</th>\n",
              "      <th>Adj Close</th>\n",
              "      <th>Close</th>\n",
              "      <th>High</th>\n",
              "      <th>Low</th>\n",
              "      <th>Open</th>\n",
              "      <th>Volume</th>\n",
              "    </tr>\n",
              "  </thead>\n",
              "  <tbody>\n",
              "    <tr>\n",
              "      <th>2023-03-16 09:15:00+05:30</th>\n",
              "      <td>1411.099976</td>\n",
              "      <td>1411.099976</td>\n",
              "      <td>1416.750000</td>\n",
              "      <td>1411.000000</td>\n",
              "      <td>1416.750000</td>\n",
              "      <td>0</td>\n",
              "      <td>2228.949951</td>\n",
              "      <td>2228.949951</td>\n",
              "      <td>2243.949951</td>\n",
              "      <td>2227.800049</td>\n",
              "      <td>2243.000000</td>\n",
              "      <td>0</td>\n",
              "      <td>411.799988</td>\n",
              "      <td>411.799988</td>\n",
              "      <td>413.200012</td>\n",
              "      <td>409.850006</td>\n",
              "      <td>413.049988</td>\n",
              "      <td>0</td>\n",
              "    </tr>\n",
              "    <tr>\n",
              "      <th>2023-03-16 09:16:00+05:30</th>\n",
              "      <td>1408.150024</td>\n",
              "      <td>1408.150024</td>\n",
              "      <td>1410.900024</td>\n",
              "      <td>1408.000000</td>\n",
              "      <td>1410.800049</td>\n",
              "      <td>59611</td>\n",
              "      <td>2235.000000</td>\n",
              "      <td>2235.000000</td>\n",
              "      <td>2235.350098</td>\n",
              "      <td>2229.000000</td>\n",
              "      <td>2229.850098</td>\n",
              "      <td>53241</td>\n",
              "      <td>411.850006</td>\n",
              "      <td>411.850006</td>\n",
              "      <td>412.500000</td>\n",
              "      <td>411.250000</td>\n",
              "      <td>411.649994</td>\n",
              "      <td>107956</td>\n",
              "    </tr>\n",
              "    <tr>\n",
              "      <th>2023-03-16 09:17:00+05:30</th>\n",
              "      <td>1402.500000</td>\n",
              "      <td>1402.500000</td>\n",
              "      <td>1407.800049</td>\n",
              "      <td>1400.849976</td>\n",
              "      <td>1407.699951</td>\n",
              "      <td>106612</td>\n",
              "      <td>2227.399902</td>\n",
              "      <td>2227.399902</td>\n",
              "      <td>2234.149902</td>\n",
              "      <td>2227.399902</td>\n",
              "      <td>2233.600098</td>\n",
              "      <td>57327</td>\n",
              "      <td>411.299988</td>\n",
              "      <td>411.299988</td>\n",
              "      <td>411.750000</td>\n",
              "      <td>410.600006</td>\n",
              "      <td>411.750000</td>\n",
              "      <td>63792</td>\n",
              "    </tr>\n",
              "    <tr>\n",
              "      <th>2023-03-16 09:18:00+05:30</th>\n",
              "      <td>1403.000000</td>\n",
              "      <td>1403.000000</td>\n",
              "      <td>1403.199951</td>\n",
              "      <td>1399.150024</td>\n",
              "      <td>1402.050049</td>\n",
              "      <td>104405</td>\n",
              "      <td>2224.550049</td>\n",
              "      <td>2224.550049</td>\n",
              "      <td>2227.500000</td>\n",
              "      <td>2221.149902</td>\n",
              "      <td>2227.399902</td>\n",
              "      <td>75079</td>\n",
              "      <td>412.649994</td>\n",
              "      <td>412.649994</td>\n",
              "      <td>412.750000</td>\n",
              "      <td>410.500000</td>\n",
              "      <td>411.299988</td>\n",
              "      <td>115611</td>\n",
              "    </tr>\n",
              "    <tr>\n",
              "      <th>2023-03-16 09:19:00+05:30</th>\n",
              "      <td>1400.800049</td>\n",
              "      <td>1400.800049</td>\n",
              "      <td>1403.000000</td>\n",
              "      <td>1399.050049</td>\n",
              "      <td>1403.000000</td>\n",
              "      <td>74492</td>\n",
              "      <td>2222.750000</td>\n",
              "      <td>2222.750000</td>\n",
              "      <td>2225.899902</td>\n",
              "      <td>2222.449951</td>\n",
              "      <td>2224.850098</td>\n",
              "      <td>100588</td>\n",
              "      <td>412.200012</td>\n",
              "      <td>412.200012</td>\n",
              "      <td>413.399994</td>\n",
              "      <td>411.850006</td>\n",
              "      <td>412.899994</td>\n",
              "      <td>66974</td>\n",
              "    </tr>\n",
              "  </tbody>\n",
              "</table>\n",
              "</div>\n",
              "      <button class=\"colab-df-convert\" onclick=\"convertToInteractive('df-b0c4af43-f917-434a-9404-14477af4fe64')\"\n",
              "              title=\"Convert this dataframe to an interactive table.\"\n",
              "              style=\"display:none;\">\n",
              "        \n",
              "  <svg xmlns=\"http://www.w3.org/2000/svg\" height=\"24px\"viewBox=\"0 0 24 24\"\n",
              "       width=\"24px\">\n",
              "    <path d=\"M0 0h24v24H0V0z\" fill=\"none\"/>\n",
              "    <path d=\"M18.56 5.44l.94 2.06.94-2.06 2.06-.94-2.06-.94-.94-2.06-.94 2.06-2.06.94zm-11 1L8.5 8.5l.94-2.06 2.06-.94-2.06-.94L8.5 2.5l-.94 2.06-2.06.94zm10 10l.94 2.06.94-2.06 2.06-.94-2.06-.94-.94-2.06-.94 2.06-2.06.94z\"/><path d=\"M17.41 7.96l-1.37-1.37c-.4-.4-.92-.59-1.43-.59-.52 0-1.04.2-1.43.59L10.3 9.45l-7.72 7.72c-.78.78-.78 2.05 0 2.83L4 21.41c.39.39.9.59 1.41.59.51 0 1.02-.2 1.41-.59l7.78-7.78 2.81-2.81c.8-.78.8-2.07 0-2.86zM5.41 20L4 18.59l7.72-7.72 1.47 1.35L5.41 20z\"/>\n",
              "  </svg>\n",
              "      </button>\n",
              "      \n",
              "  <style>\n",
              "    .colab-df-container {\n",
              "      display:flex;\n",
              "      flex-wrap:wrap;\n",
              "      gap: 12px;\n",
              "    }\n",
              "\n",
              "    .colab-df-convert {\n",
              "      background-color: #E8F0FE;\n",
              "      border: none;\n",
              "      border-radius: 50%;\n",
              "      cursor: pointer;\n",
              "      display: none;\n",
              "      fill: #1967D2;\n",
              "      height: 32px;\n",
              "      padding: 0 0 0 0;\n",
              "      width: 32px;\n",
              "    }\n",
              "\n",
              "    .colab-df-convert:hover {\n",
              "      background-color: #E2EBFA;\n",
              "      box-shadow: 0px 1px 2px rgba(60, 64, 67, 0.3), 0px 1px 3px 1px rgba(60, 64, 67, 0.15);\n",
              "      fill: #174EA6;\n",
              "    }\n",
              "\n",
              "    [theme=dark] .colab-df-convert {\n",
              "      background-color: #3B4455;\n",
              "      fill: #D2E3FC;\n",
              "    }\n",
              "\n",
              "    [theme=dark] .colab-df-convert:hover {\n",
              "      background-color: #434B5C;\n",
              "      box-shadow: 0px 1px 3px 1px rgba(0, 0, 0, 0.15);\n",
              "      filter: drop-shadow(0px 1px 2px rgba(0, 0, 0, 0.3));\n",
              "      fill: #FFFFFF;\n",
              "    }\n",
              "  </style>\n",
              "\n",
              "      <script>\n",
              "        const buttonEl =\n",
              "          document.querySelector('#df-b0c4af43-f917-434a-9404-14477af4fe64 button.colab-df-convert');\n",
              "        buttonEl.style.display =\n",
              "          google.colab.kernel.accessAllowed ? 'block' : 'none';\n",
              "\n",
              "        async function convertToInteractive(key) {\n",
              "          const element = document.querySelector('#df-b0c4af43-f917-434a-9404-14477af4fe64');\n",
              "          const dataTable =\n",
              "            await google.colab.kernel.invokeFunction('convertToInteractive',\n",
              "                                                     [key], {});\n",
              "          if (!dataTable) return;\n",
              "\n",
              "          const docLinkHtml = 'Like what you see? Visit the ' +\n",
              "            '<a target=\"_blank\" href=https://colab.research.google.com/notebooks/data_table.ipynb>data table notebook</a>'\n",
              "            + ' to learn more about interactive tables.';\n",
              "          element.innerHTML = '';\n",
              "          dataTable['output_type'] = 'display_data';\n",
              "          await google.colab.output.renderOutput(dataTable, element);\n",
              "          const docLink = document.createElement('div');\n",
              "          docLink.innerHTML = docLinkHtml;\n",
              "          element.appendChild(docLink);\n",
              "        }\n",
              "      </script>\n",
              "    </div>\n",
              "  </div>\n",
              "  "
            ]
          },
          "metadata": {},
          "execution_count": 2
        }
      ]
    },
    {
      "cell_type": "code",
      "source": [
        "stock_data.index = pd.to_datetime(pd.Series(stock_data.index).apply(lambda x: x.replace(tzinfo=None)))"
      ],
      "metadata": {
        "id": "xrfOLpIIoPht"
      },
      "execution_count": null,
      "outputs": []
    },
    {
      "cell_type": "code",
      "source": [
        "infy_data = stock_data['INFY.NS'][['Close','Volume']]\n",
        "reliance_data = stock_data['RELIANCE.NS'][['Close','Volume']]\n",
        "tata_data = stock_data['TATAMOTORS.NS'][['Close','Volume']]"
      ],
      "metadata": {
        "id": "zu5bP4oq-1OV"
      },
      "execution_count": null,
      "outputs": []
    },
    {
      "cell_type": "code",
      "source": [
        "infy_data.index"
      ],
      "metadata": {
        "colab": {
          "base_uri": "https://localhost:8080/"
        },
        "id": "2KexFVrUrJIB",
        "outputId": "16ac1a51-b399-4ca5-bccc-32d728091aca"
      },
      "execution_count": null,
      "outputs": [
        {
          "output_type": "execute_result",
          "data": {
            "text/plain": [
              "DatetimeIndex(['2023-03-16 09:15:00', '2023-03-16 09:16:00',\n",
              "               '2023-03-16 09:17:00', '2023-03-16 09:18:00',\n",
              "               '2023-03-16 09:19:00', '2023-03-16 09:20:00',\n",
              "               '2023-03-16 09:21:00', '2023-03-16 09:22:00',\n",
              "               '2023-03-16 09:23:00', '2023-03-16 09:24:00',\n",
              "               ...\n",
              "               '2023-04-06 15:20:00', '2023-04-06 15:21:00',\n",
              "               '2023-04-06 15:22:00', '2023-04-06 15:23:00',\n",
              "               '2023-04-06 15:24:00', '2023-04-06 15:25:00',\n",
              "               '2023-04-06 15:26:00', '2023-04-06 15:27:00',\n",
              "               '2023-04-06 15:28:00', '2023-04-06 15:29:00'],\n",
              "              dtype='datetime64[ns]', length=5238, freq=None)"
            ]
          },
          "metadata": {},
          "execution_count": 5
        }
      ]
    },
    {
      "cell_type": "code",
      "source": [
        "t_data = tata_data.copy()\n",
        "t_data.index = range(0,len(t_data))"
      ],
      "metadata": {
        "id": "6ORSzHdDIFgN"
      },
      "execution_count": null,
      "outputs": []
    },
    {
      "cell_type": "code",
      "source": [
        "t_data.Close.plot()"
      ],
      "metadata": {
        "colab": {
          "base_uri": "https://localhost:8080/",
          "height": 447
        },
        "id": "z7TtpVx2zXJL",
        "outputId": "9f044a1d-5ec2-4ced-da57-2413f5e27c51"
      },
      "execution_count": null,
      "outputs": [
        {
          "output_type": "execute_result",
          "data": {
            "text/plain": [
              "<Axes: >"
            ]
          },
          "metadata": {},
          "execution_count": 8
        },
        {
          "output_type": "display_data",
          "data": {
            "text/plain": [
              "<Figure size 640x480 with 1 Axes>"
            ],
            "image/png": "[encoded data removed]"
          },
          "metadata": {}
        }
      ]
    },
    {
      "cell_type": "code",
      "source": [
        "vl =pd.Series(infy_data.Volume)\n",
        "vl.index = range(len(vl))\n",
        "vl.plot()"
      ],
      "metadata": {
        "id": "IeCGRl7wJIT6",
        "colab": {
          "base_uri": "https://localhost:8080/",
          "height": 462
        },
        "outputId": "808d6380-6a13-4663-fb50-d8f5fa48309c"
      },
      "execution_count": null,
      "outputs": [
        {
          "output_type": "execute_result",
          "data": {
            "text/plain": [
              "<Axes: >"
            ]
          },
          "metadata": {},
          "execution_count": 104
        },
        {
          "output_type": "display_data",
          "data": {
            "text/plain": [
              "<Figure size 640x480 with 1 Axes>"
            ],
            "image/png": "[encoded data removed]"
          },
          "metadata": {}
        }
      ]
    },
    {
      "cell_type": "code",
      "source": [
        "import numpy as np\n",
        "test = np.log(reliance_data.Close).diff(1).dropna()"
      ],
      "metadata": {
        "id": "KqfQuyQLv0MA"
      },
      "execution_count": null,
      "outputs": []
    },
    {
      "cell_type": "code",
      "source": [
        "len(test)"
      ],
      "metadata": {
        "colab": {
          "base_uri": "https://localhost:8080/"
        },
        "id": "-92Z5NM0xPcO",
        "outputId": "3b1f755d-5ed8-489c-9da8-e7ee017123af"
      },
      "execution_count": null,
      "outputs": [
        {
          "output_type": "execute_result",
          "data": {
            "text/plain": [
              "5234"
            ]
          },
          "metadata": {},
          "execution_count": 70
        }
      ]
    },
    {
      "cell_type": "code",
      "source": [
        "test.resample('5T').mean()\n"
      ],
      "metadata": {
        "colab": {
          "base_uri": "https://localhost:8080/"
        },
        "id": "TyB5isHAwwm4",
        "outputId": "2d4baef2-ff3f-41a8-f747-fa065f059900"
      },
      "execution_count": null,
      "outputs": [
        {
          "output_type": "execute_result",
          "data": {
            "text/plain": [
              "2023-03-16 09:15:00   -0.001831\n",
              "2023-03-16 09:20:00    0.000535\n",
              "2023-03-16 09:25:00    0.000154\n",
              "2023-03-16 09:30:00    0.000057\n",
              "2023-03-16 09:35:00   -0.000085\n",
              "                         ...   \n",
              "2023-04-06 15:05:00   -0.000120\n",
              "2023-04-06 15:10:00   -0.000179\n",
              "2023-04-06 15:15:00    0.000231\n",
              "2023-04-06 15:20:00   -0.000038\n",
              "2023-04-06 15:25:00   -0.000363\n",
              "Freq: 5T, Name: Close, Length: 6123, dtype: float64"
            ]
          },
          "metadata": {},
          "execution_count": 77
        }
      ]
    },
    {
      "cell_type": "code",
      "source": [
        "reliance_data['Close'].plot()"
      ],
      "metadata": {
        "colab": {
          "base_uri": "https://localhost:8080/",
          "height": 442
        },
        "id": "tV2NswEIyd5k",
        "outputId": "c7e93992-8072-428e-ae4e-9c6e3704d976"
      },
      "execution_count": null,
      "outputs": [
        {
          "output_type": "execute_result",
          "data": {
            "text/plain": [
              "<Axes: >"
            ]
          },
          "metadata": {},
          "execution_count": 84
        },
        {
          "output_type": "display_data",
          "data": {
            "text/plain": [
              "<Figure size 640x480 with 1 Axes>"
            ],
            "image/png": "[encoded data removed]"
          },
          "metadata": {}
        }
      ]
    },
    {
      "cell_type": "code",
      "source": [
        "import matplotlib.pyplot as plt\n",
        "from statsmodels.tsa.seasonal import STL\n",
        "res = STL(t_data.Close,period=60,seasonal=15).fit()\n",
        "res.plot()\n",
        "plt.show()\n"
      ],
      "metadata": {
        "colab": {
          "base_uri": "https://localhost:8080/",
          "height": 487
        },
        "id": "earXPLmSLDzh",
        "outputId": "74670825-f775-4a76-faf7-cef3c5a980f7"
      },
      "execution_count": null,
      "outputs": [
        {
          "output_type": "display_data",
          "data": {
            "text/plain": [
              "<Figure size 640x480 with 4 Axes>"
            ],
            "image/png": "[encoded data removed]"
          },
          "metadata": {}
        }
      ]
    },
    {
      "cell_type": "code",
      "source": [
        "import numpy as np"
      ],
      "metadata": {
        "id": "cYA2q0k-LkgC"
      },
      "execution_count": null,
      "outputs": []
    },
    {
      "cell_type": "code",
      "source": [
        "infy_data.Close.diff(1).apply(lambda a: np.log(a) if a!=0 else 0)"
      ],
      "metadata": {
        "colab": {
          "base_uri": "https://localhost:8080/"
        },
        "id": "2W6UpBEwLSvi",
        "outputId": "ad0e77de-da1f-4921-d2b9-7fa9156e6218"
      },
      "execution_count": null,
      "outputs": [
        {
          "output_type": "execute_result",
          "data": {
            "text/plain": [
              "Datetime\n",
              "2023-03-16 09:16:00+05:30         NaN\n",
              "2023-03-16 09:17:00+05:30         NaN\n",
              "2023-03-16 09:18:00+05:30   -0.693147\n",
              "2023-03-16 09:19:00+05:30         NaN\n",
              "2023-03-16 09:20:00+05:30    0.587746\n",
              "                               ...   \n",
              "2023-04-06 20:52:00+05:30   -1.386294\n",
              "2023-04-06 20:53:00+05:30   -2.994756\n",
              "2023-04-06 20:54:00+05:30   -1.386294\n",
              "2023-04-06 20:55:00+05:30         NaN\n",
              "2023-04-06 20:56:00+05:30         NaN\n",
              "Name: Close, Length: 5222, dtype: float64"
            ]
          },
          "metadata": {},
          "execution_count": 64
        }
      ]
    },
    {
      "cell_type": "code",
      "source": [
        "for i in range(1,6):\n",
        "  infy_data[f'Close+{i}'] = infy_data.Close.shift(-i)"
      ],
      "metadata": {
        "id": "5zjeNTDsAS5E"
      },
      "execution_count": null,
      "outputs": []
    },
    {
      "cell_type": "code",
      "source": [
        "# transaction costs\n",
        "pnl = {}\n",
        "transaction_charges = {}\n",
        "for i in range(1,6):\n",
        "  turnover = infy_data[f'Close+{i}'] + infy_data['Close']\n",
        "  brokerage = 0.03*turnover/100\n",
        "  stt = 0.025*infy_data[f'Close+{i}']/100\n",
        "  tc_nse = 0.00325*turnover/100\n",
        "  gst = 18*(brokerage+tc_nse)/100\n",
        "  stamp = 0.003*infy_data['Close']/100\n",
        "  transaction_charges[f'tc_{i}'] = brokerage+stt+tc_nse+gst+stamp\n",
        "  pnl[f'pnl_{i}'] = infy_data[f'Close+{i}'] - infy_data['Close']"
      ],
      "metadata": {
        "id": "Qnpa9TDA9vJU"
      },
      "execution_count": null,
      "outputs": []
    },
    {
      "cell_type": "code",
      "source": [
        "def my_func(x):\n",
        "  if abs(x[0])-x[1]<=0:\n",
        "    return -1 #hold\n",
        "  else:\n",
        "    if x[0]>=0:\n",
        "      return 0#buy\n",
        "    else:\n",
        "      return 1#sell"
      ],
      "metadata": {
        "id": "ua0sNJS5GRNA"
      },
      "execution_count": null,
      "outputs": []
    },
    {
      "cell_type": "code",
      "source": [
        "# pnl['transaction_charges'] = transaction_charges\n",
        "data = pd.DataFrame(pnl | transaction_charges)\n",
        "data.head()"
      ],
      "metadata": {
        "colab": {
          "base_uri": "https://localhost:8080/",
          "height": 206
        },
        "id": "aeiM1-kJJLdS",
        "outputId": "58f581e4-53b2-41ef-ebdc-43756eb4f2f9"
      },
      "execution_count": null,
      "outputs": [
        {
          "output_type": "execute_result",
          "data": {
            "text/plain": [
              "                        pnl_1     pnl_2     pnl_3      pnl_4     pnl_5  \\\n",
              "2023-03-16 09:15:00 -2.949951 -8.599976 -8.099976 -10.299927 -8.500000   \n",
              "2023-03-16 09:16:00 -5.650024 -5.150024 -7.349976  -5.550049 -2.300049   \n",
              "2023-03-16 09:17:00  0.500000 -1.699951  0.099976   3.349976  3.699951   \n",
              "2023-03-16 09:18:00 -2.199951 -0.400024  2.849976   3.199951  1.800049   \n",
              "2023-03-16 09:19:00  1.799927  5.049927  5.399902   4.000000  3.750000   \n",
              "\n",
              "                         tc_1      tc_2      tc_3      tc_4      tc_5  \n",
              "2023-03-16 09:15:00  1.500503  1.496874  1.497195  1.495782  1.496938  \n",
              "2023-03-16 09:16:00  1.495628  1.495949  1.494536  1.495692  1.497780  \n",
              "2023-03-16 09:17:00  1.493563  1.492150  1.493306  1.495394  1.495618  \n",
              "2023-03-16 09:18:00  1.492361  1.493517  1.495605  1.495830  1.494930  \n",
              "2023-03-16 09:19:00  1.492588  1.494676  1.494900  1.494001  1.493841  "
            ],
            "text/html": [
              "\n",
              "  <div id=\"df-b16c9333-60e4-4cbd-9df9-8db335e0d6c6\">\n",
              "    <div class=\"colab-df-container\">\n",
              "      <div>\n",
              "<style scoped>\n",
              "    .dataframe tbody tr th:only-of-type {\n",
              "        vertical-align: middle;\n",
              "    }\n",
              "\n",
              "    .dataframe tbody tr th {\n",
              "        vertical-align: top;\n",
              "    }\n",
              "\n",
              "    .dataframe thead th {\n",
              "        text-align: right;\n",
              "    }\n",
              "</style>\n",
              "<table border=\"1\" class=\"dataframe\">\n",
              "  <thead>\n",
              "    <tr style=\"text-align: right;\">\n",
              "      <th></th>\n",
              "      <th>pnl_1</th>\n",
              "      <th>pnl_2</th>\n",
              "      <th>pnl_3</th>\n",
              "      <th>pnl_4</th>\n",
              "      <th>pnl_5</th>\n",
              "      <th>tc_1</th>\n",
              "      <th>tc_2</th>\n",
              "      <th>tc_3</th>\n",
              "      <th>tc_4</th>\n",
              "      <th>tc_5</th>\n",
              "    </tr>\n",
              "  </thead>\n",
              "  <tbody>\n",
              "    <tr>\n",
              "      <th>2023-03-16 09:15:00</th>\n",
              "      <td>-2.949951</td>\n",
              "      <td>-8.599976</td>\n",
              "      <td>-8.099976</td>\n",
              "      <td>-10.299927</td>\n",
              "      <td>-8.500000</td>\n",
              "      <td>1.500503</td>\n",
              "      <td>1.496874</td>\n",
              "      <td>1.497195</td>\n",
              "      <td>1.495782</td>\n",
              "      <td>1.496938</td>\n",
              "    </tr>\n",
              "    <tr>\n",
              "      <th>2023-03-16 09:16:00</th>\n",
              "      <td>-5.650024</td>\n",
              "      <td>-5.150024</td>\n",
              "      <td>-7.349976</td>\n",
              "      <td>-5.550049</td>\n",
              "      <td>-2.300049</td>\n",
              "      <td>1.495628</td>\n",
              "      <td>1.495949</td>\n",
              "      <td>1.494536</td>\n",
              "      <td>1.495692</td>\n",
              "      <td>1.497780</td>\n",
              "    </tr>\n",
              "    <tr>\n",
              "      <th>2023-03-16 09:17:00</th>\n",
              "      <td>0.500000</td>\n",
              "      <td>-1.699951</td>\n",
              "      <td>0.099976</td>\n",
              "      <td>3.349976</td>\n",
              "      <td>3.699951</td>\n",
              "      <td>1.493563</td>\n",
              "      <td>1.492150</td>\n",
              "      <td>1.493306</td>\n",
              "      <td>1.495394</td>\n",
              "      <td>1.495618</td>\n",
              "    </tr>\n",
              "    <tr>\n",
              "      <th>2023-03-16 09:18:00</th>\n",
              "      <td>-2.199951</td>\n",
              "      <td>-0.400024</td>\n",
              "      <td>2.849976</td>\n",
              "      <td>3.199951</td>\n",
              "      <td>1.800049</td>\n",
              "      <td>1.492361</td>\n",
              "      <td>1.493517</td>\n",
              "      <td>1.495605</td>\n",
              "      <td>1.495830</td>\n",
              "      <td>1.494930</td>\n",
              "    </tr>\n",
              "    <tr>\n",
              "      <th>2023-03-16 09:19:00</th>\n",
              "      <td>1.799927</td>\n",
              "      <td>5.049927</td>\n",
              "      <td>5.399902</td>\n",
              "      <td>4.000000</td>\n",
              "      <td>3.750000</td>\n",
              "      <td>1.492588</td>\n",
              "      <td>1.494676</td>\n",
              "      <td>1.494900</td>\n",
              "      <td>1.494001</td>\n",
              "      <td>1.493841</td>\n",
              "    </tr>\n",
              "  </tbody>\n",
              "</table>\n",
              "</div>\n",
              "      <button class=\"colab-df-convert\" onclick=\"convertToInteractive('df-b16c9333-60e4-4cbd-9df9-8db335e0d6c6')\"\n",
              "              title=\"Convert this dataframe to an interactive table.\"\n",
              "              style=\"display:none;\">\n",
              "        \n",
              "  <svg xmlns=\"http://www.w3.org/2000/svg\" height=\"24px\"viewBox=\"0 0 24 24\"\n",
              "       width=\"24px\">\n",
              "    <path d=\"M0 0h24v24H0V0z\" fill=\"none\"/>\n",
              "    <path d=\"M18.56 5.44l.94 2.06.94-2.06 2.06-.94-2.06-.94-.94-2.06-.94 2.06-2.06.94zm-11 1L8.5 8.5l.94-2.06 2.06-.94-2.06-.94L8.5 2.5l-.94 2.06-2.06.94zm10 10l.94 2.06.94-2.06 2.06-.94-2.06-.94-.94-2.06-.94 2.06-2.06.94z\"/><path d=\"M17.41 7.96l-1.37-1.37c-.4-.4-.92-.59-1.43-.59-.52 0-1.04.2-1.43.59L10.3 9.45l-7.72 7.72c-.78.78-.78 2.05 0 2.83L4 21.41c.39.39.9.59 1.41.59.51 0 1.02-.2 1.41-.59l7.78-7.78 2.81-2.81c.8-.78.8-2.07 0-2.86zM5.41 20L4 18.59l7.72-7.72 1.47 1.35L5.41 20z\"/>\n",
              "  </svg>\n",
              "      </button>\n",
              "      \n",
              "  <style>\n",
              "    .colab-df-container {\n",
              "      display:flex;\n",
              "      flex-wrap:wrap;\n",
              "      gap: 12px;\n",
              "    }\n",
              "\n",
              "    .colab-df-convert {\n",
              "      background-color: #E8F0FE;\n",
              "      border: none;\n",
              "      border-radius: 50%;\n",
              "      cursor: pointer;\n",
              "      display: none;\n",
              "      fill: #1967D2;\n",
              "      height: 32px;\n",
              "      padding: 0 0 0 0;\n",
              "      width: 32px;\n",
              "    }\n",
              "\n",
              "    .colab-df-convert:hover {\n",
              "      background-color: #E2EBFA;\n",
              "      box-shadow: 0px 1px 2px rgba(60, 64, 67, 0.3), 0px 1px 3px 1px rgba(60, 64, 67, 0.15);\n",
              "      fill: #174EA6;\n",
              "    }\n",
              "\n",
              "    [theme=dark] .colab-df-convert {\n",
              "      background-color: #3B4455;\n",
              "      fill: #D2E3FC;\n",
              "    }\n",
              "\n",
              "    [theme=dark] .colab-df-convert:hover {\n",
              "      background-color: #434B5C;\n",
              "      box-shadow: 0px 1px 3px 1px rgba(0, 0, 0, 0.15);\n",
              "      filter: drop-shadow(0px 1px 2px rgba(0, 0, 0, 0.3));\n",
              "      fill: #FFFFFF;\n",
              "    }\n",
              "  </style>\n",
              "\n",
              "      <script>\n",
              "        const buttonEl =\n",
              "          document.querySelector('#df-b16c9333-60e4-4cbd-9df9-8db335e0d6c6 button.colab-df-convert');\n",
              "        buttonEl.style.display =\n",
              "          google.colab.kernel.accessAllowed ? 'block' : 'none';\n",
              "\n",
              "        async function convertToInteractive(key) {\n",
              "          const element = document.querySelector('#df-b16c9333-60e4-4cbd-9df9-8db335e0d6c6');\n",
              "          const dataTable =\n",
              "            await google.colab.kernel.invokeFunction('convertToInteractive',\n",
              "                                                     [key], {});\n",
              "          if (!dataTable) return;\n",
              "\n",
              "          const docLinkHtml = 'Like what you see? Visit the ' +\n",
              "            '<a target=\"_blank\" href=https://colab.research.google.com/notebooks/data_table.ipynb>data table notebook</a>'\n",
              "            + ' to learn more about interactive tables.';\n",
              "          element.innerHTML = '';\n",
              "          dataTable['output_type'] = 'display_data';\n",
              "          await google.colab.output.renderOutput(dataTable, element);\n",
              "          const docLink = document.createElement('div');\n",
              "          docLink.innerHTML = docLinkHtml;\n",
              "          element.appendChild(docLink);\n",
              "        }\n",
              "      </script>\n",
              "    </div>\n",
              "  </div>\n",
              "  "
            ]
          },
          "metadata": {},
          "execution_count": 37
        }
      ]
    },
    {
      "cell_type": "code",
      "source": [
        "for i in range(1,6):\n",
        "  data[f's_{i}'] = data[[f'pnl_{i}',f'tc_{i}']].apply(my_func,axis=1)"
      ],
      "metadata": {
        "id": "-rBM9N4NLjS2"
      },
      "execution_count": null,
      "outputs": []
    },
    {
      "cell_type": "code",
      "source": [
        "print(len(infy_data.Close))\n",
        "for i in range(1,6):\n",
        "  print(len(data[f's_{i}']))"
      ],
      "metadata": {
        "colab": {
          "base_uri": "https://localhost:8080/"
        },
        "id": "lv4aUsmXIFz1",
        "outputId": "3a48e0f3-eb32-49ee-fb15-d5a46bd3c611"
      },
      "execution_count": null,
      "outputs": [
        {
          "output_type": "stream",
          "name": "stdout",
          "text": [
            "5238\n",
            "5238\n",
            "5238\n",
            "5238\n",
            "5238\n",
            "5238\n"
          ]
        }
      ]
    },
    {
      "cell_type": "code",
      "source": [
        "def ex_sig(x):\n",
        "  for i in x:\n",
        "    if i!=-1:\n",
        "      return i\n",
        "  return -1"
      ],
      "metadata": {
        "id": "agUY8cOaNZJX"
      },
      "execution_count": null,
      "outputs": []
    },
    {
      "cell_type": "code",
      "source": [
        "data['f_signal'] = data[[f's_{i}' for i in range(1,6)]].apply(ex_sig,axis=1)"
      ],
      "metadata": {
        "id": "Lh1qeO_3L7Hh"
      },
      "execution_count": null,
      "outputs": []
    },
    {
      "cell_type": "code",
      "source": [
        "data['f_signal'].value_counts()"
      ],
      "metadata": {
        "colab": {
          "base_uri": "https://localhost:8080/"
        },
        "id": "LQnOJDeaIWaB",
        "outputId": "2b385956-ede2-4858-ca5a-c0204b6abed4"
      },
      "execution_count": null,
      "outputs": [
        {
          "output_type": "execute_result",
          "data": {
            "text/plain": [
              "-1    3184\n",
              " 0    1066\n",
              " 1     988\n",
              "Name: f_signal, dtype: int64"
            ]
          },
          "metadata": {},
          "execution_count": 45
        }
      ]
    },
    {
      "cell_type": "code",
      "source": [
        "i=0\n",
        "x = 50\n",
        "cls = infy_data.Close[i:i+x]\n",
        "cls.index = range(x)\n",
        "sgnl = data['f_signal'][i:i+x]\n",
        "sgnl.index = range(x)\n",
        "vl = infy_data.Volume[i:i+x]\n",
        "vl.index = range(x)\n",
        "fig = plt.figure(figsize=(10,7))\n",
        "ax = fig.subplots(2,1)\n",
        "ax[0].plot(cls)\n",
        "ax[0].scatter(y=cls[sgnl==-1],x=cls[sgnl==-1].index,color='b')\n",
        "ax[0].scatter(y=cls[sgnl==0],x=cls[sgnl==0].index,color='g')\n",
        "ax[0].scatter(y=cls[sgnl==1],x=cls[sgnl==1].index,color='r')\n",
        "ax[1].bar(range(x),vl)\n",
        "plt.show()"
      ],
      "metadata": {
        "colab": {
          "base_uri": "https://localhost:8080/",
          "height": 599
        },
        "id": "Ns6c7v4pHLQs",
        "outputId": "c159126b-a559-43f2-826a-5398e54907da"
      },
      "execution_count": null,
      "outputs": [
        {
          "output_type": "display_data",
          "data": {
            "text/plain": [
              "<Figure size 1000x700 with 2 Axes>"
            ],
            "image/png": "[encoded data removed]"
          },
          "metadata": {}
        }
      ]
    }
  ]
}