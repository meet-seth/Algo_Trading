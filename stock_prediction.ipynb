{
 "cells": [
  {
   "cell_type": "markdown",
   "metadata": {
    "id": "PFiHYqHsBq0Y"
   },
   "source": [
    "# Imports"
   ]
  },
  {
   "cell_type": "code",
   "execution_count": null,
   "metadata": {
    "id": "IKgAmq99-wJh"
   },
   "outputs": [],
   "source": [
    "import tensorflow as tf\n",
    "import numpy as np\n",
    "import matplotlib.pyplot as plt\n",
    "import pandas as pd"
   ]
  },
  {
   "cell_type": "markdown",
   "metadata": {
    "id": "vFZil78liepx"
   },
   "source": [
    "# Dataset 1\n",
    "In dataset 1, the input features are OHCL prices which have a window of 7 days and horizon of 1.\n",
    "The input prices have been Normalized within each window. i.e. Normalization has been applied to each window and not the whole dataset in an attempt to capture the patterns irrespective of value of prices.\n",
    "\n",
    "Normalization formula: (X - X(min))/(X(max) - X(min))\n",
    "\n",
    "but for min and max values only the window prices are considered and not the horizon prices. The horizon prices are normalized by min and max of window set thus these values can be greater than 1 or lesser than 0.\n"
   ]
  },
  {
   "cell_type": "code",
   "execution_count": null,
   "metadata": {
    "colab": {
     "base_uri": "https://localhost:8080/"
    },
    "id": "LGIWbXJc-7xZ",
    "outputId": "8afa9adb-3435-4041-bb0a-a422ebd2be60"
   },
   "outputs": [
    {
     "name": "stdout",
     "output_type": "stream",
     "text": [
      "Archive:  Dataset.zip\n",
      "  inflating: Dataset.npy             \n",
      "  inflating: Target.csv              \n"
     ]
    }
   ],
   "source": [
    "!unzip Dataset.zip"
   ]
  },
  {
   "cell_type": "code",
   "execution_count": null,
   "metadata": {
    "id": "7VHGsIKy--r3"
   },
   "outputs": [],
   "source": [
    "features_np = np.load('Dataset.npy')\n",
    "target_df = pd.read_csv('./Target.csv')\n",
    "\n",
    "target_df = target_df.drop('Unnamed: 0',axis=1)"
   ]
  },
  {
   "cell_type": "code",
   "execution_count": null,
   "metadata": {
    "id": "Ar6hnkGNGBvL"
   },
   "outputs": [],
   "source": [
    "features = tf.data.Dataset.from_tensor_slices(features_np)\n",
    "target = tf.data.Dataset.from_tensor_slices(target_df)\n",
    "dataset = tf.data.Dataset.zip((features,target))"
   ]
  },
  {
   "cell_type": "code",
   "execution_count": null,
   "metadata": {
    "id": "MnbW8T7o7O-0"
   },
   "outputs": [],
   "source": [
    "# Divide the dataset into train, val and test split\n",
    "l_dataset = len(dataset)\n",
    "train_dataset = dataset.take(int(0.8*l_dataset))\n",
    "val_dataset = dataset.skip(int(0.8*l_dataset)).take(int(0.1*l_dataset))\n",
    "test_dataset = dataset.skip(int(0.8*l_dataset)).skip(int(0.1*l_dataset))"
   ]
  },
  {
   "cell_type": "code",
   "execution_count": null,
   "metadata": {
    "colab": {
     "base_uri": "https://localhost:8080/"
    },
    "id": "nwAAdCt68WAh",
    "outputId": "831623ba-7a46-4286-d924-724c222e9a19"
   },
   "outputs": [
    {
     "name": "stdout",
     "output_type": "stream",
     "text": [
      "2280\n",
      "285\n",
      "285\n"
     ]
    }
   ],
   "source": [
    "print(len(train_dataset))\n",
    "print(len(val_dataset))\n",
    "print(len(test_dataset))"
   ]
  },
  {
   "cell_type": "code",
   "execution_count": null,
   "metadata": {
    "id": "7GHaz4Vb8qZp"
   },
   "outputs": [],
   "source": [
    "train_dataset = train_dataset.batch(32).prefetch(tf.data.AUTOTUNE)\n",
    "val_dataset = val_dataset.batch(32).prefetch(tf.data.AUTOTUNE)\n",
    "test_dataset = test_dataset.batch(32).prefetch(tf.data.AUTOTUNE)"
   ]
  },
  {
   "cell_type": "code",
   "execution_count": null,
   "metadata": {
    "colab": {
     "base_uri": "https://localhost:8080/"
    },
    "id": "PEbKoMdq9Tuy",
    "outputId": "3bb08647-dc2c-4233-9a75-6c649402b1d1"
   },
   "outputs": [
    {
     "name": "stdout",
     "output_type": "stream",
     "text": [
      "(32, 4, 7)\n",
      "(32, 4)\n"
     ]
    }
   ],
   "source": [
    "for i in train_dataset:\n",
    "  print(i[0].shape)\n",
    "  print(i[1].shape)\n",
    "  break"
   ]
  },
  {
   "cell_type": "markdown",
   "metadata": {
    "id": "c1HR1YqcpG_t"
   },
   "source": [
    "## Model Test run"
   ]
  },
  {
   "cell_type": "code",
   "execution_count": null,
   "metadata": {
    "id": "L8-pbOP09msI"
   },
   "outputs": [],
   "source": [
    "inputs = tf.keras.layers.Input(shape=(4,7))\n",
    "x = tf.keras.layers.Dense(50,activation='relu')(inputs[:,0,:])\n",
    "outputs = tf.keras.layers.Dense(4,activation='linear')(x)\n",
    "model = tf.keras.Model(inputs=inputs,outputs=outputs)"
   ]
  },
  {
   "cell_type": "code",
   "execution_count": null,
   "metadata": {
    "id": "d3eobT4s-SWL"
   },
   "outputs": [],
   "source": [
    "model.compile(loss='mae',\n",
    "              optimizer='adam')"
   ]
  },
  {
   "cell_type": "code",
   "execution_count": null,
   "metadata": {
    "colab": {
     "base_uri": "https://localhost:8080/"
    },
    "id": "l0L9eg8b-a6_",
    "outputId": "1500a08d-5715-4d4d-8712-efba774cad57"
   },
   "outputs": [
    {
     "name": "stdout",
     "output_type": "stream",
     "text": [
      "tf.Tensor(\n",
      "[[-0.13887453  0.34459788  0.3408625  -0.24726254]\n",
      " [-0.2433003   0.18917538  0.38242897 -0.26215574]\n",
      " [-0.28364855  0.14101149  0.17406909 -0.15086818]\n",
      " [-0.49227366  0.24361767  0.07354163  0.13756609]\n",
      " [-0.513634    0.22960316 -0.07317992  0.4830333 ]\n",
      " [-0.20192832  0.10761223 -0.15846373  0.248302  ]\n",
      " [-0.29653138  0.17388904  0.14490661 -0.0748595 ]\n",
      " [-0.40611765  0.19325152  0.21584949  0.08010318]\n",
      " [-0.52108955  0.2034121  -0.03159043  0.4208231 ]\n",
      " [-0.3057652   0.3291336  -0.03534171  0.26624826]\n",
      " [-0.13650861  0.30458286  0.25618967 -0.10556805]\n",
      " [-0.32179213  0.43040696  0.30210286 -0.12940642]\n",
      " [-0.28256238  0.37595955  0.29369152 -0.00781116]\n",
      " [-0.34188238  0.48048458  0.19272824 -0.00379274]\n",
      " [-0.2816855   0.5665623   0.33187422 -0.09472977]\n",
      " [-0.26551533  0.38488963  0.34722173 -0.09574606]\n",
      " [-0.16498826  0.18394993  0.15539105 -0.11893132]\n",
      " [-0.2176066   0.11775607  0.09744988 -0.02263847]\n",
      " [-0.32893765  0.20844989  0.08389469  0.0990703 ]\n",
      " [-0.53906196  0.31330922  0.0945571   0.24759224]\n",
      " [-0.5682435   0.31938162 -0.01716775  0.3870634 ]\n",
      " [-0.6101657   0.3417712  -0.09018973  0.45356607]\n",
      " [-0.4539662   0.25554296 -0.06600276  0.39491457]\n",
      " [-0.5571886   0.31896552 -0.0053089   0.3560916 ]\n",
      " [-0.46282572  0.25910032 -0.02090418  0.3290931 ]\n",
      " [-0.5884081   0.33367884 -0.04863638  0.39194125]\n",
      " [-0.47220296  0.25574693 -0.01010162  0.38338694]\n",
      " [-0.5521121   0.34486145 -0.06360516  0.4349786 ]\n",
      " [-0.4847691   0.55741954 -0.04292354  0.29458895]\n",
      " [-0.30065617  0.44045782  0.13435733  0.09794602]\n",
      " [-0.21330717  0.17091419 -0.00227079  0.05168986]\n",
      " [-0.5948992   0.66992635  0.19095628 -0.01118737]], shape=(32, 4), dtype=float32)\n"
     ]
    }
   ],
   "source": [
    "for i in train_dataset:\n",
    "  print(model(i[0]))\n",
    "  break"
   ]
  },
  {
   "cell_type": "code",
   "execution_count": null,
   "metadata": {
    "id": "tBFUov9-pNij"
   },
   "outputs": [],
   "source": [
    "del model, inputs, outputs, x"
   ]
  },
  {
   "cell_type": "markdown",
   "metadata": {
    "id": "kNF9KmaTfhw_"
   },
   "source": [
    "## Model 1: Convolutional Model(Independent Dense)\n",
    "\n",
    "Model 1 uses Conv1D layers to predict the output values. In Model 1, inputs for OHCL layer each predict their own outputs, i.e. Only Open prices are used to predict the Open prices and [Close, High and Low prices] have no effect on the output of Open price. This is also true for other prices(Close, High and Low) as well."
   ]
  },
  {
   "cell_type": "code",
   "execution_count": null,
   "metadata": {
    "id": "R2YwoUuq30jP"
   },
   "outputs": [],
   "source": [
    "def mini_model(inputs,name='',kernel_sizes=[2,3,4]):\n",
    "  ksize_0, ksize_1, ksize_2 = kernel_sizes\n",
    "  name_0, name_1, name_2 = name+'_'+str(ksize_0),name+'_'+str(ksize_1),name+'_'+str(ksize_2)\n",
    "  x_0 = tf.keras.layers.Conv1D(32,kernel_size=ksize_0,name=name_0+'_0',activation='leaky_relu')(inputs)\n",
    "  x_0 = tf.keras.layers.Conv1D(32,kernel_size=ksize_0,name=name_0+'_1',activation='leaky_relu')(x_0)\n",
    "  x_0 = tf.keras.layers.BatchNormalization()(x_0)\n",
    "  x_0 = tf.keras.layers.Conv1D(64,kernel_size=ksize_0,name=name_0+'_2',activation='leaky_relu')(x_0)\n",
    "  x_0 = tf.keras.layers.Conv1D(64,kernel_size=ksize_0,name=name_0+'_3',activation='leaky_relu')(x_0)\n",
    "  x_0 = tf.keras.layers.BatchNormalization()(x_0)\n",
    "  x_0 = tf.keras.layers.Conv1D(128,kernel_size=ksize_0,name=name_0+'_4',activation='leaky_relu')(x_0)\n",
    "  x_0 = tf.keras.layers.Conv1D(128,kernel_size=ksize_0,name=name_0+'_5',activation='leaky_relu')(x_0)\n",
    "  x_0 = tf.keras.layers.BatchNormalization()(x_0)\n",
    "\n",
    "  x_1 = tf.keras.layers.Conv1D(32,kernel_size=ksize_1,name=name_1+'_0',activation='leaky_relu')(inputs)\n",
    "  x_1 = tf.keras.layers.BatchNormalization()(x_1)\n",
    "  x_1 = tf.keras.layers.Conv1D(64,kernel_size=ksize_1,name=name_1+'_1',activation='leaky_relu')(x_1)\n",
    "  x_1 = tf.keras.layers.BatchNormalization()(x_1)\n",
    "  x_1 = tf.keras.layers.Conv1D(128,kernel_size=ksize_1,name=name_1+'_2',activation='leaky_relu')(x_1)\n",
    "  x_1 = tf.keras.layers.BatchNormalization()(x_1)\n",
    "\n",
    "  x_2 = tf.keras.layers.Conv1D(64,kernel_size=ksize_2,name=name_2+'_0',activation='leaky_relu')(inputs)\n",
    "  x_2 = tf.keras.layers.BatchNormalization()(x_2)\n",
    "  x_2 = tf.keras.layers.Conv1D(128,kernel_size=ksize_2,name=name_2+'_1',activation='leaky_relu')(x_2)\n",
    "  x_2 = tf.keras.layers.BatchNormalization()(x_2)\n",
    "\n",
    "  x_0 = tf.keras.layers.Flatten(name=name_0+'_flatten')(x_0)\n",
    "  x_1 = tf.keras.layers.Flatten(name=name_1+'flatten')(x_1)\n",
    "  x_2 = tf.keras.layers.Flatten(name=name_2+'_flatten')(x_2)\n",
    "\n",
    "  x = tf.keras.layers.Concatenate(name=name+'_concat')([x_0,x_1,x_2])\n",
    "  x = tf.keras.layers.Dense(192,activation='leaky_relu',name=name+'_dense_0')(x)\n",
    "  x = tf.keras.layers.Dropout(0.2)(x)\n",
    "  x = tf.keras.layers.Dense(96,activation='leaky_relu',name=name+'_dense_1')(x)\n",
    "  x = tf.keras.layers.Dropout(0.2)(x)\n",
    "  x = tf.keras.layers.Dense(48,activation='leaky_relu',name=name+'_dense_2')(x)\n",
    "  x = tf.keras.layers.Dropout(0.2)(x)\n",
    "  x = tf.keras.layers.Dense(24,activation='leaky_relu',name=name+'_dense_3')(x)\n",
    "  x = tf.keras.layers.Dropout(0.2)(x)\n",
    "  outputs = tf.keras.layers.Dense(1,activation='linear',name=name+'_dense_4')(x)\n",
    "\n",
    "  return outputs\n"
   ]
  },
  {
   "cell_type": "code",
   "execution_count": null,
   "metadata": {
    "id": "TDpwoQKVJ0Cm"
   },
   "outputs": [],
   "source": [
    "# Define Inputs\n",
    "inputs = tf.keras.layers.Input(shape=(4,7))\n",
    "\n",
    "# Defining convolutions for each OHCL\n",
    "open_conv = mini_model(inputs=tf.expand_dims(inputs[:,0,:],axis=-1),name='Open')\n",
    "high_conv = mini_model(inputs=tf.expand_dims(inputs[:,1,:],axis=-1),name='High')\n",
    "close_conv = mini_model(inputs=tf.expand_dims(inputs[:,2,:],axis=-1),name='Close')\n",
    "low_conv = mini_model(inputs=tf.expand_dims(inputs[:,3,:],axis=-1),name='Low')\n",
    "\n",
    "# Outputs\n",
    "outputs = tf.keras.layers.Concatenate(name='Output_concat')([open_conv,high_conv,close_conv,low_conv])\n",
    "\n",
    "# Model\n",
    "model_1 = tf.keras.Model(inputs=inputs,outputs=outputs)"
   ]
  },
  {
   "cell_type": "code",
   "execution_count": null,
   "metadata": {
    "id": "MvJbcUKwMVML"
   },
   "outputs": [],
   "source": [
    "model_1.compile(loss='mae',\n",
    "                optimizer='adam')"
   ]
  },
  {
   "cell_type": "code",
   "execution_count": null,
   "metadata": {
    "id": "m4gOwZR_rVHj"
   },
   "outputs": [],
   "source": [
    "clbk_list = [tf.keras.callbacks.EarlyStopping(monitor='val_loss',patience=10,restore_best_weights=True),\n",
    "             tf.keras.callbacks.ReduceLROnPlateau(monitor='val_loss',patience=5,verbose=1)]"
   ]
  },
  {
   "cell_type": "code",
   "execution_count": null,
   "metadata": {
    "colab": {
     "base_uri": "https://localhost:8080/"
    },
    "id": "aFz6kzgvMkKD",
    "outputId": "f5f8c158-c324-434f-9c52-ba1860c2c3e0"
   },
   "outputs": [
    {
     "name": "stdout",
     "output_type": "stream",
     "text": [
      "Epoch 1/100\n",
      "72/72 [==============================] - 13s 50ms/step - loss: 0.6058 - val_loss: 0.7007 - lr: 0.0010\n",
      "Epoch 2/100\n",
      "72/72 [==============================] - 3s 37ms/step - loss: 0.4900 - val_loss: 0.6095 - lr: 0.0010\n",
      "Epoch 3/100\n",
      "72/72 [==============================] - 3s 41ms/step - loss: 0.4584 - val_loss: 0.5524 - lr: 0.0010\n",
      "Epoch 4/100\n",
      "72/72 [==============================] - 3s 35ms/step - loss: 0.4431 - val_loss: 0.4970 - lr: 0.0010\n",
      "Epoch 5/100\n",
      "72/72 [==============================] - 3s 35ms/step - loss: 0.4334 - val_loss: 0.4660 - lr: 0.0010\n",
      "Epoch 6/100\n",
      "72/72 [==============================] - 3s 35ms/step - loss: 0.4254 - val_loss: 0.4466 - lr: 0.0010\n",
      "Epoch 7/100\n",
      "72/72 [==============================] - 2s 34ms/step - loss: 0.4247 - val_loss: 0.3908 - lr: 0.0010\n",
      "Epoch 8/100\n",
      "72/72 [==============================] - 2s 33ms/step - loss: 0.4143 - val_loss: 0.3914 - lr: 0.0010\n",
      "Epoch 9/100\n",
      "72/72 [==============================] - 2s 33ms/step - loss: 0.4087 - val_loss: 0.3737 - lr: 0.0010\n",
      "Epoch 10/100\n",
      "72/72 [==============================] - 2s 32ms/step - loss: 0.4051 - val_loss: 0.3789 - lr: 0.0010\n",
      "Epoch 11/100\n",
      "72/72 [==============================] - 2s 33ms/step - loss: 0.3994 - val_loss: 0.3721 - lr: 0.0010\n",
      "Epoch 12/100\n",
      "72/72 [==============================] - 2s 32ms/step - loss: 0.3971 - val_loss: 0.3866 - lr: 0.0010\n",
      "Epoch 13/100\n",
      "72/72 [==============================] - 2s 32ms/step - loss: 0.3967 - val_loss: 0.3705 - lr: 0.0010\n",
      "Epoch 14/100\n",
      "72/72 [==============================] - 2s 34ms/step - loss: 0.3886 - val_loss: 0.3601 - lr: 0.0010\n",
      "Epoch 15/100\n",
      "72/72 [==============================] - 2s 32ms/step - loss: 0.3890 - val_loss: 0.3874 - lr: 0.0010\n",
      "Epoch 16/100\n",
      "72/72 [==============================] - 2s 33ms/step - loss: 0.3875 - val_loss: 0.3650 - lr: 0.0010\n",
      "Epoch 17/100\n",
      "72/72 [==============================] - 2s 33ms/step - loss: 0.3823 - val_loss: 0.3699 - lr: 0.0010\n",
      "Epoch 18/100\n",
      "72/72 [==============================] - 2s 32ms/step - loss: 0.3805 - val_loss: 0.3850 - lr: 0.0010\n",
      "Epoch 19/100\n",
      "71/72 [============================>.] - ETA: 0s - loss: 0.3782\n",
      "Epoch 19: ReduceLROnPlateau reducing learning rate to 0.00010000000474974513.\n",
      "72/72 [==============================] - 2s 33ms/step - loss: 0.3779 - val_loss: 0.3721 - lr: 0.0010\n",
      "Epoch 20/100\n",
      "72/72 [==============================] - 2s 32ms/step - loss: 0.3687 - val_loss: 0.3651 - lr: 1.0000e-04\n",
      "Epoch 21/100\n",
      "72/72 [==============================] - 2s 33ms/step - loss: 0.3611 - val_loss: 0.3692 - lr: 1.0000e-04\n",
      "Epoch 22/100\n",
      "72/72 [==============================] - 2s 32ms/step - loss: 0.3573 - val_loss: 0.3672 - lr: 1.0000e-04\n",
      "Epoch 23/100\n",
      "72/72 [==============================] - 2s 32ms/step - loss: 0.3569 - val_loss: 0.3681 - lr: 1.0000e-04\n",
      "Epoch 24/100\n",
      "71/72 [============================>.] - ETA: 0s - loss: 0.3537\n",
      "Epoch 24: ReduceLROnPlateau reducing learning rate to 1.0000000474974514e-05.\n",
      "72/72 [==============================] - 2s 33ms/step - loss: 0.3533 - val_loss: 0.3675 - lr: 1.0000e-04\n"
     ]
    }
   ],
   "source": [
    "history_1 = model_1.fit(train_dataset,\n",
    "          validation_data = val_dataset,\n",
    "          epochs=100,\n",
    "          shuffle=False,\n",
    "          callbacks = clbk_list\n",
    "          )"
   ]
  },
  {
   "cell_type": "code",
   "execution_count": null,
   "metadata": {
    "colab": {
     "base_uri": "https://localhost:8080/"
    },
    "id": "24wd6o_VM6N8",
    "outputId": "771a0d84-bec1-47af-e7b9-387140669951"
   },
   "outputs": [
    {
     "name": "stdout",
     "output_type": "stream",
     "text": [
      "9/9 [==============================] - 0s 9ms/step - loss: 0.3396\n"
     ]
    },
    {
     "data": {
      "text/plain": [
       "0.3396308720111847"
      ]
     },
     "execution_count": 28,
     "metadata": {},
     "output_type": "execute_result"
    }
   ],
   "source": [
    "model_1.evaluate(test_dataset)"
   ]
  },
  {
   "cell_type": "code",
   "execution_count": null,
   "metadata": {
    "colab": {
     "base_uri": "https://localhost:8080/"
    },
    "id": "mckuwfy-CICu",
    "outputId": "5ae6b28b-ef6e-4d5e-89cf-a766dcac013c"
   },
   "outputs": [
    {
     "name": "stdout",
     "output_type": "stream",
     "text": [
      "tf.Tensor(\n",
      "[[ 0.98138748  1.00176991  1.26420455  1.34229829]\n",
      " [ 1.13685474  1.08839779  1.00656455  1.1660693 ]\n",
      " [ 1.15647482  1.49309665  1.42579505  1.18518519]\n",
      " [ 1.60202361  1.72524407  1.56009913  1.49499285]\n",
      " [ 1.22526316  0.95877122  0.87419355  0.97463002]\n",
      " [ 0.92504931  1.42683913  1.475       0.89957717]\n",
      " [ 1.45610278  1.08103131  0.89534142  1.79510022]\n",
      " [ 0.78852459  0.86092715  0.86490683  0.83472328]\n",
      " [ 1.12453875  0.96713287  0.95475819  1.08474576]\n",
      " [ 1.25176678  1.02542373  0.60038425  0.66724138]\n",
      " [ 0.39622642  0.72739541  0.83624161  0.6919692 ]\n",
      " [ 0.65292842  0.70310391  0.62550336  0.7359736 ]\n",
      " [ 0.45770065 -1.44166667 -0.57932692  0.41034103]\n",
      " [-0.38495575 -0.30887372 -0.35893155 -0.55223881]\n",
      " [-0.06176784 -0.09517601  0.20638821 -0.109375  ]\n",
      " [ 0.18756269 -0.13095238 -0.4987715  -0.2751896 ]\n",
      " [-0.45737212 -0.32        0.19636678 -0.22411953]\n",
      " [ 0.33009709  0.22148289  0.39619377  0.37925022]\n",
      " [ 0.49073257  0.72920696  1.05405405  0.63993025]\n",
      " [ 1.10493179  1.07692308  0.54890788  0.97179788]\n",
      " [ 0.44634378  0.16133005  0.29439696  0.49093108]\n",
      " [ 0.16239316  0.01477833  0.26305793  0.47158404]\n",
      " [ 0.10731244  0.1773399   0.26875594  0.30350665]\n",
      " [ 0.35327635  0.04064039 -0.07142857  0.38573156]\n",
      " [ 0.21808511  0.505       0.57175141  0.52083333]\n",
      " [ 0.68510638  0.60875     0.36384181  0.56423611]\n",
      " [ 0.29787234  0.5775      0.20355731  0.32118056]\n",
      " [ 0.0621118   0.52566735  0.06719368  0.16923077]\n",
      " [ 0.52795031  1.30800821  1.27667984  0.58153846]\n",
      " [ 1.05590062  1.39448052  0.95201238  2.32923077]\n",
      " [ 1.46875     1.14202561  1.74613003  1.22934473]\n",
      " [ 1.55319149  2.15281501  1.38939671  1.72653534]], shape=(32, 4), dtype=float64)\n",
      "1/1 [==============================] - 1s 1s/step\n",
      "[[ 0.7557023   0.6840709   0.68139845  0.7226036 ]\n",
      " [ 0.5911901   0.8197816   0.8130318   0.6916219 ]\n",
      " [ 1.5364673   0.7879199   0.83579135  0.84156233]\n",
      " [ 0.76182264  0.8114476   0.83916366  0.81485635]\n",
      " [ 0.8486894   0.8514533   0.741358    0.84250367]\n",
      " [ 0.747787    0.80019414  0.59944004  0.81548405]\n",
      " [ 0.7888753   0.8949092   0.81987524  0.6700536 ]\n",
      " [ 0.9039072   0.79552823  0.6376238   0.88179255]\n",
      " [ 0.58774984  0.7662459   0.6914574   0.684068  ]\n",
      " [ 0.8692045   0.79497945  0.7529536   0.83914965]\n",
      " [ 0.72103155  0.7490706   0.31469715  0.51367724]\n",
      " [-0.30154553  0.63666964  0.4684855   0.6045642 ]\n",
      " [ 0.57558745  0.07523972  0.39554864  0.7320784 ]\n",
      " [ 0.2745758   0.03229427 -0.09231947 -0.27954552]\n",
      " [-0.308788    0.05673435  0.06397699  0.09252544]\n",
      " [ 0.20042385  0.1101092   0.21233162 -0.00671415]\n",
      " [ 0.2006595   0.16673976  0.07390926 -0.00780069]\n",
      " [-0.03450662  0.11841452  0.18905595  0.04717915]\n",
      " [ 0.2797227   0.22308876  0.54548705  0.3017249 ]\n",
      " [ 0.638604    0.82660115  0.8431289   0.95417607]\n",
      " [ 0.87088424  0.8005313   0.5825611   0.8823731 ]\n",
      " [ 0.4584721   0.03170819  0.27229726  0.48366255]\n",
      " [-0.2168507  -0.05430847  0.41920707  0.44425747]\n",
      " [ 0.18810347  0.26937187  0.13968208  0.26334748]\n",
      " [ 0.47525468  0.45304382  0.11025719  0.2063597 ]\n",
      " [ 0.6233897   1.0379001   0.6376789   0.68538845]\n",
      " [ 0.7518524   0.61211514  0.86534625  0.7299649 ]\n",
      " [ 0.26430786  0.95499736  0.29881656  0.6000285 ]\n",
      " [-0.21103132  0.30847245  0.16996342  0.0254067 ]\n",
      " [ 0.42723402  0.7497099   0.86081266  0.47166938]\n",
      " [ 0.97928154  0.78929013  0.97556555  1.2458851 ]\n",
      " [ 1.0231744   0.94179803  0.80753714  1.053056  ]]\n"
     ]
    }
   ],
   "source": [
    "for i in test_dataset:\n",
    "  print(i[1])\n",
    "  print(model_1.predict(i[0]))\n",
    "  break\n"
   ]
  },
  {
   "cell_type": "markdown",
   "metadata": {
    "id": "sggV4BesF8mk"
   },
   "source": [
    "## Model 2: Convolutional Model(Interconnect Dense)\n",
    "Model 2 uses Conv1D layers just like the model_1. It uses the same backbone for convolutional layer as the model 1. The difference, however, lies in the Dense(ANN) layers which in this case are interconnected. All the outputs of the convolutional block are concatenated and passed into the Dense(ANN) Network to predict the output of OHCL."
   ]
  },
  {
   "cell_type": "code",
   "execution_count": null,
   "metadata": {
    "id": "7qC2zhwbHY1y"
   },
   "outputs": [],
   "source": [
    "def mini_model(inputs,name='',kernel_sizes=[2,3,4]):\n",
    "    ksize_0, ksize_1, ksize_2 = kernel_sizes\n",
    "    name_0, name_1, name_2 = name+'_'+str(ksize_0),name+'_'+str(ksize_1),name+'_'+str(ksize_2)\n",
    "    x_0 = tf.keras.layers.Conv1D(32,kernel_size=ksize_0,name=name_0+'_0')(inputs)\n",
    "    x_0 = tf.keras.layers.Conv1D(32,kernel_size=ksize_0,name=name_0+'_1')(x_0)\n",
    "    x_0 = tf.keras.layers.BatchNormalization()(x_0)\n",
    "    x_0 = tf.keras.layers.Conv1D(64,kernel_size=ksize_0,name=name_0+'_2')(x_0)\n",
    "    x_0 = tf.keras.layers.Conv1D(64,kernel_size=ksize_0,name=name_0+'_3')(x_0)\n",
    "    x_0 = tf.keras.layers.BatchNormalization()(x_0)\n",
    "    x_0 = tf.keras.layers.Conv1D(128,kernel_size=ksize_0,name=name_0+'_4')(x_0)\n",
    "    x_0 = tf.keras.layers.Conv1D(128,kernel_size=ksize_0,name=name_0+'_5')(x_0)\n",
    "    x_0 = tf.keras.layers.BatchNormalization()(x_0)\n",
    "\n",
    "    x_1 = tf.keras.layers.Conv1D(32,kernel_size=ksize_1,name=name_1+'_0')(inputs)\n",
    "    x_1 = tf.keras.layers.BatchNormalization()(x_1)\n",
    "    x_1 = tf.keras.layers.Conv1D(64,kernel_size=ksize_1,name=name_1+'_1')(x_1)\n",
    "    x_1 = tf.keras.layers.BatchNormalization()(x_1)\n",
    "    x_1 = tf.keras.layers.Conv1D(128,kernel_size=ksize_1,name=name_1+'_2')(x_1)\n",
    "    x_1 = tf.keras.layers.BatchNormalization()(x_1)\n",
    "\n",
    "    x_2 = tf.keras.layers.Conv1D(64,kernel_size=ksize_2,name=name_2+'_0')(inputs)\n",
    "    x_2 = tf.keras.layers.BatchNormalization()(x_2)\n",
    "    x_2 = tf.keras.layers.Conv1D(128,kernel_size=ksize_2,name=name_2+'_1')(x_2)\n",
    "    x_2 = tf.keras.layers.BatchNormalization()(x_2)\n",
    "\n",
    "    x_0 = tf.keras.layers.Flatten(name=name_0+'_flatten')(x_0)\n",
    "    x_1 = tf.keras.layers.Flatten(name=name_1+'flatten')(x_1)\n",
    "    x_2 = tf.keras.layers.Flatten(name=name_2+'_flatten')(x_2)\n",
    "\n",
    "    x = tf.keras.layers.Concatenate()([x_0,x_1,x_2])\n",
    "\n",
    "    return x\n",
    "\n",
    "\n"
   ]
  },
  {
   "cell_type": "code",
   "execution_count": null,
   "metadata": {
    "id": "N3CYVJxlYfo0"
   },
   "outputs": [],
   "source": [
    "# Inputs\n",
    "inputs = tf.keras.layers.Input(shape=(4,7))\n",
    "\n",
    "# OHCL conv layers\n",
    "open_conv = mini_model(inputs=tf.expand_dims(inputs[:,0,:],axis=-1),name='Open')\n",
    "high_conv = mini_model(inputs=tf.expand_dims(inputs[:,1,:],axis=-1),name='High')\n",
    "close_conv = mini_model(inputs=tf.expand_dims(inputs[:,2,:],axis=-1),name='Close')\n",
    "low_conv = mini_model(inputs=tf.expand_dims(inputs[:,3,:],axis=-1),name='Low')\n",
    "\n",
    "# Concatenated Dense layers\n",
    "x = tf.keras.layers.Concatenate()([open_conv,high_conv,close_conv,low_conv])\n",
    "x = tf.keras.layers.Dense(768,activation='leaky_relu')(x)\n",
    "x = tf.keras.layers.Dropout(0.2)(x)\n",
    "x = tf.keras.layers.Dense(384,activation='leaky_relu')(x)\n",
    "x = tf.keras.layers.Dense(192,activation='leaky_relu')(x)\n",
    "x = tf.keras.layers.Dropout(0.2)(x)\n",
    "x = tf.keras.layers.Dense(96,activation='leaky_relu')(x)\n",
    "x = tf.keras.layers.Dense(48,activation='leaky_relu')(x)\n",
    "x = tf.keras.layers.Dropout(0.2)(x)\n",
    "x = tf.keras.layers.Dense(24,activation='leaky_relu')(x)\n",
    "x = tf.keras.layers.Dense(12,activation='leaky_relu')(x)\n",
    "x = tf.keras.layers.Dropout(0.2)(x)\n",
    "outputs = tf.keras.layers.Dense(4,activation='linear')(x)\n",
    "\n",
    "\n",
    "model_2 = tf.keras.Model(inputs=inputs,outputs=outputs)"
   ]
  },
  {
   "cell_type": "code",
   "execution_count": null,
   "metadata": {
    "id": "0M0mQBr3btBO"
   },
   "outputs": [],
   "source": [
    "model_2.compile(loss ='mae',\n",
    "                optimizer = 'adam')"
   ]
  },
  {
   "cell_type": "code",
   "execution_count": null,
   "metadata": {
    "id": "YdAjYrIPsvF4"
   },
   "outputs": [],
   "source": [
    "# Define clbk list from model_1 experiments"
   ]
  },
  {
   "cell_type": "code",
   "execution_count": null,
   "metadata": {
    "colab": {
     "base_uri": "https://localhost:8080/"
    },
    "id": "YbDE43UQb6Bm",
    "outputId": "986521a4-cf3c-4b8e-a404-3a8315f0b2d1"
   },
   "outputs": [
    {
     "name": "stdout",
     "output_type": "stream",
     "text": [
      "Epoch 1/100\n",
      "72/72 [==============================] - 13s 46ms/step - loss: 0.5186 - val_loss: 0.6790 - lr: 0.0010\n",
      "Epoch 2/100\n",
      "72/72 [==============================] - 2s 31ms/step - loss: 0.4428 - val_loss: 0.6432 - lr: 0.0010\n",
      "Epoch 3/100\n",
      "72/72 [==============================] - 2s 31ms/step - loss: 0.4172 - val_loss: 0.5906 - lr: 0.0010\n",
      "Epoch 4/100\n",
      "72/72 [==============================] - 2s 32ms/step - loss: 0.4072 - val_loss: 0.5508 - lr: 0.0010\n",
      "Epoch 5/100\n",
      "72/72 [==============================] - 2s 31ms/step - loss: 0.4011 - val_loss: 0.4617 - lr: 0.0010\n",
      "Epoch 6/100\n",
      "72/72 [==============================] - 2s 31ms/step - loss: 0.4024 - val_loss: 0.4257 - lr: 0.0010\n",
      "Epoch 7/100\n",
      "72/72 [==============================] - 2s 31ms/step - loss: 0.3958 - val_loss: 0.3835 - lr: 0.0010\n",
      "Epoch 8/100\n",
      "72/72 [==============================] - 2s 31ms/step - loss: 0.3846 - val_loss: 0.3215 - lr: 0.0010\n",
      "Epoch 9/100\n",
      "72/72 [==============================] - 2s 30ms/step - loss: 0.3831 - val_loss: 0.3223 - lr: 0.0010\n",
      "Epoch 10/100\n",
      "72/72 [==============================] - 2s 31ms/step - loss: 0.3781 - val_loss: 0.3075 - lr: 0.0010\n",
      "Epoch 11/100\n",
      "72/72 [==============================] - 2s 31ms/step - loss: 0.3716 - val_loss: 0.3072 - lr: 0.0010\n",
      "Epoch 12/100\n",
      "72/72 [==============================] - 2s 31ms/step - loss: 0.3732 - val_loss: 0.3120 - lr: 0.0010\n",
      "Epoch 13/100\n",
      "72/72 [==============================] - 2s 31ms/step - loss: 0.3729 - val_loss: 0.3011 - lr: 0.0010\n",
      "Epoch 14/100\n",
      "72/72 [==============================] - 2s 31ms/step - loss: 0.3682 - val_loss: 0.3099 - lr: 0.0010\n",
      "Epoch 15/100\n",
      "72/72 [==============================] - 2s 29ms/step - loss: 0.3666 - val_loss: 0.3279 - lr: 0.0010\n",
      "Epoch 16/100\n",
      "72/72 [==============================] - 2s 31ms/step - loss: 0.3675 - val_loss: 0.2961 - lr: 0.0010\n",
      "Epoch 17/100\n",
      "72/72 [==============================] - 2s 31ms/step - loss: 0.3567 - val_loss: 0.3038 - lr: 0.0010\n",
      "Epoch 18/100\n",
      "72/72 [==============================] - 2s 31ms/step - loss: 0.3598 - val_loss: 0.2965 - lr: 0.0010\n",
      "Epoch 19/100\n",
      "72/72 [==============================] - 2s 32ms/step - loss: 0.3580 - val_loss: 0.3090 - lr: 0.0010\n",
      "Epoch 20/100\n",
      "72/72 [==============================] - 2s 31ms/step - loss: 0.3590 - val_loss: 0.3232 - lr: 0.0010\n",
      "Epoch 21/100\n",
      "71/72 [============================>.] - ETA: 0s - loss: 0.3577\n",
      "Epoch 21: ReduceLROnPlateau reducing learning rate to 0.00010000000474974513.\n",
      "72/72 [==============================] - 2s 31ms/step - loss: 0.3575 - val_loss: 0.2980 - lr: 0.0010\n",
      "Epoch 22/100\n",
      "72/72 [==============================] - 2s 31ms/step - loss: 0.3463 - val_loss: 0.2951 - lr: 1.0000e-04\n",
      "Epoch 23/100\n",
      "72/72 [==============================] - 2s 30ms/step - loss: 0.3425 - val_loss: 0.3024 - lr: 1.0000e-04\n",
      "Epoch 24/100\n",
      "72/72 [==============================] - 2s 32ms/step - loss: 0.3364 - val_loss: 0.3007 - lr: 1.0000e-04\n",
      "Epoch 25/100\n",
      "72/72 [==============================] - 2s 30ms/step - loss: 0.3364 - val_loss: 0.3093 - lr: 1.0000e-04\n",
      "Epoch 26/100\n",
      "72/72 [==============================] - 2s 30ms/step - loss: 0.3328 - val_loss: 0.3035 - lr: 1.0000e-04\n",
      "Epoch 27/100\n",
      "72/72 [==============================] - ETA: 0s - loss: 0.3317\n",
      "Epoch 27: ReduceLROnPlateau reducing learning rate to 1.0000000474974514e-05.\n",
      "72/72 [==============================] - 3s 42ms/step - loss: 0.3317 - val_loss: 0.3067 - lr: 1.0000e-04\n",
      "Epoch 28/100\n",
      "72/72 [==============================] - 3s 35ms/step - loss: 0.3276 - val_loss: 0.3045 - lr: 1.0000e-05\n",
      "Epoch 29/100\n",
      "72/72 [==============================] - 2s 31ms/step - loss: 0.3315 - val_loss: 0.3057 - lr: 1.0000e-05\n",
      "Epoch 30/100\n",
      "72/72 [==============================] - 2s 31ms/step - loss: 0.3272 - val_loss: 0.3056 - lr: 1.0000e-05\n",
      "Epoch 31/100\n",
      "72/72 [==============================] - 2s 32ms/step - loss: 0.3284 - val_loss: 0.3064 - lr: 1.0000e-05\n",
      "Epoch 32/100\n",
      "71/72 [============================>.] - ETA: 0s - loss: 0.3309\n",
      "Epoch 32: ReduceLROnPlateau reducing learning rate to 1.0000000656873453e-06.\n",
      "72/72 [==============================] - 2s 33ms/step - loss: 0.3306 - val_loss: 0.3060 - lr: 1.0000e-05\n"
     ]
    }
   ],
   "source": [
    "history_2 = model_2.fit(train_dataset,\n",
    "                        validation_data = val_dataset,\n",
    "                        epochs=100,\n",
    "                        callbacks=clbk_list)"
   ]
  },
  {
   "cell_type": "code",
   "execution_count": null,
   "metadata": {
    "colab": {
     "base_uri": "https://localhost:8080/"
    },
    "id": "Lq1vltpKb56-",
    "outputId": "fd6724c1-7a9e-461b-fc4b-aea603ff0bf2"
   },
   "outputs": [
    {
     "name": "stdout",
     "output_type": "stream",
     "text": [
      "9/9 [==============================] - 0s 9ms/step - loss: 0.2930\n"
     ]
    },
    {
     "data": {
      "text/plain": [
       "0.2929717004299164"
      ]
     },
     "execution_count": 33,
     "metadata": {},
     "output_type": "execute_result"
    }
   ],
   "source": [
    "model_2.evaluate(test_dataset)"
   ]
  },
  {
   "cell_type": "code",
   "execution_count": null,
   "metadata": {
    "colab": {
     "base_uri": "https://localhost:8080/"
    },
    "id": "wJcpMdj-ggy-",
    "outputId": "aaf00c9b-0b55-4db7-9a95-e7af7b4bfb81"
   },
   "outputs": [
    {
     "name": "stdout",
     "output_type": "stream",
     "text": [
      "tf.Tensor(\n",
      "[[ 0.98138748  1.00176991  1.26420455  1.34229829]\n",
      " [ 1.13685474  1.08839779  1.00656455  1.1660693 ]\n",
      " [ 1.15647482  1.49309665  1.42579505  1.18518519]\n",
      " [ 1.60202361  1.72524407  1.56009913  1.49499285]\n",
      " [ 1.22526316  0.95877122  0.87419355  0.97463002]\n",
      " [ 0.92504931  1.42683913  1.475       0.89957717]\n",
      " [ 1.45610278  1.08103131  0.89534142  1.79510022]\n",
      " [ 0.78852459  0.86092715  0.86490683  0.83472328]\n",
      " [ 1.12453875  0.96713287  0.95475819  1.08474576]\n",
      " [ 1.25176678  1.02542373  0.60038425  0.66724138]\n",
      " [ 0.39622642  0.72739541  0.83624161  0.6919692 ]\n",
      " [ 0.65292842  0.70310391  0.62550336  0.7359736 ]\n",
      " [ 0.45770065 -1.44166667 -0.57932692  0.41034103]\n",
      " [-0.38495575 -0.30887372 -0.35893155 -0.55223881]\n",
      " [-0.06176784 -0.09517601  0.20638821 -0.109375  ]\n",
      " [ 0.18756269 -0.13095238 -0.4987715  -0.2751896 ]\n",
      " [-0.45737212 -0.32        0.19636678 -0.22411953]\n",
      " [ 0.33009709  0.22148289  0.39619377  0.37925022]\n",
      " [ 0.49073257  0.72920696  1.05405405  0.63993025]\n",
      " [ 1.10493179  1.07692308  0.54890788  0.97179788]\n",
      " [ 0.44634378  0.16133005  0.29439696  0.49093108]\n",
      " [ 0.16239316  0.01477833  0.26305793  0.47158404]\n",
      " [ 0.10731244  0.1773399   0.26875594  0.30350665]\n",
      " [ 0.35327635  0.04064039 -0.07142857  0.38573156]\n",
      " [ 0.21808511  0.505       0.57175141  0.52083333]\n",
      " [ 0.68510638  0.60875     0.36384181  0.56423611]\n",
      " [ 0.29787234  0.5775      0.20355731  0.32118056]\n",
      " [ 0.0621118   0.52566735  0.06719368  0.16923077]\n",
      " [ 0.52795031  1.30800821  1.27667984  0.58153846]\n",
      " [ 1.05590062  1.39448052  0.95201238  2.32923077]\n",
      " [ 1.46875     1.14202561  1.74613003  1.22934473]\n",
      " [ 1.55319149  2.15281501  1.38939671  1.72653534]], shape=(32, 4), dtype=float64)\n",
      "tf.Tensor(\n",
      "[[ 1.096886    1.0267776   0.9410609   1.0481064 ]\n",
      " [ 1.0536114   0.98595625  0.89976346  1.0080062 ]\n",
      " [ 0.9119712   0.84856606  0.80068004  0.8903211 ]\n",
      " [ 1.022742    0.9361563   0.8678051   0.9742984 ]\n",
      " [ 0.98407066  0.9085588   0.84010184  0.9390694 ]\n",
      " [ 0.77836525  0.7330091   0.6951713   0.76352096]\n",
      " [ 1.0634981   0.959811    0.8946383   1.01122   ]\n",
      " [ 0.88213396  0.83332354  0.77023757  0.8553064 ]\n",
      " [ 0.86315703  0.8022054   0.755397    0.8314772 ]\n",
      " [ 1.0714753   1.0087248   0.91705704  1.028977  ]\n",
      " [ 0.6617907   0.5928389   0.5565212   0.62562495]\n",
      " [ 1.0088587   0.9843413   0.94212985  1.022896  ]\n",
      " [ 0.3242966   0.28360283  0.31859702  0.34150678]\n",
      " [-0.33491436 -0.32272136 -0.1587776  -0.18444714]\n",
      " [ 0.09846221  0.06156312  0.14047974  0.1350227 ]\n",
      " [ 0.1752463   0.1498281   0.21107979  0.20785052]\n",
      " [-0.15229619 -0.16713466 -0.03985178 -0.05349168]\n",
      " [ 0.16794309  0.13644546  0.19824962  0.19643441]\n",
      " [ 0.6293424   0.5819857   0.5677663   0.61836326]\n",
      " [ 1.0089424   0.9518063   0.90371716  1.0010949 ]\n",
      " [ 0.6982144   0.64990824  0.6250595   0.68691766]\n",
      " [ 0.20384446  0.17295189  0.2275103   0.2279437 ]\n",
      " [ 0.15296654  0.11371123  0.1818839   0.1800141 ]\n",
      " [ 0.11124575  0.07292989  0.14071903  0.14183697]\n",
      " [ 0.13870639  0.10339369  0.17430553  0.16942857]\n",
      " [ 0.65906954  0.61422956  0.61577296  0.6659364 ]\n",
      " [ 0.72497505  0.68546236  0.65268654  0.713814  ]\n",
      " [ 0.19271944  0.1598252   0.22236131  0.22037181]\n",
      " [ 0.11848868  0.07936643  0.15045312  0.14836037]\n",
      " [ 1.0115435   0.9315732   0.869782    0.96850556]\n",
      " [ 1.042008    0.99234194  0.9068639   1.0151408 ]\n",
      " [ 0.9372777   0.8577901   0.8070383   0.8987408 ]], shape=(32, 4), dtype=float32)\n"
     ]
    }
   ],
   "source": [
    "for i in test_dataset:\n",
    "  print(i[1])\n",
    "  print(model_2(i[0]))\n",
    "  break"
   ]
  },
  {
   "cell_type": "markdown",
   "metadata": {
    "id": "cRY0ZCnujxDd"
   },
   "source": [
    "## Model 3: Interconnected Convolution\n",
    "Model 3 is a 2D Conv2D layer that will take in OHCL layers as a whole and try to figure out the patterns for itself to predict the OHCL price."
   ]
  },
  {
   "cell_type": "code",
   "execution_count": null,
   "metadata": {
    "id": "DEIAKWoS1cKV"
   },
   "outputs": [],
   "source": [
    "ac = 'leaky_relu'"
   ]
  },
  {
   "cell_type": "code",
   "execution_count": null,
   "metadata": {
    "id": "vU1YdIELzA6j"
   },
   "outputs": [],
   "source": [
    "inputs = tf.keras.layers.Input(shape=(4,7))\n",
    "inp = tf.keras.layers.Reshape((4,7,1),input_shape=(4,7))(inputs)\n",
    "x_0 = tf.keras.layers.Conv2D(filters=64,kernel_size=(4,2),activation=ac)(inp)\n",
    "x_0 = tf.keras.layers.Conv1D(filters=64,kernel_size=2,activation=ac)(x_0)\n",
    "x_0 = tf.keras.layers.Conv1D(filters=128,kernel_size=2,activation=ac)(x_0)\n",
    "x_0 = tf.keras.layers.Conv1D(filters=128,kernel_size=2,activation=ac)(x_0)\n",
    "x_0 = tf.keras.layers.Conv1D(filters=256,kernel_size=2,activation=ac)(x_0)\n",
    "x_0 = tf.keras.layers.Conv1D(filters=256,kernel_size=2,activation=ac)(x_0)\n",
    "x_0 = tf.keras.layers.Flatten()(x_0)\n",
    "\n",
    "x_1 = tf.keras.layers.Conv2D(filters=64,kernel_size=(4,3),activation=ac)(inp)\n",
    "x_1 = tf.keras.layers.Conv1D(filters=128,kernel_size=3,activation=ac)(x_1)\n",
    "x_1 = tf.keras.layers.Conv1D(filters=256,kernel_size=3,activation=ac)(x_1)\n",
    "# x_1 = tf.keras.layers.Conv1D(filters=256,kernel_size=3,activation='leaky_relu')(x_1)\n",
    "x_1 = tf.keras.layers.Flatten()(x_1)\n",
    "\n",
    "x_2 = tf.keras.layers.Conv2D(filters=64,kernel_size=(4,4),activation=ac)(inp)\n",
    "x_2 = tf.keras.layers.Conv1D(filters=256,kernel_size=4,activation=ac)(x_2)\n",
    "x_2 = tf.keras.layers.Flatten()(x_2)\n",
    "\n",
    "x = tf.keras.layers.Concatenate()([x_0,x_1,x_2])\n",
    "x = tf.keras.layers.Dense(1536,activation=ac)(x)\n",
    "x = tf.keras.layers.Dense(1536,activation=ac)(x)\n",
    "x = tf.keras.layers.Dense(768,activation=ac)(x)\n",
    "x = tf.keras.layers.Dense(500,activation=ac)(x)\n",
    "x = tf.keras.layers.Dense(100,activation=ac)(x)\n",
    "x = tf.keras.layers.Dense(20,activation=ac)(x)\n",
    "outputs = tf.keras.layers.Dense(4,activation='linear')(x)\n",
    "\n",
    "\n",
    "model_3 = tf.keras.Model(inputs=inputs,outputs=outputs)\n"
   ]
  },
  {
   "cell_type": "code",
   "execution_count": null,
   "metadata": {
    "id": "WtoVX-kpiXsQ"
   },
   "outputs": [],
   "source": [
    "model_3.compile(loss='mae',\n",
    "                optimizer='adam')"
   ]
  },
  {
   "cell_type": "code",
   "execution_count": null,
   "metadata": {
    "id": "FTIHNoUGtbjw"
   },
   "outputs": [],
   "source": [
    "# Define callback list from model_1 experiments."
   ]
  },
  {
   "cell_type": "code",
   "execution_count": null,
   "metadata": {
    "colab": {
     "base_uri": "https://localhost:8080/"
    },
    "id": "JfGAZco9jR83",
    "outputId": "7482d4be-6ebc-445d-accc-314f75a029e5"
   },
   "outputs": [
    {
     "name": "stdout",
     "output_type": "stream",
     "text": [
      "Epoch 1/100\n",
      "72/72 [==============================] - 4s 17ms/step - loss: 0.3968 - val_loss: 0.2963 - lr: 0.0010\n",
      "Epoch 2/100\n",
      "72/72 [==============================] - 1s 8ms/step - loss: 0.3306 - val_loss: 0.2889 - lr: 0.0010\n",
      "Epoch 3/100\n",
      "72/72 [==============================] - 1s 7ms/step - loss: 0.3239 - val_loss: 0.2882 - lr: 0.0010\n",
      "Epoch 4/100\n",
      "72/72 [==============================] - 1s 8ms/step - loss: 0.3235 - val_loss: 0.2879 - lr: 0.0010\n",
      "Epoch 5/100\n",
      "72/72 [==============================] - 1s 7ms/step - loss: 0.3218 - val_loss: 0.2873 - lr: 0.0010\n",
      "Epoch 6/100\n",
      "72/72 [==============================] - 1s 7ms/step - loss: 0.3134 - val_loss: 0.2902 - lr: 0.0010\n",
      "Epoch 7/100\n",
      "72/72 [==============================] - 1s 7ms/step - loss: 0.3092 - val_loss: 0.2900 - lr: 0.0010\n",
      "Epoch 8/100\n",
      "72/72 [==============================] - 1s 7ms/step - loss: 0.3093 - val_loss: 0.2933 - lr: 0.0010\n",
      "Epoch 9/100\n",
      "72/72 [==============================] - 1s 7ms/step - loss: 0.3067 - val_loss: 0.2858 - lr: 0.0010\n",
      "Epoch 10/100\n",
      "72/72 [==============================] - 1s 7ms/step - loss: 0.3036 - val_loss: 0.2865 - lr: 0.0010\n",
      "Epoch 11/100\n",
      "72/72 [==============================] - 1s 8ms/step - loss: 0.3018 - val_loss: 0.2935 - lr: 0.0010\n",
      "Epoch 12/100\n",
      "72/72 [==============================] - 1s 7ms/step - loss: 0.2983 - val_loss: 0.2986 - lr: 0.0010\n",
      "Epoch 13/100\n",
      "72/72 [==============================] - 1s 7ms/step - loss: 0.2959 - val_loss: 0.2949 - lr: 0.0010\n",
      "Epoch 14/100\n",
      "72/72 [==============================] - ETA: 0s - loss: 0.2975\n",
      "Epoch 14: ReduceLROnPlateau reducing learning rate to 0.00010000000474974513.\n",
      "72/72 [==============================] - 1s 7ms/step - loss: 0.2975 - val_loss: 0.2939 - lr: 0.0010\n",
      "Epoch 15/100\n",
      "72/72 [==============================] - 1s 7ms/step - loss: 0.2786 - val_loss: 0.2887 - lr: 1.0000e-04\n",
      "Epoch 16/100\n",
      "72/72 [==============================] - 1s 7ms/step - loss: 0.2716 - val_loss: 0.2886 - lr: 1.0000e-04\n",
      "Epoch 17/100\n",
      "72/72 [==============================] - 1s 7ms/step - loss: 0.2670 - val_loss: 0.2896 - lr: 1.0000e-04\n",
      "Epoch 18/100\n",
      "72/72 [==============================] - 1s 7ms/step - loss: 0.2638 - val_loss: 0.2912 - lr: 1.0000e-04\n",
      "Epoch 19/100\n",
      "65/72 [==========================>...] - ETA: 0s - loss: 0.2599\n",
      "Epoch 19: ReduceLROnPlateau reducing learning rate to 1.0000000474974514e-05.\n",
      "72/72 [==============================] - 1s 7ms/step - loss: 0.2603 - val_loss: 0.2939 - lr: 1.0000e-04\n"
     ]
    }
   ],
   "source": [
    "history_3 = model_3.fit(train_dataset,\n",
    "                        validation_data=val_dataset,\n",
    "                        epochs=100,\n",
    "                        callbacks=clbk_list)"
   ]
  },
  {
   "cell_type": "code",
   "execution_count": null,
   "metadata": {
    "colab": {
     "base_uri": "https://localhost:8080/"
    },
    "id": "lrBNHqbCjg4H",
    "outputId": "69ac0ddf-10a8-4f2a-d0ff-12595b9917b8"
   },
   "outputs": [
    {
     "name": "stdout",
     "output_type": "stream",
     "text": [
      "9/9 [==============================] - 0s 4ms/step - loss: 0.2914\n"
     ]
    },
    {
     "data": {
      "text/plain": [
       "0.29139330983161926"
      ]
     },
     "execution_count": 43,
     "metadata": {},
     "output_type": "execute_result"
    }
   ],
   "source": [
    "model_3.evaluate(test_dataset)"
   ]
  },
  {
   "cell_type": "code",
   "execution_count": null,
   "metadata": {
    "colab": {
     "base_uri": "https://localhost:8080/"
    },
    "id": "xqS2dTCxjkfS",
    "outputId": "fe7fa831-2e4f-4d19-b611-75076411566a"
   },
   "outputs": [
    {
     "name": "stdout",
     "output_type": "stream",
     "text": [
      "tf.Tensor(\n",
      "[[ 0.98138748  1.00176991  1.26420455  1.34229829]\n",
      " [ 1.13685474  1.08839779  1.00656455  1.1660693 ]\n",
      " [ 1.15647482  1.49309665  1.42579505  1.18518519]\n",
      " [ 1.60202361  1.72524407  1.56009913  1.49499285]\n",
      " [ 1.22526316  0.95877122  0.87419355  0.97463002]\n",
      " [ 0.92504931  1.42683913  1.475       0.89957717]\n",
      " [ 1.45610278  1.08103131  0.89534142  1.79510022]\n",
      " [ 0.78852459  0.86092715  0.86490683  0.83472328]\n",
      " [ 1.12453875  0.96713287  0.95475819  1.08474576]\n",
      " [ 1.25176678  1.02542373  0.60038425  0.66724138]\n",
      " [ 0.39622642  0.72739541  0.83624161  0.6919692 ]\n",
      " [ 0.65292842  0.70310391  0.62550336  0.7359736 ]\n",
      " [ 0.45770065 -1.44166667 -0.57932692  0.41034103]\n",
      " [-0.38495575 -0.30887372 -0.35893155 -0.55223881]\n",
      " [-0.06176784 -0.09517601  0.20638821 -0.109375  ]\n",
      " [ 0.18756269 -0.13095238 -0.4987715  -0.2751896 ]\n",
      " [-0.45737212 -0.32        0.19636678 -0.22411953]\n",
      " [ 0.33009709  0.22148289  0.39619377  0.37925022]\n",
      " [ 0.49073257  0.72920696  1.05405405  0.63993025]\n",
      " [ 1.10493179  1.07692308  0.54890788  0.97179788]\n",
      " [ 0.44634378  0.16133005  0.29439696  0.49093108]\n",
      " [ 0.16239316  0.01477833  0.26305793  0.47158404]\n",
      " [ 0.10731244  0.1773399   0.26875594  0.30350665]\n",
      " [ 0.35327635  0.04064039 -0.07142857  0.38573156]\n",
      " [ 0.21808511  0.505       0.57175141  0.52083333]\n",
      " [ 0.68510638  0.60875     0.36384181  0.56423611]\n",
      " [ 0.29787234  0.5775      0.20355731  0.32118056]\n",
      " [ 0.0621118   0.52566735  0.06719368  0.16923077]\n",
      " [ 0.52795031  1.30800821  1.27667984  0.58153846]\n",
      " [ 1.05590062  1.39448052  0.95201238  2.32923077]\n",
      " [ 1.46875     1.14202561  1.74613003  1.22934473]\n",
      " [ 1.55319149  2.15281501  1.38939671  1.72653534]], shape=(32, 4), dtype=float64)\n",
      "tf.Tensor(\n",
      "[[ 9.8156518e-01  9.5043391e-01  9.1953647e-01  1.0134532e+00]\n",
      " [ 1.2760450e+00  1.1515369e+00  9.9743187e-01  1.1025131e+00]\n",
      " [ 1.1126977e+00  9.6765494e-01  8.4998232e-01  9.1459888e-01]\n",
      " [ 1.2224792e+00  1.0773196e+00  9.6621782e-01  1.0949039e+00]\n",
      " [ 1.2350792e+00  1.0861282e+00  9.6662050e-01  1.0958459e+00]\n",
      " [ 8.7677121e-01  8.8255024e-01  8.4917933e-01  8.9521074e-01]\n",
      " [ 1.2946804e+00  1.1198447e+00  1.0331897e+00  1.2345437e+00]\n",
      " [ 9.3296438e-01  8.7367922e-01  7.7757847e-01  7.8898013e-01]\n",
      " [ 9.7185725e-01  9.0663713e-01  8.2765347e-01  8.7195534e-01]\n",
      " [ 9.6864408e-01  1.0311660e+00  9.1832566e-01  9.2167491e-01]\n",
      " [ 4.9932513e-01  5.1234847e-01  5.6634241e-01  5.6944239e-01]\n",
      " [ 6.8231601e-01  8.9232320e-01  9.7043794e-01  9.6364880e-01]\n",
      " [ 3.9158249e-01  2.9154855e-01  4.0853477e-01  4.6243063e-01]\n",
      " [-3.2135835e-01 -1.9147591e-01 -1.6706482e-02 -2.1572672e-02]\n",
      " [-2.2386459e-01 -1.4718349e-01 -5.6241192e-03 -2.2305874e-02]\n",
      " [ 1.1885890e-01  1.1110299e-01  2.2602274e-01  2.1463443e-01]\n",
      " [-6.8052471e-01 -4.7518536e-01 -4.4672638e-02 -9.7624175e-02]\n",
      " [ 1.6825272e-01  1.0135236e-01  2.0036349e-01  2.1450886e-01]\n",
      " [ 5.4565305e-01  5.3300089e-01  5.5982912e-01  5.8586764e-01]\n",
      " [ 1.1840013e+00  1.0199144e+00  9.6796972e-01  1.1624264e+00]\n",
      " [ 6.6329342e-01  6.3966876e-01  6.3957930e-01  6.7568737e-01]\n",
      " [ 3.5690284e-01  2.3759788e-01  3.5773587e-01  3.8872951e-01]\n",
      " [ 2.8596061e-01  2.8879410e-01  4.0436983e-01  4.5219010e-01]\n",
      " [ 1.2389078e-01  4.5844592e-02  1.0304056e-01  1.1143098e-01]\n",
      " [ 8.5835904e-04 -1.1341665e-04  6.5730266e-02  6.4967744e-02]\n",
      " [ 6.6944289e-01  6.4929533e-01  6.4585257e-01  6.7314821e-01]\n",
      " [ 4.9591032e-01  4.9284241e-01  5.3983766e-01  5.5626899e-01]\n",
      " [ 5.2609515e-01  4.3495765e-01  5.2727336e-01  6.1421579e-01]\n",
      " [ 4.9940169e-02  2.8448660e-02  1.2555072e-01  1.5126729e-01]\n",
      " [ 1.2700282e+00  1.2213701e+00  1.0898587e+00  1.2013336e+00]\n",
      " [ 1.1373820e+00  1.0809324e+00  9.4051641e-01  9.7801620e-01]\n",
      " [ 1.2827450e+00  1.1282594e+00  9.9322820e-01  1.1151384e+00]], shape=(32, 4), dtype=float32)\n"
     ]
    }
   ],
   "source": [
    "for i in test_dataset:\n",
    "  print(i[1])\n",
    "  print(model_3(i[0]))\n",
    "  break"
   ]
  },
  {
   "cell_type": "markdown",
   "metadata": {
    "id": "gaJtzHyAukq8"
   },
   "source": [
    "## Model 4: LSTM model (independent)"
   ]
  },
  {
   "cell_type": "code",
   "execution_count": null,
   "metadata": {
    "colab": {
     "base_uri": "https://localhost:8080/"
    },
    "id": "RfYhWzTvvEH_",
    "outputId": "f6e917f3-eac9-4058-ef90-7b33fe6e216c"
   },
   "outputs": [
    {
     "name": "stderr",
     "output_type": "stream",
     "text": [
      "WARNING:tensorflow:Layer lstm_5 will not use cuDNN kernels since it doesn't meet the criteria. It will use a generic GPU kernel as fallback when running on GPU.\n",
      "WARNING:tensorflow:Layer lstm_6 will not use cuDNN kernels since it doesn't meet the criteria. It will use a generic GPU kernel as fallback when running on GPU.\n",
      "WARNING:tensorflow:Layer lstm_7 will not use cuDNN kernels since it doesn't meet the criteria. It will use a generic GPU kernel as fallback when running on GPU.\n",
      "WARNING:tensorflow:Layer lstm_8 will not use cuDNN kernels since it doesn't meet the criteria. It will use a generic GPU kernel as fallback when running on GPU.\n",
      "WARNING:tensorflow:Layer lstm_9 will not use cuDNN kernels since it doesn't meet the criteria. It will use a generic GPU kernel as fallback when running on GPU.\n",
      "WARNING:tensorflow:Layer lstm_10 will not use cuDNN kernels since it doesn't meet the criteria. It will use a generic GPU kernel as fallback when running on GPU.\n",
      "WARNING:tensorflow:Layer lstm_11 will not use cuDNN kernels since it doesn't meet the criteria. It will use a generic GPU kernel as fallback when running on GPU.\n",
      "WARNING:tensorflow:Layer lstm_12 will not use cuDNN kernels since it doesn't meet the criteria. It will use a generic GPU kernel as fallback when running on GPU.\n",
      "WARNING:tensorflow:Layer lstm_13 will not use cuDNN kernels since it doesn't meet the criteria. It will use a generic GPU kernel as fallback when running on GPU.\n",
      "WARNING:tensorflow:Layer lstm_14 will not use cuDNN kernels since it doesn't meet the criteria. It will use a generic GPU kernel as fallback when running on GPU.\n",
      "WARNING:tensorflow:Layer lstm_15 will not use cuDNN kernels since it doesn't meet the criteria. It will use a generic GPU kernel as fallback when running on GPU.\n",
      "WARNING:tensorflow:Layer lstm_16 will not use cuDNN kernels since it doesn't meet the criteria. It will use a generic GPU kernel as fallback when running on GPU.\n",
      "WARNING:tensorflow:Layer lstm_17 will not use cuDNN kernels since it doesn't meet the criteria. It will use a generic GPU kernel as fallback when running on GPU.\n",
      "WARNING:tensorflow:Layer lstm_18 will not use cuDNN kernels since it doesn't meet the criteria. It will use a generic GPU kernel as fallback when running on GPU.\n",
      "WARNING:tensorflow:Layer lstm_19 will not use cuDNN kernels since it doesn't meet the criteria. It will use a generic GPU kernel as fallback when running on GPU.\n",
      "WARNING:tensorflow:Layer lstm_20 will not use cuDNN kernels since it doesn't meet the criteria. It will use a generic GPU kernel as fallback when running on GPU.\n",
      "WARNING:tensorflow:Layer lstm_21 will not use cuDNN kernels since it doesn't meet the criteria. It will use a generic GPU kernel as fallback when running on GPU.\n",
      "WARNING:tensorflow:Layer lstm_22 will not use cuDNN kernels since it doesn't meet the criteria. It will use a generic GPU kernel as fallback when running on GPU.\n",
      "WARNING:tensorflow:Layer lstm_23 will not use cuDNN kernels since it doesn't meet the criteria. It will use a generic GPU kernel as fallback when running on GPU.\n",
      "WARNING:tensorflow:Layer lstm_24 will not use cuDNN kernels since it doesn't meet the criteria. It will use a generic GPU kernel as fallback when running on GPU.\n"
     ]
    }
   ],
   "source": [
    "inputs = tf.keras.layers.Input(shape=(4,7))\n",
    "inps = tf.keras.layers.Reshape(target_shape=(4,1,7),input_shape=(4,7))(inputs)\n",
    "\n",
    "o = tf.keras.layers.LSTM(128,return_sequences=True,activation='relu')(inps[:,0,:,:])\n",
    "o = tf.keras.layers.LSTM(64,return_sequences=True,activation='relu')(o)\n",
    "o = tf.keras.layers.LSTM(16,return_sequences=True,activation='relu')(o)\n",
    "o = tf.keras.layers.LSTM(4,return_sequences=True,activation='relu')(o)\n",
    "o = tf.keras.layers.LSTM(1,return_sequences=True,activation='linear')(o)\n",
    "\n",
    "h = tf.keras.layers.LSTM(128,return_sequences=True,activation='relu')(inps[:,1,:,:])\n",
    "h = tf.keras.layers.LSTM(64,return_sequences=True,activation='relu')(h)\n",
    "h = tf.keras.layers.LSTM(16,return_sequences=True,activation='relu')(h)\n",
    "h = tf.keras.layers.LSTM(4,return_sequences=True,activation='relu')(h)\n",
    "h = tf.keras.layers.LSTM(1,return_sequences=True,activation='linear')(h)\n",
    "\n",
    "c = tf.keras.layers.LSTM(128,return_sequences=True,activation='relu')(inps[:,2,:,:])\n",
    "c = tf.keras.layers.LSTM(64,return_sequences=True,activation='relu')(c)\n",
    "c = tf.keras.layers.LSTM(16,return_sequences=True,activation='relu')(c)\n",
    "c = tf.keras.layers.LSTM(4,return_sequences=True,activation='relu')(c)\n",
    "c = tf.keras.layers.LSTM(1,return_sequences=True,activation='linear')(c)\n",
    "\n",
    "l = tf.keras.layers.LSTM(128,return_sequences=True,activation='relu')(inps[:,3,:,:])\n",
    "l = tf.keras.layers.LSTM(64,return_sequences=True,activation='relu')(l)\n",
    "l = tf.keras.layers.LSTM(16,return_sequences=True,activation='relu')(l)\n",
    "l = tf.keras.layers.LSTM(4,return_sequences=True,activation='relu')(l)\n",
    "l = tf.keras.layers.LSTM(1,return_sequences=True,activation='linear')(l)\n",
    "\n",
    "x = tf.keras.layers.Concatenate()([o,h,c,l])\n",
    "outputs = tf.keras.layers.Flatten()(x)\n",
    "\n",
    "model_4 = tf.keras.Model(inputs=inputs,outputs=outputs)"
   ]
  },
  {
   "cell_type": "code",
   "execution_count": null,
   "metadata": {
    "id": "ENtmBUHqvfct"
   },
   "outputs": [],
   "source": [
    "model_4.compile(loss='mae',\n",
    "              optimizer='adam')"
   ]
  },
  {
   "cell_type": "code",
   "execution_count": null,
   "metadata": {
    "colab": {
     "base_uri": "https://localhost:8080/"
    },
    "id": "fJyeIR09wBDq",
    "outputId": "5514ff9e-0997-4499-ab95-5a29b0877f75"
   },
   "outputs": [
    {
     "name": "stdout",
     "output_type": "stream",
     "text": [
      "Epoch 1/100\n",
      "72/72 [==============================] - 25s 88ms/step - loss: 0.6856 - val_loss: 0.7575 - lr: 0.0010\n",
      "Epoch 2/100\n",
      "72/72 [==============================] - 4s 56ms/step - loss: 0.5500 - val_loss: 0.5129 - lr: 0.0010\n",
      "Epoch 3/100\n",
      "72/72 [==============================] - 4s 56ms/step - loss: 0.4469 - val_loss: 0.4129 - lr: 0.0010\n",
      "Epoch 4/100\n",
      "72/72 [==============================] - 4s 57ms/step - loss: 0.3950 - val_loss: 0.3637 - lr: 0.0010\n",
      "Epoch 5/100\n",
      "72/72 [==============================] - 4s 55ms/step - loss: 0.3614 - val_loss: 0.3370 - lr: 0.0010\n",
      "Epoch 6/100\n",
      "72/72 [==============================] - 4s 55ms/step - loss: 0.3532 - val_loss: 0.3332 - lr: 0.0010\n",
      "Epoch 7/100\n",
      "72/72 [==============================] - 4s 57ms/step - loss: 0.3517 - val_loss: 0.3327 - lr: 0.0010\n",
      "Epoch 8/100\n",
      "72/72 [==============================] - 4s 55ms/step - loss: 0.3508 - val_loss: 0.3327 - lr: 0.0010\n",
      "Epoch 9/100\n",
      "72/72 [==============================] - 4s 56ms/step - loss: 0.3500 - val_loss: 0.3327 - lr: 0.0010\n",
      "Epoch 10/100\n",
      "72/72 [==============================] - 4s 57ms/step - loss: 0.3496 - val_loss: 0.3323 - lr: 0.0010\n",
      "Epoch 11/100\n",
      "72/72 [==============================] - 4s 54ms/step - loss: 0.3492 - val_loss: 0.3325 - lr: 0.0010\n",
      "Epoch 12/100\n",
      "72/72 [==============================] - 4s 54ms/step - loss: 0.3488 - val_loss: 0.3319 - lr: 0.0010\n",
      "Epoch 13/100\n",
      "72/72 [==============================] - 4s 56ms/step - loss: 0.3486 - val_loss: 0.3321 - lr: 0.0010\n",
      "Epoch 14/100\n",
      "72/72 [==============================] - 4s 56ms/step - loss: 0.3483 - val_loss: 0.3322 - lr: 0.0010\n",
      "Epoch 15/100\n",
      "72/72 [==============================] - 4s 56ms/step - loss: 0.3483 - val_loss: 0.3315 - lr: 0.0010\n",
      "Epoch 16/100\n",
      "72/72 [==============================] - 4s 57ms/step - loss: 0.3478 - val_loss: 0.3312 - lr: 0.0010\n",
      "Epoch 17/100\n",
      "72/72 [==============================] - 4s 57ms/step - loss: 0.3476 - val_loss: 0.3314 - lr: 0.0010\n",
      "Epoch 18/100\n",
      "72/72 [==============================] - 4s 57ms/step - loss: 0.3475 - val_loss: 0.3311 - lr: 0.0010\n",
      "Epoch 19/100\n",
      "72/72 [==============================] - 4s 58ms/step - loss: 0.3472 - val_loss: 0.3314 - lr: 0.0010\n",
      "Epoch 20/100\n",
      "72/72 [==============================] - 5s 76ms/step - loss: 0.3473 - val_loss: 0.3313 - lr: 0.0010\n",
      "Epoch 21/100\n",
      "71/72 [============================>.] - ETA: 0s - loss: 0.3469\n",
      "Epoch 21: ReduceLROnPlateau reducing learning rate to 0.00010000000474974513.\n",
      "72/72 [==============================] - 4s 55ms/step - loss: 0.3469 - val_loss: 0.3313 - lr: 0.0010\n",
      "Epoch 22/100\n",
      "72/72 [==============================] - 4s 56ms/step - loss: 0.3459 - val_loss: 0.3299 - lr: 1.0000e-04\n",
      "Epoch 23/100\n",
      "72/72 [==============================] - 4s 56ms/step - loss: 0.3455 - val_loss: 0.3298 - lr: 1.0000e-04\n",
      "Epoch 24/100\n",
      "72/72 [==============================] - 4s 58ms/step - loss: 0.3454 - val_loss: 0.3297 - lr: 1.0000e-04\n",
      "Epoch 25/100\n",
      "72/72 [==============================] - 4s 56ms/step - loss: 0.3454 - val_loss: 0.3297 - lr: 1.0000e-04\n",
      "Epoch 26/100\n",
      "72/72 [==============================] - 4s 57ms/step - loss: 0.3453 - val_loss: 0.3297 - lr: 1.0000e-04\n",
      "Epoch 27/100\n",
      "72/72 [==============================] - 5s 75ms/step - loss: 0.3453 - val_loss: 0.3297 - lr: 1.0000e-04\n",
      "Epoch 28/100\n",
      "72/72 [==============================] - 4s 56ms/step - loss: 0.3453 - val_loss: 0.3296 - lr: 1.0000e-04\n",
      "Epoch 29/100\n",
      "72/72 [==============================] - 4s 57ms/step - loss: 0.3453 - val_loss: 0.3296 - lr: 1.0000e-04\n",
      "Epoch 30/100\n",
      "72/72 [==============================] - 4s 56ms/step - loss: 0.3452 - val_loss: 0.3296 - lr: 1.0000e-04\n",
      "Epoch 31/100\n",
      "72/72 [==============================] - ETA: 0s - loss: 0.3452\n",
      "Epoch 31: ReduceLROnPlateau reducing learning rate to 1.0000000474974514e-05.\n",
      "72/72 [==============================] - 4s 56ms/step - loss: 0.3452 - val_loss: 0.3296 - lr: 1.0000e-04\n",
      "Epoch 32/100\n",
      "72/72 [==============================] - 4s 58ms/step - loss: 0.3450 - val_loss: 0.3296 - lr: 1.0000e-05\n",
      "Epoch 33/100\n",
      "72/72 [==============================] - 4s 57ms/step - loss: 0.3449 - val_loss: 0.3296 - lr: 1.0000e-05\n",
      "Epoch 34/100\n",
      "72/72 [==============================] - 4s 57ms/step - loss: 0.3449 - val_loss: 0.3296 - lr: 1.0000e-05\n",
      "Epoch 35/100\n",
      "72/72 [==============================] - 4s 57ms/step - loss: 0.3449 - val_loss: 0.3296 - lr: 1.0000e-05\n",
      "Epoch 36/100\n",
      "72/72 [==============================] - ETA: 0s - loss: 0.3449\n",
      "Epoch 36: ReduceLROnPlateau reducing learning rate to 1.0000000656873453e-06.\n",
      "72/72 [==============================] - 4s 57ms/step - loss: 0.3449 - val_loss: 0.3297 - lr: 1.0000e-05\n",
      "Epoch 37/100\n",
      "72/72 [==============================] - 4s 59ms/step - loss: 0.3449 - val_loss: 0.3297 - lr: 1.0000e-06\n",
      "Epoch 38/100\n",
      "72/72 [==============================] - 4s 59ms/step - loss: 0.3449 - val_loss: 0.3297 - lr: 1.0000e-06\n",
      "Epoch 39/100\n",
      "72/72 [==============================] - 4s 59ms/step - loss: 0.3449 - val_loss: 0.3297 - lr: 1.0000e-06\n"
     ]
    }
   ],
   "source": [
    "history_4 = model_4.fit(train_dataset,\n",
    "                      validation_data=val_dataset,\n",
    "                      epochs=100,\n",
    "                      callbacks=clbk_list)"
   ]
  },
  {
   "cell_type": "markdown",
   "metadata": {
    "id": "Y1aYrnCs0-Y4"
   },
   "source": [
    "## Model 5: LSTM Model (interconnected)"
   ]
  },
  {
   "cell_type": "code",
   "execution_count": null,
   "metadata": {
    "id": "zEh4QFqx1pXu"
   },
   "outputs": [],
   "source": [
    "ac = 'relu'"
   ]
  },
  {
   "cell_type": "code",
   "execution_count": null,
   "metadata": {
    "colab": {
     "base_uri": "https://localhost:8080/"
    },
    "id": "1Hf2ulsU1FN2",
    "outputId": "11c2195f-06e0-4b06-e00b-3a750d162aa1"
   },
   "outputs": [
    {
     "name": "stderr",
     "output_type": "stream",
     "text": [
      "WARNING:tensorflow:Layer lstm_55 will not use cuDNN kernels since it doesn't meet the criteria. It will use a generic GPU kernel as fallback when running on GPU.\n",
      "WARNING:tensorflow:Layer lstm_56 will not use cuDNN kernels since it doesn't meet the criteria. It will use a generic GPU kernel as fallback when running on GPU.\n",
      "WARNING:tensorflow:Layer lstm_57 will not use cuDNN kernels since it doesn't meet the criteria. It will use a generic GPU kernel as fallback when running on GPU.\n",
      "WARNING:tensorflow:Layer lstm_58 will not use cuDNN kernels since it doesn't meet the criteria. It will use a generic GPU kernel as fallback when running on GPU.\n",
      "WARNING:tensorflow:Layer lstm_59 will not use cuDNN kernels since it doesn't meet the criteria. It will use a generic GPU kernel as fallback when running on GPU.\n",
      "WARNING:tensorflow:Layer lstm_60 will not use cuDNN kernels since it doesn't meet the criteria. It will use a generic GPU kernel as fallback when running on GPU.\n",
      "WARNING:tensorflow:Layer lstm_61 will not use cuDNN kernels since it doesn't meet the criteria. It will use a generic GPU kernel as fallback when running on GPU.\n",
      "WARNING:tensorflow:Layer lstm_62 will not use cuDNN kernels since it doesn't meet the criteria. It will use a generic GPU kernel as fallback when running on GPU.\n"
     ]
    }
   ],
   "source": [
    "inputs = tf.keras.layers.Input(shape=(4,7))\n",
    "\n",
    "x = tf.keras.layers.LSTM(256,return_sequences=True,activation=ac)(inputs)\n",
    "x = tf.keras.layers.LSTM(128,return_sequences=True,activation=ac)(x)\n",
    "x = tf.keras.layers.LSTM(64,return_sequences=True,activation=ac)(x)\n",
    "x = tf.keras.layers.LSTM(32,return_sequences=True,activation=ac)(x)\n",
    "x = tf.keras.layers.LSTM(16,return_sequences=True,activation=ac)(x)\n",
    "x = tf.keras.layers.LSTM(8,return_sequences=True,activation=ac)(x)\n",
    "x = tf.keras.layers.LSTM(4,return_sequences=True,activation=ac)(x)\n",
    "x = tf.keras.layers.LSTM(1,return_sequences=True,activation='linear')(x)\n",
    "\n",
    "outputs = tf.keras.layers.Reshape(target_shape=(4,),input_shape=(4,1))(x)\n",
    "\n",
    "model_5 = tf.keras.Model(inputs=inputs,outputs=outputs)"
   ]
  },
  {
   "cell_type": "code",
   "execution_count": null,
   "metadata": {
    "id": "MrcGWL3r3iFl"
   },
   "outputs": [],
   "source": [
    "model_5.compile(loss='mae',\n",
    "                optimizer='adam')"
   ]
  },
  {
   "cell_type": "code",
   "execution_count": null,
   "metadata": {
    "colab": {
     "base_uri": "https://localhost:8080/"
    },
    "id": "9VzGnhnD4bxO",
    "outputId": "5ff4fe62-39c1-47ec-c75f-fbf1f4b7c40c"
   },
   "outputs": [
    {
     "name": "stdout",
     "output_type": "stream",
     "text": [
      "Epoch 1/100\n",
      "72/72 [==============================] - 14s 94ms/step - loss: 0.6683 - val_loss: 0.6814 - lr: 0.0010\n",
      "Epoch 2/100\n",
      "72/72 [==============================] - 6s 78ms/step - loss: 0.5687 - val_loss: 0.5707 - lr: 0.0010\n",
      "Epoch 3/100\n",
      "72/72 [==============================] - 6s 81ms/step - loss: 0.5546 - val_loss: 0.5625 - lr: 0.0010\n",
      "Epoch 4/100\n",
      "72/72 [==============================] - 6s 80ms/step - loss: 0.5170 - val_loss: 0.5308 - lr: 0.0010\n",
      "Epoch 5/100\n",
      "72/72 [==============================] - 6s 78ms/step - loss: 0.4692 - val_loss: 0.4463 - lr: 0.0010\n",
      "Epoch 6/100\n",
      "72/72 [==============================] - 5s 76ms/step - loss: 0.4218 - val_loss: 0.3468 - lr: 0.0010\n",
      "Epoch 7/100\n",
      "72/72 [==============================] - 5s 74ms/step - loss: 0.3748 - val_loss: 0.3420 - lr: 0.0010\n",
      "Epoch 8/100\n",
      "72/72 [==============================] - 6s 78ms/step - loss: 0.3634 - val_loss: 0.3362 - lr: 0.0010\n",
      "Epoch 9/100\n",
      "72/72 [==============================] - 6s 79ms/step - loss: 0.3589 - val_loss: 0.3352 - lr: 0.0010\n",
      "Epoch 10/100\n",
      "72/72 [==============================] - 6s 81ms/step - loss: 0.3537 - val_loss: 0.3406 - lr: 0.0010\n",
      "Epoch 11/100\n",
      "72/72 [==============================] - 6s 81ms/step - loss: 0.3517 - val_loss: 0.3383 - lr: 0.0010\n",
      "Epoch 12/100\n",
      "72/72 [==============================] - 5s 74ms/step - loss: 0.3515 - val_loss: 0.3370 - lr: 0.0010\n",
      "Epoch 13/100\n",
      "72/72 [==============================] - 5s 75ms/step - loss: 0.3498 - val_loss: 0.3418 - lr: 0.0010\n",
      "Epoch 14/100\n",
      "72/72 [==============================] - ETA: 0s - loss: 0.3524\n",
      "Epoch 14: ReduceLROnPlateau reducing learning rate to 0.00010000000474974513.\n",
      "72/72 [==============================] - 5s 76ms/step - loss: 0.3524 - val_loss: 0.3379 - lr: 0.0010\n",
      "Epoch 15/100\n",
      "72/72 [==============================] - 6s 78ms/step - loss: 0.3496 - val_loss: 0.3308 - lr: 1.0000e-04\n",
      "Epoch 16/100\n",
      "72/72 [==============================] - 5s 73ms/step - loss: 0.3457 - val_loss: 0.3300 - lr: 1.0000e-04\n",
      "Epoch 17/100\n",
      "72/72 [==============================] - 6s 76ms/step - loss: 0.3451 - val_loss: 0.3296 - lr: 1.0000e-04\n",
      "Epoch 18/100\n",
      "72/72 [==============================] - 6s 77ms/step - loss: 0.3447 - val_loss: 0.3295 - lr: 1.0000e-04\n",
      "Epoch 19/100\n",
      "72/72 [==============================] - 5s 75ms/step - loss: 0.3445 - val_loss: 0.3290 - lr: 1.0000e-04\n",
      "Epoch 20/100\n",
      "72/72 [==============================] - 6s 80ms/step - loss: 0.3443 - val_loss: 0.3290 - lr: 1.0000e-04\n",
      "Epoch 21/100\n",
      "72/72 [==============================] - 6s 82ms/step - loss: 0.3441 - val_loss: 0.3287 - lr: 1.0000e-04\n",
      "Epoch 22/100\n",
      "72/72 [==============================] - 5s 76ms/step - loss: 0.3439 - val_loss: 0.3293 - lr: 1.0000e-04\n",
      "Epoch 23/100\n",
      "72/72 [==============================] - 6s 81ms/step - loss: 0.3437 - val_loss: 0.3294 - lr: 1.0000e-04\n",
      "Epoch 24/100\n",
      "72/72 [==============================] - 6s 78ms/step - loss: 0.3435 - val_loss: 0.3294 - lr: 1.0000e-04\n",
      "Epoch 25/100\n",
      "72/72 [==============================] - 6s 78ms/step - loss: 0.3433 - val_loss: 0.3293 - lr: 1.0000e-04\n",
      "Epoch 26/100\n",
      "72/72 [==============================] - ETA: 0s - loss: 0.3432\n",
      "Epoch 26: ReduceLROnPlateau reducing learning rate to 1.0000000474974514e-05.\n",
      "72/72 [==============================] - 6s 80ms/step - loss: 0.3432 - val_loss: 0.3295 - lr: 1.0000e-04\n",
      "Epoch 27/100\n",
      "72/72 [==============================] - 6s 78ms/step - loss: 0.3427 - val_loss: 0.3303 - lr: 1.0000e-05\n",
      "Epoch 28/100\n",
      "72/72 [==============================] - 5s 74ms/step - loss: 0.3425 - val_loss: 0.3300 - lr: 1.0000e-05\n",
      "Epoch 29/100\n",
      "72/72 [==============================] - 6s 78ms/step - loss: 0.3424 - val_loss: 0.3299 - lr: 1.0000e-05\n",
      "Epoch 30/100\n",
      "72/72 [==============================] - 5s 76ms/step - loss: 0.3423 - val_loss: 0.3299 - lr: 1.0000e-05\n",
      "Epoch 31/100\n",
      "72/72 [==============================] - ETA: 0s - loss: 0.3423\n",
      "Epoch 31: ReduceLROnPlateau reducing learning rate to 1.0000000656873453e-06.\n",
      "72/72 [==============================] - 6s 78ms/step - loss: 0.3423 - val_loss: 0.3299 - lr: 1.0000e-05\n"
     ]
    }
   ],
   "source": [
    "history_5 = model_5.fit(train_dataset,\n",
    "                        validation_data=val_dataset,\n",
    "                        epochs=100,\n",
    "                        callbacks=clbk_list)"
   ]
  },
  {
   "cell_type": "markdown",
   "metadata": {
    "id": "06w2g91xEyTh"
   },
   "source": [
    "## Model 6: ConvLSTM model"
   ]
  },
  {
   "cell_type": "code",
   "execution_count": null,
   "metadata": {
    "id": "H-O8L1knC-Az"
   },
   "outputs": [],
   "source": [
    "ac = 'relu'"
   ]
  },
  {
   "cell_type": "code",
   "execution_count": null,
   "metadata": {
    "id": "OIPX-wH3-1ae"
   },
   "outputs": [],
   "source": [
    "inputs = tf.keras.layers.Input(shape=(4,7))\n",
    "inps = tf.keras.layers.Reshape(target_shape=(1,4,7),input_shape=(4,7))(inputs)\n",
    "\n",
    "x = tf.keras.layers.ConvLSTM1D(filters=128,kernel_size=2,data_format='channels_first',return_sequences=True,activation=ac)(inps)\n",
    "x = tf.keras.layers.ConvLSTM1D(filters=128,kernel_size=2,data_format='channels_first',return_sequences=True,dropout=0.2,recurrent_dropout=0.2,activation=ac)(x)\n",
    "x = tf.keras.layers.ConvLSTM1D(filters=256,kernel_size=2,data_format='channels_first',return_sequences=True,dropout=0.2,recurrent_dropout=0.2,activation=ac)(x)\n",
    "x = tf.keras.layers.ConvLSTM1D(filters=256,kernel_size=2,data_format='channels_first',return_sequences=True,dropout=0.2,recurrent_dropout=0.2,activation=ac)(x)\n",
    "x = tf.keras.layers.ConvLSTM1D(filters=512,kernel_size=2,data_format='channels_first',return_sequences=True,dropout=0.2,recurrent_dropout=0.2,activation=ac)(x)\n",
    "x = tf.keras.layers.ConvLSTM1D(filters=512,kernel_size=2,data_format='channels_first',return_sequences=False,activation=ac)(x)\n",
    "x = tf.keras.layers.Flatten()(x)\n",
    "\n",
    "x_1 = tf.keras.layers.ConvLSTM1D(filters=128,kernel_size=3,data_format='channels_first',return_sequences=True,activation=ac)(inps)\n",
    "x_1 = tf.keras.layers.ConvLSTM1D(filters=256,kernel_size=3,data_format='channels_first',return_sequences=True,activation=ac)(x_1)\n",
    "x_1 = tf.keras.layers.ConvLSTM1D(filters=512,kernel_size=3,data_format='channels_first',return_sequences=True,activation=ac)(x_1)\n",
    "x_1 = tf.keras.layers.Flatten()(x_1)\n",
    "\n",
    "x_2 = tf.keras.layers.ConvLSTM1D(filters=256,kernel_size=4,data_fromat='channels_first',return_sequences=True,activation=ac)(inps)\n",
    "x_2 = tf.keras.layers.ConvLSTM1D(filters=512,kernel_size=4,data_format='channels_first',return_sequences=True,activation=ac)(x_2)\n",
    "x_2 = tf.keras.layers.Flatten()(x_2)\n",
    "\n",
    "a = tf.keras.layers.Concatenate()([x,x_1,x_2])\n",
    "a = tf.keras.layers.Dense(750,activation=ac)(a)\n",
    "a = tf.keras.layers.Dense(350,activation=ac)(a)\n",
    "a = tf.keras.layers.Dense(100,activation=ac)(a)\n",
    "\n",
    "outputs = tf.keras.layers.Dense(4,activation='linear')(a)\n",
    "\n",
    "model_6 = tf.keras.Model(inputs=inputs,outputs=outputs)"
   ]
  },
  {
   "cell_type": "code",
   "execution_count": null,
   "metadata": {
    "id": "n9dweA18_ge0"
   },
   "outputs": [],
   "source": [
    "model_6.compile(loss='mae',\n",
    "                optimizer='adam')"
   ]
  },
  {
   "cell_type": "code",
   "execution_count": null,
   "metadata": {
    "colab": {
     "base_uri": "https://localhost:8080/"
    },
    "id": "1rhk88d1F-7L",
    "outputId": "9a3cbb10-ab5e-40ca-af74-2d08e8922053"
   },
   "outputs": [
    {
     "data": {
      "text/plain": [
       "[<keras.callbacks.EarlyStopping at 0x7f2fd97a9f50>,\n",
       " <keras.callbacks.ReduceLROnPlateau at 0x7f2fd97a9e50>]"
      ]
     },
     "execution_count": 122,
     "metadata": {},
     "output_type": "execute_result"
    }
   ],
   "source": [
    "# Define clbk_list here which is defined previously in model_1 experiment\n",
    "clbk_list"
   ]
  },
  {
   "cell_type": "code",
   "execution_count": null,
   "metadata": {
    "colab": {
     "base_uri": "https://localhost:8080/",
     "height": 1000
    },
    "id": "NlZcdGsyE-Fx",
    "outputId": "05e7f9dc-5683-4464-c707-6169a4aa1a3b"
   },
   "outputs": [
    {
     "name": "stdout",
     "output_type": "stream",
     "text": [
      "Epoch 1/100\n",
      "72/72 [==============================] - 30s 119ms/step - loss: 0.6628 - val_loss: 0.6584 - lr: 0.0010\n",
      "Epoch 2/100\n",
      "72/72 [==============================] - 5s 76ms/step - loss: 0.5325 - val_loss: 0.4711 - lr: 0.0010\n",
      "Epoch 3/100\n",
      "72/72 [==============================] - 6s 78ms/step - loss: 0.4338 - val_loss: 0.3293 - lr: 0.0010\n",
      "Epoch 4/100\n",
      "72/72 [==============================] - 6s 77ms/step - loss: 0.3861 - val_loss: 0.3046 - lr: 0.0010\n",
      "Epoch 5/100\n",
      "72/72 [==============================] - 5s 75ms/step - loss: 0.3674 - val_loss: 0.3071 - lr: 0.0010\n",
      "Epoch 6/100\n",
      "72/72 [==============================] - 6s 78ms/step - loss: 0.3530 - val_loss: 0.2963 - lr: 0.0010\n",
      "Epoch 7/100\n",
      "72/72 [==============================] - 6s 79ms/step - loss: 0.3400 - val_loss: 0.2983 - lr: 0.0010\n",
      "Epoch 8/100\n",
      "72/72 [==============================] - 6s 79ms/step - loss: 0.3339 - val_loss: 0.2882 - lr: 0.0010\n",
      "Epoch 9/100\n",
      "72/72 [==============================] - 5s 74ms/step - loss: 0.3273 - val_loss: 0.2844 - lr: 0.0010\n",
      "Epoch 10/100\n",
      "72/72 [==============================] - 6s 77ms/step - loss: 0.3229 - val_loss: 0.2836 - lr: 0.0010\n",
      "Epoch 11/100\n",
      "72/72 [==============================] - 6s 77ms/step - loss: 0.3206 - val_loss: 0.2844 - lr: 0.0010\n",
      "Epoch 12/100\n",
      "72/72 [==============================] - 6s 76ms/step - loss: 0.3195 - val_loss: 0.2781 - lr: 0.0010\n",
      "Epoch 13/100\n",
      "72/72 [==============================] - 6s 78ms/step - loss: 0.3192 - val_loss: 0.2784 - lr: 0.0010\n",
      "Epoch 14/100\n",
      "72/72 [==============================] - 6s 77ms/step - loss: 0.3189 - val_loss: 0.2797 - lr: 0.0010\n",
      "Epoch 15/100\n",
      "72/72 [==============================] - 6s 77ms/step - loss: 0.3178 - val_loss: 0.2768 - lr: 0.0010\n",
      "Epoch 16/100\n",
      "72/72 [==============================] - 7s 92ms/step - loss: 0.3174 - val_loss: 0.2769 - lr: 0.0010\n",
      "Epoch 17/100\n",
      "72/72 [==============================] - 6s 77ms/step - loss: 0.3170 - val_loss: 0.2799 - lr: 0.0010\n",
      "Epoch 18/100\n",
      "72/72 [==============================] - 6s 78ms/step - loss: 0.3194 - val_loss: 0.2825 - lr: 0.0010\n",
      "Epoch 19/100\n",
      " 7/72 [=>............................] - ETA: 5s - loss: 0.3508"
     ]
    },
    {
     "ename": "KeyboardInterrupt",
     "evalue": "ignored",
     "output_type": "error",
     "traceback": [
      "\u001B[0;31m---------------------------------------------------------------------------\u001B[0m",
      "\u001B[0;31mKeyboardInterrupt\u001B[0m                         Traceback (most recent call last)",
      "\u001B[0;32m<ipython-input-125-864d0c52d109>\u001B[0m in \u001B[0;36m<module>\u001B[0;34m\u001B[0m\n\u001B[1;32m      2\u001B[0m                         \u001B[0mvalidation_data\u001B[0m\u001B[0;34m=\u001B[0m\u001B[0mval_dataset\u001B[0m\u001B[0;34m,\u001B[0m\u001B[0;34m\u001B[0m\u001B[0;34m\u001B[0m\u001B[0m\n\u001B[1;32m      3\u001B[0m                         \u001B[0mepochs\u001B[0m\u001B[0;34m=\u001B[0m\u001B[0;36m100\u001B[0m\u001B[0;34m,\u001B[0m\u001B[0;34m\u001B[0m\u001B[0;34m\u001B[0m\u001B[0m\n\u001B[0;32m----> 4\u001B[0;31m                         callbacks=clbk_list)\n\u001B[0m",
      "\u001B[0;32m/usr/local/lib/python3.7/dist-packages/keras/utils/traceback_utils.py\u001B[0m in \u001B[0;36merror_handler\u001B[0;34m(*args, **kwargs)\u001B[0m\n\u001B[1;32m     62\u001B[0m     \u001B[0mfiltered_tb\u001B[0m \u001B[0;34m=\u001B[0m \u001B[0;32mNone\u001B[0m\u001B[0;34m\u001B[0m\u001B[0;34m\u001B[0m\u001B[0m\n\u001B[1;32m     63\u001B[0m     \u001B[0;32mtry\u001B[0m\u001B[0;34m:\u001B[0m\u001B[0;34m\u001B[0m\u001B[0;34m\u001B[0m\u001B[0m\n\u001B[0;32m---> 64\u001B[0;31m       \u001B[0;32mreturn\u001B[0m \u001B[0mfn\u001B[0m\u001B[0;34m(\u001B[0m\u001B[0;34m*\u001B[0m\u001B[0margs\u001B[0m\u001B[0;34m,\u001B[0m \u001B[0;34m**\u001B[0m\u001B[0mkwargs\u001B[0m\u001B[0;34m)\u001B[0m\u001B[0;34m\u001B[0m\u001B[0;34m\u001B[0m\u001B[0m\n\u001B[0m\u001B[1;32m     65\u001B[0m     \u001B[0;32mexcept\u001B[0m \u001B[0mException\u001B[0m \u001B[0;32mas\u001B[0m \u001B[0me\u001B[0m\u001B[0;34m:\u001B[0m  \u001B[0;31m# pylint: disable=broad-except\u001B[0m\u001B[0;34m\u001B[0m\u001B[0;34m\u001B[0m\u001B[0m\n\u001B[1;32m     66\u001B[0m       \u001B[0mfiltered_tb\u001B[0m \u001B[0;34m=\u001B[0m \u001B[0m_process_traceback_frames\u001B[0m\u001B[0;34m(\u001B[0m\u001B[0me\u001B[0m\u001B[0;34m.\u001B[0m\u001B[0m__traceback__\u001B[0m\u001B[0;34m)\u001B[0m\u001B[0;34m\u001B[0m\u001B[0;34m\u001B[0m\u001B[0m\n",
      "\u001B[0;32m/usr/local/lib/python3.7/dist-packages/keras/engine/training.py\u001B[0m in \u001B[0;36mfit\u001B[0;34m(self, x, y, batch_size, epochs, verbose, callbacks, validation_split, validation_data, shuffle, class_weight, sample_weight, initial_epoch, steps_per_epoch, validation_steps, validation_batch_size, validation_freq, max_queue_size, workers, use_multiprocessing)\u001B[0m\n\u001B[1;32m   1407\u001B[0m                 _r=1):\n\u001B[1;32m   1408\u001B[0m               \u001B[0mcallbacks\u001B[0m\u001B[0;34m.\u001B[0m\u001B[0mon_train_batch_begin\u001B[0m\u001B[0;34m(\u001B[0m\u001B[0mstep\u001B[0m\u001B[0;34m)\u001B[0m\u001B[0;34m\u001B[0m\u001B[0;34m\u001B[0m\u001B[0m\n\u001B[0;32m-> 1409\u001B[0;31m               \u001B[0mtmp_logs\u001B[0m \u001B[0;34m=\u001B[0m \u001B[0mself\u001B[0m\u001B[0;34m.\u001B[0m\u001B[0mtrain_function\u001B[0m\u001B[0;34m(\u001B[0m\u001B[0miterator\u001B[0m\u001B[0;34m)\u001B[0m\u001B[0;34m\u001B[0m\u001B[0;34m\u001B[0m\u001B[0m\n\u001B[0m\u001B[1;32m   1410\u001B[0m               \u001B[0;32mif\u001B[0m \u001B[0mdata_handler\u001B[0m\u001B[0;34m.\u001B[0m\u001B[0mshould_sync\u001B[0m\u001B[0;34m:\u001B[0m\u001B[0;34m\u001B[0m\u001B[0;34m\u001B[0m\u001B[0m\n\u001B[1;32m   1411\u001B[0m                 \u001B[0mcontext\u001B[0m\u001B[0;34m.\u001B[0m\u001B[0masync_wait\u001B[0m\u001B[0;34m(\u001B[0m\u001B[0;34m)\u001B[0m\u001B[0;34m\u001B[0m\u001B[0;34m\u001B[0m\u001B[0m\n",
      "\u001B[0;32m/usr/local/lib/python3.7/dist-packages/tensorflow/python/util/traceback_utils.py\u001B[0m in \u001B[0;36merror_handler\u001B[0;34m(*args, **kwargs)\u001B[0m\n\u001B[1;32m    148\u001B[0m     \u001B[0mfiltered_tb\u001B[0m \u001B[0;34m=\u001B[0m \u001B[0;32mNone\u001B[0m\u001B[0;34m\u001B[0m\u001B[0;34m\u001B[0m\u001B[0m\n\u001B[1;32m    149\u001B[0m     \u001B[0;32mtry\u001B[0m\u001B[0;34m:\u001B[0m\u001B[0;34m\u001B[0m\u001B[0;34m\u001B[0m\u001B[0m\n\u001B[0;32m--> 150\u001B[0;31m       \u001B[0;32mreturn\u001B[0m \u001B[0mfn\u001B[0m\u001B[0;34m(\u001B[0m\u001B[0;34m*\u001B[0m\u001B[0margs\u001B[0m\u001B[0;34m,\u001B[0m \u001B[0;34m**\u001B[0m\u001B[0mkwargs\u001B[0m\u001B[0;34m)\u001B[0m\u001B[0;34m\u001B[0m\u001B[0;34m\u001B[0m\u001B[0m\n\u001B[0m\u001B[1;32m    151\u001B[0m     \u001B[0;32mexcept\u001B[0m \u001B[0mException\u001B[0m \u001B[0;32mas\u001B[0m \u001B[0me\u001B[0m\u001B[0;34m:\u001B[0m\u001B[0;34m\u001B[0m\u001B[0;34m\u001B[0m\u001B[0m\n\u001B[1;32m    152\u001B[0m       \u001B[0mfiltered_tb\u001B[0m \u001B[0;34m=\u001B[0m \u001B[0m_process_traceback_frames\u001B[0m\u001B[0;34m(\u001B[0m\u001B[0me\u001B[0m\u001B[0;34m.\u001B[0m\u001B[0m__traceback__\u001B[0m\u001B[0;34m)\u001B[0m\u001B[0;34m\u001B[0m\u001B[0;34m\u001B[0m\u001B[0m\n",
      "\u001B[0;32m/usr/local/lib/python3.7/dist-packages/tensorflow/python/eager/def_function.py\u001B[0m in \u001B[0;36m__call__\u001B[0;34m(self, *args, **kwds)\u001B[0m\n\u001B[1;32m    913\u001B[0m \u001B[0;34m\u001B[0m\u001B[0m\n\u001B[1;32m    914\u001B[0m       \u001B[0;32mwith\u001B[0m \u001B[0mOptionalXlaContext\u001B[0m\u001B[0;34m(\u001B[0m\u001B[0mself\u001B[0m\u001B[0;34m.\u001B[0m\u001B[0m_jit_compile\u001B[0m\u001B[0;34m)\u001B[0m\u001B[0;34m:\u001B[0m\u001B[0;34m\u001B[0m\u001B[0;34m\u001B[0m\u001B[0m\n\u001B[0;32m--> 915\u001B[0;31m         \u001B[0mresult\u001B[0m \u001B[0;34m=\u001B[0m \u001B[0mself\u001B[0m\u001B[0;34m.\u001B[0m\u001B[0m_call\u001B[0m\u001B[0;34m(\u001B[0m\u001B[0;34m*\u001B[0m\u001B[0margs\u001B[0m\u001B[0;34m,\u001B[0m \u001B[0;34m**\u001B[0m\u001B[0mkwds\u001B[0m\u001B[0;34m)\u001B[0m\u001B[0;34m\u001B[0m\u001B[0;34m\u001B[0m\u001B[0m\n\u001B[0m\u001B[1;32m    916\u001B[0m \u001B[0;34m\u001B[0m\u001B[0m\n\u001B[1;32m    917\u001B[0m       \u001B[0mnew_tracing_count\u001B[0m \u001B[0;34m=\u001B[0m \u001B[0mself\u001B[0m\u001B[0;34m.\u001B[0m\u001B[0mexperimental_get_tracing_count\u001B[0m\u001B[0;34m(\u001B[0m\u001B[0;34m)\u001B[0m\u001B[0;34m\u001B[0m\u001B[0;34m\u001B[0m\u001B[0m\n",
      "\u001B[0;32m/usr/local/lib/python3.7/dist-packages/tensorflow/python/eager/def_function.py\u001B[0m in \u001B[0;36m_call\u001B[0;34m(self, *args, **kwds)\u001B[0m\n\u001B[1;32m    945\u001B[0m       \u001B[0;31m# In this case we have created variables on the first call, so we run the\u001B[0m\u001B[0;34m\u001B[0m\u001B[0;34m\u001B[0m\u001B[0;34m\u001B[0m\u001B[0m\n\u001B[1;32m    946\u001B[0m       \u001B[0;31m# defunned version which is guaranteed to never create variables.\u001B[0m\u001B[0;34m\u001B[0m\u001B[0;34m\u001B[0m\u001B[0;34m\u001B[0m\u001B[0m\n\u001B[0;32m--> 947\u001B[0;31m       \u001B[0;32mreturn\u001B[0m \u001B[0mself\u001B[0m\u001B[0;34m.\u001B[0m\u001B[0m_stateless_fn\u001B[0m\u001B[0;34m(\u001B[0m\u001B[0;34m*\u001B[0m\u001B[0margs\u001B[0m\u001B[0;34m,\u001B[0m \u001B[0;34m**\u001B[0m\u001B[0mkwds\u001B[0m\u001B[0;34m)\u001B[0m  \u001B[0;31m# pylint: disable=not-callable\u001B[0m\u001B[0;34m\u001B[0m\u001B[0;34m\u001B[0m\u001B[0m\n\u001B[0m\u001B[1;32m    948\u001B[0m     \u001B[0;32melif\u001B[0m \u001B[0mself\u001B[0m\u001B[0;34m.\u001B[0m\u001B[0m_stateful_fn\u001B[0m \u001B[0;32mis\u001B[0m \u001B[0;32mnot\u001B[0m \u001B[0;32mNone\u001B[0m\u001B[0;34m:\u001B[0m\u001B[0;34m\u001B[0m\u001B[0;34m\u001B[0m\u001B[0m\n\u001B[1;32m    949\u001B[0m       \u001B[0;31m# Release the lock early so that multiple threads can perform the call\u001B[0m\u001B[0;34m\u001B[0m\u001B[0;34m\u001B[0m\u001B[0;34m\u001B[0m\u001B[0m\n",
      "\u001B[0;32m/usr/local/lib/python3.7/dist-packages/tensorflow/python/eager/function.py\u001B[0m in \u001B[0;36m__call__\u001B[0;34m(self, *args, **kwargs)\u001B[0m\n\u001B[1;32m   2452\u001B[0m        filtered_flat_args) = self._maybe_define_function(args, kwargs)\n\u001B[1;32m   2453\u001B[0m     return graph_function._call_flat(\n\u001B[0;32m-> 2454\u001B[0;31m         filtered_flat_args, captured_inputs=graph_function.captured_inputs)  # pylint: disable=protected-access\n\u001B[0m\u001B[1;32m   2455\u001B[0m \u001B[0;34m\u001B[0m\u001B[0m\n\u001B[1;32m   2456\u001B[0m   \u001B[0;34m@\u001B[0m\u001B[0mproperty\u001B[0m\u001B[0;34m\u001B[0m\u001B[0;34m\u001B[0m\u001B[0m\n",
      "\u001B[0;32m/usr/local/lib/python3.7/dist-packages/tensorflow/python/eager/function.py\u001B[0m in \u001B[0;36m_call_flat\u001B[0;34m(self, args, captured_inputs, cancellation_manager)\u001B[0m\n\u001B[1;32m   1859\u001B[0m       \u001B[0;31m# No tape is watching; skip to running the function.\u001B[0m\u001B[0;34m\u001B[0m\u001B[0;34m\u001B[0m\u001B[0;34m\u001B[0m\u001B[0m\n\u001B[1;32m   1860\u001B[0m       return self._build_call_outputs(self._inference_function.call(\n\u001B[0;32m-> 1861\u001B[0;31m           ctx, args, cancellation_manager=cancellation_manager))\n\u001B[0m\u001B[1;32m   1862\u001B[0m     forward_backward = self._select_forward_and_backward_functions(\n\u001B[1;32m   1863\u001B[0m         \u001B[0margs\u001B[0m\u001B[0;34m,\u001B[0m\u001B[0;34m\u001B[0m\u001B[0;34m\u001B[0m\u001B[0m\n",
      "\u001B[0;32m/usr/local/lib/python3.7/dist-packages/tensorflow/python/eager/function.py\u001B[0m in \u001B[0;36mcall\u001B[0;34m(self, ctx, args, cancellation_manager)\u001B[0m\n\u001B[1;32m    500\u001B[0m               \u001B[0minputs\u001B[0m\u001B[0;34m=\u001B[0m\u001B[0margs\u001B[0m\u001B[0;34m,\u001B[0m\u001B[0;34m\u001B[0m\u001B[0;34m\u001B[0m\u001B[0m\n\u001B[1;32m    501\u001B[0m               \u001B[0mattrs\u001B[0m\u001B[0;34m=\u001B[0m\u001B[0mattrs\u001B[0m\u001B[0;34m,\u001B[0m\u001B[0;34m\u001B[0m\u001B[0;34m\u001B[0m\u001B[0m\n\u001B[0;32m--> 502\u001B[0;31m               ctx=ctx)\n\u001B[0m\u001B[1;32m    503\u001B[0m         \u001B[0;32melse\u001B[0m\u001B[0;34m:\u001B[0m\u001B[0;34m\u001B[0m\u001B[0;34m\u001B[0m\u001B[0m\n\u001B[1;32m    504\u001B[0m           outputs = execute.execute_with_cancellation(\n",
      "\u001B[0;32m/usr/local/lib/python3.7/dist-packages/tensorflow/python/eager/execute.py\u001B[0m in \u001B[0;36mquick_execute\u001B[0;34m(op_name, num_outputs, inputs, attrs, ctx, name)\u001B[0m\n\u001B[1;32m     53\u001B[0m     \u001B[0mctx\u001B[0m\u001B[0;34m.\u001B[0m\u001B[0mensure_initialized\u001B[0m\u001B[0;34m(\u001B[0m\u001B[0;34m)\u001B[0m\u001B[0;34m\u001B[0m\u001B[0;34m\u001B[0m\u001B[0m\n\u001B[1;32m     54\u001B[0m     tensors = pywrap_tfe.TFE_Py_Execute(ctx._handle, device_name, op_name,\n\u001B[0;32m---> 55\u001B[0;31m                                         inputs, attrs, num_outputs)\n\u001B[0m\u001B[1;32m     56\u001B[0m   \u001B[0;32mexcept\u001B[0m \u001B[0mcore\u001B[0m\u001B[0;34m.\u001B[0m\u001B[0m_NotOkStatusException\u001B[0m \u001B[0;32mas\u001B[0m \u001B[0me\u001B[0m\u001B[0;34m:\u001B[0m\u001B[0;34m\u001B[0m\u001B[0;34m\u001B[0m\u001B[0m\n\u001B[1;32m     57\u001B[0m     \u001B[0;32mif\u001B[0m \u001B[0mname\u001B[0m \u001B[0;32mis\u001B[0m \u001B[0;32mnot\u001B[0m \u001B[0;32mNone\u001B[0m\u001B[0;34m:\u001B[0m\u001B[0;34m\u001B[0m\u001B[0;34m\u001B[0m\u001B[0m\n",
      "\u001B[0;31mKeyboardInterrupt\u001B[0m: "
     ]
    }
   ],
   "source": [
    "history_6 = model_6.fit(train_dataset,\n",
    "                        validation_data=val_dataset,\n",
    "                        epochs=100,\n",
    "                        callbacks=clbk_list)"
   ]
  },
  {
   "cell_type": "code",
   "execution_count": null,
   "metadata": {
    "colab": {
     "base_uri": "https://localhost:8080/"
    },
    "id": "LexMFSwzGvif",
    "outputId": "dc5d18ee-0325-4f5e-be52-1c8713b9a628"
   },
   "outputs": [
    {
     "name": "stdout",
     "output_type": "stream",
     "text": [
      "9/9 [==============================] - 0s 10ms/step - loss: 0.2913\n"
     ]
    },
    {
     "data": {
      "text/plain": [
       "0.2912816107273102"
      ]
     },
     "execution_count": 126,
     "metadata": {},
     "output_type": "execute_result"
    }
   ],
   "source": [
    "model_6.evaluate(test_dataset)"
   ]
  },
  {
   "cell_type": "markdown",
   "metadata": {
    "id": "GEuaMog_AXtr"
   },
   "source": [
    "# Dataset 2\n",
    "In dataset 2, the adjusted close values of the Infosys stock are taken.\n"
   ]
  },
  {
   "cell_type": "code",
   "execution_count": null,
   "metadata": {
    "colab": {
     "base_uri": "https://localhost:8080/"
    },
    "id": "LwCrCpjYVplr",
    "outputId": "9990ed1f-1bf3-4039-88ff-292cf95c9eee"
   },
   "outputs": [
    {
     "name": "stdout",
     "output_type": "stream",
     "text": [
      "Looking in indexes: https://pypi.org/simple, https://us-python.pkg.dev/colab-wheels/public/simple/\n",
      "Collecting yfinance\n",
      "  Downloading yfinance-0.1.87-py2.py3-none-any.whl (29 kB)\n",
      "Collecting requests>=2.26\n",
      "  Downloading requests-2.28.1-py3-none-any.whl (62 kB)\n",
      "\u001B[K     |████████████████████████████████| 62 kB 1.7 MB/s \n",
      "\u001B[?25hRequirement already satisfied: multitasking>=0.0.7 in /usr/local/lib/python3.7/dist-packages (from yfinance) (0.0.11)\n",
      "Requirement already satisfied: lxml>=4.5.1 in /usr/local/lib/python3.7/dist-packages (from yfinance) (4.9.1)\n",
      "Requirement already satisfied: numpy>=1.15 in /usr/local/lib/python3.7/dist-packages (from yfinance) (1.21.6)\n",
      "Requirement already satisfied: appdirs>=1.4.4 in /usr/local/lib/python3.7/dist-packages (from yfinance) (1.4.4)\n",
      "Requirement already satisfied: pandas>=0.24.0 in /usr/local/lib/python3.7/dist-packages (from yfinance) (1.3.5)\n",
      "Requirement already satisfied: pytz>=2017.3 in /usr/local/lib/python3.7/dist-packages (from pandas>=0.24.0->yfinance) (2022.6)\n",
      "Requirement already satisfied: python-dateutil>=2.7.3 in /usr/local/lib/python3.7/dist-packages (from pandas>=0.24.0->yfinance) (2.8.2)\n",
      "Requirement already satisfied: six>=1.5 in /usr/local/lib/python3.7/dist-packages (from python-dateutil>=2.7.3->pandas>=0.24.0->yfinance) (1.15.0)\n",
      "Requirement already satisfied: certifi>=2017.4.17 in /usr/local/lib/python3.7/dist-packages (from requests>=2.26->yfinance) (2022.9.24)\n",
      "Requirement already satisfied: idna<4,>=2.5 in /usr/local/lib/python3.7/dist-packages (from requests>=2.26->yfinance) (2.10)\n",
      "Requirement already satisfied: urllib3<1.27,>=1.21.1 in /usr/local/lib/python3.7/dist-packages (from requests>=2.26->yfinance) (1.24.3)\n",
      "Requirement already satisfied: charset-normalizer<3,>=2 in /usr/local/lib/python3.7/dist-packages (from requests>=2.26->yfinance) (2.1.1)\n",
      "Installing collected packages: requests, yfinance\n",
      "  Attempting uninstall: requests\n",
      "    Found existing installation: requests 2.23.0\n",
      "    Uninstalling requests-2.23.0:\n",
      "      Successfully uninstalled requests-2.23.0\n",
      "Successfully installed requests-2.28.1 yfinance-0.1.87\n"
     ]
    }
   ],
   "source": [
    "!python -m pip install yfinance"
   ]
  },
  {
   "cell_type": "code",
   "execution_count": null,
   "metadata": {
    "id": "3-lMODublTvd"
   },
   "outputs": [],
   "source": [
    "import yfinance as yf"
   ]
  },
  {
   "cell_type": "code",
   "execution_count": null,
   "metadata": {
    "colab": {
     "base_uri": "https://localhost:8080/"
    },
    "id": "ccoUwZjQlXo3",
    "outputId": "3f86abde-bf95-4bcb-c50f-97e7076cfaed"
   },
   "outputs": [
    {
     "name": "stdout",
     "output_type": "stream",
     "text": [
      "\r[*********************100%***********************]  1 of 1 completed\n"
     ]
    }
   ],
   "source": [
    "infy_prices = yf.download('INFY.NS',start='2011-01-01',end=pd.Timestamp.today())\n",
    "infy_close = infy_prices['Close']\n",
    "\n",
    "log_infy = np.log(infy_close)\n",
    "\n",
    "# Returns\n",
    "rp = 5\n",
    "infy_returns = pd.concat([log_infy.diff(i) for i in [rp,rp*3,rp*6,rp*12]],axis=1)\n",
    "infy_returns.columns = ['5DRT','15DRT','30DRT','60DRT']\n",
    "infy_returns = infy_returns.dropna()\n",
    "\n",
    "# Price data\n",
    "t_s = pd.concat([log_infy.diff(1).shift(i) for i in range(6,-1,-1)],axis=1)\n",
    "t_s.columns = ['t-6','t-5','t-4','t-3','t-2','t-1','t0']\n",
    "t_s = t_s.dropna()\n",
    "\n",
    "l_infy = log_infy.copy()\n",
    "l_infy = l_infy.dropna()\n",
    "l_infy = pd.DataFrame(l_infy)\n",
    "\n",
    "# Define Origin\n",
    "t_s.columns = pd.MultiIndex.from_arrays([np.repeat('Series',len(t_s.columns)),t_s.columns])\n",
    "infy_returns.columns = pd.MultiIndex.from_arrays([np.repeat('Returns',len(infy_returns.columns)),infy_returns.columns])\n",
    "l_infy.columns = pd.MultiIndex.from_tuples([('Origin','Log(t0')])\n",
    "\n",
    "# Define the target price of the next day\n",
    "Y = log_infy.diff(1).shift(-1)\n",
    "\n",
    "# Feeding in the current day time data\n",
    "timestamp_ = pd.DataFrame(Y.index.map(pd.Timestamp.timestamp))\n",
    "day = 24*60*60\n",
    "week = 7*day\n",
    "year = 365*day\n",
    "dateframe = pd.DataFrame({('Time','WeekSin'): [],('Time','WeekCos'): [],('Time','YearSin'): [],('Time','YearCos',): []},)\n",
    "dateframe[('Time','WeekSin')] = timestamp_.Date.map(lambda x: np.sin(x * 2*np.pi/week))\n",
    "dateframe[('Time','WeekCos')] = timestamp_.Date.map(lambda x: np.cos(x * 2*np.pi/week))\n",
    "dateframe[('Time','YearSin')] = timestamp_.Date.map(lambda x: np.sin(x * 2*np.pi/year))\n",
    "dateframe[('Time','YearCos')] = timestamp_.Date.map(lambda x: np.cos(x * 2*np.pi/year))\n",
    "dateframe.index = Y.index\n",
    "dateframe = dateframe.shift(-1).dropna()\n",
    "\n",
    "y_cols = pd.MultiIndex.from_tuples([('Y_pred','t+1')])\n",
    "Y = pd.DataFrame(Y)\n",
    "Y.columns = y_cols\n",
    "\n",
    "\n",
    "# Defining the Technical indicators\n",
    "\n",
    "\n",
    "dataset = pd.concat([t_s,infy_returns,l_infy,dateframe,Y],axis=1).dropna()\n"
   ]
  },
  {
   "cell_type": "code",
   "execution_count": null,
   "metadata": {
    "colab": {
     "base_uri": "https://localhost:8080/",
     "height": 333
    },
    "id": "YGGwEBfZXexj",
    "outputId": "6b43cf11-ca3a-47b4-a8ef-887a25def123"
   },
   "outputs": [
    {
     "data": {
      "text/html": [
       "\n",
       "  <div id=\"df-4dcd591f-4294-4b9f-af03-f59d00ddcae4\">\n",
       "    <div class=\"colab-df-container\">\n",
       "      <div>\n",
       "<style scoped>\n",
       "    .dataframe tbody tr th:only-of-type {\n",
       "        vertical-align: middle;\n",
       "    }\n",
       "\n",
       "    .dataframe tbody tr th {\n",
       "        vertical-align: top;\n",
       "    }\n",
       "\n",
       "    .dataframe thead tr th {\n",
       "        text-align: left;\n",
       "    }\n",
       "\n",
       "    .dataframe thead tr:last-of-type th {\n",
       "        text-align: right;\n",
       "    }\n",
       "</style>\n",
       "<table border=\"1\" class=\"dataframe\">\n",
       "  <thead>\n",
       "    <tr>\n",
       "      <th></th>\n",
       "      <th colspan=\"7\" halign=\"left\">Series</th>\n",
       "      <th colspan=\"4\" halign=\"left\">Returns</th>\n",
       "      <th>Origin</th>\n",
       "      <th colspan=\"4\" halign=\"left\">Time</th>\n",
       "      <th>Y_pred</th>\n",
       "    </tr>\n",
       "    <tr>\n",
       "      <th></th>\n",
       "      <th>t-6</th>\n",
       "      <th>t-5</th>\n",
       "      <th>t-4</th>\n",
       "      <th>t-3</th>\n",
       "      <th>t-2</th>\n",
       "      <th>t-1</th>\n",
       "      <th>t0</th>\n",
       "      <th>5DRT</th>\n",
       "      <th>15DRT</th>\n",
       "      <th>30DRT</th>\n",
       "      <th>60DRT</th>\n",
       "      <th>Log(t0</th>\n",
       "      <th>WeekSin</th>\n",
       "      <th>WeekCos</th>\n",
       "      <th>YearSin</th>\n",
       "      <th>YearCos</th>\n",
       "      <th>t+1</th>\n",
       "    </tr>\n",
       "    <tr>\n",
       "      <th>Date</th>\n",
       "      <th></th>\n",
       "      <th></th>\n",
       "      <th></th>\n",
       "      <th></th>\n",
       "      <th></th>\n",
       "      <th></th>\n",
       "      <th></th>\n",
       "      <th></th>\n",
       "      <th></th>\n",
       "      <th></th>\n",
       "      <th></th>\n",
       "      <th></th>\n",
       "      <th></th>\n",
       "      <th></th>\n",
       "      <th></th>\n",
       "      <th></th>\n",
       "      <th></th>\n",
       "    </tr>\n",
       "  </thead>\n",
       "  <tbody>\n",
       "    <tr>\n",
       "      <th>2011-03-30</th>\n",
       "      <td>0.007075</td>\n",
       "      <td>0.016947</td>\n",
       "      <td>0.003152</td>\n",
       "      <td>0.051992</td>\n",
       "      <td>-0.007457</td>\n",
       "      <td>0.010708</td>\n",
       "      <td>-0.000772</td>\n",
       "      <td>0.057622</td>\n",
       "      <td>0.024066</td>\n",
       "      <td>0.020503</td>\n",
       "      <td>-0.086776</td>\n",
       "      <td>5.982329</td>\n",
       "      <td>-7.818315e-01</td>\n",
       "      <td>0.623490</td>\n",
       "      <td>0.993257</td>\n",
       "      <td>-0.115935</td>\n",
       "      <td>0.021959</td>\n",
       "    </tr>\n",
       "    <tr>\n",
       "      <th>2011-03-31</th>\n",
       "      <td>0.016947</td>\n",
       "      <td>0.003152</td>\n",
       "      <td>0.051992</td>\n",
       "      <td>-0.007457</td>\n",
       "      <td>0.010708</td>\n",
       "      <td>-0.000772</td>\n",
       "      <td>0.021959</td>\n",
       "      <td>0.076429</td>\n",
       "      <td>0.047723</td>\n",
       "      <td>0.043605</td>\n",
       "      <td>-0.071474</td>\n",
       "      <td>6.004288</td>\n",
       "      <td>-9.249919e-13</td>\n",
       "      <td>1.000000</td>\n",
       "      <td>0.991114</td>\n",
       "      <td>-0.133015</td>\n",
       "      <td>-0.007168</td>\n",
       "    </tr>\n",
       "    <tr>\n",
       "      <th>2011-04-01</th>\n",
       "      <td>0.003152</td>\n",
       "      <td>0.051992</td>\n",
       "      <td>-0.007457</td>\n",
       "      <td>0.010708</td>\n",
       "      <td>-0.000772</td>\n",
       "      <td>0.021959</td>\n",
       "      <td>-0.007168</td>\n",
       "      <td>0.017270</td>\n",
       "      <td>0.052387</td>\n",
       "      <td>0.033107</td>\n",
       "      <td>-0.072346</td>\n",
       "      <td>5.997120</td>\n",
       "      <td>7.818315e-01</td>\n",
       "      <td>0.623490</td>\n",
       "      <td>0.988678</td>\n",
       "      <td>-0.150055</td>\n",
       "      <td>0.019997</td>\n",
       "    </tr>\n",
       "    <tr>\n",
       "      <th>2011-04-04</th>\n",
       "      <td>0.051992</td>\n",
       "      <td>-0.007457</td>\n",
       "      <td>0.010708</td>\n",
       "      <td>-0.000772</td>\n",
       "      <td>0.021959</td>\n",
       "      <td>-0.007168</td>\n",
       "      <td>0.019997</td>\n",
       "      <td>0.044724</td>\n",
       "      <td>0.057143</td>\n",
       "      <td>0.057304</td>\n",
       "      <td>-0.057697</td>\n",
       "      <td>6.017117</td>\n",
       "      <td>-4.338837e-01</td>\n",
       "      <td>-0.900969</td>\n",
       "      <td>0.979614</td>\n",
       "      <td>-0.200891</td>\n",
       "      <td>0.000030</td>\n",
       "    </tr>\n",
       "    <tr>\n",
       "      <th>2011-04-05</th>\n",
       "      <td>-0.007457</td>\n",
       "      <td>0.010708</td>\n",
       "      <td>-0.000772</td>\n",
       "      <td>0.021959</td>\n",
       "      <td>-0.007168</td>\n",
       "      <td>0.019997</td>\n",
       "      <td>0.000030</td>\n",
       "      <td>0.034046</td>\n",
       "      <td>0.080222</td>\n",
       "      <td>0.036602</td>\n",
       "      <td>-0.026301</td>\n",
       "      <td>6.017148</td>\n",
       "      <td>-9.749279e-01</td>\n",
       "      <td>-0.222521</td>\n",
       "      <td>0.976011</td>\n",
       "      <td>-0.217723</td>\n",
       "      <td>-0.002470</td>\n",
       "    </tr>\n",
       "  </tbody>\n",
       "</table>\n",
       "</div>\n",
       "      <button class=\"colab-df-convert\" onclick=\"convertToInteractive('df-4dcd591f-4294-4b9f-af03-f59d00ddcae4')\"\n",
       "              title=\"Convert this dataframe to an interactive table.\"\n",
       "              style=\"display:none;\">\n",
       "        \n",
       "  <svg xmlns=\"http://www.w3.org/2000/svg\" height=\"24px\"viewBox=\"0 0 24 24\"\n",
       "       width=\"24px\">\n",
       "    <path d=\"M0 0h24v24H0V0z\" fill=\"none\"/>\n",
       "    <path d=\"M18.56 5.44l.94 2.06.94-2.06 2.06-.94-2.06-.94-.94-2.06-.94 2.06-2.06.94zm-11 1L8.5 8.5l.94-2.06 2.06-.94-2.06-.94L8.5 2.5l-.94 2.06-2.06.94zm10 10l.94 2.06.94-2.06 2.06-.94-2.06-.94-.94-2.06-.94 2.06-2.06.94z\"/><path d=\"M17.41 7.96l-1.37-1.37c-.4-.4-.92-.59-1.43-.59-.52 0-1.04.2-1.43.59L10.3 9.45l-7.72 7.72c-.78.78-.78 2.05 0 2.83L4 21.41c.39.39.9.59 1.41.59.51 0 1.02-.2 1.41-.59l7.78-7.78 2.81-2.81c.8-.78.8-2.07 0-2.86zM5.41 20L4 18.59l7.72-7.72 1.47 1.35L5.41 20z\"/>\n",
       "  </svg>\n",
       "      </button>\n",
       "      \n",
       "  <style>\n",
       "    .colab-df-container {\n",
       "      display:flex;\n",
       "      flex-wrap:wrap;\n",
       "      gap: 12px;\n",
       "    }\n",
       "\n",
       "    .colab-df-convert {\n",
       "      background-color: #E8F0FE;\n",
       "      border: none;\n",
       "      border-radius: 50%;\n",
       "      cursor: pointer;\n",
       "      display: none;\n",
       "      fill: #1967D2;\n",
       "      height: 32px;\n",
       "      padding: 0 0 0 0;\n",
       "      width: 32px;\n",
       "    }\n",
       "\n",
       "    .colab-df-convert:hover {\n",
       "      background-color: #E2EBFA;\n",
       "      box-shadow: 0px 1px 2px rgba(60, 64, 67, 0.3), 0px 1px 3px 1px rgba(60, 64, 67, 0.15);\n",
       "      fill: #174EA6;\n",
       "    }\n",
       "\n",
       "    [theme=dark] .colab-df-convert {\n",
       "      background-color: #3B4455;\n",
       "      fill: #D2E3FC;\n",
       "    }\n",
       "\n",
       "    [theme=dark] .colab-df-convert:hover {\n",
       "      background-color: #434B5C;\n",
       "      box-shadow: 0px 1px 3px 1px rgba(0, 0, 0, 0.15);\n",
       "      filter: drop-shadow(0px 1px 2px rgba(0, 0, 0, 0.3));\n",
       "      fill: #FFFFFF;\n",
       "    }\n",
       "  </style>\n",
       "\n",
       "      <script>\n",
       "        const buttonEl =\n",
       "          document.querySelector('#df-4dcd591f-4294-4b9f-af03-f59d00ddcae4 button.colab-df-convert');\n",
       "        buttonEl.style.display =\n",
       "          google.colab.kernel.accessAllowed ? 'block' : 'none';\n",
       "\n",
       "        async function convertToInteractive(key) {\n",
       "          const element = document.querySelector('#df-4dcd591f-4294-4b9f-af03-f59d00ddcae4');\n",
       "          const dataTable =\n",
       "            await google.colab.kernel.invokeFunction('convertToInteractive',\n",
       "                                                     [key], {});\n",
       "          if (!dataTable) return;\n",
       "\n",
       "          const docLinkHtml = 'Like what you see? Visit the ' +\n",
       "            '<a target=\"_blank\" href=https://colab.research.google.com/notebooks/data_table.ipynb>data table notebook</a>'\n",
       "            + ' to learn more about interactive tables.';\n",
       "          element.innerHTML = '';\n",
       "          dataTable['output_type'] = 'display_data';\n",
       "          await google.colab.output.renderOutput(dataTable, element);\n",
       "          const docLink = document.createElement('div');\n",
       "          docLink.innerHTML = docLinkHtml;\n",
       "          element.appendChild(docLink);\n",
       "        }\n",
       "      </script>\n",
       "    </div>\n",
       "  </div>\n",
       "  "
      ],
      "text/plain": [
       "              Series                                                    \\\n",
       "                 t-6       t-5       t-4       t-3       t-2       t-1   \n",
       "Date                                                                     \n",
       "2011-03-30  0.007075  0.016947  0.003152  0.051992 -0.007457  0.010708   \n",
       "2011-03-31  0.016947  0.003152  0.051992 -0.007457  0.010708 -0.000772   \n",
       "2011-04-01  0.003152  0.051992 -0.007457  0.010708 -0.000772  0.021959   \n",
       "2011-04-04  0.051992 -0.007457  0.010708 -0.000772  0.021959 -0.007168   \n",
       "2011-04-05 -0.007457  0.010708 -0.000772  0.021959 -0.007168  0.019997   \n",
       "\n",
       "                       Returns                                  Origin  \\\n",
       "                  t0      5DRT     15DRT     30DRT     60DRT    Log(t0   \n",
       "Date                                                                     \n",
       "2011-03-30 -0.000772  0.057622  0.024066  0.020503 -0.086776  5.982329   \n",
       "2011-03-31  0.021959  0.076429  0.047723  0.043605 -0.071474  6.004288   \n",
       "2011-04-01 -0.007168  0.017270  0.052387  0.033107 -0.072346  5.997120   \n",
       "2011-04-04  0.019997  0.044724  0.057143  0.057304 -0.057697  6.017117   \n",
       "2011-04-05  0.000030  0.034046  0.080222  0.036602 -0.026301  6.017148   \n",
       "\n",
       "                    Time                                  Y_pred  \n",
       "                 WeekSin   WeekCos   YearSin   YearCos       t+1  \n",
       "Date                                                              \n",
       "2011-03-30 -7.818315e-01  0.623490  0.993257 -0.115935  0.021959  \n",
       "2011-03-31 -9.249919e-13  1.000000  0.991114 -0.133015 -0.007168  \n",
       "2011-04-01  7.818315e-01  0.623490  0.988678 -0.150055  0.019997  \n",
       "2011-04-04 -4.338837e-01 -0.900969  0.979614 -0.200891  0.000030  \n",
       "2011-04-05 -9.749279e-01 -0.222521  0.976011 -0.217723 -0.002470  "
      ]
     },
     "execution_count": 6,
     "metadata": {},
     "output_type": "execute_result"
    }
   ],
   "source": [
    "dataset.head()"
   ]
  },
  {
   "cell_type": "code",
   "execution_count": null,
   "metadata": {
    "id": "Ku2CgtLuP2ke"
   },
   "outputs": [],
   "source": [
    "from sklearn.preprocessing import MinMaxScaler"
   ]
  },
  {
   "cell_type": "code",
   "execution_count": null,
   "metadata": {
    "colab": {
     "base_uri": "https://localhost:8080/"
    },
    "id": "momtAv5cQRkp",
    "outputId": "246ca8c4-17cb-4e3c-a1b1-f84c184a2be8"
   },
   "outputs": [
    {
     "name": "stderr",
     "output_type": "stream",
     "text": [
      "/usr/local/lib/python3.7/dist-packages/sklearn/utils/validation.py:1692: FutureWarning: Feature names only support names that are all strings. Got feature names with dtypes: ['tuple']. An error will be raised in 1.2.\n",
      "  FutureWarning,\n",
      "/usr/local/lib/python3.7/dist-packages/sklearn/utils/validation.py:1692: FutureWarning: Feature names only support names that are all strings. Got feature names with dtypes: ['tuple']. An error will be raised in 1.2.\n",
      "  FutureWarning,\n"
     ]
    }
   ],
   "source": [
    "scaler = MinMaxScaler()\n",
    "\n",
    "data = pd.DataFrame(scaler.fit_transform(dataset[['Series','Returns','Y_pred']]),columns=dataset[['Series','Returns','Y_pred']].columns,index=dataset[['Series','Returns','Y_pred']].index)\n",
    "dataset['Series'] = data['Series']\n",
    "dataset['Returns'] = data['Returns']\n",
    "dataset['Y_pred'] = data['Y_pred']"
   ]
  },
  {
   "cell_type": "code",
   "execution_count": null,
   "metadata": {
    "colab": {
     "base_uri": "https://localhost:8080/"
    },
    "id": "IHv2ueImxx9J",
    "outputId": "a3576b0c-6668-41f8-ea5b-b4b450b84e2b"
   },
   "outputs": [
    {
     "data": {
      "text/plain": [
       "Date\n",
       "2011-01-03    6.069105\n",
       "2011-01-04    6.075763\n",
       "2011-01-05    6.069467\n",
       "2011-01-06    6.074814\n",
       "2011-01-07    6.043449\n",
       "Name: Close, dtype: float64"
      ]
     },
     "execution_count": 9,
     "metadata": {},
     "output_type": "execute_result"
    }
   ],
   "source": [
    "log_infy.head()"
   ]
  },
  {
   "cell_type": "code",
   "execution_count": null,
   "metadata": {
    "id": "FybtKkuXEyg3"
   },
   "outputs": [],
   "source": [
    "scaler_stock = [scaler.data_max_[:7],scaler.data_min_[:7]]\n",
    "scaler_returns = [scaler.data_max_[7:11],scaler.data_min_[7:11]]\n",
    "scaler_y = [scaler.data_max_[11],scaler.data_min_[11]]"
   ]
  },
  {
   "cell_type": "code",
   "execution_count": null,
   "metadata": {
    "id": "XTLT7fvEQ5ty"
   },
   "outputs": [],
   "source": [
    "Y = dataset.pop('Y_pred')\n",
    "X = dataset"
   ]
  },
  {
   "cell_type": "code",
   "execution_count": null,
   "metadata": {
    "colab": {
     "base_uri": "https://localhost:8080/",
     "height": 265
    },
    "id": "PKJoGC8gMVLO",
    "outputId": "a0f1b2ec-a27d-4a40-d53b-a5b86d19b100"
   },
   "outputs": [
    {
     "data": {
      "image/png": "[encoded data removed]",
      "text/plain": [
       "<Figure size 432x288 with 1 Axes>"
      ]
     },
     "metadata": {},
     "output_type": "display_data"
    }
   ],
   "source": [
    "plt.plot(X[('Series','t0')])\n",
    "plt.show()"
   ]
  },
  {
   "cell_type": "code",
   "execution_count": null,
   "metadata": {
    "id": "AE_O1F1UeBvb"
   },
   "outputs": [],
   "source": [
    "train_len = int(0.8*len(Y))\n",
    "\n",
    "y_train, y_test = Y[:train_len],Y[train_len:]\n",
    "x_train, x_test = X[:train_len],X[train_len:]"
   ]
  },
  {
   "cell_type": "code",
   "execution_count": null,
   "metadata": {
    "id": "5vJ3bEoeRKhD"
   },
   "outputs": [],
   "source": [
    "x_train_tfd = tf.data.Dataset.from_tensor_slices({'Series': x_train['Series'].to_numpy(),\n",
    "                                             'Returns': x_train['Returns'].to_numpy(),\n",
    "                                             'Origin': x_train['Origin'].to_numpy(),\n",
    "                                             'Time': x_train['Time'].to_numpy()})\n",
    "y_train_tfd = tf.data.Dataset.from_tensor_slices(y_train)\n",
    "\n",
    "train_dataset = tf.data.Dataset.zip((x_train_tfd,y_train_tfd))\n",
    "\n",
    "x_test_tfd = tf.data.Dataset.from_tensor_slices({'Series': x_test['Series'].to_numpy(),\n",
    "                                                 'Returns': x_test['Returns'].to_numpy(),\n",
    "                                                 'Origin': x_test['Origin'].to_numpy(),\n",
    "                                                 'Time': x_test['Time'].to_numpy()})\n",
    "y_test_tfd = tf.data.Dataset.from_tensor_slices(y_test)\n",
    "\n",
    "test_dataset = tf.data.Dataset.zip((x_test_tfd,y_test_tfd))"
   ]
  },
  {
   "cell_type": "code",
   "execution_count": null,
   "metadata": {
    "id": "MS2ET4jmb5OJ"
   },
   "outputs": [],
   "source": [
    "train_dataset = train_dataset.batch(32).prefetch(tf.data.AUTOTUNE)\n",
    "test_dataset = test_dataset.batch(32).prefetch(tf.data.AUTOTUNE)"
   ]
  },
  {
   "cell_type": "code",
   "execution_count": null,
   "metadata": {
    "id": "2v9AK2WCBWhe"
   },
   "outputs": [],
   "source": [
    "# Helper Function\n",
    "def get_act(model,dataset,scaler_y):\n",
    "  y_trues = []\n",
    "  y_preds = []\n",
    "  for i in dataset:\n",
    "    x,y = i\n",
    "    # y = tf.cast(y,tf.float32)\n",
    "    y = y*(scaler_y[0] - scaler_y[1]) + scaler_y[1]\n",
    "\n",
    "    y_pred = model(x,training=False)\n",
    "    y_pred = y_pred*(scaler_y[0] - scaler_y[1]) + scaler_y[1]\n",
    "\n",
    "    y_true = x['Origin'] + y\n",
    "    y_pred = x['Origin'] + tf.cast(y_pred,tf.float64)\n",
    "\n",
    "    y_trues.append(y_true)\n",
    "    y_preds.append(y_pred)\n",
    "\n",
    "  a = tf.concat(values=y_trues,axis=0).numpy().flatten()\n",
    "  b = tf.concat(values=y_preds,axis=0).numpy().flatten()\n",
    "\n",
    "  return a,b\n"
   ]
  },
  {
   "cell_type": "code",
   "execution_count": null,
   "metadata": {
    "id": "YGepkIjuJ3Gz"
   },
   "outputs": [],
   "source": [
    "def scale(ar,n):\n",
    "  return (ar - scaler.data_min_[n])/(scaler.data_max_[n] - scaler.data_min_[n])\n",
    "\n",
    "def unscale(ar,n):\n",
    "  return ar*(scaler.data_max_[n] - scaler.data_min_[n]) + scaler.data_min_[n]"
   ]
  },
  {
   "cell_type": "code",
   "execution_count": null,
   "metadata": {
    "colab": {
     "base_uri": "https://localhost:8080/"
    },
    "id": "vdP2R0yzqi41",
    "outputId": "dedb18e4-007a-4c61-f273-183831f3f357"
   },
   "outputs": [
    {
     "name": "stdout",
     "output_type": "stream",
     "text": [
      "tf.Tensor(\n",
      "[[405.1625061 ]\n",
      " [402.26873779]\n",
      " [410.39373779]\n",
      " [410.40625   ]\n",
      " [409.39373779]\n",
      " [405.73748779]\n",
      " [403.4125061 ]\n",
      " [405.20001221]\n",
      " [413.2749939 ]\n",
      " [373.6875    ]\n",
      " [363.26251221]\n",
      " [360.91876221]\n",
      " [363.4125061 ]\n",
      " [363.75      ]\n",
      " [367.6625061 ]\n",
      " [367.79376221]\n",
      " [369.14373779]\n",
      " [366.14373779]\n",
      " [363.28125   ]\n",
      " [365.3187561 ]\n",
      " [363.8812561 ]\n",
      " [358.71875   ]\n",
      " [356.0625    ]\n",
      " [361.625     ]\n",
      " [363.5687561 ]\n",
      " [360.0062561 ]\n",
      " [363.2562561 ]\n",
      " [360.15625   ]\n",
      " [359.79376221]\n",
      " [356.29998779]\n",
      " [355.51873779]\n",
      " [355.3125    ]], shape=(32, 1), dtype=float64)\n"
     ]
    }
   ],
   "source": [
    "for i in train_dataset.take(1):\n",
    "  x,y = i\n",
    "\n",
    "  # y = tf.cast(y,tf.float32)\n",
    "  y = y*(scaler_y[0] - scaler_y[1]) + scaler_y[1]\n",
    "  y = x['Origin'] + y\n",
    "\n",
    "  print(tf.exp(y))\n"
   ]
  },
  {
   "cell_type": "markdown",
   "metadata": {
    "id": "j2Q5pgoVFubF"
   },
   "source": [
    "## Creating Custom Model"
   ]
  },
  {
   "cell_type": "code",
   "execution_count": null,
   "metadata": {
    "id": "Z9ls8Mlrnagc"
   },
   "outputs": [],
   "source": [
    "# Creating a custom train function for tensorflow model\n",
    "class Model(tf.keras.Model):\n",
    "  def __init__(self,scaler_y,**kwargs):\n",
    "    super().__init__(**kwargs)\n",
    "    self.scaler_y = tf.cast(scaler_y,tf.float32)\n",
    "  def train_step(self,data):\n",
    "      x,y = data\n",
    "      y = tf.cast(y,tf.float32)\n",
    "      og = tf.cast(x['Origin'],tf.float32)\n",
    "      with tf.GradientTape() as tape:\n",
    "        y_pred = self(x,training=True)\n",
    "        y_pred = y_pred*(self.scaler_y[0] - self.scaler_y[1]) + self.scaler_y[1]\n",
    "        y_p = tf.math.exp(og+y_pred)\n",
    "        y = y*(self.scaler_y[0] - self.scaler_y[1]) + self.scaler_y[1]\n",
    "        y_t = tf.math.exp(og+y)\n",
    "        loss = self.compiled_loss(y_t,y_p,regularization_losses=self.losses)\n",
    "\n",
    "      trainable_vars = self.trainable_variables\n",
    "      gradients = tape.gradient(loss,trainable_vars)\n",
    "\n",
    "      self.optimizer.apply_gradients(zip(gradients,trainable_vars))\n",
    "      self.compiled_metrics.update_state(y_t,y_p)\n",
    "      return {m.name: m.result() for m in self.metrics}\n",
    "\n",
    "  def test_step(self,data):\n",
    "    x,y = data\n",
    "    og = tf.cast(x['Origin'],tf.float32)\n",
    "    y = tf.cast(y,tf.float32)\n",
    "\n",
    "    y_pred = self(x,training=False)\n",
    "    y_pred = y_pred*(self.scaler_y[0] - self.scaler_y[1]) - self.scaler_y[1]\n",
    "    y_p = tf.math.exp(og+y_pred)\n",
    "    y = y*(self.scaler_y[0] - self.scaler_y[1]) - self.scaler_y[1]\n",
    "    y_t = tf.math.exp(og+y)\n",
    "    loss = self.compiled_loss(y_t,y_p,regularization_losses=self.losses)\n",
    "\n",
    "    self.compiled_metrics.update_state(y_t,y_p)\n",
    "    return {m.name: m.result() for m in self.metrics}\n"
   ]
  },
  {
   "cell_type": "markdown",
   "metadata": {
    "id": "9o7VgSRHUdPP"
   },
   "source": [
    "## Model 1: Dense Neural Network"
   ]
  },
  {
   "cell_type": "code",
   "execution_count": null,
   "metadata": {
    "id": "gy6khHoXXgtZ"
   },
   "outputs": [],
   "source": [
    "ac = 'leaky_relu'"
   ]
  },
  {
   "cell_type": "code",
   "execution_count": null,
   "metadata": {
    "id": "Sa4QBx_6Uxoo"
   },
   "outputs": [],
   "source": [
    "# Defining the inputs\n",
    "inp_series = tf.keras.layers.Input(shape=(7,))\n",
    "inp_returns = tf.keras.layers.Input(shape=(4,))\n",
    "\n",
    "# Series forcasting model\n",
    "x_0 = tf.keras.layers.Dense(50,activation=ac)(inp_series)\n",
    "x_0 = tf.keras.layers.Dense(100,activation=ac)(x_0)\n",
    "x_0 = tf.keras.layers.Dense(500,activation=ac)(x_0)\n",
    "x_0 = tf.keras.layers.Dense(250,activation=ac)(x_0)\n",
    "x_0 = tf.keras.layers.Dense(100,activation=ac)(x_0)\n",
    "x_0 = tf.keras.layers.Dense(50,activation=ac)(x_0)\n",
    "x_0 = tf.keras.layers.Dense(25,activation=ac)(x_0)\n",
    "x_0 = tf.keras.layers.Dense(4,activation=ac)(x_0)\n",
    "\n",
    "x_1 = tf.keras.layers.Concatenate()([x_0,inp_returns])\n",
    "x_1 = tf.keras.layers.Dense(100,activation=ac)(x_1)\n",
    "x_1 = tf.keras.layers.Dense(500,activation=ac)(x_1)\n",
    "x_1 = tf.keras.layers.Dense(250,activation=ac)(x_1)\n",
    "x_1 = tf.keras.layers.Dense(100,activation=ac)(x_1)\n",
    "x_1 = tf.keras.layers.Dense(50,activation=ac)(x_1)\n",
    "x_1 = tf.keras.layers.Dense(25,activation=ac)(x_1)\n",
    "outputs = tf.keras.layers.Dense(1,activation='linear')(x_1)\n",
    "\n",
    "model_1 = Model(tf.convert_to_tensor(scaler_stock),tf.convert_to_tensor(scaler_y),inputs={'Series': inp_series,'Returns': inp_returns},outputs=outputs)"
   ]
  },
  {
   "cell_type": "code",
   "execution_count": null,
   "metadata": {
    "id": "zXz1hU0MXni0"
   },
   "outputs": [],
   "source": [
    "model_1.compile(loss='huber',\n",
    "                optimizer='adam')"
   ]
  },
  {
   "cell_type": "code",
   "execution_count": null,
   "metadata": {
    "colab": {
     "base_uri": "https://localhost:8080/"
    },
    "id": "D-4PJ7IVdXrV",
    "outputId": "315455b6-690f-4d2a-db81-1da615147054"
   },
   "outputs": [
    {
     "name": "stdout",
     "output_type": "stream",
     "text": [
      "Epoch 1/25\n",
      "72/72 [==============================] - 5s 9ms/step - loss: 4.8590 - val_loss: 26.9780\n",
      "Epoch 2/25\n",
      "72/72 [==============================] - 0s 5ms/step - loss: 4.8099 - val_loss: 27.1348\n",
      "Epoch 3/25\n",
      "72/72 [==============================] - 0s 5ms/step - loss: 4.7976 - val_loss: 27.2482\n",
      "Epoch 4/25\n",
      "72/72 [==============================] - 0s 5ms/step - loss: 4.7375 - val_loss: 28.1804\n",
      "Epoch 5/25\n",
      "72/72 [==============================] - 0s 5ms/step - loss: 4.7846 - val_loss: 27.0671\n",
      "Epoch 6/25\n",
      "72/72 [==============================] - 0s 5ms/step - loss: 4.7595 - val_loss: 27.4298\n",
      "Epoch 7/25\n",
      "72/72 [==============================] - 0s 5ms/step - loss: 4.7725 - val_loss: 27.8927\n",
      "Epoch 8/25\n",
      "72/72 [==============================] - 0s 5ms/step - loss: 4.7794 - val_loss: 27.6531\n",
      "Epoch 9/25\n",
      "72/72 [==============================] - 0s 5ms/step - loss: 4.8028 - val_loss: 27.0665\n",
      "Epoch 10/25\n",
      "72/72 [==============================] - 0s 5ms/step - loss: 4.7354 - val_loss: 27.9760\n",
      "Epoch 11/25\n",
      "72/72 [==============================] - 0s 5ms/step - loss: 4.7745 - val_loss: 26.9918\n",
      "Epoch 12/25\n",
      "72/72 [==============================] - 0s 5ms/step - loss: 4.7618 - val_loss: 27.7622\n",
      "Epoch 13/25\n",
      "72/72 [==============================] - 0s 5ms/step - loss: 4.7490 - val_loss: 27.3099\n",
      "Epoch 14/25\n",
      "72/72 [==============================] - 0s 5ms/step - loss: 4.7283 - val_loss: 28.7675\n",
      "Epoch 15/25\n",
      "72/72 [==============================] - 0s 5ms/step - loss: 4.8095 - val_loss: 27.1985\n",
      "Epoch 16/25\n",
      "72/72 [==============================] - 0s 5ms/step - loss: 4.7327 - val_loss: 27.6071\n",
      "Epoch 17/25\n",
      "72/72 [==============================] - 0s 5ms/step - loss: 4.7745 - val_loss: 26.9338\n",
      "Epoch 18/25\n",
      "72/72 [==============================] - 0s 5ms/step - loss: 4.7626 - val_loss: 27.1428\n",
      "Epoch 19/25\n",
      "72/72 [==============================] - 0s 5ms/step - loss: 4.7432 - val_loss: 27.2165\n",
      "Epoch 20/25\n",
      "72/72 [==============================] - 0s 5ms/step - loss: 4.7145 - val_loss: 27.0610\n",
      "Epoch 21/25\n",
      "72/72 [==============================] - 0s 5ms/step - loss: 4.8101 - val_loss: 26.9120\n",
      "Epoch 22/25\n",
      "72/72 [==============================] - 0s 5ms/step - loss: 4.7388 - val_loss: 27.6621\n",
      "Epoch 23/25\n",
      "72/72 [==============================] - 0s 5ms/step - loss: 4.7413 - val_loss: 27.9913\n",
      "Epoch 24/25\n",
      "72/72 [==============================] - 0s 5ms/step - loss: 4.7548 - val_loss: 27.0002\n",
      "Epoch 25/25\n",
      "72/72 [==============================] - 0s 5ms/step - loss: 4.7205 - val_loss: 29.1202\n"
     ]
    }
   ],
   "source": [
    "history_1 = model_1.fit(train_dataset,\n",
    "                        validation_data=test_dataset,\n",
    "                        epochs=25)"
   ]
  },
  {
   "cell_type": "code",
   "execution_count": null,
   "metadata": {
    "colab": {
     "base_uri": "https://localhost:8080/",
     "height": 265
    },
    "id": "ab2TFR41TMsp",
    "outputId": "a37346f7-0dcf-4689-c647-bd55e9cb502a"
   },
   "outputs": [
    {
     "data": {
      "image/png": "[encoded data removed]",
      "text/plain": [
       "<Figure size 432x288 with 1 Axes>"
      ]
     },
     "metadata": {},
     "output_type": "display_data"
    }
   ],
   "source": [
    "y_t,y_p = get_act(model_1,test_dataset,scaler_stock,scaler_y)\n",
    "plt.plot(y_t[-50:],label='y_true')\n",
    "plt.plot(y_p[-50:],label='y_pred')\n",
    "plt.legend()\n",
    "plt.show()"
   ]
  },
  {
   "cell_type": "markdown",
   "metadata": {
    "id": "5TRiOL1zN0fY"
   },
   "source": [
    "## Model 2: Dense"
   ]
  },
  {
   "cell_type": "code",
   "execution_count": null,
   "metadata": {
    "id": "xa6vBKiLPFOu"
   },
   "outputs": [],
   "source": [
    "ac = 'relu'"
   ]
  },
  {
   "cell_type": "code",
   "execution_count": null,
   "metadata": {
    "id": "VF_YW_ewN-TB"
   },
   "outputs": [],
   "source": [
    "s_input = tf.keras.layers.Input(shape=(7,))\n",
    "r_input = tf.keras.layers.Input(shape=(4,))\n",
    "\n",
    "x = tf.keras.layers.Concatenate()([s_input,r_input])\n",
    "x = tf.keras.layers.Dense(100,activation=ac)(x)\n",
    "x = tf.keras.layers.Dropout(0.1)(x)\n",
    "x = tf.keras.layers.Dense(500,activation=ac)(x)\n",
    "x = tf.keras.layers.Dense(0.1)(x)\n",
    "x = tf.keras.layers.Dense(750,activation=ac)(x)\n",
    "x = tf.keras.layers.Dropout(0.1)(x)\n",
    "x = tf.keras.layers.Dense(500,activation=ac)(x)\n",
    "x = tf.keras.layers.Dropout(0.1)(x)\n",
    "x = tf.keras.layers.Dense(250,activation=ac)(x)\n",
    "x = tf.keras.layers.Dropout(0.1)(x)\n",
    "x = tf.keras.layers.Dense(100,activation=ac)(x)\n",
    "x = tf.keras.layers.Dropout(0.1)(x)\n",
    "x = tf.keras.layers.Dense(50,activation=ac)(x)\n",
    "outputs = tf.keras.layers.Dense(1,activation=ac)(x)\n",
    "\n",
    "model_2 = Model(tf.convert_to_tensor(scaler_stock),tf.convert_to_tensor(scaler_y),inputs={'Series': s_input,'Returns': r_input},outputs=outputs)"
   ]
  },
  {
   "cell_type": "code",
   "execution_count": null,
   "metadata": {
    "id": "sI1aiJY4PHPL"
   },
   "outputs": [],
   "source": [
    "model_2.compile(loss='mae',\n",
    "                optimizer='adam')"
   ]
  },
  {
   "cell_type": "code",
   "execution_count": null,
   "metadata": {
    "colab": {
     "base_uri": "https://localhost:8080/"
    },
    "id": "iJ48t5sYPLFn",
    "outputId": "544bc4e1-6792-4420-c463-3a47f1879967"
   },
   "outputs": [
    {
     "name": "stdout",
     "output_type": "stream",
     "text": [
      "Epoch 1/25\n",
      "72/72 [==============================] - 2s 12ms/step - loss: 91.8676 - val_loss: 487.6553\n",
      "Epoch 2/25\n",
      "72/72 [==============================] - 1s 9ms/step - loss: 91.8676 - val_loss: 487.6553\n",
      "Epoch 3/25\n",
      "72/72 [==============================] - 1s 9ms/step - loss: 91.8676 - val_loss: 487.6553\n",
      "Epoch 4/25\n",
      "72/72 [==============================] - 0s 7ms/step - loss: 91.8676 - val_loss: 487.6553\n",
      "Epoch 5/25\n",
      "72/72 [==============================] - 1s 8ms/step - loss: 91.8676 - val_loss: 487.6553\n",
      "Epoch 6/25\n",
      "72/72 [==============================] - 0s 5ms/step - loss: 91.8676 - val_loss: 487.6553\n",
      "Epoch 7/25\n",
      "72/72 [==============================] - 0s 5ms/step - loss: 91.8676 - val_loss: 487.6553\n",
      "Epoch 8/25\n",
      "72/72 [==============================] - 0s 5ms/step - loss: 91.8676 - val_loss: 487.6553\n",
      "Epoch 9/25\n",
      "72/72 [==============================] - 0s 4ms/step - loss: 91.8676 - val_loss: 487.6553\n",
      "Epoch 10/25\n",
      "72/72 [==============================] - 0s 5ms/step - loss: 91.8676 - val_loss: 487.6553\n",
      "Epoch 11/25\n",
      "72/72 [==============================] - 0s 4ms/step - loss: 91.8676 - val_loss: 487.6553\n",
      "Epoch 12/25\n",
      "72/72 [==============================] - 0s 4ms/step - loss: 91.8676 - val_loss: 487.6553\n",
      "Epoch 13/25\n",
      "72/72 [==============================] - 0s 5ms/step - loss: 91.8676 - val_loss: 487.6553\n",
      "Epoch 14/25\n",
      "72/72 [==============================] - 0s 4ms/step - loss: 91.8676 - val_loss: 487.6553\n",
      "Epoch 15/25\n",
      "72/72 [==============================] - 0s 5ms/step - loss: 91.8676 - val_loss: 487.6553\n",
      "Epoch 16/25\n",
      "72/72 [==============================] - 0s 5ms/step - loss: 91.8676 - val_loss: 487.6553\n",
      "Epoch 17/25\n",
      "72/72 [==============================] - 0s 5ms/step - loss: 91.8676 - val_loss: 487.6553\n",
      "Epoch 18/25\n",
      "72/72 [==============================] - 0s 4ms/step - loss: 91.8676 - val_loss: 487.6553\n",
      "Epoch 19/25\n",
      "72/72 [==============================] - 0s 5ms/step - loss: 91.8676 - val_loss: 487.6553\n",
      "Epoch 20/25\n",
      "72/72 [==============================] - 0s 5ms/step - loss: 91.8676 - val_loss: 487.6553\n",
      "Epoch 21/25\n",
      "72/72 [==============================] - 0s 5ms/step - loss: 91.8676 - val_loss: 487.6553\n",
      "Epoch 22/25\n",
      "72/72 [==============================] - 0s 4ms/step - loss: 91.8676 - val_loss: 487.6553\n",
      "Epoch 23/25\n",
      "72/72 [==============================] - 0s 4ms/step - loss: 91.8676 - val_loss: 487.6553\n",
      "Epoch 24/25\n",
      "72/72 [==============================] - 0s 5ms/step - loss: 91.8676 - val_loss: 487.6553\n",
      "Epoch 25/25\n",
      "72/72 [==============================] - 0s 4ms/step - loss: 91.8676 - val_loss: 487.6553\n"
     ]
    }
   ],
   "source": [
    "history_2 = model_2.fit(train_dataset,\n",
    "                        validation_data=test_dataset,\n",
    "                        epochs=25)"
   ]
  },
  {
   "cell_type": "code",
   "execution_count": null,
   "metadata": {
    "colab": {
     "base_uri": "https://localhost:8080/"
    },
    "id": "aAHq2TXAPX-C",
    "outputId": "3637d0a4-93b1-43b3-bde8-1f9586b43fde"
   },
   "outputs": [
    {
     "name": "stdout",
     "output_type": "stream",
     "text": [
      "1/1 [==============================] - 0s 105ms/step\n",
      "[[0.6065974 ]\n",
      " [0.6067317 ]\n",
      " [0.60652304]\n",
      " [0.6063463 ]\n",
      " [0.6073998 ]\n",
      " [0.60808986]\n",
      " [0.60760593]\n",
      " [0.60770184]\n",
      " [0.60709286]\n",
      " [0.6069749 ]\n",
      " [0.6069828 ]\n",
      " [0.6070662 ]\n",
      " [0.6075396 ]\n",
      " [0.60767215]\n",
      " [0.6079475 ]\n",
      " [0.6082358 ]\n",
      " [0.60797656]\n",
      " [0.6081847 ]\n",
      " [0.6081289 ]\n",
      " [0.60824263]\n",
      " [0.6083131 ]\n",
      " [0.6080913 ]\n",
      " [0.6083839 ]\n",
      " [0.6082234 ]\n",
      " [0.6084787 ]\n",
      " [0.6086404 ]\n",
      " [0.60876983]\n",
      " [0.60897225]\n",
      " [0.60914135]\n",
      " [0.6087706 ]\n",
      " [0.60894835]\n",
      " [0.6090731 ]]\n",
      "tf.Tensor(\n",
      "[[0.58439029]\n",
      " [0.69237317]\n",
      " [0.61299032]\n",
      " [0.55477445]\n",
      " [0.57869527]\n",
      " [0.64764195]\n",
      " [0.67576474]\n",
      " [0.64457509]\n",
      " [0.58331883]\n",
      " [0.62568269]\n",
      " [0.61832406]\n",
      " [0.58233393]\n",
      " [0.58758556]\n",
      " [0.59255345]\n",
      " [0.67561815]\n",
      " [0.55367051]\n",
      " [0.60754654]\n",
      " [0.598601  ]\n",
      " [0.6236739 ]\n",
      " [0.59636391]\n",
      " [0.61273957]\n",
      " [0.61670103]\n",
      " [0.63283594]\n",
      " [0.58462144]\n",
      " [0.5953475 ]\n",
      " [0.5894234 ]\n",
      " [0.60260047]\n",
      " [0.58131903]\n",
      " [0.64046161]\n",
      " [0.59632059]\n",
      " [0.57453757]\n",
      " [0.58824291]], shape=(32, 1), dtype=float64)\n"
     ]
    }
   ],
   "source": [
    "for i in test_dataset.take(1):\n",
    "  print(model_2.predict(i[0]))\n",
    "  print(i[1])"
   ]
  },
  {
   "cell_type": "markdown",
   "metadata": {
    "id": "hdUAKUJI8RVF"
   },
   "source": [
    "\n",
    "## Model 3: Convolutional model"
   ]
  },
  {
   "cell_type": "code",
   "execution_count": null,
   "metadata": {
    "id": "CcirRfqC8VAL"
   },
   "outputs": [],
   "source": [
    "inp_1 = tf.keras.layers.Input(shape=(7,))\n",
    "inp_2 = tf.keras.layers.Input(shape=(4,))\n",
    "\n",
    "inps = tf.keras.layers.Reshape(target_shape=(7,1),input_shape=(7,))(inp_1)\n",
    "x_0 = tf.keras.layers.Conv1D(64,2,activation=ac)(inps)\n",
    "x_0 = tf.keras.layers.Conv1D(64,2,activation=ac)(x_0)\n",
    "x_0 = tf.keras.layers.BatchNormalization()(x_0)\n",
    "x_0 = tf.keras.layers.Conv1D(128,2,activation=ac)(x_0)\n",
    "x_0 = tf.keras.layers.Conv1D(128,2,activation=ac)(x_0)\n",
    "x_0 = tf.keras.layers.BatchNormalization()(x_0)\n",
    "x_0 = tf.keras.layers.Conv1D(512,2,activation=ac)(x_0)\n",
    "x_0 = tf.keras.layers.Conv1D(512,2,activation=ac)(x_0)\n",
    "x_0 = tf.keras.layers.Flatten()(x_0)\n",
    "\n",
    "x_1 = tf.keras.layers.Conv1D(64,3,activation=ac)(inps)\n",
    "x_1 = tf.keras.layers.BatchNormalization()(x_1)\n",
    "x_1 = tf.keras.layers.Conv1D(128,3,activation=ac)(x_1)\n",
    "x_1 = tf.keras.layers.BatchNormalization()(x_1)\n",
    "x_1 = tf.keras.layers.Conv1D(512,3,activation=ac)(x_1)\n",
    "x_1 = tf.keras.layers.Flatten()(x_1)\n",
    "\n",
    "x_2 = tf.keras.layers.Conv1D(256,4,activation=ac)(inps)\n",
    "x_2 = tf.keras.layers.BatchNormalization()(x_2)\n",
    "x_2 = tf.keras.layers.Conv1D(512,4,activation=ac)(x_2)\n",
    "x_2 = tf.keras.layers.Flatten()(x_2)\n",
    "\n",
    "x = tf.keras.layers.Concatenate()([x_0,x_1,x_2])\n",
    "x = tf.keras.layers.Dense(700,activation=ac)(x)\n",
    "x = tf.keras.layers.Dense(400,activation=ac)(x)\n",
    "x = tf.keras.layers.Dropout(0.2)(x)\n",
    "x = tf.keras.layers.Dense(100,activation=ac)(x)\n",
    "x = tf.keras.layers.Dense(25,activation=ac)(x)\n",
    "x = tf.keras.layers.Dropout(0.2)(x)\n",
    "x = tf.keras.layers.Dense(1,activation=ac)(x)\n",
    "\n",
    "# x = tf.keras.layers.Concatenate()([x,inp_2])\n",
    "r = tf.keras.layers.Dense(100,activation=ac)(inp_2)\n",
    "r = tf.keras.layers.Dense(50,activation=ac)(r)\n",
    "r = tf.keras.layers.Dense(4,activation=ac)(r)\n",
    "\n",
    "f = tf.keras.layers.Concatenate()([x,r])\n",
    "outputs = tf.keras.layers.Dense(1,activation='tanh')(f)\n",
    "\n",
    "model_3_1 = tf.keras.Model(inputs={'Series': inp_1, 'Returns': inp_2},outputs=outputs)\n",
    "# model_3 = Model(tf.convert_to_tensor(scaler_stock),tf.convert_to_tensor(scaler_y),inputs={'Series': inp_1, 'Returns': inp_2},outputs=outputs)"
   ]
  },
  {
   "cell_type": "code",
   "execution_count": null,
   "metadata": {
    "id": "Yz_GSZlu_O8Z"
   },
   "outputs": [],
   "source": [
    "model_3_1.compile(loss='mae',\n",
    "                optimizer='adadelta')"
   ]
  },
  {
   "cell_type": "code",
   "execution_count": null,
   "metadata": {
    "colab": {
     "base_uri": "https://localhost:8080/"
    },
    "id": "3spe4jGW_sMd",
    "outputId": "f9b9a4c6-6e8b-4e47-8a4c-51d46b528019"
   },
   "outputs": [
    {
     "name": "stdout",
     "output_type": "stream",
     "text": [
      "Epoch 1/100\n"
     ]
    },
    {
     "name": "stderr",
     "output_type": "stream",
     "text": [
      "/usr/local/lib/python3.7/dist-packages/keras/engine/functional.py:566: UserWarning: Input dict contained keys ['Origin'] which did not match any model input. They will be ignored by the model.\n",
      "  inputs = self._flatten_to_reference_inputs(inputs)\n"
     ]
    },
    {
     "name": "stdout",
     "output_type": "stream",
     "text": [
      "72/72 [==============================] - 5s 17ms/step - loss: 0.6387 - val_loss: 0.6404 - lr: 0.0010\n",
      "Epoch 2/100\n",
      "72/72 [==============================] - 1s 12ms/step - loss: 0.6377 - val_loss: 0.6396 - lr: 0.0010\n",
      "Epoch 3/100\n",
      "72/72 [==============================] - 1s 12ms/step - loss: 0.6368 - val_loss: 0.6387 - lr: 0.0010\n",
      "Epoch 4/100\n",
      "72/72 [==============================] - 1s 12ms/step - loss: 0.6359 - val_loss: 0.6379 - lr: 0.0010\n",
      "Epoch 5/100\n",
      "72/72 [==============================] - 1s 12ms/step - loss: 0.6354 - val_loss: 0.6378 - lr: 1.0000e-04\n",
      "Epoch 6/100\n",
      "72/72 [==============================] - 1s 12ms/step - loss: 0.6353 - val_loss: 0.6378 - lr: 1.0000e-04\n",
      "Epoch 7/100\n",
      "72/72 [==============================] - 1s 12ms/step - loss: 0.6352 - val_loss: 0.6378 - lr: 1.0000e-04\n",
      "Epoch 8/100\n",
      "72/72 [==============================] - 1s 12ms/step - loss: 0.6352 - val_loss: 0.6379 - lr: 1.0000e-05\n",
      "Epoch 9/100\n",
      "72/72 [==============================] - 1s 11ms/step - loss: 0.6351 - val_loss: 0.6380 - lr: 1.0000e-05\n",
      "Epoch 10/100\n",
      "72/72 [==============================] - 1s 11ms/step - loss: 0.6351 - val_loss: 0.6381 - lr: 1.0000e-05\n",
      "Epoch 11/100\n",
      "72/72 [==============================] - 1s 11ms/step - loss: 0.6351 - val_loss: 0.6382 - lr: 1.0000e-06\n",
      "Epoch 12/100\n",
      "72/72 [==============================] - 1s 11ms/step - loss: 0.6351 - val_loss: 0.6382 - lr: 1.0000e-06\n",
      "Epoch 13/100\n",
      "72/72 [==============================] - 1s 11ms/step - loss: 0.6351 - val_loss: 0.6383 - lr: 1.0000e-06\n",
      "Epoch 14/100\n",
      "72/72 [==============================] - 1s 12ms/step - loss: 0.6351 - val_loss: 0.6383 - lr: 1.0000e-07\n"
     ]
    }
   ],
   "source": [
    "history_3_1 = model_3_1.fit(train_dataset,\n",
    "            validation_data = test_dataset,\n",
    "            epochs=100,\n",
    "            callbacks = [tf.keras.callbacks.ReduceLROnPlateau(monitor='val_loss',patience=3,min_delta=0.1),\n",
    "                         tf.keras.callbacks.EarlyStopping(monitor='val_loss',patience=7,restore_best_weights=True)])"
   ]
  },
  {
   "cell_type": "code",
   "execution_count": null,
   "metadata": {
    "colab": {
     "base_uri": "https://localhost:8080/",
     "height": 266
    },
    "id": "UTWq4dbHFtag",
    "outputId": "f7f9f625-a6e1-4343-e61c-5e2a1f47822b"
   },
   "outputs": [
    {
     "data": {
      "image/png": "[encoded data removed]",
      "text/plain": [
       "<Figure size 432x288 with 1 Axes>"
      ]
     },
     "metadata": {},
     "output_type": "display_data"
    }
   ],
   "source": [
    "y_t,y_p = get_act(model_3,test_dataset,[scaler.data_max_[:7],scaler.data_min_[:7]],[scaler.data_max_[11],scaler.data_min_[11]])\n",
    "plt.plot(y_t[-15:-7],label='y_true')\n",
    "plt.plot(y_p[-15:-7],label='y_pred')\n",
    "plt.legend()\n",
    "plt.show()"
   ]
  },
  {
   "cell_type": "code",
   "execution_count": null,
   "metadata": {
    "colab": {
     "base_uri": "https://localhost:8080/",
     "height": 265
    },
    "id": "9NEh3pT7Ra-l",
    "outputId": "aad9d0a2-e04d-4dde-f7d0-5ab39a82f9c5"
   },
   "outputs": [
    {
     "data": {
      "image/png": "[encoded data removed]",
      "text/plain": [
       "<Figure size 432x288 with 1 Axes>"
      ]
     },
     "metadata": {},
     "output_type": "display_data"
    }
   ],
   "source": [
    "# y_t,y_p = get_act(model_3_1,test_dataset,[scaler.data_max_[:7],scaler.data_min_[:7]],[scaler.data_max_[11],scaler.data_min_[11]])\n",
    "plt.plot(y_t[-7:],label='y_true')\n",
    "plt.plot(y_p[-7:],label='y_pred')\n",
    "plt.legend()\n",
    "plt.show()"
   ]
  },
  {
   "cell_type": "markdown",
   "metadata": {
    "id": "qXld4FHgS4Hy"
   },
   "source": [
    "## Model 4: LSTM"
   ]
  },
  {
   "cell_type": "code",
   "execution_count": null,
   "metadata": {
    "id": "b_ppBrtZVFZN"
   },
   "outputs": [],
   "source": [
    "ac = 'relu'"
   ]
  },
  {
   "cell_type": "code",
   "execution_count": null,
   "metadata": {
    "colab": {
     "base_uri": "https://localhost:8080/"
    },
    "id": "Er7w6eBOS3qk",
    "outputId": "8c580dac-fc55-49ef-c764-4d2cb90c95ba"
   },
   "outputs": [
    {
     "name": "stderr",
     "output_type": "stream",
     "text": [
      "WARNING:tensorflow:Layer lstm will not use cuDNN kernels since it doesn't meet the criteria. It will use a generic GPU kernel as fallback when running on GPU.\n",
      "WARNING:tensorflow:Layer lstm_1 will not use cuDNN kernels since it doesn't meet the criteria. It will use a generic GPU kernel as fallback when running on GPU.\n",
      "WARNING:tensorflow:Layer lstm_2 will not use cuDNN kernels since it doesn't meet the criteria. It will use a generic GPU kernel as fallback when running on GPU.\n",
      "WARNING:tensorflow:Layer lstm_3 will not use cuDNN kernels since it doesn't meet the criteria. It will use a generic GPU kernel as fallback when running on GPU.\n",
      "WARNING:tensorflow:Layer lstm_4 will not use cuDNN kernels since it doesn't meet the criteria. It will use a generic GPU kernel as fallback when running on GPU.\n",
      "WARNING:tensorflow:Layer lstm_5 will not use cuDNN kernels since it doesn't meet the criteria. It will use a generic GPU kernel as fallback when running on GPU.\n",
      "WARNING:tensorflow:Layer lstm_6 will not use cuDNN kernels since it doesn't meet the criteria. It will use a generic GPU kernel as fallback when running on GPU.\n",
      "WARNING:tensorflow:Layer lstm_7 will not use cuDNN kernels since it doesn't meet the criteria. It will use a generic GPU kernel as fallback when running on GPU.\n"
     ]
    }
   ],
   "source": [
    "inp_s = tf.keras.layers.Input(shape=(7,))\n",
    "inp_r = tf.keras.layers.Input(shape=(4,))\n",
    "# inp_t = tf.keras.layers.Input(shape=(4,))\n",
    "\n",
    "x_0 = tf.keras.layers.Reshape(target_shape=(1,7),input_shape=(7,))(inp_s)\n",
    "x_0 = tf.keras.layers.LSTM(128,return_sequences=True,activation=ac)(x_0)\n",
    "x_0 = tf.keras.layers.LSTM(64,return_sequences=True,activation=ac)(x_0)\n",
    "x_0 = tf.keras.layers.LSTM(32,return_sequences=True,activation=ac)(x_0)\n",
    "x_0 = tf.keras.layers.LSTM(16,return_sequences=True,activation=ac)(x_0)\n",
    "x_0 = tf.keras.layers.LSTM(8,return_sequences=True,activation=ac)(x_0)\n",
    "x_0 = tf.keras.layers.LSTM(4,return_sequences=True,activation=ac)(x_0)\n",
    "x_0 = tf.keras.layers.LSTM(2,return_sequences=True,activation=ac)(x_0)\n",
    "x_0 = tf.keras.layers.LSTM(1,return_sequences=True,activation='linear')(x_0)\n",
    "x_0 = tf.keras.layers.Flatten()(x_0)\n",
    "\n",
    "x_1 = tf.keras.layers.Dense(100,activation=ac)(inp_r)\n",
    "x_1 = tf.keras.layers.Dense(50,activation=ac)(x_1)\n",
    "x_1 = tf.keras.layers.Dense(4,activation=ac)(x_1)\n",
    "\n",
    "x = tf.keras.layers.Concatenate()([x_0,x_1])\n",
    "x = tf.keras.layers.Dense(50,activation=ac)(x)\n",
    "x = tf.keras.layers.Dense(25,activation=ac)(x)\n",
    "outputs = tf.keras.layers.Dense(1,activation='tanh')(x)\n",
    "\n",
    "model_4_1 = tf.keras.Model(inputs={'Series': inp_s,'Returns': inp_r},outputs=outputs)\n",
    "# model_4_2 = Model(tf.convert_to_tensor(scaler_y),inputs={'Series':inp_s,'Returns':inp_r},outputs=outputs)"
   ]
  },
  {
   "cell_type": "code",
   "execution_count": null,
   "metadata": {
    "id": "NZprwtfNVURn"
   },
   "outputs": [],
   "source": [
    "model_4_1.compile(loss='mae',\n",
    "                optimizer='adam')"
   ]
  },
  {
   "cell_type": "code",
   "execution_count": null,
   "metadata": {
    "colab": {
     "base_uri": "https://localhost:8080/"
    },
    "id": "CYmRYJXDWiha",
    "outputId": "3c1e4621-4e7f-4289-948f-1380ea8cf334"
   },
   "outputs": [
    {
     "name": "stdout",
     "output_type": "stream",
     "text": [
      "Epoch 1/100\n"
     ]
    },
    {
     "name": "stderr",
     "output_type": "stream",
     "text": [
      "/usr/local/lib/python3.7/dist-packages/keras/engine/functional.py:566: UserWarning: Input dict contained keys ['Origin', 'Time'] which did not match any model input. They will be ignored by the model.\n",
      "  inputs = self._flatten_to_reference_inputs(inputs)\n"
     ]
    },
    {
     "name": "stdout",
     "output_type": "stream",
     "text": [
      "72/72 [==============================] - 14s 42ms/step - loss: 0.1865 - val_loss: 0.0395 - lr: 0.0010\n",
      "Epoch 2/100\n",
      "72/72 [==============================] - 2s 28ms/step - loss: 0.0374 - val_loss: 0.0354 - lr: 0.0010\n",
      "Epoch 3/100\n",
      "72/72 [==============================] - 3s 39ms/step - loss: 0.0341 - val_loss: 0.0336 - lr: 0.0010\n",
      "Epoch 4/100\n",
      "72/72 [==============================] - 2s 27ms/step - loss: 0.0322 - val_loss: 0.0317 - lr: 0.0010\n",
      "Epoch 5/100\n",
      "72/72 [==============================] - 2s 29ms/step - loss: 0.0311 - val_loss: 0.0307 - lr: 1.0000e-04\n",
      "Epoch 6/100\n",
      "72/72 [==============================] - 2s 28ms/step - loss: 0.0311 - val_loss: 0.0307 - lr: 1.0000e-04\n",
      "Epoch 7/100\n",
      "72/72 [==============================] - 2s 28ms/step - loss: 0.0310 - val_loss: 0.0307 - lr: 1.0000e-04\n",
      "Epoch 8/100\n",
      "72/72 [==============================] - 3s 35ms/step - loss: 0.0308 - val_loss: 0.0307 - lr: 1.0000e-05\n",
      "Epoch 9/100\n",
      "72/72 [==============================] - 2s 29ms/step - loss: 0.0308 - val_loss: 0.0307 - lr: 1.0000e-05\n",
      "Epoch 10/100\n",
      "72/72 [==============================] - 2s 29ms/step - loss: 0.0308 - val_loss: 0.0307 - lr: 1.0000e-05\n",
      "Epoch 11/100\n",
      "72/72 [==============================] - 2s 27ms/step - loss: 0.0308 - val_loss: 0.0307 - lr: 1.0000e-06\n",
      "Epoch 12/100\n",
      "72/72 [==============================] - 2s 27ms/step - loss: 0.0308 - val_loss: 0.0307 - lr: 1.0000e-06\n",
      "Epoch 13/100\n",
      "72/72 [==============================] - 2s 29ms/step - loss: 0.0308 - val_loss: 0.0307 - lr: 1.0000e-06\n",
      "Epoch 14/100\n",
      "72/72 [==============================] - 2s 28ms/step - loss: 0.0308 - val_loss: 0.0307 - lr: 1.0000e-07\n",
      "Epoch 15/100\n",
      "72/72 [==============================] - 2s 29ms/step - loss: 0.0308 - val_loss: 0.0307 - lr: 1.0000e-07\n",
      "Epoch 16/100\n",
      "72/72 [==============================] - 2s 28ms/step - loss: 0.0308 - val_loss: 0.0307 - lr: 1.0000e-07\n",
      "Epoch 17/100\n",
      "72/72 [==============================] - 2s 28ms/step - loss: 0.0308 - val_loss: 0.0307 - lr: 1.0000e-08\n"
     ]
    }
   ],
   "source": [
    "history_4_1 = model_4_1.fit(train_dataset,\n",
    "            validation_data=test_dataset,\n",
    "            epochs=100,\n",
    "            callbacks=[tf.keras.callbacks.ReduceLROnPlateau(monitor='val_loss',patience=3,min_delta=0.01),\n",
    "                       tf.keras.callbacks.EarlyStopping(monitor='val_loss',patience=7,restore_best_weights=True)])"
   ]
  },
  {
   "cell_type": "code",
   "execution_count": null,
   "metadata": {
    "colab": {
     "base_uri": "https://localhost:8080/",
     "height": 320
    },
    "id": "BzYuj5RSYTxD",
    "outputId": "2c3d0d65-53fc-453f-cb3b-85402c2a8dd4"
   },
   "outputs": [
    {
     "name": "stderr",
     "output_type": "stream",
     "text": [
      "/usr/local/lib/python3.7/dist-packages/keras/engine/functional.py:566: UserWarning: Input dict contained keys ['Origin', 'Time'] which did not match any model input. They will be ignored by the model.\n",
      "  inputs = self._flatten_to_reference_inputs(inputs)\n"
     ]
    },
    {
     "data": {
      "image/png": "[encoded data removed]",
      "text/plain": [
       "<Figure size 432x288 with 1 Axes>"
      ]
     },
     "metadata": {},
     "output_type": "display_data"
    }
   ],
   "source": [
    "y_t,y_p = get_act(model_4_1,test_dataset,[scaler.data_max_[11],scaler.data_min_[11]])\n",
    "plt.plot(y_t[-15:],label='y_true')\n",
    "plt.plot(y_p[-15:],label='y_pred')\n",
    "plt.legend()\n",
    "plt.show()"
   ]
  },
  {
   "cell_type": "code",
   "execution_count": null,
   "metadata": {
    "colab": {
     "base_uri": "https://localhost:8080/"
    },
    "id": "gIAb-Hl3r9pD",
    "outputId": "fcbd7986-a061-4bbd-9f6a-bfdbb750f3c0"
   },
   "outputs": [
    {
     "name": "stdout",
     "output_type": "stream",
     "text": [
      "Epoch 1/15\n",
      "18/18 [==============================] - 1s 36ms/step - loss: 0.0311\n",
      "Epoch 2/15\n",
      "18/18 [==============================] - 1s 41ms/step - loss: 0.0311\n",
      "Epoch 3/15\n",
      "18/18 [==============================] - 1s 44ms/step - loss: 0.0311\n",
      "Epoch 4/15\n",
      "18/18 [==============================] - 1s 69ms/step - loss: 0.0311\n",
      "Epoch 5/15\n",
      "18/18 [==============================] - 0s 23ms/step - loss: 0.0311\n",
      "Epoch 6/15\n",
      "18/18 [==============================] - 0s 25ms/step - loss: 0.0311\n",
      "Epoch 7/15\n",
      "18/18 [==============================] - 0s 23ms/step - loss: 0.0311\n",
      "Epoch 8/15\n",
      "18/18 [==============================] - 0s 24ms/step - loss: 0.0311\n",
      "Epoch 9/15\n",
      "18/18 [==============================] - 0s 24ms/step - loss: 0.0311\n",
      "Epoch 10/15\n",
      "18/18 [==============================] - 0s 24ms/step - loss: 0.0311\n",
      "Epoch 11/15\n",
      "18/18 [==============================] - 0s 24ms/step - loss: 0.0311\n",
      "Epoch 12/15\n",
      "18/18 [==============================] - 0s 22ms/step - loss: 0.0311\n",
      "Epoch 13/15\n",
      "18/18 [==============================] - 0s 23ms/step - loss: 0.0311\n",
      "Epoch 14/15\n",
      "18/18 [==============================] - 0s 23ms/step - loss: 0.0311\n",
      "Epoch 15/15\n",
      "18/18 [==============================] - 0s 23ms/step - loss: 0.0311\n"
     ]
    }
   ],
   "source": [
    "history_4_1_test = model_4_1.fit(test_dataset,\n",
    "              epochs=15)"
   ]
  },
  {
   "cell_type": "code",
   "execution_count": null,
   "metadata": {
    "id": "ryiwtaQYTgbZ"
   },
   "outputs": [],
   "source": []
  },
  {
   "cell_type": "markdown",
   "metadata": {
    "id": "rl94ZwngGODN"
   },
   "source": [
    "# Dataset 3: for N-Beats Algorithm"
   ]
  },
  {
   "cell_type": "code",
   "execution_count": null,
   "metadata": {
    "colab": {
     "base_uri": "https://localhost:8080/"
    },
    "id": "9YJDfoD8iN6v",
    "outputId": "ee2a0ca6-2a8a-40f1-e1b7-627b9b41c72c"
   },
   "outputs": [
    {
     "name": "stdout",
     "output_type": "stream",
     "text": [
      "Looking in indexes: https://pypi.org/simple, https://us-python.pkg.dev/colab-wheels/public/simple/\n",
      "Collecting yfinance\n",
      "  Downloading yfinance-0.1.87-py2.py3-none-any.whl (29 kB)\n",
      "Requirement already satisfied: pandas>=0.24.0 in /usr/local/lib/python3.7/dist-packages (from yfinance) (1.3.5)\n",
      "Requirement already satisfied: numpy>=1.15 in /usr/local/lib/python3.7/dist-packages (from yfinance) (1.21.6)\n",
      "Requirement already satisfied: multitasking>=0.0.7 in /usr/local/lib/python3.7/dist-packages (from yfinance) (0.0.11)\n",
      "Collecting requests>=2.26\n",
      "  Downloading requests-2.28.1-py3-none-any.whl (62 kB)\n",
      "\u001B[K     |████████████████████████████████| 62 kB 1.7 MB/s \n",
      "\u001B[?25hRequirement already satisfied: lxml>=4.5.1 in /usr/local/lib/python3.7/dist-packages (from yfinance) (4.9.1)\n",
      "Requirement already satisfied: appdirs>=1.4.4 in /usr/local/lib/python3.7/dist-packages (from yfinance) (1.4.4)\n",
      "Requirement already satisfied: pytz>=2017.3 in /usr/local/lib/python3.7/dist-packages (from pandas>=0.24.0->yfinance) (2022.6)\n",
      "Requirement already satisfied: python-dateutil>=2.7.3 in /usr/local/lib/python3.7/dist-packages (from pandas>=0.24.0->yfinance) (2.8.2)\n",
      "Requirement already satisfied: six>=1.5 in /usr/local/lib/python3.7/dist-packages (from python-dateutil>=2.7.3->pandas>=0.24.0->yfinance) (1.15.0)\n",
      "Requirement already satisfied: urllib3<1.27,>=1.21.1 in /usr/local/lib/python3.7/dist-packages (from requests>=2.26->yfinance) (1.24.3)\n",
      "Requirement already satisfied: charset-normalizer<3,>=2 in /usr/local/lib/python3.7/dist-packages (from requests>=2.26->yfinance) (2.1.1)\n",
      "Requirement already satisfied: idna<4,>=2.5 in /usr/local/lib/python3.7/dist-packages (from requests>=2.26->yfinance) (2.10)\n",
      "Requirement already satisfied: certifi>=2017.4.17 in /usr/local/lib/python3.7/dist-packages (from requests>=2.26->yfinance) (2022.9.24)\n",
      "Installing collected packages: requests, yfinance\n",
      "  Attempting uninstall: requests\n",
      "    Found existing installation: requests 2.23.0\n",
      "    Uninstalling requests-2.23.0:\n",
      "      Successfully uninstalled requests-2.23.0\n",
      "Successfully installed requests-2.28.1 yfinance-0.1.87\n"
     ]
    }
   ],
   "source": [
    "!python -m pip install yfinance"
   ]
  },
  {
   "cell_type": "code",
   "execution_count": null,
   "metadata": {
    "id": "5M5NYVVSiS7B"
   },
   "outputs": [],
   "source": [
    "import yfinance as yf"
   ]
  },
  {
   "cell_type": "code",
   "execution_count": null,
   "metadata": {
    "id": "8keTTpMwXy1T"
   },
   "outputs": [],
   "source": [
    "infy_prices = yf.download('INFY.NS',\n",
    "                          start='2011-01-01',\n",
    "                          end=pd.Timestamp.today())\n",
    "infy_close = infy_prices['Close']\n",
    "log_infy = np.log(infy_close)\n",
    "log_infy = log_infy.diff(1)"
   ]
  },
  {
   "cell_type": "code",
   "execution_count": null,
   "metadata": {
    "id": "Z8UecouyfwjI"
   },
   "outputs": [],
   "source": [
    "d_7 = pd.concat([log_infy.shift(i) for i in range(8)],axis=1)\n",
    "d_15 = pd.concat([log_infy.shift(i) for i in range(16)],axis=1)\n",
    "d_30 = pd.concat([log_infy.shift(i) for i in range(31)],axis=1)\n",
    "d_60 = pd.concat([log_infy.shift(i) for i in range(61)],axis=1)"
   ]
  },
  {
   "cell_type": "code",
   "execution_count": null,
   "metadata": {
    "id": "77Il1SnFiyqU"
   },
   "outputs": [],
   "source": [
    "d_7 = d_7.dropna()\n",
    "d_15 = d_15.dropna()\n",
    "d_30 = d_30.dropna()\n",
    "d_60 = d_60.dropna()"
   ]
  },
  {
   "cell_type": "code",
   "execution_count": null,
   "metadata": {
    "colab": {
     "base_uri": "https://localhost:8080/"
    },
    "id": "X7GTE2_dpvyI",
    "outputId": "c5e78127-1dfd-4835-aec1-ea90a4950e48"
   },
   "outputs": [
    {
     "data": {
      "text/plain": [
       "2863"
      ]
     },
     "execution_count": 8,
     "metadata": {},
     "output_type": "execute_result"
    }
   ],
   "source": [
    "len(d_60)"
   ]
  },
  {
   "cell_type": "code",
   "execution_count": null,
   "metadata": {
    "id": "QNAPluWVqESe"
   },
   "outputs": [],
   "source": [
    "in_t = ['t+1','t0']\n",
    "c_7 = in_t + [f't-{i}' for i in range(1,7)]\n",
    "c_15 = in_t + [f't-{i}' for i in range(1,15)]\n",
    "c_30 = in_t + [f't-{i}' for i in range(1,30)]\n",
    "c_60 = in_t + [f't-{i}' for i in range(1,60)]"
   ]
  },
  {
   "cell_type": "code",
   "execution_count": null,
   "metadata": {
    "id": "R4z4d7hqoj1F"
   },
   "outputs": [],
   "source": [
    "d_7 = d_7.loc[d_7.index >= d_60.index[0]]\n",
    "d_15 = d_15.loc[d_15.index >= d_60.index[0]]\n",
    "d_30 = d_30.loc[d_30.index >= d_60.index[0]]"
   ]
  },
  {
   "cell_type": "code",
   "execution_count": null,
   "metadata": {
    "id": "Zd2O4zxiq2WW"
   },
   "outputs": [],
   "source": [
    "d_7.columns = c_7\n",
    "d_15.columns = c_15\n",
    "d_30.columns = c_30\n",
    "d_60.columns = c_60"
   ]
  },
  {
   "cell_type": "code",
   "execution_count": null,
   "metadata": {
    "colab": {
     "base_uri": "https://localhost:8080/",
     "height": 238
    },
    "id": "T4mqqyi6Y0Cz",
    "outputId": "48252487-38f1-4bb6-bddf-331408df514a"
   },
   "outputs": [
    {
     "data": {
      "text/html": [
       "\n",
       "  <div id=\"df-dc6e7685-3c38-45ab-90fd-101a3b3574cc\">\n",
       "    <div class=\"colab-df-container\">\n",
       "      <div>\n",
       "<style scoped>\n",
       "    .dataframe tbody tr th:only-of-type {\n",
       "        vertical-align: middle;\n",
       "    }\n",
       "\n",
       "    .dataframe tbody tr th {\n",
       "        vertical-align: top;\n",
       "    }\n",
       "\n",
       "    .dataframe thead th {\n",
       "        text-align: right;\n",
       "    }\n",
       "</style>\n",
       "<table border=\"1\" class=\"dataframe\">\n",
       "  <thead>\n",
       "    <tr style=\"text-align: right;\">\n",
       "      <th></th>\n",
       "      <th>t+1</th>\n",
       "      <th>t0</th>\n",
       "      <th>t-1</th>\n",
       "      <th>t-2</th>\n",
       "      <th>t-3</th>\n",
       "      <th>t-4</th>\n",
       "      <th>t-5</th>\n",
       "      <th>t-6</th>\n",
       "    </tr>\n",
       "    <tr>\n",
       "      <th>Date</th>\n",
       "      <th></th>\n",
       "      <th></th>\n",
       "      <th></th>\n",
       "      <th></th>\n",
       "      <th></th>\n",
       "      <th></th>\n",
       "      <th></th>\n",
       "      <th></th>\n",
       "    </tr>\n",
       "  </thead>\n",
       "  <tbody>\n",
       "    <tr>\n",
       "      <th>2011-03-31</th>\n",
       "      <td>0.021959</td>\n",
       "      <td>-0.000772</td>\n",
       "      <td>0.010708</td>\n",
       "      <td>-0.007457</td>\n",
       "      <td>0.051992</td>\n",
       "      <td>0.003152</td>\n",
       "      <td>0.016947</td>\n",
       "      <td>0.007075</td>\n",
       "    </tr>\n",
       "    <tr>\n",
       "      <th>2011-04-01</th>\n",
       "      <td>-0.007168</td>\n",
       "      <td>0.021959</td>\n",
       "      <td>-0.000772</td>\n",
       "      <td>0.010708</td>\n",
       "      <td>-0.007457</td>\n",
       "      <td>0.051992</td>\n",
       "      <td>0.003152</td>\n",
       "      <td>0.016947</td>\n",
       "    </tr>\n",
       "    <tr>\n",
       "      <th>2011-04-04</th>\n",
       "      <td>0.019997</td>\n",
       "      <td>-0.007168</td>\n",
       "      <td>0.021959</td>\n",
       "      <td>-0.000772</td>\n",
       "      <td>0.010708</td>\n",
       "      <td>-0.007457</td>\n",
       "      <td>0.051992</td>\n",
       "      <td>0.003152</td>\n",
       "    </tr>\n",
       "    <tr>\n",
       "      <th>2011-04-05</th>\n",
       "      <td>0.000030</td>\n",
       "      <td>0.019997</td>\n",
       "      <td>-0.007168</td>\n",
       "      <td>0.021959</td>\n",
       "      <td>-0.000772</td>\n",
       "      <td>0.010708</td>\n",
       "      <td>-0.007457</td>\n",
       "      <td>0.051992</td>\n",
       "    </tr>\n",
       "    <tr>\n",
       "      <th>2011-04-06</th>\n",
       "      <td>-0.002470</td>\n",
       "      <td>0.000030</td>\n",
       "      <td>0.019997</td>\n",
       "      <td>-0.007168</td>\n",
       "      <td>0.021959</td>\n",
       "      <td>-0.000772</td>\n",
       "      <td>0.010708</td>\n",
       "      <td>-0.007457</td>\n",
       "    </tr>\n",
       "  </tbody>\n",
       "</table>\n",
       "</div>\n",
       "      <button class=\"colab-df-convert\" onclick=\"convertToInteractive('df-dc6e7685-3c38-45ab-90fd-101a3b3574cc')\"\n",
       "              title=\"Convert this dataframe to an interactive table.\"\n",
       "              style=\"display:none;\">\n",
       "        \n",
       "  <svg xmlns=\"http://www.w3.org/2000/svg\" height=\"24px\"viewBox=\"0 0 24 24\"\n",
       "       width=\"24px\">\n",
       "    <path d=\"M0 0h24v24H0V0z\" fill=\"none\"/>\n",
       "    <path d=\"M18.56 5.44l.94 2.06.94-2.06 2.06-.94-2.06-.94-.94-2.06-.94 2.06-2.06.94zm-11 1L8.5 8.5l.94-2.06 2.06-.94-2.06-.94L8.5 2.5l-.94 2.06-2.06.94zm10 10l.94 2.06.94-2.06 2.06-.94-2.06-.94-.94-2.06-.94 2.06-2.06.94z\"/><path d=\"M17.41 7.96l-1.37-1.37c-.4-.4-.92-.59-1.43-.59-.52 0-1.04.2-1.43.59L10.3 9.45l-7.72 7.72c-.78.78-.78 2.05 0 2.83L4 21.41c.39.39.9.59 1.41.59.51 0 1.02-.2 1.41-.59l7.78-7.78 2.81-2.81c.8-.78.8-2.07 0-2.86zM5.41 20L4 18.59l7.72-7.72 1.47 1.35L5.41 20z\"/>\n",
       "  </svg>\n",
       "      </button>\n",
       "      \n",
       "  <style>\n",
       "    .colab-df-container {\n",
       "      display:flex;\n",
       "      flex-wrap:wrap;\n",
       "      gap: 12px;\n",
       "    }\n",
       "\n",
       "    .colab-df-convert {\n",
       "      background-color: #E8F0FE;\n",
       "      border: none;\n",
       "      border-radius: 50%;\n",
       "      cursor: pointer;\n",
       "      display: none;\n",
       "      fill: #1967D2;\n",
       "      height: 32px;\n",
       "      padding: 0 0 0 0;\n",
       "      width: 32px;\n",
       "    }\n",
       "\n",
       "    .colab-df-convert:hover {\n",
       "      background-color: #E2EBFA;\n",
       "      box-shadow: 0px 1px 2px rgba(60, 64, 67, 0.3), 0px 1px 3px 1px rgba(60, 64, 67, 0.15);\n",
       "      fill: #174EA6;\n",
       "    }\n",
       "\n",
       "    [theme=dark] .colab-df-convert {\n",
       "      background-color: #3B4455;\n",
       "      fill: #D2E3FC;\n",
       "    }\n",
       "\n",
       "    [theme=dark] .colab-df-convert:hover {\n",
       "      background-color: #434B5C;\n",
       "      box-shadow: 0px 1px 3px 1px rgba(0, 0, 0, 0.15);\n",
       "      filter: drop-shadow(0px 1px 2px rgba(0, 0, 0, 0.3));\n",
       "      fill: #FFFFFF;\n",
       "    }\n",
       "  </style>\n",
       "\n",
       "      <script>\n",
       "        const buttonEl =\n",
       "          document.querySelector('#df-dc6e7685-3c38-45ab-90fd-101a3b3574cc button.colab-df-convert');\n",
       "        buttonEl.style.display =\n",
       "          google.colab.kernel.accessAllowed ? 'block' : 'none';\n",
       "\n",
       "        async function convertToInteractive(key) {\n",
       "          const element = document.querySelector('#df-dc6e7685-3c38-45ab-90fd-101a3b3574cc');\n",
       "          const dataTable =\n",
       "            await google.colab.kernel.invokeFunction('convertToInteractive',\n",
       "                                                     [key], {});\n",
       "          if (!dataTable) return;\n",
       "\n",
       "          const docLinkHtml = 'Like what you see? Visit the ' +\n",
       "            '<a target=\"_blank\" href=https://colab.research.google.com/notebooks/data_table.ipynb>data table notebook</a>'\n",
       "            + ' to learn more about interactive tables.';\n",
       "          element.innerHTML = '';\n",
       "          dataTable['output_type'] = 'display_data';\n",
       "          await google.colab.output.renderOutput(dataTable, element);\n",
       "          const docLink = document.createElement('div');\n",
       "          docLink.innerHTML = docLinkHtml;\n",
       "          element.appendChild(docLink);\n",
       "        }\n",
       "      </script>\n",
       "    </div>\n",
       "  </div>\n",
       "  "
      ],
      "text/plain": [
       "                 t+1        t0       t-1       t-2       t-3       t-4  \\\n",
       "Date                                                                     \n",
       "2011-03-31  0.021959 -0.000772  0.010708 -0.007457  0.051992  0.003152   \n",
       "2011-04-01 -0.007168  0.021959 -0.000772  0.010708 -0.007457  0.051992   \n",
       "2011-04-04  0.019997 -0.007168  0.021959 -0.000772  0.010708 -0.007457   \n",
       "2011-04-05  0.000030  0.019997 -0.007168  0.021959 -0.000772  0.010708   \n",
       "2011-04-06 -0.002470  0.000030  0.019997 -0.007168  0.021959 -0.000772   \n",
       "\n",
       "                 t-5       t-6  \n",
       "Date                            \n",
       "2011-03-31  0.016947  0.007075  \n",
       "2011-04-01  0.003152  0.016947  \n",
       "2011-04-04  0.051992  0.003152  \n",
       "2011-04-05 -0.007457  0.051992  \n",
       "2011-04-06  0.010708 -0.007457  "
      ]
     },
     "execution_count": 81,
     "metadata": {},
     "output_type": "execute_result"
    }
   ],
   "source": [
    "d_7.head()"
   ]
  },
  {
   "cell_type": "code",
   "execution_count": null,
   "metadata": {
    "id": "q54_hbIlWtdz"
   },
   "outputs": [],
   "source": [
    "latest_d_7 = d_7.reindex(columns=d_7.columns[::-1])[-1:].drop('t-6',axis=1)\n",
    "latest_d_15 = d_15.reindex(columns=d_15.columns[::-1])[-1:].drop('t-14',axis=1)\n",
    "latest_d_30 = d_30.reindex(columns=d_30.columns[::-1])[-1:].drop('t-29',axis=1)\n",
    "latest_d_60 = d_60.reindex(columns=d_60.columns[::-1])[-1:].drop('t-59',axis=1)"
   ]
  },
  {
   "cell_type": "code",
   "execution_count": null,
   "metadata": {
    "id": "uMlwYEcgsyTY"
   },
   "outputs": [],
   "source": [
    "y = d_7.pop('t+1')\n",
    "d_15 = d_15.drop(['t+1'],axis=1)\n",
    "d_30 = d_30.drop(['t+1'],axis=1)\n",
    "d_60 = d_60.drop(['t+1'],axis=1)"
   ]
  },
  {
   "cell_type": "code",
   "execution_count": null,
   "metadata": {
    "id": "zjv36eXTtxIM"
   },
   "outputs": [],
   "source": [
    "d_7 = d_7.reindex(columns=list(reversed(list(d_7.columns))))\n",
    "d_15 = d_15.reindex(columns=list(reversed(list(d_15.columns))))\n",
    "d_30 = d_30.reindex(columns=list(reversed(list(d_30.columns))))\n",
    "d_60 = d_60.reindex(columns=list(reversed(list(d_60.columns))))"
   ]
  },
  {
   "cell_type": "code",
   "execution_count": null,
   "metadata": {
    "id": "waWBobmKeqmq"
   },
   "outputs": [],
   "source": [
    "train_len = int(0.8*len(y))"
   ]
  },
  {
   "cell_type": "code",
   "execution_count": null,
   "metadata": {
    "id": "Ej5PTHSBwyyY"
   },
   "outputs": [],
   "source": [
    "y_train = tf.data.Dataset.from_tensor_slices(y[:2290].to_numpy())\n",
    "y_test = tf.data.Dataset.from_tensor_slices(y[2290:].to_numpy())\n",
    "\n",
    "x_train = tf.data.Dataset.from_tensor_slices({'d_7': d_7[:train_len].to_numpy(),\n",
    "                                              'd_15': d_15[:train_len].to_numpy(),\n",
    "                                              'd_30': d_30[:train_len].to_numpy(),\n",
    "                                              'd_60': d_60[:train_len].to_numpy()})\n",
    "x_test = tf.data.Dataset.from_tensor_slices({'d_7': d_7[train_len:].to_numpy(),\n",
    "                                             'd_15': d_15[train_len:].to_numpy(),\n",
    "                                             'd_30': d_30[train_len:].to_numpy(),\n",
    "                                             'd_60': d_60[train_len:].to_numpy()})\n",
    "\n",
    "train_dataset = tf.data.Dataset.zip((x_train,y_train))\n",
    "test_dataset = tf.data.Dataset.zip((x_test,y_test))"
   ]
  },
  {
   "cell_type": "code",
   "execution_count": null,
   "metadata": {
    "colab": {
     "base_uri": "https://localhost:8080/"
    },
    "id": "ScpZ81at5QVP",
    "outputId": "979a5f57-51c0-45ba-8061-ea3c0dbf31aa"
   },
   "outputs": [
    {
     "name": "stdout",
     "output_type": "stream",
     "text": [
      "tf.Tensor(0.016277356847815838, shape=(), dtype=float64)\n"
     ]
    }
   ],
   "source": [
    "for i in y_test.take(1):\n",
    "  print(i)"
   ]
  },
  {
   "cell_type": "code",
   "execution_count": null,
   "metadata": {
    "id": "tDVStGLbyaSX"
   },
   "outputs": [],
   "source": [
    "train_dataset = train_dataset.batch(32).prefetch(tf.data.AUTOTUNE)\n",
    "test_dataset = test_dataset.batch(32).prefetch(tf.data.AUTOTUNE)"
   ]
  },
  {
   "cell_type": "code",
   "execution_count": null,
   "metadata": {
    "colab": {
     "base_uri": "https://localhost:8080/"
    },
    "id": "ITcJ3E8AyuFO",
    "outputId": "a66afdd9-07f1-4173-f967-34c6e8bc1eeb"
   },
   "outputs": [
    {
     "name": "stdout",
     "output_type": "stream",
     "text": [
      "tf.Tensor(\n",
      "[-0.00169745 -0.01183256  0.01524073 -0.02304807  0.00024748 -0.01737263\n",
      " -0.01270325 -0.0064127   0.00707548  0.01694672  0.00315201  0.05199156\n",
      " -0.00745727  0.01070835 -0.00077241], shape=(15,), dtype=float64)\n"
     ]
    }
   ],
   "source": [
    "for i in train_dataset:\n",
    "  print(i[0]['d_15'][0])\n",
    "  break"
   ]
  },
  {
   "cell_type": "markdown",
   "metadata": {
    "id": "C1M6w6wzXWms"
   },
   "source": [
    "## Model 1"
   ]
  },
  {
   "cell_type": "code",
   "execution_count": null,
   "metadata": {
    "id": "LYnXgx2cGUkB"
   },
   "outputs": [],
   "source": [
    "# Create custom N-Beats layer\n",
    "class NBeatsBlock(tf.keras.layers.Layer):\n",
    "  def __init__(self,\n",
    "               input_size: int,\n",
    "               theta_size: int,\n",
    "               horizon: int,\n",
    "               n_neurons: int,\n",
    "               n_layers: int,\n",
    "               **kwargs):\n",
    "    super().__init__(**kwargs)\n",
    "    self.input_size = input_size\n",
    "    self.theta_size = theta_size\n",
    "    self.horizon = horizon\n",
    "    self.n_neurons = n_neurons\n",
    "    self.n_layers = n_layers\n",
    "\n",
    "    self.hidden = [tf.keras.layers.Dense(self.n_neurons,activation='relu') for _ in range(self.n_layers)]\n",
    "\n",
    "    self.theta_layer = tf.keras.layers.Dense(self.theta_size,activation='linear')\n",
    "\n",
    "  def call(self,inputs):\n",
    "    x = inputs\n",
    "    for layer in self.hidden:\n",
    "      x = layer(x)\n",
    "\n",
    "    theta = self.theta_layer(x)\n",
    "\n",
    "    backcast, forecast = theta[...,:self.input_size],theta[...,-self.horizon:]\n",
    "\n",
    "    return backcast,forecast\n",
    "\n",
    "\n"
   ]
  },
  {
   "cell_type": "code",
   "execution_count": null,
   "metadata": {
    "id": "dlhwahUfLBwc"
   },
   "outputs": [],
   "source": [
    "def stack(s_inputs,n_blocks,**kwargs):\n",
    "  x = s_inputs\n",
    "  fcs = []\n",
    "  for j in range(n_blocks):\n",
    "    bc,fc = NBeatsBlock(**kwargs)(x)\n",
    "    x = tf.keras.layers.subtract([x,bc])\n",
    "\n",
    "    fcs.append(fc)\n",
    "\n",
    "  b_o = tf.keras.layers.add(fcs)\n",
    "\n",
    "  return x,b_o\n",
    "\n",
    "\n",
    "def make_stacks(inputs,n_stacks,**kwargs):\n",
    "  x = inputs\n",
    "  forecast_layers = []\n",
    "\n",
    "  for i in range(n_stacks):\n",
    "    backcast,forecast = stack(s_inputs=x,**kwargs)\n",
    "    x = backcast\n",
    "    forecast_layers.append(forecast)\n",
    "\n",
    "  op = tf.keras.layers.add(forecast_layers)\n",
    "\n",
    "  outputs = tf.keras.layers.Flatten()(op)\n",
    "  return outputs\n",
    "\n"
   ]
  },
  {
   "cell_type": "code",
   "execution_count": null,
   "metadata": {
    "id": "1MOumGY5Oo74"
   },
   "outputs": [],
   "source": [
    "n_stacks = 10\n",
    "n_blocks = 5\n",
    "N_NEURONS = 512\n",
    "N_LAYERS = 4"
   ]
  },
  {
   "cell_type": "code",
   "execution_count": null,
   "metadata": {
    "id": "nOyHXdt8MR4M"
   },
   "outputs": [],
   "source": [
    "# We will make windows of 7, 15, 30, 60 and horizon of 1\n",
    "inp_7 = tf.keras.layers.Input(shape=(7,))\n",
    "inp_15 = tf.keras.layers.Input(shape=(15,))\n",
    "inp_30 = tf.keras.layers.Input(shape=(30,))\n",
    "inp_60 = tf.keras.layers.Input(shape=(60,))\n",
    "\n",
    "N_mod_7 = make_stacks(inputs=inp_7,n_stacks=n_stacks,n_blocks=n_blocks,\n",
    "                      input_size=7,theta_size=8,\n",
    "                      horizon=1,n_neurons=N_NEURONS,\n",
    "                      n_layers=N_LAYERS)\n",
    "N_mod_15 = make_stacks(inputs=inp_15,n_stacks=n_stacks,n_blocks=n_blocks,\n",
    "                       input_size=15,theta_size=16,\n",
    "                       horizon=1,n_neurons=N_NEURONS,\n",
    "                       n_layers=N_LAYERS)\n",
    "N_mod_30 = make_stacks(inputs=inp_30,n_stacks=n_stacks,n_blocks=n_blocks,\n",
    "                       input_size=30,theta_size=31,\n",
    "                       horizon=1,n_neurons=N_NEURONS,\n",
    "                       n_layers=N_LAYERS)\n",
    "N_mod_60 = make_stacks(inputs=inp_60,n_stacks=n_stacks,n_blocks=n_blocks,\n",
    "                       input_size=60,theta_size=61,\n",
    "                       horizon=1,n_neurons=N_NEURONS,\n",
    "                       n_layers=N_LAYERS)\n",
    "\n",
    "f_out = tf.keras.layers.Average()([N_mod_7,N_mod_15,N_mod_30,N_mod_60])\n",
    "\n",
    "model_1 = tf.keras.Model(inputs={'d_7':inp_7,'d_15':inp_15,'d_30': inp_30,'d_60':inp_60},outputs=f_out)"
   ]
  },
  {
   "cell_type": "code",
   "execution_count": null,
   "metadata": {
    "id": "N6U4fZ4PXFOE"
   },
   "outputs": [],
   "source": [
    "model_1.compile(loss='mae',\n",
    "                optimizer='adam')"
   ]
  },
  {
   "cell_type": "code",
   "execution_count": null,
   "metadata": {
    "colab": {
     "base_uri": "https://localhost:8080/"
    },
    "id": "MDRrT0U9XJl-",
    "outputId": "1023d8ff-c499-4bf8-e9de-acbe4efc38cb"
   },
   "outputs": [
    {
     "name": "stdout",
     "output_type": "stream",
     "text": [
      "Epoch 1/15\n",
      "72/72 [==============================] - 75s 301ms/step - loss: 0.7777 - val_loss: 0.0243\n",
      "Epoch 2/15\n",
      "72/72 [==============================] - 14s 190ms/step - loss: 0.0357 - val_loss: 0.0653\n",
      "Epoch 3/15\n",
      "72/72 [==============================] - 13s 175ms/step - loss: 0.0223 - val_loss: 0.0121\n",
      "Epoch 4/15\n",
      "72/72 [==============================] - 13s 174ms/step - loss: 0.0220 - val_loss: 0.0310\n",
      "Epoch 5/15\n",
      "72/72 [==============================] - 13s 176ms/step - loss: 0.0220 - val_loss: 0.0195\n",
      "Epoch 6/15\n",
      "72/72 [==============================] - 13s 174ms/step - loss: 0.0322 - val_loss: 0.0236\n",
      "Epoch 7/15\n",
      "72/72 [==============================] - 13s 183ms/step - loss: 0.0192 - val_loss: 0.0130\n",
      "Epoch 8/15\n",
      "72/72 [==============================] - 12s 173ms/step - loss: 0.0148 - val_loss: 0.0128\n",
      "Epoch 9/15\n",
      "72/72 [==============================] - 13s 174ms/step - loss: 0.0170 - val_loss: 0.0141\n",
      "Epoch 10/15\n",
      "72/72 [==============================] - 13s 175ms/step - loss: 0.0143 - val_loss: 0.0276\n",
      "Epoch 11/15\n",
      "72/72 [==============================] - 14s 188ms/step - loss: 0.0180 - val_loss: 0.0215\n",
      "Epoch 12/15\n",
      "72/72 [==============================] - 12s 168ms/step - loss: 0.0171 - val_loss: 0.0122\n",
      "Epoch 13/15\n",
      "72/72 [==============================] - 12s 169ms/step - loss: 0.0184 - val_loss: 0.0256\n",
      "Epoch 14/15\n",
      "72/72 [==============================] - 12s 168ms/step - loss: 0.0168 - val_loss: 0.0126\n",
      "Epoch 15/15\n",
      "72/72 [==============================] - 14s 190ms/step - loss: 0.0157 - val_loss: 0.0250\n"
     ]
    }
   ],
   "source": [
    "history_1 = model_1.fit(train_dataset,\n",
    "            validation_data=test_dataset,\n",
    "            epochs=15)"
   ]
  },
  {
   "cell_type": "code",
   "execution_count": null,
   "metadata": {
    "colab": {
     "base_uri": "https://localhost:8080/",
     "height": 282
    },
    "id": "KC0AR3uCE609",
    "outputId": "80965bb6-5674-47f6-af1d-ae23959764f3"
   },
   "outputs": [
    {
     "data": {
      "text/plain": [
       "<matplotlib.axes._subplots.AxesSubplot at 0x7f779c3ff510>"
      ]
     },
     "execution_count": 111,
     "metadata": {},
     "output_type": "execute_result"
    },
    {
     "data": {
      "image/png": "[encoded data removed]",
      "text/plain": [
       "<Figure size 432x288 with 1 Axes>"
      ]
     },
     "metadata": {},
     "output_type": "display_data"
    }
   ],
   "source": [
    "pd.DataFrame(history_1.history).plot()"
   ]
  },
  {
   "cell_type": "code",
   "execution_count": null,
   "metadata": {
    "colab": {
     "base_uri": "https://localhost:8080/"
    },
    "id": "EXT7qhOk5GYe",
    "outputId": "927fdc03-2b0d-468b-a547-1d87294272da"
   },
   "outputs": [
    {
     "data": {
      "text/plain": [
       "Date\n",
       "2011-03-31    0.021959\n",
       "2011-04-01   -0.007168\n",
       "2011-04-04    0.019997\n",
       "2011-04-05    0.000030\n",
       "2011-04-06   -0.002470\n",
       "                ...   \n",
       "2022-11-17   -0.009655\n",
       "2022-11-18    0.003773\n",
       "2022-11-21   -0.015942\n",
       "2022-11-22    0.010688\n",
       "2022-11-23   -0.001199\n",
       "Name: t+1, Length: 2871, dtype: float64"
      ]
     },
     "execution_count": 94,
     "metadata": {},
     "output_type": "execute_result"
    }
   ],
   "source": [
    "y"
   ]
  },
  {
   "cell_type": "code",
   "execution_count": null,
   "metadata": {
    "id": "ROTeTItJH72O"
   },
   "outputs": [],
   "source": [
    "lg_infy = np.log(infy_close)"
   ]
  },
  {
   "cell_type": "code",
   "execution_count": null,
   "metadata": {
    "id": "gXFQ8hGkI3uI"
   },
   "outputs": [],
   "source": [
    "lg_infy = lg_infy[60:]"
   ]
  },
  {
   "cell_type": "code",
   "execution_count": null,
   "metadata": {
    "id": "eZ8gH6D9JGdO"
   },
   "outputs": [],
   "source": [
    "test_lg_infy = lg_infy[train_len:]"
   ]
  },
  {
   "cell_type": "code",
   "execution_count": null,
   "metadata": {
    "colab": {
     "base_uri": "https://localhost:8080/"
    },
    "id": "21gplEBrJ41n",
    "outputId": "0082d6aa-1a04-4c9f-b74d-537a9617284c"
   },
   "outputs": [
    {
     "name": "stdout",
     "output_type": "stream",
     "text": [
      "-0.009464915913597771\n"
     ]
    }
   ],
   "source": [
    "n = 1\n",
    "print(test_lg_infy[n] - test_lg_infy[n-1])"
   ]
  },
  {
   "cell_type": "code",
   "execution_count": null,
   "metadata": {
    "id": "hA1bB2DddPYk"
   },
   "outputs": [],
   "source": [
    "s = 0\n",
    "for i in test_dataset:\n",
    "  s += len(i[1])"
   ]
  },
  {
   "cell_type": "code",
   "execution_count": null,
   "metadata": {
    "id": "_tc2rQqMKC8u"
   },
   "outputs": [],
   "source": [
    "x_test = test_dataset.unbatch()"
   ]
  },
  {
   "cell_type": "code",
   "execution_count": null,
   "metadata": {
    "id": "toQ47tM2MRN-"
   },
   "outputs": [],
   "source": [
    "x_test = x_test.batch(s)"
   ]
  },
  {
   "cell_type": "code",
   "execution_count": null,
   "metadata": {
    "id": "47gnvMllMcbi"
   },
   "outputs": [],
   "source": [
    "for i in x_test:\n",
    "  x = i[0]\n",
    "  y = i[1]\n",
    "  y_pred = model_1(x,training=False)"
   ]
  },
  {
   "cell_type": "code",
   "execution_count": null,
   "metadata": {
    "colab": {
     "base_uri": "https://localhost:8080/"
    },
    "id": "BZrKZ5Mr3y4L",
    "outputId": "4aef19a2-50f8-49fa-c301-ec0451bec80b"
   },
   "outputs": [
    {
     "data": {
      "text/plain": [
       "575"
      ]
     },
     "execution_count": 105,
     "metadata": {},
     "output_type": "execute_result"
    }
   ],
   "source": [
    "len(y)"
   ]
  },
  {
   "cell_type": "code",
   "execution_count": null,
   "metadata": {
    "colab": {
     "base_uri": "https://localhost:8080/",
     "height": 268
    },
    "id": "t6dDhcUNM5Ns",
    "outputId": "c63df1ed-1bd5-42ee-dc9b-dfaab0c4062e"
   },
   "outputs": [
    {
     "data": {
      "image/png": "[encoded data removed]",
      "text/plain": [
       "<Figure size 432x288 with 1 Axes>"
      ]
     },
     "metadata": {},
     "output_type": "display_data"
    }
   ],
   "source": [
    "n = 550\n",
    "m = 15\n",
    "plt.plot(np.e**(test_lg_infy[:-1] + y)[n:n+m],label='Y')\n",
    "plt.plot(np.e**(test_lg_infy[:-1] + tf.squeeze(y_pred))[n:n+m],label='Y_pred')\n",
    "plt.legend()\n",
    "plt.show()"
   ]
  },
  {
   "cell_type": "code",
   "execution_count": null,
   "metadata": {
    "colab": {
     "base_uri": "https://localhost:8080/"
    },
    "id": "5nh0OyvHnPsS",
    "outputId": "cd847519-87b1-4f6c-c48a-be16332d3eea"
   },
   "outputs": [
    {
     "data": {
      "text/plain": [
       "3054073.4313080795"
      ]
     },
     "execution_count": 66,
     "metadata": {},
     "output_type": "execute_result"
    }
   ],
   "source": [
    "np.e**(test_lg_infy + tf.squeeze(y_pred))[-1]"
   ]
  },
  {
   "cell_type": "code",
   "execution_count": null,
   "metadata": {
    "id": "oE-BdTszKxFV"
   },
   "outputs": [],
   "source": [
    "x_test = x_test.batch(1)"
   ]
  },
  {
   "cell_type": "code",
   "execution_count": null,
   "metadata": {
    "colab": {
     "base_uri": "https://localhost:8080/",
     "height": 400
    },
    "id": "WUSUatU3LCp0",
    "outputId": "045aafde-adcf-4860-9921-0e1114b53f4a"
   },
   "outputs": [
    {
     "ename": "KeyboardInterrupt",
     "evalue": "ignored",
     "output_type": "error",
     "traceback": [
      "\u001B[0;31m---------------------------------------------------------------------------\u001B[0m",
      "\u001B[0;31mKeyboardInterrupt\u001B[0m                         Traceback (most recent call last)",
      "\u001B[0;32m/usr/local/lib/python3.7/dist-packages/IPython/core/interactiveshell.py\u001B[0m in \u001B[0;36mrun_code\u001B[0;34m(self, code_obj, result, async_)\u001B[0m\n\u001B[1;32m   3325\u001B[0m                 \u001B[0;32melse\u001B[0m\u001B[0;34m:\u001B[0m\u001B[0;34m\u001B[0m\u001B[0;34m\u001B[0m\u001B[0m\n\u001B[0;32m-> 3326\u001B[0;31m                     \u001B[0mexec\u001B[0m\u001B[0;34m(\u001B[0m\u001B[0mcode_obj\u001B[0m\u001B[0;34m,\u001B[0m \u001B[0mself\u001B[0m\u001B[0;34m.\u001B[0m\u001B[0muser_global_ns\u001B[0m\u001B[0;34m,\u001B[0m \u001B[0mself\u001B[0m\u001B[0;34m.\u001B[0m\u001B[0muser_ns\u001B[0m\u001B[0;34m)\u001B[0m\u001B[0;34m\u001B[0m\u001B[0;34m\u001B[0m\u001B[0m\n\u001B[0m\u001B[1;32m   3327\u001B[0m             \u001B[0;32mfinally\u001B[0m\u001B[0;34m:\u001B[0m\u001B[0;34m\u001B[0m\u001B[0;34m\u001B[0m\u001B[0m\n",
      "\u001B[0;32m<ipython-input-60-0a680bc84a50>\u001B[0m in \u001B[0;36m<module>\u001B[0;34m\u001B[0m\n\u001B[1;32m      5\u001B[0m   \u001B[0my\u001B[0m \u001B[0;34m=\u001B[0m \u001B[0mi\u001B[0m\u001B[0;34m[\u001B[0m\u001B[0;36m1\u001B[0m\u001B[0;34m]\u001B[0m\u001B[0;34m\u001B[0m\u001B[0;34m\u001B[0m\u001B[0m\n\u001B[0;32m----> 6\u001B[0;31m   \u001B[0my_pred\u001B[0m \u001B[0;34m=\u001B[0m \u001B[0mmodel_1\u001B[0m\u001B[0;34m(\u001B[0m\u001B[0mx\u001B[0m\u001B[0;34m,\u001B[0m\u001B[0mtraining\u001B[0m\u001B[0;34m=\u001B[0m\u001B[0;32mFalse\u001B[0m\u001B[0;34m)\u001B[0m\u001B[0;34m\u001B[0m\u001B[0;34m\u001B[0m\u001B[0m\n\u001B[0m\u001B[1;32m      7\u001B[0m \u001B[0;34m\u001B[0m\u001B[0m\n",
      "\u001B[0;32m/usr/local/lib/python3.7/dist-packages/keras/utils/traceback_utils.py\u001B[0m in \u001B[0;36merror_handler\u001B[0;34m(*args, **kwargs)\u001B[0m\n\u001B[1;32m     63\u001B[0m     \u001B[0;32mtry\u001B[0m\u001B[0;34m:\u001B[0m\u001B[0;34m\u001B[0m\u001B[0;34m\u001B[0m\u001B[0m\n\u001B[0;32m---> 64\u001B[0;31m       \u001B[0;32mreturn\u001B[0m \u001B[0mfn\u001B[0m\u001B[0;34m(\u001B[0m\u001B[0;34m*\u001B[0m\u001B[0margs\u001B[0m\u001B[0;34m,\u001B[0m \u001B[0;34m**\u001B[0m\u001B[0mkwargs\u001B[0m\u001B[0;34m)\u001B[0m\u001B[0;34m\u001B[0m\u001B[0;34m\u001B[0m\u001B[0m\n\u001B[0m\u001B[1;32m     65\u001B[0m     \u001B[0;32mexcept\u001B[0m \u001B[0mException\u001B[0m \u001B[0;32mas\u001B[0m \u001B[0me\u001B[0m\u001B[0;34m:\u001B[0m  \u001B[0;31m# pylint: disable=broad-except\u001B[0m\u001B[0;34m\u001B[0m\u001B[0;34m\u001B[0m\u001B[0m\n",
      "\u001B[0;32m/usr/local/lib/python3.7/dist-packages/keras/engine/training.py\u001B[0m in \u001B[0;36m__call__\u001B[0;34m(self, *args, **kwargs)\u001B[0m\n\u001B[1;32m    489\u001B[0m \u001B[0;34m\u001B[0m\u001B[0m\n\u001B[0;32m--> 490\u001B[0;31m     \u001B[0;32mreturn\u001B[0m \u001B[0msuper\u001B[0m\u001B[0;34m(\u001B[0m\u001B[0;34m)\u001B[0m\u001B[0;34m.\u001B[0m\u001B[0m__call__\u001B[0m\u001B[0;34m(\u001B[0m\u001B[0;34m*\u001B[0m\u001B[0margs\u001B[0m\u001B[0;34m,\u001B[0m \u001B[0;34m**\u001B[0m\u001B[0mkwargs\u001B[0m\u001B[0;34m)\u001B[0m\u001B[0;34m\u001B[0m\u001B[0;34m\u001B[0m\u001B[0m\n\u001B[0m\u001B[1;32m    491\u001B[0m \u001B[0;34m\u001B[0m\u001B[0m\n",
      "\u001B[0;32m/usr/local/lib/python3.7/dist-packages/keras/utils/traceback_utils.py\u001B[0m in \u001B[0;36merror_handler\u001B[0;34m(*args, **kwargs)\u001B[0m\n\u001B[1;32m     63\u001B[0m     \u001B[0;32mtry\u001B[0m\u001B[0;34m:\u001B[0m\u001B[0;34m\u001B[0m\u001B[0;34m\u001B[0m\u001B[0m\n\u001B[0;32m---> 64\u001B[0;31m       \u001B[0;32mreturn\u001B[0m \u001B[0mfn\u001B[0m\u001B[0;34m(\u001B[0m\u001B[0;34m*\u001B[0m\u001B[0margs\u001B[0m\u001B[0;34m,\u001B[0m \u001B[0;34m**\u001B[0m\u001B[0mkwargs\u001B[0m\u001B[0;34m)\u001B[0m\u001B[0;34m\u001B[0m\u001B[0;34m\u001B[0m\u001B[0m\n\u001B[0m\u001B[1;32m     65\u001B[0m     \u001B[0;32mexcept\u001B[0m \u001B[0mException\u001B[0m \u001B[0;32mas\u001B[0m \u001B[0me\u001B[0m\u001B[0;34m:\u001B[0m  \u001B[0;31m# pylint: disable=broad-except\u001B[0m\u001B[0;34m\u001B[0m\u001B[0;34m\u001B[0m\u001B[0m\n",
      "\u001B[0;32m/usr/local/lib/python3.7/dist-packages/keras/engine/base_layer.py\u001B[0m in \u001B[0;36m__call__\u001B[0;34m(self, *args, **kwargs)\u001B[0m\n\u001B[1;32m   1013\u001B[0m             self._compute_dtype_object):\n\u001B[0;32m-> 1014\u001B[0;31m           \u001B[0moutputs\u001B[0m \u001B[0;34m=\u001B[0m \u001B[0mcall_fn\u001B[0m\u001B[0;34m(\u001B[0m\u001B[0minputs\u001B[0m\u001B[0;34m,\u001B[0m \u001B[0;34m*\u001B[0m\u001B[0margs\u001B[0m\u001B[0;34m,\u001B[0m \u001B[0;34m**\u001B[0m\u001B[0mkwargs\u001B[0m\u001B[0;34m)\u001B[0m\u001B[0;34m\u001B[0m\u001B[0;34m\u001B[0m\u001B[0m\n\u001B[0m\u001B[1;32m   1015\u001B[0m \u001B[0;34m\u001B[0m\u001B[0m\n",
      "\u001B[0;32m/usr/local/lib/python3.7/dist-packages/keras/utils/traceback_utils.py\u001B[0m in \u001B[0;36merror_handler\u001B[0;34m(*args, **kwargs)\u001B[0m\n\u001B[1;32m     91\u001B[0m     \u001B[0;32mtry\u001B[0m\u001B[0;34m:\u001B[0m\u001B[0;34m\u001B[0m\u001B[0;34m\u001B[0m\u001B[0m\n\u001B[0;32m---> 92\u001B[0;31m       \u001B[0;32mreturn\u001B[0m \u001B[0mfn\u001B[0m\u001B[0;34m(\u001B[0m\u001B[0;34m*\u001B[0m\u001B[0margs\u001B[0m\u001B[0;34m,\u001B[0m \u001B[0;34m**\u001B[0m\u001B[0mkwargs\u001B[0m\u001B[0;34m)\u001B[0m\u001B[0;34m\u001B[0m\u001B[0;34m\u001B[0m\u001B[0m\n\u001B[0m\u001B[1;32m     93\u001B[0m     \u001B[0;32mexcept\u001B[0m \u001B[0mException\u001B[0m \u001B[0;32mas\u001B[0m \u001B[0me\u001B[0m\u001B[0;34m:\u001B[0m  \u001B[0;31m# pylint: disable=broad-except\u001B[0m\u001B[0;34m\u001B[0m\u001B[0;34m\u001B[0m\u001B[0m\n",
      "\u001B[0;32m/usr/local/lib/python3.7/dist-packages/keras/engine/functional.py\u001B[0m in \u001B[0;36mcall\u001B[0;34m(self, inputs, training, mask)\u001B[0m\n\u001B[1;32m    458\u001B[0m     return self._run_internal_graph(\n\u001B[0;32m--> 459\u001B[0;31m         inputs, training=training, mask=mask)\n\u001B[0m\u001B[1;32m    460\u001B[0m \u001B[0;34m\u001B[0m\u001B[0m\n",
      "\u001B[0;32m/usr/local/lib/python3.7/dist-packages/keras/engine/functional.py\u001B[0m in \u001B[0;36m_run_internal_graph\u001B[0;34m(self, inputs, training, mask)\u001B[0m\n\u001B[1;32m    595\u001B[0m         \u001B[0margs\u001B[0m\u001B[0;34m,\u001B[0m \u001B[0mkwargs\u001B[0m \u001B[0;34m=\u001B[0m \u001B[0mnode\u001B[0m\u001B[0;34m.\u001B[0m\u001B[0mmap_arguments\u001B[0m\u001B[0;34m(\u001B[0m\u001B[0mtensor_dict\u001B[0m\u001B[0;34m)\u001B[0m\u001B[0;34m\u001B[0m\u001B[0;34m\u001B[0m\u001B[0m\n\u001B[0;32m--> 596\u001B[0;31m         \u001B[0moutputs\u001B[0m \u001B[0;34m=\u001B[0m \u001B[0mnode\u001B[0m\u001B[0;34m.\u001B[0m\u001B[0mlayer\u001B[0m\u001B[0;34m(\u001B[0m\u001B[0;34m*\u001B[0m\u001B[0margs\u001B[0m\u001B[0;34m,\u001B[0m \u001B[0;34m**\u001B[0m\u001B[0mkwargs\u001B[0m\u001B[0;34m)\u001B[0m\u001B[0;34m\u001B[0m\u001B[0;34m\u001B[0m\u001B[0m\n\u001B[0m\u001B[1;32m    597\u001B[0m \u001B[0;34m\u001B[0m\u001B[0m\n",
      "\u001B[0;32m/usr/local/lib/python3.7/dist-packages/keras/utils/traceback_utils.py\u001B[0m in \u001B[0;36merror_handler\u001B[0;34m(*args, **kwargs)\u001B[0m\n\u001B[1;32m     63\u001B[0m     \u001B[0;32mtry\u001B[0m\u001B[0;34m:\u001B[0m\u001B[0;34m\u001B[0m\u001B[0;34m\u001B[0m\u001B[0m\n\u001B[0;32m---> 64\u001B[0;31m       \u001B[0;32mreturn\u001B[0m \u001B[0mfn\u001B[0m\u001B[0;34m(\u001B[0m\u001B[0;34m*\u001B[0m\u001B[0margs\u001B[0m\u001B[0;34m,\u001B[0m \u001B[0;34m**\u001B[0m\u001B[0mkwargs\u001B[0m\u001B[0;34m)\u001B[0m\u001B[0;34m\u001B[0m\u001B[0;34m\u001B[0m\u001B[0m\n\u001B[0m\u001B[1;32m     65\u001B[0m     \u001B[0;32mexcept\u001B[0m \u001B[0mException\u001B[0m \u001B[0;32mas\u001B[0m \u001B[0me\u001B[0m\u001B[0;34m:\u001B[0m  \u001B[0;31m# pylint: disable=broad-except\u001B[0m\u001B[0;34m\u001B[0m\u001B[0;34m\u001B[0m\u001B[0m\n",
      "\u001B[0;32m/usr/local/lib/python3.7/dist-packages/keras/engine/base_layer.py\u001B[0m in \u001B[0;36m__call__\u001B[0;34m(self, *args, **kwargs)\u001B[0m\n\u001B[1;32m   1013\u001B[0m             self._compute_dtype_object):\n\u001B[0;32m-> 1014\u001B[0;31m           \u001B[0moutputs\u001B[0m \u001B[0;34m=\u001B[0m \u001B[0mcall_fn\u001B[0m\u001B[0;34m(\u001B[0m\u001B[0minputs\u001B[0m\u001B[0;34m,\u001B[0m \u001B[0;34m*\u001B[0m\u001B[0margs\u001B[0m\u001B[0;34m,\u001B[0m \u001B[0;34m**\u001B[0m\u001B[0mkwargs\u001B[0m\u001B[0;34m)\u001B[0m\u001B[0;34m\u001B[0m\u001B[0;34m\u001B[0m\u001B[0m\n\u001B[0m\u001B[1;32m   1015\u001B[0m \u001B[0;34m\u001B[0m\u001B[0m\n",
      "\u001B[0;32m/usr/local/lib/python3.7/dist-packages/keras/utils/traceback_utils.py\u001B[0m in \u001B[0;36merror_handler\u001B[0;34m(*args, **kwargs)\u001B[0m\n\u001B[1;32m     91\u001B[0m     \u001B[0;32mtry\u001B[0m\u001B[0;34m:\u001B[0m\u001B[0;34m\u001B[0m\u001B[0;34m\u001B[0m\u001B[0m\n\u001B[0;32m---> 92\u001B[0;31m       \u001B[0;32mreturn\u001B[0m \u001B[0mfn\u001B[0m\u001B[0;34m(\u001B[0m\u001B[0;34m*\u001B[0m\u001B[0margs\u001B[0m\u001B[0;34m,\u001B[0m \u001B[0;34m**\u001B[0m\u001B[0mkwargs\u001B[0m\u001B[0;34m)\u001B[0m\u001B[0;34m\u001B[0m\u001B[0;34m\u001B[0m\u001B[0m\n\u001B[0m\u001B[1;32m     93\u001B[0m     \u001B[0;32mexcept\u001B[0m \u001B[0mException\u001B[0m \u001B[0;32mas\u001B[0m \u001B[0me\u001B[0m\u001B[0;34m:\u001B[0m  \u001B[0;31m# pylint: disable=broad-except\u001B[0m\u001B[0;34m\u001B[0m\u001B[0;34m\u001B[0m\u001B[0m\n",
      "\u001B[0;32m<ipython-input-18-676d9e21c14a>\u001B[0m in \u001B[0;36mcall\u001B[0;34m(self, inputs)\u001B[0m\n\u001B[1;32m     23\u001B[0m     \u001B[0;32mfor\u001B[0m \u001B[0mlayer\u001B[0m \u001B[0;32min\u001B[0m \u001B[0mself\u001B[0m\u001B[0;34m.\u001B[0m\u001B[0mhidden\u001B[0m\u001B[0;34m:\u001B[0m\u001B[0;34m\u001B[0m\u001B[0;34m\u001B[0m\u001B[0m\n\u001B[0;32m---> 24\u001B[0;31m       \u001B[0mx\u001B[0m \u001B[0;34m=\u001B[0m \u001B[0mlayer\u001B[0m\u001B[0;34m(\u001B[0m\u001B[0mx\u001B[0m\u001B[0;34m)\u001B[0m\u001B[0;34m\u001B[0m\u001B[0;34m\u001B[0m\u001B[0m\n\u001B[0m\u001B[1;32m     25\u001B[0m \u001B[0;34m\u001B[0m\u001B[0m\n",
      "\u001B[0;32m/usr/local/lib/python3.7/dist-packages/keras/utils/traceback_utils.py\u001B[0m in \u001B[0;36merror_handler\u001B[0;34m(*args, **kwargs)\u001B[0m\n\u001B[1;32m     63\u001B[0m     \u001B[0;32mtry\u001B[0m\u001B[0;34m:\u001B[0m\u001B[0;34m\u001B[0m\u001B[0;34m\u001B[0m\u001B[0m\n\u001B[0;32m---> 64\u001B[0;31m       \u001B[0;32mreturn\u001B[0m \u001B[0mfn\u001B[0m\u001B[0;34m(\u001B[0m\u001B[0;34m*\u001B[0m\u001B[0margs\u001B[0m\u001B[0;34m,\u001B[0m \u001B[0;34m**\u001B[0m\u001B[0mkwargs\u001B[0m\u001B[0;34m)\u001B[0m\u001B[0;34m\u001B[0m\u001B[0;34m\u001B[0m\u001B[0m\n\u001B[0m\u001B[1;32m     65\u001B[0m     \u001B[0;32mexcept\u001B[0m \u001B[0mException\u001B[0m \u001B[0;32mas\u001B[0m \u001B[0me\u001B[0m\u001B[0;34m:\u001B[0m  \u001B[0;31m# pylint: disable=broad-except\u001B[0m\u001B[0;34m\u001B[0m\u001B[0;34m\u001B[0m\u001B[0m\n",
      "\u001B[0;32m/usr/local/lib/python3.7/dist-packages/keras/engine/base_layer.py\u001B[0m in \u001B[0;36m__call__\u001B[0;34m(self, *args, **kwargs)\u001B[0m\n\u001B[1;32m   1013\u001B[0m             self._compute_dtype_object):\n\u001B[0;32m-> 1014\u001B[0;31m           \u001B[0moutputs\u001B[0m \u001B[0;34m=\u001B[0m \u001B[0mcall_fn\u001B[0m\u001B[0;34m(\u001B[0m\u001B[0minputs\u001B[0m\u001B[0;34m,\u001B[0m \u001B[0;34m*\u001B[0m\u001B[0margs\u001B[0m\u001B[0;34m,\u001B[0m \u001B[0;34m**\u001B[0m\u001B[0mkwargs\u001B[0m\u001B[0;34m)\u001B[0m\u001B[0;34m\u001B[0m\u001B[0;34m\u001B[0m\u001B[0m\n\u001B[0m\u001B[1;32m   1015\u001B[0m \u001B[0;34m\u001B[0m\u001B[0m\n",
      "\u001B[0;32m/usr/local/lib/python3.7/dist-packages/keras/utils/traceback_utils.py\u001B[0m in \u001B[0;36merror_handler\u001B[0;34m(*args, **kwargs)\u001B[0m\n\u001B[1;32m     91\u001B[0m     \u001B[0;32mtry\u001B[0m\u001B[0;34m:\u001B[0m\u001B[0;34m\u001B[0m\u001B[0;34m\u001B[0m\u001B[0m\n\u001B[0;32m---> 92\u001B[0;31m       \u001B[0;32mreturn\u001B[0m \u001B[0mfn\u001B[0m\u001B[0;34m(\u001B[0m\u001B[0;34m*\u001B[0m\u001B[0margs\u001B[0m\u001B[0;34m,\u001B[0m \u001B[0;34m**\u001B[0m\u001B[0mkwargs\u001B[0m\u001B[0;34m)\u001B[0m\u001B[0;34m\u001B[0m\u001B[0;34m\u001B[0m\u001B[0m\n\u001B[0m\u001B[1;32m     93\u001B[0m     \u001B[0;32mexcept\u001B[0m \u001B[0mException\u001B[0m \u001B[0;32mas\u001B[0m \u001B[0me\u001B[0m\u001B[0;34m:\u001B[0m  \u001B[0;31m# pylint: disable=broad-except\u001B[0m\u001B[0;34m\u001B[0m\u001B[0;34m\u001B[0m\u001B[0m\n",
      "\u001B[0;32m/usr/local/lib/python3.7/dist-packages/keras/layers/core/dense.py\u001B[0m in \u001B[0;36mcall\u001B[0;34m(self, inputs)\u001B[0m\n\u001B[1;32m    220\u001B[0m       \u001B[0;32melse\u001B[0m\u001B[0;34m:\u001B[0m\u001B[0;34m\u001B[0m\u001B[0;34m\u001B[0m\u001B[0m\n\u001B[0;32m--> 221\u001B[0;31m         \u001B[0moutputs\u001B[0m \u001B[0;34m=\u001B[0m \u001B[0mtf\u001B[0m\u001B[0;34m.\u001B[0m\u001B[0mmatmul\u001B[0m\u001B[0;34m(\u001B[0m\u001B[0ma\u001B[0m\u001B[0;34m=\u001B[0m\u001B[0minputs\u001B[0m\u001B[0;34m,\u001B[0m \u001B[0mb\u001B[0m\u001B[0;34m=\u001B[0m\u001B[0mself\u001B[0m\u001B[0;34m.\u001B[0m\u001B[0mkernel\u001B[0m\u001B[0;34m)\u001B[0m\u001B[0;34m\u001B[0m\u001B[0;34m\u001B[0m\u001B[0m\n\u001B[0m\u001B[1;32m    222\u001B[0m     \u001B[0;31m# Broadcast kernel to inputs.\u001B[0m\u001B[0;34m\u001B[0m\u001B[0;34m\u001B[0m\u001B[0;34m\u001B[0m\u001B[0m\n",
      "\u001B[0;32m/usr/local/lib/python3.7/dist-packages/tensorflow/python/util/traceback_utils.py\u001B[0m in \u001B[0;36merror_handler\u001B[0;34m(*args, **kwargs)\u001B[0m\n\u001B[1;32m    149\u001B[0m     \u001B[0;32mtry\u001B[0m\u001B[0;34m:\u001B[0m\u001B[0;34m\u001B[0m\u001B[0;34m\u001B[0m\u001B[0m\n\u001B[0;32m--> 150\u001B[0;31m       \u001B[0;32mreturn\u001B[0m \u001B[0mfn\u001B[0m\u001B[0;34m(\u001B[0m\u001B[0;34m*\u001B[0m\u001B[0margs\u001B[0m\u001B[0;34m,\u001B[0m \u001B[0;34m**\u001B[0m\u001B[0mkwargs\u001B[0m\u001B[0;34m)\u001B[0m\u001B[0;34m\u001B[0m\u001B[0;34m\u001B[0m\u001B[0m\n\u001B[0m\u001B[1;32m    151\u001B[0m     \u001B[0;32mexcept\u001B[0m \u001B[0mException\u001B[0m \u001B[0;32mas\u001B[0m \u001B[0me\u001B[0m\u001B[0;34m:\u001B[0m\u001B[0;34m\u001B[0m\u001B[0;34m\u001B[0m\u001B[0m\n",
      "\u001B[0;32m/usr/local/lib/python3.7/dist-packages/tensorflow/python/util/dispatch.py\u001B[0m in \u001B[0;36mop_dispatch_handler\u001B[0;34m(*args, **kwargs)\u001B[0m\n\u001B[1;32m   1081\u001B[0m       \u001B[0;32mtry\u001B[0m\u001B[0;34m:\u001B[0m\u001B[0;34m\u001B[0m\u001B[0;34m\u001B[0m\u001B[0m\n\u001B[0;32m-> 1082\u001B[0;31m         \u001B[0;32mreturn\u001B[0m \u001B[0mdispatch_target\u001B[0m\u001B[0;34m(\u001B[0m\u001B[0;34m*\u001B[0m\u001B[0margs\u001B[0m\u001B[0;34m,\u001B[0m \u001B[0;34m**\u001B[0m\u001B[0mkwargs\u001B[0m\u001B[0;34m)\u001B[0m\u001B[0;34m\u001B[0m\u001B[0;34m\u001B[0m\u001B[0m\n\u001B[0m\u001B[1;32m   1083\u001B[0m       \u001B[0;32mexcept\u001B[0m \u001B[0;34m(\u001B[0m\u001B[0mTypeError\u001B[0m\u001B[0;34m,\u001B[0m \u001B[0mValueError\u001B[0m\u001B[0;34m)\u001B[0m\u001B[0;34m:\u001B[0m\u001B[0;34m\u001B[0m\u001B[0;34m\u001B[0m\u001B[0m\n",
      "\u001B[0;32m/usr/local/lib/python3.7/dist-packages/tensorflow/python/ops/math_ops.py\u001B[0m in \u001B[0;36mmatmul\u001B[0;34m(a, b, transpose_a, transpose_b, adjoint_a, adjoint_b, a_is_sparse, b_is_sparse, output_type, name)\u001B[0m\n\u001B[1;32m   3713\u001B[0m         return gen_math_ops.mat_mul(\n\u001B[0;32m-> 3714\u001B[0;31m             a, b, transpose_a=transpose_a, transpose_b=transpose_b, name=name)\n\u001B[0m\u001B[1;32m   3715\u001B[0m \u001B[0;34m\u001B[0m\u001B[0m\n",
      "\u001B[0;32m/usr/local/lib/python3.7/dist-packages/tensorflow/python/ops/gen_math_ops.py\u001B[0m in \u001B[0;36mmat_mul\u001B[0;34m(a, b, transpose_a, transpose_b, name)\u001B[0m\n\u001B[1;32m   6014\u001B[0m         \u001B[0m_ctx\u001B[0m\u001B[0;34m,\u001B[0m \u001B[0;34m\"MatMul\"\u001B[0m\u001B[0;34m,\u001B[0m \u001B[0mname\u001B[0m\u001B[0;34m,\u001B[0m \u001B[0ma\u001B[0m\u001B[0;34m,\u001B[0m \u001B[0mb\u001B[0m\u001B[0;34m,\u001B[0m \u001B[0;34m\"transpose_a\"\u001B[0m\u001B[0;34m,\u001B[0m \u001B[0mtranspose_a\u001B[0m\u001B[0;34m,\u001B[0m \u001B[0;34m\"transpose_b\"\u001B[0m\u001B[0;34m,\u001B[0m\u001B[0;34m\u001B[0m\u001B[0;34m\u001B[0m\u001B[0m\n\u001B[0;32m-> 6015\u001B[0;31m         transpose_b)\n\u001B[0m\u001B[1;32m   6016\u001B[0m       \u001B[0;32mreturn\u001B[0m \u001B[0m_result\u001B[0m\u001B[0;34m\u001B[0m\u001B[0;34m\u001B[0m\u001B[0m\n",
      "\u001B[0;31mKeyboardInterrupt\u001B[0m: ",
      "\nDuring handling of the above exception, another exception occurred:\n",
      "\u001B[0;31mKeyboardInterrupt\u001B[0m                         Traceback (most recent call last)",
      "\u001B[0;31mKeyboardInterrupt\u001B[0m: "
     ]
    }
   ],
   "source": [
    "y_preds = []\n",
    "ys = []\n",
    "for i,j in zip(x_test,test_lg_infy):\n",
    "  x = i[0]\n",
    "  y = i[1]\n",
    "  y_pred = model_1(x,training=False)\n",
    "\n",
    "  ys.append(j+y)\n",
    "  y_preds.append(j+y_pred)\n"
   ]
  },
  {
   "cell_type": "code",
   "execution_count": null,
   "metadata": {
    "colab": {
     "base_uri": "https://localhost:8080/"
    },
    "id": "4urUy5LzZ0VK",
    "outputId": "57f133d4-61ea-4bea-9edc-35898ae15a01"
   },
   "outputs": [
    {
     "data": {
      "text/plain": [
       "<tf.Tensor: shape=(1, 1), dtype=float32, numpy=array([[0.0051174]], dtype=float32)>"
      ]
     },
     "execution_count": 45,
     "metadata": {},
     "output_type": "execute_result"
    }
   ],
   "source": [
    "latest_data = {'d_7':latest_d_7.to_numpy(),\n",
    "               'd_15': latest_d_15.to_numpy(),\n",
    "               'd_30': latest_d_30.to_numpy(),\n",
    "               'd_60': latest_d_60.to_numpy()}\n",
    "\n",
    "model_1(latest_data)"
   ]
  },
  {
   "cell_type": "code",
   "execution_count": null,
   "metadata": {
    "colab": {
     "base_uri": "https://localhost:8080/"
    },
    "id": "tQtGXJSwlx10",
    "outputId": "c9c216f7-2246-44b0-faeb-05d3506fc4ba"
   },
   "outputs": [
    {
     "data": {
      "text/plain": [
       "1611.023240533024"
      ]
     },
     "execution_count": 47,
     "metadata": {},
     "output_type": "execute_result"
    }
   ],
   "source": [
    "np.e**(test_lg_infy[-2]+0.0051174)"
   ]
  },
  {
   "cell_type": "markdown",
   "metadata": {
    "id": "oae9rD9UOfD2"
   },
   "source": [
    "# Dataset 4: Making Predictions on daily percentage returns"
   ]
  },
  {
   "cell_type": "code",
   "execution_count": null,
   "metadata": {
    "colab": {
     "base_uri": "https://localhost:8080/",
     "height": 993
    },
    "id": "mVBt38D9Oe37",
    "outputId": "d74ec18b-1825-40d7-85cc-ddd88fd3cd31"
   },
   "outputs": [
    {
     "output_type": "stream",
     "name": "stdout",
     "text": [
      "Looking in indexes: https://pypi.org/simple, https://us-python.pkg.dev/colab-wheels/public/simple/\n",
      "Collecting yfinance\n",
      "  Downloading yfinance-0.2.4-py2.py3-none-any.whl (51 kB)\n",
      "\u001B[2K     \u001B[90m━━━━━━━━━━━━━━━━━━━━━━━━━━━━━━━━━━━━━━━━\u001B[0m \u001B[32m51.4/51.4 KB\u001B[0m \u001B[31m3.8 MB/s\u001B[0m eta \u001B[36m0:00:00\u001B[0m\n",
      "\u001B[?25hRequirement already satisfied: numpy>=1.16.5 in /usr/local/lib/python3.8/dist-packages (from yfinance) (1.21.6)\n",
      "Requirement already satisfied: pytz>=2022.5 in /usr/local/lib/python3.8/dist-packages (from yfinance) (2022.7)\n",
      "Collecting frozendict>=2.3.4\n",
      "  Downloading frozendict-2.3.4-cp38-cp38-manylinux_2_17_x86_64.manylinux2014_x86_64.whl (110 kB)\n",
      "\u001B[2K     \u001B[90m━━━━━━━━━━━━━━━━━━━━━━━━━━━━━━━━━━━━━━\u001B[0m \u001B[32m111.0/111.0 KB\u001B[0m \u001B[31m13.2 MB/s\u001B[0m eta \u001B[36m0:00:00\u001B[0m\n",
      "\u001B[?25hCollecting cryptography>=3.3.2\n",
      "  Downloading cryptography-39.0.0-cp36-abi3-manylinux_2_28_x86_64.whl (4.2 MB)\n",
      "\u001B[2K     \u001B[90m━━━━━━━━━━━━━━━━━━━━━━━━━━━━━━━━━━━━━━━━\u001B[0m \u001B[32m4.2/4.2 MB\u001B[0m \u001B[31m100.0 MB/s\u001B[0m eta \u001B[36m0:00:00\u001B[0m\n",
      "\u001B[?25hRequirement already satisfied: multitasking>=0.0.7 in /usr/local/lib/python3.8/dist-packages (from yfinance) (0.0.11)\n",
      "Requirement already satisfied: pandas>=1.3.0 in /usr/local/lib/python3.8/dist-packages (from yfinance) (1.3.5)\n",
      "Requirement already satisfied: lxml>=4.9.1 in /usr/local/lib/python3.8/dist-packages (from yfinance) (4.9.2)\n",
      "Collecting html5lib>=1.1\n",
      "  Downloading html5lib-1.1-py2.py3-none-any.whl (112 kB)\n",
      "\u001B[2K     \u001B[90m━━━━━━━━━━━━━━━━━━━━━━━━━━━━━━━━━━━━━━\u001B[0m \u001B[32m112.2/112.2 KB\u001B[0m \u001B[31m16.6 MB/s\u001B[0m eta \u001B[36m0:00:00\u001B[0m\n",
      "\u001B[?25hRequirement already satisfied: appdirs>=1.4.4 in /usr/local/lib/python3.8/dist-packages (from yfinance) (1.4.4)\n",
      "Collecting beautifulsoup4>=4.11.1\n",
      "  Downloading beautifulsoup4-4.11.1-py3-none-any.whl (128 kB)\n",
      "\u001B[2K     \u001B[90m━━━━━━━━━━━━━━━━━━━━━━━━━━━━━━━━━━━━━━\u001B[0m \u001B[32m128.2/128.2 KB\u001B[0m \u001B[31m17.8 MB/s\u001B[0m eta \u001B[36m0:00:00\u001B[0m\n",
      "\u001B[?25hCollecting requests>=2.26\n",
      "  Downloading requests-2.28.2-py3-none-any.whl (62 kB)\n",
      "\u001B[2K     \u001B[90m━━━━━━━━━━━━━━━━━━━━━━━━━━━━━━━━━━━━━━━━\u001B[0m \u001B[32m62.8/62.8 KB\u001B[0m \u001B[31m8.1 MB/s\u001B[0m eta \u001B[36m0:00:00\u001B[0m\n",
      "\u001B[?25hCollecting soupsieve>1.2\n",
      "  Downloading soupsieve-2.3.2.post1-py3-none-any.whl (37 kB)\n",
      "Requirement already satisfied: cffi>=1.12 in /usr/local/lib/python3.8/dist-packages (from cryptography>=3.3.2->yfinance) (1.15.1)\n",
      "Requirement already satisfied: webencodings in /usr/local/lib/python3.8/dist-packages (from html5lib>=1.1->yfinance) (0.5.1)\n",
      "Requirement already satisfied: six>=1.9 in /usr/local/lib/python3.8/dist-packages (from html5lib>=1.1->yfinance) (1.15.0)\n",
      "Requirement already satisfied: python-dateutil>=2.7.3 in /usr/local/lib/python3.8/dist-packages (from pandas>=1.3.0->yfinance) (2.8.2)\n",
      "Requirement already satisfied: certifi>=2017.4.17 in /usr/local/lib/python3.8/dist-packages (from requests>=2.26->yfinance) (2022.12.7)\n",
      "Requirement already satisfied: urllib3<1.27,>=1.21.1 in /usr/local/lib/python3.8/dist-packages (from requests>=2.26->yfinance) (1.24.3)\n",
      "Requirement already satisfied: charset-normalizer<4,>=2 in /usr/local/lib/python3.8/dist-packages (from requests>=2.26->yfinance) (2.1.1)\n",
      "Requirement already satisfied: idna<4,>=2.5 in /usr/local/lib/python3.8/dist-packages (from requests>=2.26->yfinance) (2.10)\n",
      "Requirement already satisfied: pycparser in /usr/local/lib/python3.8/dist-packages (from cffi>=1.12->cryptography>=3.3.2->yfinance) (2.21)\n",
      "Installing collected packages: soupsieve, requests, html5lib, frozendict, cryptography, beautifulsoup4, yfinance\n",
      "  Attempting uninstall: requests\n",
      "    Found existing installation: requests 2.25.1\n",
      "    Uninstalling requests-2.25.1:\n",
      "      Successfully uninstalled requests-2.25.1\n",
      "  Attempting uninstall: html5lib\n",
      "    Found existing installation: html5lib 1.0.1\n",
      "    Uninstalling html5lib-1.0.1:\n",
      "      Successfully uninstalled html5lib-1.0.1\n",
      "  Attempting uninstall: beautifulsoup4\n",
      "    Found existing installation: beautifulsoup4 4.6.3\n",
      "    Uninstalling beautifulsoup4-4.6.3:\n",
      "      Successfully uninstalled beautifulsoup4-4.6.3\n",
      "Successfully installed beautifulsoup4-4.11.1 cryptography-39.0.0 frozendict-2.3.4 html5lib-1.1 requests-2.28.2 soupsieve-2.3.2.post1 yfinance-0.2.4\n"
     ]
    },
    {
     "output_type": "display_data",
     "data": {
      "application/vnd.colab-display-data+json": {
       "pip_warning": {
        "packages": [
         "requests"
        ]
       }
      }
     },
     "metadata": {}
    }
   ],
   "source": [
    "!pip install yfinance\n",
    "import yfinance as yf"
   ]
  },
  {
   "cell_type": "code",
   "execution_count": null,
   "metadata": {
    "id": "DqM5B8tSPDQh"
   },
   "outputs": [],
   "source": [
    "import pandas as pd\n",
    "import numpy as np"
   ]
  },
  {
   "cell_type": "code",
   "execution_count": null,
   "metadata": {
    "colab": {
     "base_uri": "https://localhost:8080/"
    },
    "id": "Z2ZVCB4IOesO",
    "outputId": "24741c61-af28-4f43-9d02-c3bae2ea0e20"
   },
   "outputs": [
    {
     "output_type": "stream",
     "name": "stdout",
     "text": [
      "\r[*********************100%***********************]  1 of 1 completed\n"
     ]
    }
   ],
   "source": [
    "infy_prices = yf.download('INFY.NS',start='2011-01-01',end=pd.Timestamp.today())\n",
    "# infy_close = infy_prices['Close']"
   ]
  },
  {
   "cell_type": "code",
   "execution_count": null,
   "metadata": {
    "id": "pJRZlqagPiyS"
   },
   "outputs": [],
   "source": [
    "infy_final = infy_prices[['Close']].diff(1)/infy_prices[['Close']].shift(1)*100"
   ]
  },
  {
   "cell_type": "code",
   "source": [
    "infy_final = infy_final[1:]"
   ],
   "metadata": {
    "id": "iNPQM40nAk6A"
   },
   "execution_count": null,
   "outputs": []
  },
  {
   "cell_type": "code",
   "source": [
    "dataset_x = []\n",
    "dataset_y = []\n",
    "indexer = pd.api.indexers.FixedForwardWindowIndexer(window_size=8)\n",
    "for i in infy_final.rolling(window=indexer,min_periods=8):\n",
    "  if len(i) == 8:\n",
    "    dataset_x.append(i.values[:7])\n",
    "    dataset_y.append(i.values[7])\n",
    "  else:\n",
    "    pass\n",
    "\n"
   ],
   "metadata": {
    "id": "hvdW2tu6tyna"
   },
   "execution_count": null,
   "outputs": []
  },
  {
   "cell_type": "code",
   "execution_count": null,
   "metadata": {
    "id": "57PAQ2tjoerl"
   },
   "outputs": [],
   "source": [
    "train_x, train_y = dataset_x[:2373], dataset_y[:2373]\n",
    "test_x, test_y = dataset_x[2373:], dataset_y[2373:]"
   ]
  },
  {
   "cell_type": "code",
   "source": [
    "dataset_x[0].shape"
   ],
   "metadata": {
    "colab": {
     "base_uri": "https://localhost:8080/"
    },
    "id": "XmwE2NJ4ChNV",
    "outputId": "f066cade-bb56-45e8-9548-7914f4a3b323"
   },
   "execution_count": null,
   "outputs": [
    {
     "output_type": "execute_result",
     "data": {
      "text/plain": [
       "(7, 1)"
      ]
     },
     "metadata": {},
     "execution_count": 10
    }
   ]
  },
  {
   "cell_type": "code",
   "source": [
    "train_dataset = tf.data.Dataset.from_tensor_slices((train_x,train_y))\n",
    "test_dataset = tf.data.Dataset.from_tensor_slices((test_x,test_y))"
   ],
   "metadata": {
    "id": "q26_MNrnCKBj"
   },
   "execution_count": null,
   "outputs": []
  },
  {
   "cell_type": "code",
   "source": [
    "train_dataset = train_dataset.batch(32).prefetch(tf.data.AUTOTUNE)\n",
    "test_dataset = test_dataset.batch(32).prefetch(tf.data.AUTOTUNE)"
   ],
   "metadata": {
    "id": "wbp-uK_2C5BN"
   },
   "execution_count": null,
   "outputs": []
  },
  {
   "cell_type": "markdown",
   "metadata": {
    "id": "EuWda1OyCKDk"
   },
   "source": [
    "## Simple Moving Average"
   ]
  },
  {
   "cell_type": "code",
   "execution_count": null,
   "metadata": {
    "id": "lgGcmsx3UA7G"
   },
   "outputs": [],
   "source": [
    "# infy_t['SMA_5'] = infy_prices['Close'].transform(lambda x: x.rolling(window=5).mean())\n",
    "infy_t['SMA_15'] = infy_prices['Close'].transform(lambda x: x.rolling(window=15).mean())\n",
    "\n",
    "infy_final['SMA_15'] = infy_t['SMA_15']"
   ]
  },
  {
   "cell_type": "code",
   "execution_count": null,
   "metadata": {
    "colab": {
     "base_uri": "https://localhost:8080/",
     "height": 286
    },
    "id": "LGRIfJnso7mA",
    "outputId": "431dc36b-a216-4c79-db1c-3bf1ea37ce67"
   },
   "outputs": [
    {
     "data": {
      "text/plain": [
       "<matplotlib.axes._subplots.AxesSubplot at 0x7fc0fef1b6a0>"
      ]
     },
     "execution_count": 7,
     "metadata": {},
     "output_type": "execute_result"
    },
    {
     "data": {
      "image/png": "[encoded data removed]",
      "text/plain": [
       "<Figure size 432x288 with 1 Axes>"
      ]
     },
     "metadata": {},
     "output_type": "display_data"
    }
   ],
   "source": [
    "(infy_final['SMA_15']).plot()"
   ]
  },
  {
   "cell_type": "markdown",
   "metadata": {
    "id": "natLM9PrCPAi"
   },
   "source": [
    "## Simple Average Volume"
   ]
  },
  {
   "cell_type": "code",
   "execution_count": null,
   "metadata": {
    "id": "P45cp2oECWcX"
   },
   "outputs": [],
   "source": [
    "infy_t['SMA15_VOL'] = infy_prices['Volume'].transform(lambda x: x.rolling(window=15).mean())\n",
    "# infy_t['SMA5_VOL'] = infy_prices['Volume'].transform(lambda x: x.rolling(window=5).mean())\n",
    "\n",
    "infy_final['SMA15_VOL'] = infy_t['SMA15_VOL']"
   ]
  },
  {
   "cell_type": "code",
   "execution_count": null,
   "metadata": {
    "colab": {
     "base_uri": "https://localhost:8080/",
     "height": 297
    },
    "id": "q4QI1s1IpXmB",
    "outputId": "6aefbf65-8b30-4e6d-e03b-e1c9d0db76b2"
   },
   "outputs": [
    {
     "data": {
      "text/plain": [
       "<matplotlib.axes._subplots.AxesSubplot at 0x7fc0ffc59310>"
      ]
     },
     "execution_count": 9,
     "metadata": {},
     "output_type": "execute_result"
    },
    {
     "data": {
      "image/png": "[encoded data removed]",
      "text/plain": [
       "<Figure size 432x288 with 1 Axes>"
      ]
     },
     "metadata": {},
     "output_type": "display_data"
    }
   ],
   "source": [
    "infy_final['SMA15_VOL'].plot()"
   ]
  },
  {
   "cell_type": "markdown",
   "metadata": {
    "id": "U_aCiZEMCyYK"
   },
   "source": [
    "## Wilder's Smoothening"
   ]
  },
  {
   "cell_type": "code",
   "execution_count": null,
   "metadata": {
    "id": "WV0LXG7IC1OU"
   },
   "outputs": [],
   "source": [
    "def Wilder(data,periods):\n",
    "  start = np.where(~np.isnan(data))[0][0]\n",
    "\n",
    "  wilder = np.array([np.nan] * len(data))\n",
    "  wilder[start+periods - 1] = data[start:(start+periods)].mean()\n",
    "  for i in range(start+periods,len(data)):\n",
    "    wilder[i] = (wilder[i-1]*(periods-1) + data[i]) / periods\n",
    "\n",
    "  return (wilder)"
   ]
  },
  {
   "cell_type": "markdown",
   "metadata": {
    "id": "rOU2R03SDqxp"
   },
   "source": [
    "## Average True Range"
   ]
  },
  {
   "cell_type": "code",
   "execution_count": null,
   "metadata": {
    "id": "6qA_D8mbDs6Y"
   },
   "outputs": [],
   "source": [
    "infy_t['Prev_Close'] = infy_prices['Close'].shift(1)\n",
    "infy_t['TR'] = np.maximum((infy_prices['High'] - infy_prices['Low']),\n",
    "                              np.maximum((abs(infy_prices['High'] - infy_t['Prev_Close'])),\n",
    "                              (abs(infy_t['Prev_Close'] - infy_prices['Low']))))\n",
    "\n",
    "infy_t['ATR_15'] = Wilder(infy_t['TR'],15)\n",
    "\n",
    "infy_final['ATR_15'] = infy_t['ATR_15']"
   ]
  },
  {
   "cell_type": "code",
   "execution_count": null,
   "metadata": {
    "colab": {
     "base_uri": "https://localhost:8080/",
     "height": 286
    },
    "id": "wXCLHkJQqEUy",
    "outputId": "dbaed583-9b33-4a79-b77a-f1a44cd72d14"
   },
   "outputs": [
    {
     "data": {
      "text/plain": [
       "<matplotlib.axes._subplots.AxesSubplot at 0x7fc0ffbe4820>"
      ]
     },
     "execution_count": 12,
     "metadata": {},
     "output_type": "execute_result"
    },
    {
     "data": {
      "image/png": "[encoded data removed]",
      "text/plain": [
       "<Figure size 432x288 with 1 Axes>"
      ]
     },
     "metadata": {},
     "output_type": "display_data"
    }
   ],
   "source": [
    "infy_final['ATR_15'].plot()"
   ]
  },
  {
   "cell_type": "markdown",
   "metadata": {
    "id": "iZiy4zoEsKZ5"
   },
   "source": [
    "## Stochastic Oscillaltors"
   ]
  },
  {
   "cell_type": "code",
   "execution_count": null,
   "metadata": {
    "id": "j_qBluuMsLFg"
   },
   "outputs": [],
   "source": [
    "# infy_t['Lowest_5D'] = infy_prices['Low'].transform(lambda x: x.rolling(window=5).min())\n",
    "# infy_t['Highest_5D'] = infy_prices['High'].transform(lambda x: x.rolling(window=5).max())\n",
    "infy_t['Lowest_15D'] = infy_prices['Low'].transform(lambda x: x.rolling(window=15).min())\n",
    "infy_t['Highest_15D'] = infy_prices['High'].transform(lambda x: x.rolling(window=15).max())\n",
    "\n",
    "# infy_t['Stochastic_5D'] = ((infy_prices['Close'] - infy_t['Lowest_5D']) / (infy_t['Highest_5D'] - infy_t['Lowest_5D'])) * 100\n",
    "infy_t['Stochastic_15D'] = ((infy_prices['Close'] - infy_t['Lowest_15D']) / (infy_t['Highest_15D'] - infy_t['Lowest_15D']))\n",
    "\n",
    "# infy_t['ST_5D_mean'] = infy_t['Stochastic_5D'].rolling(window=5).mean()\n",
    "infy_final['ST_15D_mean'] = infy_t['Stochastic_15D'].rolling(window=15).mean()"
   ]
  },
  {
   "cell_type": "code",
   "execution_count": null,
   "metadata": {
    "colab": {
     "base_uri": "https://localhost:8080/",
     "height": 286
    },
    "id": "Orm0FvBorl-n",
    "outputId": "f130ba96-e2ed-4645-8866-178e8f5b12da"
   },
   "outputs": [
    {
     "data": {
      "text/plain": [
       "<matplotlib.axes._subplots.AxesSubplot at 0x7fc108e0eaf0>"
      ]
     },
     "execution_count": 17,
     "metadata": {},
     "output_type": "execute_result"
    },
    {
     "data": {
      "image/png": "[encoded data removed]",
      "text/plain": [
       "<Figure size 432x288 with 1 Axes>"
      ]
     },
     "metadata": {},
     "output_type": "display_data"
    }
   ],
   "source": [
    "infy_final['ST_15D_mean'].plot()"
   ]
  },
  {
   "cell_type": "markdown",
   "metadata": {
    "id": "89wBqXpqvijV"
   },
   "source": [
    "## Relative Strength Index"
   ]
  },
  {
   "cell_type": "code",
   "execution_count": null,
   "metadata": {
    "id": "z70gztZ2vmlv"
   },
   "outputs": [],
   "source": [
    "infy_t['Diff'] = infy_prices['Close'].transform(lambda x: x.diff())\n",
    "infy_t['Up'] = infy_t['Diff']\n",
    "infy_t.loc[(infy_t['Up']<0),'Up'] = 0\n",
    "\n",
    "infy_t['Down'] = infy_t['Diff']\n",
    "infy_t.loc[(infy_t['Down']>0),'Down'] = 0\n",
    "infy_t['Down'] = abs(infy_t['Down'])\n",
    "\n",
    "infy_t['avg_5up'] = infy_t['Up'].transform(lambda x: x.rolling(window=5).mean())\n",
    "infy_t['avg_5dwn'] = infy_t['Down'].transform(lambda x: x.rolling(window=5).mean())\n",
    "\n",
    "infy_t['avg_15up'] = infy_t['Up'].transform(lambda x: x.rolling(window=15).mean())\n",
    "infy_t['avg_15dwn'] = infy_t['Down'].transform(lambda x: x.rolling(window=15).mean())\n",
    "\n",
    "infy_t['RS_5'] = infy_t['avg_5up'] / infy_t['avg_5dwn']\n",
    "infy_t['RS_15'] = infy_t['avg_15up'] / infy_t['avg_15dwn']\n",
    "\n",
    "infy_t['RSI_5'] = 1 - (1/(1+infy_t['RS_5']))\n",
    "infy_t['RSI_15'] = 1 - (1/(1+infy_t['RS_15']))\n",
    "\n",
    "infy_final['RSI_ratio'] = infy_t['RSI_5'] / infy_t['RSI_15']"
   ]
  },
  {
   "cell_type": "code",
   "execution_count": null,
   "metadata": {
    "colab": {
     "base_uri": "https://localhost:8080/",
     "height": 286
    },
    "id": "DLAGeLdxq3iF",
    "outputId": "d8019e36-8eec-4bef-b4db-e6c8df52fec6"
   },
   "outputs": [
    {
     "data": {
      "text/plain": [
       "<matplotlib.axes._subplots.AxesSubplot at 0x7fc0fe507520>"
      ]
     },
     "execution_count": 19,
     "metadata": {},
     "output_type": "execute_result"
    },
    {
     "data": {
      "image/png": "[encoded data removed]",
      "text/plain": [
       "<Figure size 432x288 with 1 Axes>"
      ]
     },
     "metadata": {},
     "output_type": "display_data"
    }
   ],
   "source": [
    "infy_final['RSI_ratio'].plot()"
   ]
  },
  {
   "cell_type": "markdown",
   "metadata": {
    "id": "UIIO39VIz7lw"
   },
   "source": [
    "## MACD"
   ]
  },
  {
   "cell_type": "code",
   "execution_count": null,
   "metadata": {
    "id": "SyzjmIT9z-sk"
   },
   "outputs": [],
   "source": [
    "infy_t['5Ewm'] = infy_prices['Close'].transform(lambda x: x.ewm(span=5,adjust=False).mean())\n",
    "infy_t['15Ewm'] = infy_prices['Close'].transform(lambda x: x.ewm(span=15,adjust=False).mean())\n",
    "infy_final['MACD'] = infy_t['15Ewm'] - infy_t['5Ewm']\n",
    "# infy_final['MACD'] /= 100"
   ]
  },
  {
   "cell_type": "code",
   "execution_count": null,
   "metadata": {
    "colab": {
     "base_uri": "https://localhost:8080/",
     "height": 286
    },
    "id": "qQem7WHwqbYq",
    "outputId": "dbb6537f-4e0f-48f4-9f87-2c1dc9b5c41c"
   },
   "outputs": [
    {
     "data": {
      "text/plain": [
       "<matplotlib.axes._subplots.AxesSubplot at 0x7fc0fe4fa310>"
      ]
     },
     "execution_count": 21,
     "metadata": {},
     "output_type": "execute_result"
    },
    {
     "data": {
      "image/png": "[encoded data removed]",
      "text/plain": [
       "<Figure size 432x288 with 1 Axes>"
      ]
     },
     "metadata": {},
     "output_type": "display_data"
    }
   ],
   "source": [
    "(infy_final['MACD']).plot()"
   ]
  },
  {
   "cell_type": "code",
   "execution_count": null,
   "metadata": {
    "colab": {
     "base_uri": "https://localhost:8080/",
     "height": 237
    },
    "id": "zRDpnVbytlJ-",
    "outputId": "98c61506-0620-43da-db3e-ed1caa94eb3e"
   },
   "outputs": [
    {
     "data": {
      "text/html": [
       "\n",
       "  <div id=\"df-77d11c1a-59fe-4915-bef7-13b0598edf50\">\n",
       "    <div class=\"colab-df-container\">\n",
       "      <div>\n",
       "<style scoped>\n",
       "    .dataframe tbody tr th:only-of-type {\n",
       "        vertical-align: middle;\n",
       "    }\n",
       "\n",
       "    .dataframe tbody tr th {\n",
       "        vertical-align: top;\n",
       "    }\n",
       "\n",
       "    .dataframe thead th {\n",
       "        text-align: right;\n",
       "    }\n",
       "</style>\n",
       "<table border=\"1\" class=\"dataframe\">\n",
       "  <thead>\n",
       "    <tr style=\"text-align: right;\">\n",
       "      <th></th>\n",
       "      <th>Close</th>\n",
       "      <th>SMA_15</th>\n",
       "      <th>SMA15_VOL</th>\n",
       "      <th>ATR_15</th>\n",
       "      <th>ST_15D_mean</th>\n",
       "      <th>RSI_ratio</th>\n",
       "      <th>MACD</th>\n",
       "    </tr>\n",
       "    <tr>\n",
       "      <th>Date</th>\n",
       "      <th></th>\n",
       "      <th></th>\n",
       "      <th></th>\n",
       "      <th></th>\n",
       "      <th></th>\n",
       "      <th></th>\n",
       "      <th></th>\n",
       "    </tr>\n",
       "  </thead>\n",
       "  <tbody>\n",
       "    <tr>\n",
       "      <th>2011-01-03</th>\n",
       "      <td>NaN</td>\n",
       "      <td>NaN</td>\n",
       "      <td>NaN</td>\n",
       "      <td>NaN</td>\n",
       "      <td>NaN</td>\n",
       "      <td>NaN</td>\n",
       "      <td>0.000000</td>\n",
       "    </tr>\n",
       "    <tr>\n",
       "      <th>2011-01-04</th>\n",
       "      <td>0.667944</td>\n",
       "      <td>NaN</td>\n",
       "      <td>NaN</td>\n",
       "      <td>NaN</td>\n",
       "      <td>NaN</td>\n",
       "      <td>NaN</td>\n",
       "      <td>-0.601559</td>\n",
       "    </tr>\n",
       "    <tr>\n",
       "      <th>2011-01-05</th>\n",
       "      <td>-0.627608</td>\n",
       "      <td>NaN</td>\n",
       "      <td>NaN</td>\n",
       "      <td>NaN</td>\n",
       "      <td>NaN</td>\n",
       "      <td>NaN</td>\n",
       "      <td>-0.358396</td>\n",
       "    </tr>\n",
       "    <tr>\n",
       "      <th>2011-01-06</th>\n",
       "      <td>0.536183</td>\n",
       "      <td>NaN</td>\n",
       "      <td>NaN</td>\n",
       "      <td>NaN</td>\n",
       "      <td>NaN</td>\n",
       "      <td>NaN</td>\n",
       "      <td>-0.684686</td>\n",
       "    </tr>\n",
       "    <tr>\n",
       "      <th>2011-01-07</th>\n",
       "      <td>-3.087846</td>\n",
       "      <td>NaN</td>\n",
       "      <td>NaN</td>\n",
       "      <td>NaN</td>\n",
       "      <td>NaN</td>\n",
       "      <td>NaN</td>\n",
       "      <td>1.950379</td>\n",
       "    </tr>\n",
       "  </tbody>\n",
       "</table>\n",
       "</div>\n",
       "      <button class=\"colab-df-convert\" onclick=\"convertToInteractive('df-77d11c1a-59fe-4915-bef7-13b0598edf50')\"\n",
       "              title=\"Convert this dataframe to an interactive table.\"\n",
       "              style=\"display:none;\">\n",
       "        \n",
       "  <svg xmlns=\"http://www.w3.org/2000/svg\" height=\"24px\"viewBox=\"0 0 24 24\"\n",
       "       width=\"24px\">\n",
       "    <path d=\"M0 0h24v24H0V0z\" fill=\"none\"/>\n",
       "    <path d=\"M18.56 5.44l.94 2.06.94-2.06 2.06-.94-2.06-.94-.94-2.06-.94 2.06-2.06.94zm-11 1L8.5 8.5l.94-2.06 2.06-.94-2.06-.94L8.5 2.5l-.94 2.06-2.06.94zm10 10l.94 2.06.94-2.06 2.06-.94-2.06-.94-.94-2.06-.94 2.06-2.06.94z\"/><path d=\"M17.41 7.96l-1.37-1.37c-.4-.4-.92-.59-1.43-.59-.52 0-1.04.2-1.43.59L10.3 9.45l-7.72 7.72c-.78.78-.78 2.05 0 2.83L4 21.41c.39.39.9.59 1.41.59.51 0 1.02-.2 1.41-.59l7.78-7.78 2.81-2.81c.8-.78.8-2.07 0-2.86zM5.41 20L4 18.59l7.72-7.72 1.47 1.35L5.41 20z\"/>\n",
       "  </svg>\n",
       "      </button>\n",
       "      \n",
       "  <style>\n",
       "    .colab-df-container {\n",
       "      display:flex;\n",
       "      flex-wrap:wrap;\n",
       "      gap: 12px;\n",
       "    }\n",
       "\n",
       "    .colab-df-convert {\n",
       "      background-color: #E8F0FE;\n",
       "      border: none;\n",
       "      border-radius: 50%;\n",
       "      cursor: pointer;\n",
       "      display: none;\n",
       "      fill: #1967D2;\n",
       "      height: 32px;\n",
       "      padding: 0 0 0 0;\n",
       "      width: 32px;\n",
       "    }\n",
       "\n",
       "    .colab-df-convert:hover {\n",
       "      background-color: #E2EBFA;\n",
       "      box-shadow: 0px 1px 2px rgba(60, 64, 67, 0.3), 0px 1px 3px 1px rgba(60, 64, 67, 0.15);\n",
       "      fill: #174EA6;\n",
       "    }\n",
       "\n",
       "    [theme=dark] .colab-df-convert {\n",
       "      background-color: #3B4455;\n",
       "      fill: #D2E3FC;\n",
       "    }\n",
       "\n",
       "    [theme=dark] .colab-df-convert:hover {\n",
       "      background-color: #434B5C;\n",
       "      box-shadow: 0px 1px 3px 1px rgba(0, 0, 0, 0.15);\n",
       "      filter: drop-shadow(0px 1px 2px rgba(0, 0, 0, 0.3));\n",
       "      fill: #FFFFFF;\n",
       "    }\n",
       "  </style>\n",
       "\n",
       "      <script>\n",
       "        const buttonEl =\n",
       "          document.querySelector('#df-77d11c1a-59fe-4915-bef7-13b0598edf50 button.colab-df-convert');\n",
       "        buttonEl.style.display =\n",
       "          google.colab.kernel.accessAllowed ? 'block' : 'none';\n",
       "\n",
       "        async function convertToInteractive(key) {\n",
       "          const element = document.querySelector('#df-77d11c1a-59fe-4915-bef7-13b0598edf50');\n",
       "          const dataTable =\n",
       "            await google.colab.kernel.invokeFunction('convertToInteractive',\n",
       "                                                     [key], {});\n",
       "          if (!dataTable) return;\n",
       "\n",
       "          const docLinkHtml = 'Like what you see? Visit the ' +\n",
       "            '<a target=\"_blank\" href=https://colab.research.google.com/notebooks/data_table.ipynb>data table notebook</a>'\n",
       "            + ' to learn more about interactive tables.';\n",
       "          element.innerHTML = '';\n",
       "          dataTable['output_type'] = 'display_data';\n",
       "          await google.colab.output.renderOutput(dataTable, element);\n",
       "          const docLink = document.createElement('div');\n",
       "          docLink.innerHTML = docLinkHtml;\n",
       "          element.appendChild(docLink);\n",
       "        }\n",
       "      </script>\n",
       "    </div>\n",
       "  </div>\n",
       "  "
      ],
      "text/plain": [
       "               Close  SMA_15  SMA15_VOL  ATR_15  ST_15D_mean  RSI_ratio  \\\n",
       "Date                                                                      \n",
       "2011-01-03       NaN     NaN        NaN     NaN          NaN        NaN   \n",
       "2011-01-04  0.667944     NaN        NaN     NaN          NaN        NaN   \n",
       "2011-01-05 -0.627608     NaN        NaN     NaN          NaN        NaN   \n",
       "2011-01-06  0.536183     NaN        NaN     NaN          NaN        NaN   \n",
       "2011-01-07 -3.087846     NaN        NaN     NaN          NaN        NaN   \n",
       "\n",
       "                MACD  \n",
       "Date                  \n",
       "2011-01-03  0.000000  \n",
       "2011-01-04 -0.601559  \n",
       "2011-01-05 -0.358396  \n",
       "2011-01-06 -0.684686  \n",
       "2011-01-07  1.950379  "
      ]
     },
     "execution_count": 22,
     "metadata": {},
     "output_type": "execute_result"
    }
   ],
   "source": [
    "infy_final.head()"
   ]
  },
  {
   "cell_type": "code",
   "execution_count": null,
   "metadata": {
    "id": "bs66D_oMDd18"
   },
   "outputs": [],
   "source": [
    "infy_final = infy_final.dropna()"
   ]
  },
  {
   "cell_type": "code",
   "execution_count": null,
   "metadata": {
    "colab": {
     "base_uri": "https://localhost:8080/"
    },
    "id": "VHfgM6B7Dhzv",
    "outputId": "2aa3a3a3-4d6d-4f09-8ffa-5330da997066"
   },
   "outputs": [
    {
     "data": {
      "text/plain": [
       "2934"
      ]
     },
     "execution_count": 24,
     "metadata": {},
     "output_type": "execute_result"
    }
   ],
   "source": [
    "len(infy_final)"
   ]
  },
  {
   "cell_type": "code",
   "execution_count": null,
   "metadata": {
    "colab": {
     "base_uri": "https://localhost:8080/"
    },
    "id": "7KQAGrn6Dn8C",
    "outputId": "6a7c6b14-2ffe-4e13-eaa0-c0e9e5665e46"
   },
   "outputs": [
    {
     "name": "stderr",
     "output_type": "stream",
     "text": [
      "<ipython-input-25-0409a9fb00c2>:1: SettingWithCopyWarning: \n",
      "A value is trying to be set on a copy of a slice from a DataFrame.\n",
      "Try using .loc[row_indexer,col_indexer] = value instead\n",
      "\n",
      "See the caveats in the documentation: https://pandas.pydata.org/pandas-docs/stable/user_guide/indexing.html#returning-a-view-versus-a-copy\n",
      "  infy_final['Close'] = infy_final['Close'].shift(-1)\n"
     ]
    }
   ],
   "source": [
    "infy_final['Close'] = infy_final['Close'].shift(-1)"
   ]
  },
  {
   "cell_type": "code",
   "execution_count": null,
   "metadata": {
    "id": "17pY4MiAD5pR"
   },
   "outputs": [],
   "source": [
    "infy_last = infy_final.iloc[-1]"
   ]
  },
  {
   "cell_type": "code",
   "execution_count": null,
   "metadata": {
    "colab": {
     "base_uri": "https://localhost:8080/",
     "height": 237
    },
    "id": "_PkAbFGDD-3Z",
    "outputId": "60be109e-f901-439d-a5c5-f5b2c4aa3469"
   },
   "outputs": [
    {
     "data": {
      "text/html": [
       "\n",
       "  <div id=\"df-a7b5b218-7d06-47b1-839a-834fe55efa37\">\n",
       "    <div class=\"colab-df-container\">\n",
       "      <div>\n",
       "<style scoped>\n",
       "    .dataframe tbody tr th:only-of-type {\n",
       "        vertical-align: middle;\n",
       "    }\n",
       "\n",
       "    .dataframe tbody tr th {\n",
       "        vertical-align: top;\n",
       "    }\n",
       "\n",
       "    .dataframe thead th {\n",
       "        text-align: right;\n",
       "    }\n",
       "</style>\n",
       "<table border=\"1\" class=\"dataframe\">\n",
       "  <thead>\n",
       "    <tr style=\"text-align: right;\">\n",
       "      <th></th>\n",
       "      <th>Close</th>\n",
       "      <th>SMA_15</th>\n",
       "      <th>SMA15_VOL</th>\n",
       "      <th>ATR_15</th>\n",
       "      <th>ST_15D_mean</th>\n",
       "      <th>RSI_ratio</th>\n",
       "      <th>MACD</th>\n",
       "    </tr>\n",
       "    <tr>\n",
       "      <th>Date</th>\n",
       "      <th></th>\n",
       "      <th></th>\n",
       "      <th></th>\n",
       "      <th></th>\n",
       "      <th></th>\n",
       "      <th></th>\n",
       "      <th></th>\n",
       "    </tr>\n",
       "  </thead>\n",
       "  <tbody>\n",
       "    <tr>\n",
       "      <th>2011-02-11</th>\n",
       "      <td>2.094807</td>\n",
       "      <td>391.863747</td>\n",
       "      <td>8.534645e+06</td>\n",
       "      <td>10.332820</td>\n",
       "      <td>0.165509</td>\n",
       "      <td>1.763889</td>\n",
       "      <td>7.607989</td>\n",
       "    </tr>\n",
       "    <tr>\n",
       "      <th>2011-02-14</th>\n",
       "      <td>0.064422</td>\n",
       "      <td>390.702913</td>\n",
       "      <td>8.691460e+06</td>\n",
       "      <td>10.292299</td>\n",
       "      <td>0.172745</td>\n",
       "      <td>1.437850</td>\n",
       "      <td>5.845293</td>\n",
       "    </tr>\n",
       "    <tr>\n",
       "      <th>2011-02-15</th>\n",
       "      <td>-0.114276</td>\n",
       "      <td>389.218748</td>\n",
       "      <td>8.498033e+06</td>\n",
       "      <td>10.063230</td>\n",
       "      <td>0.171787</td>\n",
       "      <td>1.582266</td>\n",
       "      <td>4.521417</td>\n",
       "    </tr>\n",
       "    <tr>\n",
       "      <th>2011-02-16</th>\n",
       "      <td>0.333551</td>\n",
       "      <td>387.913332</td>\n",
       "      <td>8.030998e+06</td>\n",
       "      <td>9.747347</td>\n",
       "      <td>0.177893</td>\n",
       "      <td>1.191572</td>\n",
       "      <td>3.653212</td>\n",
       "    </tr>\n",
       "    <tr>\n",
       "      <th>2011-02-17</th>\n",
       "      <td>-0.419164</td>\n",
       "      <td>387.217084</td>\n",
       "      <td>7.409820e+06</td>\n",
       "      <td>9.312524</td>\n",
       "      <td>0.200314</td>\n",
       "      <td>2.023200</td>\n",
       "      <td>2.725008</td>\n",
       "    </tr>\n",
       "  </tbody>\n",
       "</table>\n",
       "</div>\n",
       "      <button class=\"colab-df-convert\" onclick=\"convertToInteractive('df-a7b5b218-7d06-47b1-839a-834fe55efa37')\"\n",
       "              title=\"Convert this dataframe to an interactive table.\"\n",
       "              style=\"display:none;\">\n",
       "        \n",
       "  <svg xmlns=\"http://www.w3.org/2000/svg\" height=\"24px\"viewBox=\"0 0 24 24\"\n",
       "       width=\"24px\">\n",
       "    <path d=\"M0 0h24v24H0V0z\" fill=\"none\"/>\n",
       "    <path d=\"M18.56 5.44l.94 2.06.94-2.06 2.06-.94-2.06-.94-.94-2.06-.94 2.06-2.06.94zm-11 1L8.5 8.5l.94-2.06 2.06-.94-2.06-.94L8.5 2.5l-.94 2.06-2.06.94zm10 10l.94 2.06.94-2.06 2.06-.94-2.06-.94-.94-2.06-.94 2.06-2.06.94z\"/><path d=\"M17.41 7.96l-1.37-1.37c-.4-.4-.92-.59-1.43-.59-.52 0-1.04.2-1.43.59L10.3 9.45l-7.72 7.72c-.78.78-.78 2.05 0 2.83L4 21.41c.39.39.9.59 1.41.59.51 0 1.02-.2 1.41-.59l7.78-7.78 2.81-2.81c.8-.78.8-2.07 0-2.86zM5.41 20L4 18.59l7.72-7.72 1.47 1.35L5.41 20z\"/>\n",
       "  </svg>\n",
       "      </button>\n",
       "      \n",
       "  <style>\n",
       "    .colab-df-container {\n",
       "      display:flex;\n",
       "      flex-wrap:wrap;\n",
       "      gap: 12px;\n",
       "    }\n",
       "\n",
       "    .colab-df-convert {\n",
       "      background-color: #E8F0FE;\n",
       "      border: none;\n",
       "      border-radius: 50%;\n",
       "      cursor: pointer;\n",
       "      display: none;\n",
       "      fill: #1967D2;\n",
       "      height: 32px;\n",
       "      padding: 0 0 0 0;\n",
       "      width: 32px;\n",
       "    }\n",
       "\n",
       "    .colab-df-convert:hover {\n",
       "      background-color: #E2EBFA;\n",
       "      box-shadow: 0px 1px 2px rgba(60, 64, 67, 0.3), 0px 1px 3px 1px rgba(60, 64, 67, 0.15);\n",
       "      fill: #174EA6;\n",
       "    }\n",
       "\n",
       "    [theme=dark] .colab-df-convert {\n",
       "      background-color: #3B4455;\n",
       "      fill: #D2E3FC;\n",
       "    }\n",
       "\n",
       "    [theme=dark] .colab-df-convert:hover {\n",
       "      background-color: #434B5C;\n",
       "      box-shadow: 0px 1px 3px 1px rgba(0, 0, 0, 0.15);\n",
       "      filter: drop-shadow(0px 1px 2px rgba(0, 0, 0, 0.3));\n",
       "      fill: #FFFFFF;\n",
       "    }\n",
       "  </style>\n",
       "\n",
       "      <script>\n",
       "        const buttonEl =\n",
       "          document.querySelector('#df-a7b5b218-7d06-47b1-839a-834fe55efa37 button.colab-df-convert');\n",
       "        buttonEl.style.display =\n",
       "          google.colab.kernel.accessAllowed ? 'block' : 'none';\n",
       "\n",
       "        async function convertToInteractive(key) {\n",
       "          const element = document.querySelector('#df-a7b5b218-7d06-47b1-839a-834fe55efa37');\n",
       "          const dataTable =\n",
       "            await google.colab.kernel.invokeFunction('convertToInteractive',\n",
       "                                                     [key], {});\n",
       "          if (!dataTable) return;\n",
       "\n",
       "          const docLinkHtml = 'Like what you see? Visit the ' +\n",
       "            '<a target=\"_blank\" href=https://colab.research.google.com/notebooks/data_table.ipynb>data table notebook</a>'\n",
       "            + ' to learn more about interactive tables.';\n",
       "          element.innerHTML = '';\n",
       "          dataTable['output_type'] = 'display_data';\n",
       "          await google.colab.output.renderOutput(dataTable, element);\n",
       "          const docLink = document.createElement('div');\n",
       "          docLink.innerHTML = docLinkHtml;\n",
       "          element.appendChild(docLink);\n",
       "        }\n",
       "      </script>\n",
       "    </div>\n",
       "  </div>\n",
       "  "
      ],
      "text/plain": [
       "               Close      SMA_15     SMA15_VOL     ATR_15  ST_15D_mean  \\\n",
       "Date                                                                     \n",
       "2011-02-11  2.094807  391.863747  8.534645e+06  10.332820     0.165509   \n",
       "2011-02-14  0.064422  390.702913  8.691460e+06  10.292299     0.172745   \n",
       "2011-02-15 -0.114276  389.218748  8.498033e+06  10.063230     0.171787   \n",
       "2011-02-16  0.333551  387.913332  8.030998e+06   9.747347     0.177893   \n",
       "2011-02-17 -0.419164  387.217084  7.409820e+06   9.312524     0.200314   \n",
       "\n",
       "            RSI_ratio      MACD  \n",
       "Date                             \n",
       "2011-02-11   1.763889  7.607989  \n",
       "2011-02-14   1.437850  5.845293  \n",
       "2011-02-15   1.582266  4.521417  \n",
       "2011-02-16   1.191572  3.653212  \n",
       "2011-02-17   2.023200  2.725008  "
      ]
     },
     "execution_count": 27,
     "metadata": {},
     "output_type": "execute_result"
    }
   ],
   "source": [
    "infy_final.head()"
   ]
  },
  {
   "cell_type": "code",
   "execution_count": null,
   "metadata": {
    "colab": {
     "base_uri": "https://localhost:8080/",
     "height": 269
    },
    "id": "ypQd2oBIEJKF",
    "outputId": "811d657a-f6c4-4155-aff9-509bd863ef00"
   },
   "outputs": [
    {
     "data": {
      "text/html": [
       "\n",
       "  <div id=\"df-149067dd-b9f1-4718-ac62-0fd1f95a1e66\">\n",
       "    <div class=\"colab-df-container\">\n",
       "      <div>\n",
       "<style scoped>\n",
       "    .dataframe tbody tr th:only-of-type {\n",
       "        vertical-align: middle;\n",
       "    }\n",
       "\n",
       "    .dataframe tbody tr th {\n",
       "        vertical-align: top;\n",
       "    }\n",
       "\n",
       "    .dataframe thead th {\n",
       "        text-align: right;\n",
       "    }\n",
       "</style>\n",
       "<table border=\"1\" class=\"dataframe\">\n",
       "  <thead>\n",
       "    <tr style=\"text-align: right;\">\n",
       "      <th></th>\n",
       "      <th>Close</th>\n",
       "      <th>SMA_15</th>\n",
       "      <th>SMA15_VOL</th>\n",
       "      <th>ATR_15</th>\n",
       "      <th>ST_15D_mean</th>\n",
       "      <th>RSI_ratio</th>\n",
       "      <th>MACD</th>\n",
       "    </tr>\n",
       "  </thead>\n",
       "  <tbody>\n",
       "    <tr>\n",
       "      <th>Close</th>\n",
       "      <td>1.000000</td>\n",
       "      <td>-0.007191</td>\n",
       "      <td>0.019839</td>\n",
       "      <td>0.004064</td>\n",
       "      <td>-0.019969</td>\n",
       "      <td>0.004003</td>\n",
       "      <td>0.015879</td>\n",
       "    </tr>\n",
       "    <tr>\n",
       "      <th>SMA_15</th>\n",
       "      <td>-0.007191</td>\n",
       "      <td>1.000000</td>\n",
       "      <td>-0.265063</td>\n",
       "      <td>0.910039</td>\n",
       "      <td>0.063525</td>\n",
       "      <td>-0.026765</td>\n",
       "      <td>-0.086229</td>\n",
       "    </tr>\n",
       "    <tr>\n",
       "      <th>SMA15_VOL</th>\n",
       "      <td>0.019839</td>\n",
       "      <td>-0.265063</td>\n",
       "      <td>1.000000</td>\n",
       "      <td>-0.078163</td>\n",
       "      <td>-0.145735</td>\n",
       "      <td>0.127127</td>\n",
       "      <td>0.087508</td>\n",
       "    </tr>\n",
       "    <tr>\n",
       "      <th>ATR_15</th>\n",
       "      <td>0.004064</td>\n",
       "      <td>0.910039</td>\n",
       "      <td>-0.078163</td>\n",
       "      <td>1.000000</td>\n",
       "      <td>-0.019850</td>\n",
       "      <td>-0.003426</td>\n",
       "      <td>0.003038</td>\n",
       "    </tr>\n",
       "    <tr>\n",
       "      <th>ST_15D_mean</th>\n",
       "      <td>-0.019969</td>\n",
       "      <td>0.063525</td>\n",
       "      <td>-0.145735</td>\n",
       "      <td>-0.019850</td>\n",
       "      <td>1.000000</td>\n",
       "      <td>-0.336469</td>\n",
       "      <td>-0.616085</td>\n",
       "    </tr>\n",
       "    <tr>\n",
       "      <th>RSI_ratio</th>\n",
       "      <td>0.004003</td>\n",
       "      <td>-0.026765</td>\n",
       "      <td>0.127127</td>\n",
       "      <td>-0.003426</td>\n",
       "      <td>-0.336469</td>\n",
       "      <td>1.000000</td>\n",
       "      <td>-0.001980</td>\n",
       "    </tr>\n",
       "    <tr>\n",
       "      <th>MACD</th>\n",
       "      <td>0.015879</td>\n",
       "      <td>-0.086229</td>\n",
       "      <td>0.087508</td>\n",
       "      <td>0.003038</td>\n",
       "      <td>-0.616085</td>\n",
       "      <td>-0.001980</td>\n",
       "      <td>1.000000</td>\n",
       "    </tr>\n",
       "  </tbody>\n",
       "</table>\n",
       "</div>\n",
       "      <button class=\"colab-df-convert\" onclick=\"convertToInteractive('df-149067dd-b9f1-4718-ac62-0fd1f95a1e66')\"\n",
       "              title=\"Convert this dataframe to an interactive table.\"\n",
       "              style=\"display:none;\">\n",
       "        \n",
       "  <svg xmlns=\"http://www.w3.org/2000/svg\" height=\"24px\"viewBox=\"0 0 24 24\"\n",
       "       width=\"24px\">\n",
       "    <path d=\"M0 0h24v24H0V0z\" fill=\"none\"/>\n",
       "    <path d=\"M18.56 5.44l.94 2.06.94-2.06 2.06-.94-2.06-.94-.94-2.06-.94 2.06-2.06.94zm-11 1L8.5 8.5l.94-2.06 2.06-.94-2.06-.94L8.5 2.5l-.94 2.06-2.06.94zm10 10l.94 2.06.94-2.06 2.06-.94-2.06-.94-.94-2.06-.94 2.06-2.06.94z\"/><path d=\"M17.41 7.96l-1.37-1.37c-.4-.4-.92-.59-1.43-.59-.52 0-1.04.2-1.43.59L10.3 9.45l-7.72 7.72c-.78.78-.78 2.05 0 2.83L4 21.41c.39.39.9.59 1.41.59.51 0 1.02-.2 1.41-.59l7.78-7.78 2.81-2.81c.8-.78.8-2.07 0-2.86zM5.41 20L4 18.59l7.72-7.72 1.47 1.35L5.41 20z\"/>\n",
       "  </svg>\n",
       "      </button>\n",
       "      \n",
       "  <style>\n",
       "    .colab-df-container {\n",
       "      display:flex;\n",
       "      flex-wrap:wrap;\n",
       "      gap: 12px;\n",
       "    }\n",
       "\n",
       "    .colab-df-convert {\n",
       "      background-color: #E8F0FE;\n",
       "      border: none;\n",
       "      border-radius: 50%;\n",
       "      cursor: pointer;\n",
       "      display: none;\n",
       "      fill: #1967D2;\n",
       "      height: 32px;\n",
       "      padding: 0 0 0 0;\n",
       "      width: 32px;\n",
       "    }\n",
       "\n",
       "    .colab-df-convert:hover {\n",
       "      background-color: #E2EBFA;\n",
       "      box-shadow: 0px 1px 2px rgba(60, 64, 67, 0.3), 0px 1px 3px 1px rgba(60, 64, 67, 0.15);\n",
       "      fill: #174EA6;\n",
       "    }\n",
       "\n",
       "    [theme=dark] .colab-df-convert {\n",
       "      background-color: #3B4455;\n",
       "      fill: #D2E3FC;\n",
       "    }\n",
       "\n",
       "    [theme=dark] .colab-df-convert:hover {\n",
       "      background-color: #434B5C;\n",
       "      box-shadow: 0px 1px 3px 1px rgba(0, 0, 0, 0.15);\n",
       "      filter: drop-shadow(0px 1px 2px rgba(0, 0, 0, 0.3));\n",
       "      fill: #FFFFFF;\n",
       "    }\n",
       "  </style>\n",
       "\n",
       "      <script>\n",
       "        const buttonEl =\n",
       "          document.querySelector('#df-149067dd-b9f1-4718-ac62-0fd1f95a1e66 button.colab-df-convert');\n",
       "        buttonEl.style.display =\n",
       "          google.colab.kernel.accessAllowed ? 'block' : 'none';\n",
       "\n",
       "        async function convertToInteractive(key) {\n",
       "          const element = document.querySelector('#df-149067dd-b9f1-4718-ac62-0fd1f95a1e66');\n",
       "          const dataTable =\n",
       "            await google.colab.kernel.invokeFunction('convertToInteractive',\n",
       "                                                     [key], {});\n",
       "          if (!dataTable) return;\n",
       "\n",
       "          const docLinkHtml = 'Like what you see? Visit the ' +\n",
       "            '<a target=\"_blank\" href=https://colab.research.google.com/notebooks/data_table.ipynb>data table notebook</a>'\n",
       "            + ' to learn more about interactive tables.';\n",
       "          element.innerHTML = '';\n",
       "          dataTable['output_type'] = 'display_data';\n",
       "          await google.colab.output.renderOutput(dataTable, element);\n",
       "          const docLink = document.createElement('div');\n",
       "          docLink.innerHTML = docLinkHtml;\n",
       "          element.appendChild(docLink);\n",
       "        }\n",
       "      </script>\n",
       "    </div>\n",
       "  </div>\n",
       "  "
      ],
      "text/plain": [
       "                Close    SMA_15  SMA15_VOL    ATR_15  ST_15D_mean  RSI_ratio  \\\n",
       "Close        1.000000 -0.007191   0.019839  0.004064    -0.019969   0.004003   \n",
       "SMA_15      -0.007191  1.000000  -0.265063  0.910039     0.063525  -0.026765   \n",
       "SMA15_VOL    0.019839 -0.265063   1.000000 -0.078163    -0.145735   0.127127   \n",
       "ATR_15       0.004064  0.910039  -0.078163  1.000000    -0.019850  -0.003426   \n",
       "ST_15D_mean -0.019969  0.063525  -0.145735 -0.019850     1.000000  -0.336469   \n",
       "RSI_ratio    0.004003 -0.026765   0.127127 -0.003426    -0.336469   1.000000   \n",
       "MACD         0.015879 -0.086229   0.087508  0.003038    -0.616085  -0.001980   \n",
       "\n",
       "                 MACD  \n",
       "Close        0.015879  \n",
       "SMA_15      -0.086229  \n",
       "SMA15_VOL    0.087508  \n",
       "ATR_15       0.003038  \n",
       "ST_15D_mean -0.616085  \n",
       "RSI_ratio   -0.001980  \n",
       "MACD         1.000000  "
      ]
     },
     "execution_count": 28,
     "metadata": {},
     "output_type": "execute_result"
    }
   ],
   "source": [
    "infy_final.corr()"
   ]
  },
  {
   "cell_type": "code",
   "execution_count": null,
   "metadata": {
    "id": "PDHWk1jhFza_"
   },
   "outputs": [],
   "source": [
    "from sklearn.linear_model import LinearRegression"
   ]
  },
  {
   "cell_type": "code",
   "execution_count": null,
   "metadata": {
    "id": "-h7NbKqGFzQD"
   },
   "outputs": [],
   "source": [
    "model = LinearRegression()"
   ]
  },
  {
   "cell_type": "code",
   "execution_count": null,
   "metadata": {
    "colab": {
     "background_save": true
    },
    "id": "KuDRIO55GMNx"
   },
   "outputs": [],
   "source": [
    "target = infy_final[\"Close\"]\n",
    "# infy_final.drop('SMA15_VOL')\n",
    "featrues = infy_final[['SMA_15','ATR_15','ST_15D_mean','RSI_ratio']]"
   ]
  },
  {
   "cell_type": "code",
   "execution_count": null,
   "metadata": {
    "id": "f5aepDvYGUXC"
   },
   "outputs": [],
   "source": [
    "train_target = target[:2500]\n",
    "test_target = target[2500:]\n",
    "train_features = featrues[:2500]\n",
    "test_feutures = featrues[2500:]"
   ]
  },
  {
   "cell_type": "code",
   "execution_count": null,
   "metadata": {
    "id": "nDU4iB-bHeh8"
   },
   "outputs": [],
   "source": [
    "traom/"
   ]
  },
  {
   "cell_type": "code",
   "execution_count": null,
   "metadata": {
    "colab": {
     "base_uri": "https://localhost:8080/"
    },
    "id": "Y_bdF6lwGUSf",
    "outputId": "4e6c8685-8b99-47e9-810f-2317117645fe"
   },
   "outputs": [
    {
     "data": {
      "text/plain": [
       "LinearRegression()"
      ]
     },
     "execution_count": 39,
     "metadata": {},
     "output_type": "execute_result"
    }
   ],
   "source": [
    "model.fit(train_features,train_target)"
   ]
  },
  {
   "cell_type": "code",
   "execution_count": null,
   "metadata": {
    "colab": {
     "base_uri": "https://localhost:8080/"
    },
    "id": "oRUbva4cGUBp",
    "outputId": "65aad682-5b4c-4d0a-9ce3-6d291795033b"
   },
   "outputs": [
    {
     "data": {
      "text/plain": [
       "SMA_15         1.880713e+03\n",
       "SMA15_VOL      1.043036e+07\n",
       "ATR_15         5.067703e+01\n",
       "ST_15D_mean    9.305907e-01\n",
       "RSI_ratio      3.516179e+00\n",
       "MACD           1.001390e+02\n",
       "dtype: float64"
      ]
     },
     "execution_count": 43,
     "metadata": {},
     "output_type": "execute_result"
    }
   ],
   "source": [
    "test_feautures.max()"
   ]
  },
  {
   "cell_type": "markdown",
   "source": [
    "##Model 1: N-BEATS ALGO"
   ],
   "metadata": {
    "id": "qcz2EdYSHL_8"
   }
  },
  {
   "cell_type": "code",
   "source": [
    "n_stacks = 10\n",
    "n_blocks = 5\n",
    "N_NEURONS = 512\n",
    "N_LAYERS = 4"
   ],
   "metadata": {
    "id": "6_d5MZCurydy"
   },
   "execution_count": null,
   "outputs": []
  },
  {
   "cell_type": "code",
   "source": [
    "N_mod_7 = make_stacks(inputs=inp_7,n_stacks=n_stacks,n_blocks=n_blocks,\n",
    "                      input_size=7,theta_size=8,\n",
    "                                            horizon=1,n_neurons=N_NEURONS,\n",
    "                                                                  n_layers=N_LAYERS)"
   ],
   "metadata": {
    "id": "7zDA4txStQX1",
    "colab": {
     "base_uri": "https://localhost:8080/",
     "height": 219
    },
    "outputId": "883e548d-5abb-4c29-9415-01fa5895d4b7"
   },
   "execution_count": null,
   "outputs": [
    {
     "output_type": "error",
     "ename": "NameError",
     "evalue": "ignored",
     "traceback": [
      "\u001B[0;31m---------------------------------------------------------------------------\u001B[0m",
      "\u001B[0;31mNameError\u001B[0m                                 Traceback (most recent call last)",
      "\u001B[0;32m<ipython-input-14-b1d57dc59721>\u001B[0m in \u001B[0;36m<module>\u001B[0;34m\u001B[0m\n\u001B[0;32m----> 1\u001B[0;31m N_mod_7 = make_stacks(inputs=inp_7,n_stacks=n_stacks,n_blocks=n_blocks,\n\u001B[0m\u001B[1;32m      2\u001B[0m                       \u001B[0minput_size\u001B[0m\u001B[0;34m=\u001B[0m\u001B[0;36m7\u001B[0m\u001B[0;34m,\u001B[0m\u001B[0mtheta_size\u001B[0m\u001B[0;34m=\u001B[0m\u001B[0;36m8\u001B[0m\u001B[0;34m,\u001B[0m\u001B[0;34m\u001B[0m\u001B[0;34m\u001B[0m\u001B[0m\n\u001B[1;32m      3\u001B[0m                                             \u001B[0mhorizon\u001B[0m\u001B[0;34m=\u001B[0m\u001B[0;36m1\u001B[0m\u001B[0;34m,\u001B[0m\u001B[0mn_neurons\u001B[0m\u001B[0;34m=\u001B[0m\u001B[0mN_NEURONS\u001B[0m\u001B[0;34m,\u001B[0m\u001B[0;34m\u001B[0m\u001B[0;34m\u001B[0m\u001B[0m\n\u001B[1;32m      4\u001B[0m                                                                   n_layers=N_LAYERS)\n",
      "\u001B[0;31mNameError\u001B[0m: name 'inp_7' is not defined"
     ]
    }
   ]
  },
  {
   "cell_type": "code",
   "source": [
    "inputs = tf.keras.layers.Input(shape=(7,))\n",
    "body = make_stacks(inputs=inputs,n_stacks=n_stacks,n_blocks=n_blocks,\n",
    "                   input_size=7,theta_size=8,horizon=1,\n",
    "                   n_neurons=N_NEURONS,\n",
    "                   n_layers=N_LAYERS)\n",
    "\n",
    "model_1 = tf.keras.Model(inputs=inputs,outputs=body)"
   ],
   "metadata": {
    "id": "DqOSsHQdsc_P"
   },
   "execution_count": null,
   "outputs": []
  },
  {
   "cell_type": "code",
   "source": [
    "model_1.compile(loss='mse',\n",
    "                optimizer='adam',\n",
    "                metrics=['mae'])"
   ],
   "metadata": {
    "id": "z9jM02PstnlG"
   },
   "execution_count": null,
   "outputs": []
  },
  {
   "cell_type": "code",
   "source": [
    "history_1 = model_1.fit(train_dataset,\n",
    "                        epochs=7,\n",
    "                        validation_data=test_dataset,\n",
    "                        shuffle=False)"
   ],
   "metadata": {
    "id": "n7aXqEYmtt31",
    "colab": {
     "base_uri": "https://localhost:8080/"
    },
    "outputId": "cfa2912b-a5da-4cf6-f8ce-c432019f4c12"
   },
   "execution_count": null,
   "outputs": [
    {
     "output_type": "stream",
     "name": "stdout",
     "text": [
      "Epoch 1/7\n",
      "75/75 [==============================] - 31s 68ms/step - loss: 155.6594 - mae: 3.4894 - val_loss: 3.4188 - val_mae: 1.4100\n",
      "Epoch 2/7\n",
      "75/75 [==============================] - 3s 41ms/step - loss: 3.4713 - mae: 1.2347 - val_loss: 2.6433 - val_mae: 1.2399\n",
      "Epoch 3/7\n",
      "75/75 [==============================] - 3s 42ms/step - loss: 3.3012 - mae: 1.2145 - val_loss: 2.8114 - val_mae: 1.2763\n",
      "Epoch 4/7\n",
      "75/75 [==============================] - 3s 41ms/step - loss: 3.2431 - mae: 1.2092 - val_loss: 2.8243 - val_mae: 1.2780\n",
      "Epoch 5/7\n",
      "75/75 [==============================] - 3s 41ms/step - loss: 3.1711 - mae: 1.1998 - val_loss: 2.7262 - val_mae: 1.2586\n",
      "Epoch 6/7\n",
      "75/75 [==============================] - 3s 42ms/step - loss: 3.1029 - mae: 1.1897 - val_loss: 2.7178 - val_mae: 1.2598\n",
      "Epoch 7/7\n",
      "75/75 [==============================] - 3s 41ms/step - loss: 3.0399 - mae: 1.1802 - val_loss: 2.7190 - val_mae: 1.2606\n"
     ]
    }
   ]
  },
  {
   "cell_type": "code",
   "source": [
    "y_pred = []\n",
    "y_true = []\n",
    "for i,j in test_dataset:\n",
    "  y_pred.append(model_1(i))\n",
    "  y_true.append(j)"
   ],
   "metadata": {
    "id": "UbzI33tcFMWk"
   },
   "execution_count": null,
   "outputs": []
  },
  {
   "cell_type": "code",
   "source": [
    "y_pred_f = tf.squeeze(tf.concat(y_pred,axis=0))\n",
    "y_true_f = tf.squeeze(tf.concat(y_true,axis=0))"
   ],
   "metadata": {
    "id": "DoIGBjT1GoOj"
   },
   "execution_count": null,
   "outputs": []
  },
  {
   "cell_type": "code",
   "source": [],
   "metadata": {
    "colab": {
     "base_uri": "https://localhost:8080/"
    },
    "id": "5Ov8TjczIXBQ",
    "outputId": "7157064c-7a96-42d7-f534-2a1e46398e1d"
   },
   "execution_count": null,
   "outputs": [
    {
     "output_type": "execute_result",
     "data": {
      "text/plain": [
       "594"
      ]
     },
     "metadata": {},
     "execution_count": 66
    }
   ]
  },
  {
   "cell_type": "code",
   "source": [
    "plt.plot(y_pred_f[-50:],label='Y_pred')\n",
    "plt.plot(y_true_f[-50:],label='Y_true')\n",
    "plt.legend()\n",
    "plt.show()"
   ],
   "metadata": {
    "colab": {
     "base_uri": "https://localhost:8080/",
     "height": 265
    },
    "id": "WPPeLvXOILHC",
    "outputId": "4b4d4b73-ea47-4496-8eb7-ae292e9911d3"
   },
   "execution_count": null,
   "outputs": [
    {
     "output_type": "display_data",
     "data": {
      "text/plain": [
       "<Figure size 432x288 with 1 Axes>"
      ],
      "image/png": "[encoded data removed]"
     },
     "metadata": {
      "needs_background": "light"
     }
    }
   ]
  }
 ],
 "metadata": {
  "colab": {
   "collapsed_sections": [
    "kNF9KmaTfhw_",
    "sggV4BesF8mk",
    "cRY0ZCnujxDd",
    "gaJtzHyAukq8",
    "Y1aYrnCs0-Y4",
    "9o7VgSRHUdPP",
    "5TRiOL1zN0fY",
    "hdUAKUJI8RVF",
    "rl94ZwngGODN",
    "C1M6w6wzXWms"
   ],
   "toc_visible": true,
   "provenance": []
  },
  "gpuClass": "standard",
  "kernelspec": {
   "display_name": "Python 3",
   "name": "python3"
  },
  "language_info": {
   "name": "python"
  },
  "accelerator": "GPU"
 },
 "nbformat": 4,
 "nbformat_minor": 0
}
