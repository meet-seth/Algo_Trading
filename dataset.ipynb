{
 "cells": [
  {
   "cell_type": "code",
   "execution_count": 21,
   "metadata": {
    "collapsed": true
   },
   "outputs": [],
   "source": [
    "from finance_analysis import FinancialInstrument as fi\n",
    "import numpy as np\n",
    "import pandas as pd\n",
    "import matplotlib.pyplot as plt\n",
    "from itertools import product\n",
    "\n",
    "class Stock_Dataset(fi):\n",
    "    def __init__(self,windows: list,horizons: list,intercross: bool,lookover: bool,**kwargs):\n",
    "        \"\"\"\n",
    "        This class creates multiple datasets with varying windows and varying horizons so that multiple datasets\n",
    "        can be created quickly.\n",
    "        :param windows: List of windows to be produced. i.e if window is 7 then number of prices in X would be 7\n",
    "        :param horizons: List of horizons to be produced. i.e. if horizon is 1 then Y will have price movement for 1 day.\n",
    "        :param intercross: if true: eg. if windows = [5,7] and horizon = [2,3] then dataset produced would have\n",
    "        [(5,2),(5,3),(7,2),(7,3)] windows and horizon pair respectively.\n",
    "        else: the window horizon pair would be [(5,2),(7,3)]\n",
    "        :param lookover: if true then single day windows would have prices for that day only not for the previous day where as otherwise\n",
    "        they would have prices from previous day too. It is specifically for intra-day trading where we might not want previous day's prices to\n",
    "        affect the model.\n",
    "        :param kwargs: keyword arguments for Financial Instrument class which are ticker, start, end and interval specifically.\n",
    "        \"\"\"\n",
    "        super().__init__(**kwargs)\n",
    "        self.windows = windows\n",
    "        self.horizons = horizons\n",
    "        self.lookover = lookover\n",
    "        self.intercross = intercross\n",
    "\n",
    "    def create_dataset(self):\n",
    "        self.dataset = {}\n",
    "        if self.intercross:\n",
    "            wh_list = list(product(self.windows,self.horizons))\n",
    "        else:\n",
    "            wh_list = [(i,j) for i,j in zip(self.windows,self.horizons)]\n",
    "\n",
    "        for (i,j) in wh_list:\n",
    "            tmp_dataset = self.create_windows_horizons(i,j)\n",
    "            self.dataset[f'data_{i}_{j}'] = tmp_dataset\n",
    "\n",
    "\n",
    "    def w_h(self,data,window,horizon):\n",
    "        data['position'] = np.log(data.price / data.price.shift(horizon)).apply(lambda x: 1 if x>=0 else -1)\n",
    "        data.dropna(inplace=True)\n",
    "        for i in range(1,window+1):\n",
    "            col = f't-{i}'\n",
    "            data[col] = data.log_returns.shift(i)\n",
    "\n",
    "        data.dropna(inplace=True)\n",
    "        return data.copy()\n",
    "\n",
    "    def create_windows_horizons(self,window,horizon):\n",
    "        if self.lookover:\n",
    "            grp = self.data.groupby(pd.Grouper(freq='D'))\n",
    "            data_f = None\n",
    "            for (t,val) in grp:\n",
    "                val_2 = val.copy()\n",
    "                tmp_data = self.w_h(val_2,window,horizon)\n",
    "                if data_f is None:\n",
    "                    data_f = tmp_data\n",
    "                else:\n",
    "                    data_f = pd.concat([data_f,tmp_data])\n",
    "\n",
    "        else:\n",
    "            data_f = self.w_h(self.data.copy(),window,horizon)\n",
    "\n",
    "        return data_f\n",
    "\n"
   ]
  },
  {
   "cell_type": "code",
   "execution_count": 46,
   "outputs": [
    {
     "name": "stdout",
     "output_type": "stream",
     "text": [
      "[*********************100%***********************]  1 of 1 completed\n"
     ]
    }
   ],
   "source": [
    "tata_data = Stock_Dataset(windows=[10],horizons=[3],intercross=False,lookover=False,ticker='TATAMOTORS.NS',start='2018-01-01',end=pd.Timestamp.today(),interval='1D')"
   ],
   "metadata": {
    "collapsed": false
   }
  },
  {
   "cell_type": "code",
   "execution_count": 22,
   "outputs": [
    {
     "name": "stdout",
     "output_type": "stream",
     "text": [
      "[*********************100%***********************]  1 of 1 completed\n"
     ]
    }
   ],
   "source": [
    "infy_data = Stock_Dataset(windows=[10],horizons=[3],intercross=False,lookover=False,ticker='INFY.NS',start='2018-01-01',end=pd.Timestamp.today(),interval='1D')"
   ],
   "metadata": {
    "collapsed": false
   }
  },
  {
   "cell_type": "code",
   "execution_count": 44,
   "outputs": [
    {
     "data": {
      "text/plain": "5.303444152856573"
     },
     "execution_count": 44,
     "metadata": {},
     "output_type": "execute_result"
    }
   ],
   "source": [
    "np.log(infy_data.data.price / infy_data.data.price.shift(3)).dropna().iloc[::3].apply(lambda x: x if x>=0 else 0).sum()"
   ],
   "metadata": {
    "collapsed": false
   }
  },
  {
   "cell_type": "code",
   "execution_count": 58,
   "outputs": [
    {
     "data": {
      "text/plain": "Date\n2018-01-04 00:00:00+05:30    0.012875\n2018-01-09 00:00:00+05:30    0.017522\n2018-01-12 00:00:00+05:30   -0.001029\n2018-01-17 00:00:00+05:30   -0.032908\n2018-01-22 00:00:00+05:30   -0.002486\n                               ...   \n2023-02-14 00:00:00+05:30    0.008663\n2023-02-17 00:00:00+05:30   -0.001477\n2023-02-22 00:00:00+05:30   -0.024042\n2023-02-27 00:00:00+05:30   -0.027144\n2023-03-02 00:00:00+05:30    0.005964\nName: price, Length: 426, dtype: float64"
     },
     "execution_count": 58,
     "metadata": {},
     "output_type": "execute_result"
    }
   ],
   "source": [
    "np.log(tata_data.data.price / tata_data.data.price.shift(3)).dropna().iloc[::3] #.apply(lambda x: x if x>=0 else 0).sum()"
   ],
   "metadata": {
    "collapsed": false
   }
  },
  {
   "cell_type": "code",
   "execution_count": 89,
   "outputs": [
    {
     "name": "stdout",
     "output_type": "stream",
     "text": [
      "8.931071044530674\n",
      "6.030765331238655\n",
      "5.873857402438013\n"
     ]
    }
   ],
   "source": [
    "resampled_first = infy_data.data.price.resample('3D').first()\n",
    "resampled_last = infy_data.data.price.iloc[2:].resample('3D').first()\n",
    "resampled_mid = infy_data.data.price.iloc[1:].resample('3D').first()\n",
    "funct = (lambda x: x if x>=0 else 0)\n",
    "log_1 = np.log(resampled_first / resampled_first.shift(1))\n",
    "log_2 = np.log(resampled_mid/ resampled_mid.shift(1))\n",
    "log_3 = np.log(resampled_last / resampled_last.shift(1))\n",
    "print(log.apply(funct).sum())\n",
    "print(log_2.apply(funct).sum())\n",
    "print(log_3.apply(funct).sum())"
   ],
   "metadata": {
    "collapsed": false
   }
  },
  {
   "cell_type": "code",
   "execution_count": 85,
   "outputs": [
    {
     "data": {
      "text/plain": "Date\n2018-01-03 00:00:00+05:30    433.899994\n2018-01-06 00:00:00+05:30    433.549988\n2018-01-09 00:00:00+05:30    437.549988\n2018-01-12 00:00:00+05:30    437.100006\n2018-01-15 00:00:00+05:30    432.350006\n                                ...    \n2023-02-18 00:00:00+05:30    443.000000\n2023-02-21 00:00:00+05:30    436.500000\n2023-02-24 00:00:00+05:30    427.750000\n2023-02-27 00:00:00+05:30    417.950012\n2023-03-02 00:00:00+05:30    420.450012\nFreq: 3D, Name: price, Length: 629, dtype: float64"
     },
     "execution_count": 85,
     "metadata": {},
     "output_type": "execute_result"
    }
   ],
   "source": [
    "resampled_last"
   ],
   "metadata": {
    "collapsed": false
   }
  },
  {
   "cell_type": "code",
   "execution_count": 72,
   "outputs": [
    {
     "name": "stdout",
     "output_type": "stream",
     "text": [
      "Date\n",
      "2018-01-01 00:00:00+05:30           NaN\n",
      "2018-01-04 00:00:00+05:30    424.450012\n",
      "2018-01-09 00:00:00+05:30    429.950012\n",
      "2018-01-12 00:00:00+05:30    437.549988\n",
      "2018-01-17 00:00:00+05:30    437.100006\n",
      "Name: price, dtype: float64\n"
     ]
    }
   ],
   "source": [
    "print(tata_data.data.price.shift(3).iloc[::3].head())"
   ],
   "metadata": {
    "collapsed": false
   }
  },
  {
   "cell_type": "code",
   "execution_count": null,
   "outputs": [],
   "source": [],
   "metadata": {
    "collapsed": false
   }
  }
 ],
 "metadata": {
  "kernelspec": {
   "display_name": "Python 3",
   "language": "python",
   "name": "python3"
  },
  "language_info": {
   "codemirror_mode": {
    "name": "ipython",
    "version": 2
   },
   "file_extension": ".py",
   "mimetype": "text/x-python",
   "name": "python",
   "nbconvert_exporter": "python",
   "pygments_lexer": "ipython2",
   "version": "2.7.6"
  }
 },
 "nbformat": 4,
 "nbformat_minor": 0
}
