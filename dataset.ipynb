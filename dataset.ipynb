{
 "cells": [
  {
   "cell_type": "code",
   "execution_count": 21,
   "metadata": {
    "collapsed": true
   },
   "outputs": [],
   "source": [
    "import sklearn.preprocessing\n",
    "\n",
    "from finance_analysis import FinancialInstrument as fi\n",
    "import numpy as np\n",
    "import pandas as pd\n",
    "import matplotlib.pyplot as plt\n",
    "from itertools import product\n",
    "\n",
    "class Stock_Dataset(fi):\n",
    "    def __init__(self,windows: list,horizons: list,intercross: bool,lookover: bool,**kwargs):\n",
    "        \"\"\"\n",
    "        This class creates multiple datasets with varying windows and varying horizons so that multiple datasets\n",
    "        can be created quickly.\n",
    "        :param windows: List of windows to be produced. i.e if window is 7 then number of prices in X would be 7\n",
    "        :param horizons: List of horizons to be produced. i.e. if horizon is 1 then Y will have price movement for 1 day.\n",
    "        :param intercross: if true: eg. if windows = [5,7] and horizon = [2,3] then dataset produced would have\n",
    "        [(5,2),(5,3),(7,2),(7,3)] windows and horizon pair respectively.\n",
    "        else: the window horizon pair would be [(5,2),(7,3)]\n",
    "        :param lookover: if true then single day windows would have prices for that day only not for the previous day where as otherwise\n",
    "        they would have prices from previous day too. It is specifically for intra-day trading where we might not want previous day's prices to\n",
    "        affect the model.\n",
    "        :param kwargs: keyword arguments for Financial Instrument class which are ticker, start, end and interval specifically.\n",
    "        \"\"\"\n",
    "        super().__init__(**kwargs)\n",
    "        self.windows = windows\n",
    "        self.horizons = horizons\n",
    "        self.lookover = lookover\n",
    "        self.intercross = intercross\n",
    "\n",
    "    def create_dataset(self):\n",
    "        self.dataset = {}\n",
    "        if self.intercross:\n",
    "            wh_list = list(product(self.windows,self.horizons))\n",
    "        else:\n",
    "            wh_list = [(i,j) for i,j in zip(self.windows,self.horizons)]\n",
    "\n",
    "        for (i,j) in wh_list:\n",
    "            tmp_dataset = self.create_windows_horizons(i,j)\n",
    "            self.dataset[f'data_{i}_{j}'] = tmp_dataset\n",
    "\n",
    "\n",
    "    def w_h(self,data,window,horizon):\n",
    "        data['position'] = np.log(data.price / data.price.shift(horizon)).apply(lambda x: 1 if x>=0 else -1)\n",
    "        data.dropna(inplace=True)\n",
    "        for i in range(1,window+1):\n",
    "            col = f't-{i}'\n",
    "            data[col] = data.log_returns.shift(i)\n",
    "\n",
    "        data.dropna(inplace=True)\n",
    "        return data.copy()\n",
    "\n",
    "    def create_windows_horizons(self,window,horizon):\n",
    "        if self.lookover:\n",
    "            grp = self.data.groupby(pd.Grouper(freq='D'))\n",
    "            data_f = None\n",
    "            for (t,val) in grp:\n",
    "                val_2 = val.copy()\n",
    "                tmp_data = self.w_h(val_2,window,horizon)\n",
    "                if data_f is None:\n",
    "                    data_f = tmp_data\n",
    "                else:\n",
    "                    data_f = pd.concat([data_f,tmp_data])\n",
    "\n",
    "        else:\n",
    "            data_f = self.w_h(self.data.copy(),window,horizon)\n",
    "\n",
    "        return data_f\n",
    "\n"
   ]
  },
  {
   "cell_type": "code",
   "execution_count": 46,
   "outputs": [
    {
     "name": "stdout",
     "output_type": "stream",
     "text": [
      "[*********************100%***********************]  1 of 1 completed\n"
     ]
    }
   ],
   "source": [
    "tata_data = Stock_Dataset(windows=[10],horizons=[3],intercross=False,lookover=False,ticker='TATAMOTORS.NS',start='2018-01-01',end=pd.Timestamp.today(),interval='1D')"
   ],
   "metadata": {
    "collapsed": false
   }
  },
  {
   "cell_type": "code",
   "execution_count": 22,
   "outputs": [
    {
     "name": "stdout",
     "output_type": "stream",
     "text": [
      "[*********************100%***********************]  1 of 1 completed\n"
     ]
    }
   ],
   "source": [
    "infy_data = Stock_Dataset(windows=[10],horizons=[3],intercross=False,lookover=False,ticker='INFY.NS',start='2018-01-01',end=pd.Timestamp.today(),interval='1D')"
   ],
   "metadata": {
    "collapsed": false
   }
  },
  {
   "cell_type": "code",
   "execution_count": 97,
   "outputs": [],
   "source": [
    "tata_data.create_dataset()"
   ],
   "metadata": {
    "collapsed": false
   }
  },
  {
   "cell_type": "code",
   "execution_count": 103,
   "outputs": [
    {
     "data": {
      "text/plain": "Date\n2018-01-16 00:00:00+05:30   -1\n2018-01-17 00:00:00+05:30   -1\n2018-01-18 00:00:00+05:30   -1\n2018-01-19 00:00:00+05:30    1\n2018-01-22 00:00:00+05:30    1\nName: position, dtype: int64"
     },
     "execution_count": 103,
     "metadata": {},
     "output_type": "execute_result"
    }
   ],
   "source": [
    "tata_data.dataset['data_10_3'].position.head()"
   ],
   "metadata": {
    "collapsed": false
   }
  },
  {
   "cell_type": "code",
   "execution_count": 104,
   "outputs": [
    {
     "data": {
      "text/plain": "-1    642\n 1    627\nName: position, dtype: int64"
     },
     "execution_count": 104,
     "metadata": {},
     "output_type": "execute_result"
    }
   ],
   "source": [
    "tata_data.dataset['data_10_3'].position.value_counts()"
   ],
   "metadata": {
    "collapsed": false
   }
  },
  {
   "cell_type": "code",
   "execution_count": 44,
   "outputs": [
    {
     "data": {
      "text/plain": "5.303444152856573"
     },
     "execution_count": 44,
     "metadata": {},
     "output_type": "execute_result"
    }
   ],
   "source": [
    "np.log(infy_data.data.price / infy_data.data.price.shift(3)).dropna().iloc[::3].apply(lambda x: x if x>=0 else 0).sum()"
   ],
   "metadata": {
    "collapsed": false
   }
  },
  {
   "cell_type": "code",
   "execution_count": 58,
   "outputs": [
    {
     "data": {
      "text/plain": "Date\n2018-01-04 00:00:00+05:30    0.012875\n2018-01-09 00:00:00+05:30    0.017522\n2018-01-12 00:00:00+05:30   -0.001029\n2018-01-17 00:00:00+05:30   -0.032908\n2018-01-22 00:00:00+05:30   -0.002486\n                               ...   \n2023-02-14 00:00:00+05:30    0.008663\n2023-02-17 00:00:00+05:30   -0.001477\n2023-02-22 00:00:00+05:30   -0.024042\n2023-02-27 00:00:00+05:30   -0.027144\n2023-03-02 00:00:00+05:30    0.005964\nName: price, Length: 426, dtype: float64"
     },
     "execution_count": 58,
     "metadata": {},
     "output_type": "execute_result"
    }
   ],
   "source": [
    "np.log(tata_data.data.price / tata_data.data.price.shift(3)).dropna().iloc[::3] #.apply(lambda x: x if x>=0 else 0).sum()"
   ],
   "metadata": {
    "collapsed": false
   }
  },
  {
   "cell_type": "code",
   "execution_count": 89,
   "outputs": [
    {
     "name": "stdout",
     "output_type": "stream",
     "text": [
      "8.931071044530674\n",
      "6.030765331238655\n",
      "5.873857402438013\n"
     ]
    }
   ],
   "source": [
    "resampled_first = infy_data.data.price.resample('3D').first()\n",
    "resampled_last = infy_data.data.price.iloc[2:].resample('3D').first()\n",
    "resampled_mid = infy_data.data.price.iloc[1:].resample('3D').first()\n",
    "funct = (lambda x: x if x>=0 else 0)\n",
    "log_1 = np.log(resampled_first / resampled_first.shift(1))\n",
    "log_2 = np.log(resampled_mid/ resampled_mid.shift(1))\n",
    "log_3 = np.log(resampled_last / resampled_last.shift(1))\n",
    "# print(log.apply(funct).sum())\n",
    "print(log_2.apply(funct).sum())\n",
    "print(log_3.apply(funct).sum())"
   ],
   "metadata": {
    "collapsed": false
   }
  },
  {
   "cell_type": "code",
   "execution_count": 85,
   "outputs": [
    {
     "data": {
      "text/plain": "Date\n2018-01-03 00:00:00+05:30    433.899994\n2018-01-06 00:00:00+05:30    433.549988\n2018-01-09 00:00:00+05:30    437.549988\n2018-01-12 00:00:00+05:30    437.100006\n2018-01-15 00:00:00+05:30    432.350006\n                                ...    \n2023-02-18 00:00:00+05:30    443.000000\n2023-02-21 00:00:00+05:30    436.500000\n2023-02-24 00:00:00+05:30    427.750000\n2023-02-27 00:00:00+05:30    417.950012\n2023-03-02 00:00:00+05:30    420.450012\nFreq: 3D, Name: price, Length: 629, dtype: float64"
     },
     "execution_count": 85,
     "metadata": {},
     "output_type": "execute_result"
    }
   ],
   "source": [
    "resampled_last"
   ],
   "metadata": {
    "collapsed": false
   }
  },
  {
   "cell_type": "code",
   "execution_count": 72,
   "outputs": [
    {
     "name": "stdout",
     "output_type": "stream",
     "text": [
      "Date\n",
      "2018-01-01 00:00:00+05:30           NaN\n",
      "2018-01-04 00:00:00+05:30    424.450012\n",
      "2018-01-09 00:00:00+05:30    429.950012\n",
      "2018-01-12 00:00:00+05:30    437.549988\n",
      "2018-01-17 00:00:00+05:30    437.100006\n",
      "Name: price, dtype: float64\n"
     ]
    }
   ],
   "source": [
    "print(tata_data.data.price.shift(3).iloc[::3].head())"
   ],
   "metadata": {
    "collapsed": false
   }
  },
  {
   "cell_type": "code",
   "execution_count": 90,
   "outputs": [
    {
     "data": {
      "text/plain": "3348.3999633789062"
     },
     "execution_count": 90,
     "metadata": {},
     "output_type": "execute_result"
    }
   ],
   "source": [
    "tata_data.data.price.diff(1).apply(lambda x: x if x>=0 else 0).sum()"
   ],
   "metadata": {
    "collapsed": false
   }
  },
  {
   "cell_type": "code",
   "execution_count": 92,
   "outputs": [
    {
     "data": {
      "text/plain": "424.45001220703125"
     },
     "execution_count": 92,
     "metadata": {},
     "output_type": "execute_result"
    }
   ],
   "source": [
    "tata_data.data.price[0]"
   ],
   "metadata": {
    "collapsed": false
   }
  },
  {
   "cell_type": "code",
   "execution_count": 93,
   "outputs": [
    {
     "data": {
      "text/plain": "7.89622641509434"
     },
     "execution_count": 93,
     "metadata": {},
     "output_type": "execute_result"
    }
   ],
   "source": [
    "3348/424"
   ],
   "metadata": {
    "collapsed": false
   }
  },
  {
   "cell_type": "code",
   "execution_count": 49,
   "outputs": [],
   "source": [
    "from finance_analysis import FinancialInstrument as fi\n",
    "import numpy as np\n",
    "import pandas as pd\n",
    "import matplotlib.pyplot as plt\n",
    "from itertools import product\n",
    "\n",
    "class Stock_Dataset(fi):\n",
    "    def __init__(self,**kwargs):\n",
    "        super().__init__(**kwargs)\n",
    "        self.dataset = None\n",
    "\n",
    "    def create_dataset(self,qty=3,window=None,horizon=None):\n",
    "        self.window = window\n",
    "        self.horizon = horizon\n",
    "        self.qty=qty\n",
    "        signal_dict = {}\n",
    "        for i in range(len(self.data)-self.horizon):\n",
    "            price_on_day = self.data.price[i]\n",
    "            for j in range(1,self.horizon+1):\n",
    "                if f't+{j}' not in signal_dict.keys():\n",
    "                    signal_dict[f't+{j}'] = []\n",
    "                f_price = self.data.price.iloc[i+j]\n",
    "                turnover = self.qty*(f_price+price_on_day)\n",
    "                stt = round(0.1*turnover/100)\n",
    "                txn_nse = round(0.00345*turnover/100,2)\n",
    "                gst = round(18/100*txn_nse,2)\n",
    "                stamp = round(0.015/100*qty*self.data.price.iloc[i])\n",
    "                dp = 15.94\n",
    "                tax = stt+txn_nse+gst+stamp+dp\n",
    "                s_pnl = f_price - price_on_day\n",
    "                if s_pnl>0:\n",
    "                    pnl = s_pnl-tax\n",
    "                    if pnl>0:\n",
    "                        signal_dict[f't+{j}'].append(1)\n",
    "                    else:\n",
    "                        signal_dict[f't+{j}'].append(0)\n",
    "                else:\n",
    "                    pnl = s_pnl + tax\n",
    "                    if pnl>0:\n",
    "                        signal_dict[f't+{j}'].append(0)\n",
    "                    else:\n",
    "                        signal_dict[f't+{j}'].append(-1)\n",
    "\n",
    "\n",
    "        for i in signal_dict.keys():\n",
    "            self.data[i] = signal_dict[i]+[None]*self.horizon\n",
    "\n",
    "        for i in range(1,self.window):\n",
    "            self.data[f't-{i}'] = self.data.log_returns.shift(i)\n",
    "\n",
    "        key_ls = []\n",
    "        for k in range(-self.window+1,self.horizon+1):\n",
    "            if k==0:\n",
    "                key = 'log_returns'\n",
    "            else:\n",
    "                key = f't+{k}' if k>0 else f't{k}'\n",
    "            key_ls.append(key)\n",
    "\n",
    "        self.data[key_ls].dropna(inplace=True)\n",
    "\n",
    "        new_targets = []\n",
    "        target_ls = [f't+{i}' for i in range(1,self.horizon+1)]\n",
    "        target_array = self.data[target_ls].to_numpy().astype(np.int32)\n",
    "        for i in target_array:\n",
    "            n_zero = 0\n",
    "            for j in i:\n",
    "                if j!=0:\n",
    "                    n_zero=1\n",
    "                    new_targets.append(j)\n",
    "                    break\n",
    "            if n_zero==0:\n",
    "                new_targets.append(0)\n",
    "        self.data['final_targets'] = new_targets\n",
    "\n",
    "        key_ls = ['price'] + key_ls + ['final_targets']\n",
    "        self.dataset = self.data[key_ls].dropna().copy()\n",
    "        return self.dataset\n"
   ],
   "metadata": {
    "collapsed": false
   }
  },
  {
   "cell_type": "code",
   "execution_count": 51,
   "outputs": [
    {
     "name": "stdout",
     "output_type": "stream",
     "text": [
      "[*********************100%***********************]  1 of 1 completed\n"
     ]
    }
   ],
   "source": [
    "tata_stock = Stock_Dataset(ticker='TATAMOTORS.NS',start='2011-01-01',end=pd.Timestamp.today(),interval='1D')"
   ],
   "metadata": {
    "collapsed": false
   }
  },
  {
   "cell_type": "code",
   "execution_count": 55,
   "outputs": [
    {
     "name": "stderr",
     "output_type": "stream",
     "text": [
      "/tmp/ipykernel_6804/271236298.py:59: SettingWithCopyWarning: \n",
      "A value is trying to be set on a copy of a slice from a DataFrame\n",
      "\n",
      "See the caveats in the documentation: https://pandas.pydata.org/pandas-docs/stable/user_guide/indexing.html#returning-a-view-versus-a-copy\n",
      "  self.data[key_ls].dropna(inplace=True)\n"
     ]
    }
   ],
   "source": [
    "tata_ds = tata_stock.create_dataset(qty=3,window=20,horizon=10)"
   ],
   "metadata": {
    "collapsed": false
   }
  },
  {
   "cell_type": "code",
   "execution_count": 56,
   "outputs": [
    {
     "data": {
      "text/plain": " 0    1055\n 1     971\n-1     961\nName: final_targets, dtype: int64"
     },
     "execution_count": 56,
     "metadata": {},
     "output_type": "execute_result"
    }
   ],
   "source": [
    "tata_ds.final_targets.value_counts()"
   ],
   "metadata": {
    "collapsed": false
   }
  },
  {
   "cell_type": "code",
   "execution_count": 34,
   "outputs": [],
   "source": [
    "target_ls = [f't+{i}' for i in range(1,8)]\n",
    "target_array = tata_ds[target_ls].to_numpy().astype(np.int32)"
   ],
   "metadata": {
    "collapsed": false
   }
  },
  {
   "cell_type": "code",
   "execution_count": 35,
   "outputs": [],
   "source": [
    "new_targets = []\n",
    "for i in target_array:\n",
    "    n_zero = 0\n",
    "    for j in i:\n",
    "        if j!=0:\n",
    "            n_zero=1\n",
    "            new_targets.append(j)\n",
    "            break\n",
    "    if n_zero==0:\n",
    "        new_targets.append(0)"
   ],
   "metadata": {
    "collapsed": false
   }
  },
  {
   "cell_type": "code",
   "execution_count": 18,
   "outputs": [],
   "source": [
    "target_s = pd.Series(new_targets)"
   ],
   "metadata": {
    "collapsed": false
   }
  },
  {
   "cell_type": "code",
   "execution_count": 19,
   "outputs": [
    {
     "data": {
      "text/plain": "0    1\n1    0\n2    0\n3    1\n4    1\ndtype: int64"
     },
     "execution_count": 19,
     "metadata": {},
     "output_type": "execute_result"
    }
   ],
   "source": [
    "target_s.head()"
   ],
   "metadata": {
    "collapsed": false
   }
  },
  {
   "cell_type": "code",
   "execution_count": 20,
   "outputs": [
    {
     "data": {
      "text/plain": " 0    1517\n 1     736\n-1     736\ndtype: int64"
     },
     "execution_count": 20,
     "metadata": {},
     "output_type": "execute_result"
    }
   ],
   "source": [
    "target_s.value_counts()"
   ],
   "metadata": {
    "collapsed": false
   }
  },
  {
   "cell_type": "code",
   "execution_count": 37,
   "outputs": [
    {
     "data": {
      "text/plain": "2989"
     },
     "execution_count": 37,
     "metadata": {},
     "output_type": "execute_result"
    }
   ],
   "source": [
    "len(tata_ds)"
   ],
   "metadata": {
    "collapsed": false
   }
  },
  {
   "cell_type": "code",
   "execution_count": 38,
   "outputs": [
    {
     "data": {
      "text/plain": " 0    1517\n 1     736\n-1     736\nName: final_targets, dtype: int64"
     },
     "execution_count": 38,
     "metadata": {},
     "output_type": "execute_result"
    }
   ],
   "source": [
    "tata_ds.final_targets.value_counts()"
   ],
   "metadata": {
    "collapsed": false
   }
  },
  {
   "cell_type": "code",
   "execution_count": 46,
   "outputs": [
    {
     "data": {
      "text/plain": "<matplotlib.collections.PathCollection at 0x7f460e5b0c10>"
     },
     "execution_count": 46,
     "metadata": {},
     "output_type": "execute_result"
    },
    {
     "data": {
      "text/plain": "<Figure size 640x480 with 1 Axes>",
      "image/png": "[encoded data removed]"
     },
     "metadata": {},
     "output_type": "display_data"
    }
   ],
   "source": [
    "x=100\n",
    "plt.plot(tata_ds.price[-x:])\n",
    "plt.scatter(y=tata_ds.price[-x:].loc[tata_ds.final_targets[-x:]==1],x=tata_ds.price[-x:].loc[tata_ds.final_targets[-x:]==1].index,color='g')\n",
    "plt.scatter(y=tata_ds.price[-x:].loc[tata_ds.final_targets[-x:]==-1],x=tata_ds.price[-x:].loc[tata_ds.final_targets[-x:]==-1].index,color='r')\n",
    "plt.scatter(y=tata_ds.price[-x:].loc[tata_ds.final_targets[-x:]==0],x=tata_ds.price[-x:].loc[tata_ds.final_targets[-x:]==0].index,color='b')"
   ],
   "metadata": {
    "collapsed": false
   }
  },
  {
   "cell_type": "markdown",
   "source": [
    "# Class"
   ],
   "metadata": {
    "collapsed": false
   }
  },
  {
   "cell_type": "code",
   "execution_count": 2,
   "outputs": [],
   "source": [
    "from finance_analysis import FinancialInstrument as fi\n",
    "import numpy as np\n",
    "import pandas as pd\n",
    "import talib\n",
    "import matplotlib.pyplot as plt\n",
    "from sklearn.preprocessing import minmax_scale\n",
    "# import seaborn as sns"
   ],
   "metadata": {
    "collapsed": false,
    "ExecuteTime": {
     "start_time": "2023-10-27T17:31:48.145563Z",
     "end_time": "2023-10-27T17:31:51.421025Z"
    }
   }
  },
  {
   "cell_type": "code",
   "execution_count": 66,
   "outputs": [],
   "source": [
    "class Stock_Instrument(fi):\n",
    "    def __init__(self,windows,horizon,lookover,**kwargs):\n",
    "        '''\n",
    "        This class leverages Financial Instrument class to download data from yfinance and calculates\n",
    "        Technical Indicators. It windows them and the technical Indicators and returns the dataset.\n",
    "        The technical indicators calculated are:\n",
    "            * MACD: Moving Average Convergence and Divergence on the Close price with fast\n",
    "                    period = 12, slow period = 26 and signal period = 9\n",
    "            *\n",
    "\n",
    "        '''\n",
    "        super().__init__(**kwargs)\n",
    "        self.windows = windows\n",
    "        self.horizon =  horizon\n",
    "        self.lookover = lookover\n",
    "        self.windowed_dataset = None\n",
    "        self.targets = None\n",
    "        print(\"Calculating Indicators...\")\n",
    "        self.calculate_indicators()\n",
    "        print(\"Preprocessing the data...\")\n",
    "        self.preprocessing()\n",
    "        print(\"Windowing the dataset.\")\n",
    "        self.window_dataset()\n",
    "        print(\"Making Targets...\")\n",
    "        self.make_targets()\n",
    "\n",
    "\n",
    "    def calculate_indicators(self):\n",
    "        '''\n",
    "        Calculates fixed indicators for selected stock instrument. The modification are made directly\n",
    "        to the data.\n",
    "        :return Returns the dataframe containing the technical indicators.\n",
    "        '''\n",
    "\n",
    "        # MACD\n",
    "        macd, macdsignal, macdhist = talib.MACD(self.data.Close)\n",
    "        self.data['MACD'] = macd\n",
    "        self.data['MACDSIGNAL'] = macdsignal\n",
    "        self.data['MACDHIST'] = macdhist\n",
    "\n",
    "        # ADX\n",
    "        adx = talib.ADX(self.data.High,self.data.Low,self.data.Close)\n",
    "        self.data['ADX'] = adx\n",
    "\n",
    "        # MFI\n",
    "        mfi = talib.MFI(self.data.High,self.data.Low,self.data.Close,self.data.Volume)\n",
    "        self.data['MFI'] = mfi\n",
    "\n",
    "        # OBV\n",
    "        obv = talib.OBV(self.data.Close,self.data.Volume)\n",
    "        self.data['OBV'] = obv\n",
    "\n",
    "        # RSI\n",
    "        rsi = talib.RSI(self.data.Close)\n",
    "        self.data['RSI'] = rsi\n",
    "\n",
    "        # Parabolic SAR\n",
    "        sar = talib.SAR(self.data.High,self.data.Low)\n",
    "        self.data['SAR'] = sar\n",
    "\n",
    "\n",
    "    def make_targets(self):\n",
    "        self.targets = np.sign(self.data.Close.diff(self.horizon))\n",
    "        self.targets = self.targets[self.targets.index.normalize()!=self.targets.index.normalize().unique()[0]]\n",
    "        self.targets = self.targets.iloc[6:]\n",
    "        self.targets = self.targets.shift(-1)\n",
    "        dt_win = self.windowed_dataset.loc[self.windowed_dataset['level_1']=='6'].Datetime\n",
    "        self.targets = self.targets[dt_win]\n",
    "\n",
    "\n",
    "    def preprocessing(self):\n",
    "        \"\"\"\n",
    "        Preprocessing Pipeline:\n",
    "        1.) Volume - Min Max Scaling\n",
    "        2.) OHCL - Grouped Windowed Normalization\n",
    "        3.) MACD - MACD histogram polarization\n",
    "        4.) ADX - divide by 100\n",
    "        5.) RSI - divide by 100\n",
    "        6.) MFI - divide by 100\n",
    "        7.) OBV - polarization\n",
    "        8.) SAR - polarization\n",
    "        \"\"\"\n",
    "\n",
    "        # Min Max Scaling the Volume\n",
    "        self.data.Volume = minmax_scale(self.data.Volume)\n",
    "\n",
    "        # ADX scaling\n",
    "        self.data.ADX /= 100\n",
    "\n",
    "        # RSI scaling\n",
    "        self.data.RSI /= 100\n",
    "\n",
    "        # MFI scaling\n",
    "        self.data.MFI /= 100\n",
    "\n",
    "        # OBV polarization\n",
    "        self.data['OBV'] = np.sign(self.data.OBV.shift(-1) - self.data.OBV)\n",
    "\n",
    "        # SAR polarization\n",
    "        self.data['SAR'].loc[self.data.SAR>=self.data.High] = 1\n",
    "        self.data['SAR'].loc[self.data.SAR<=self.data.Low] = -1\n",
    "\n",
    "        # MACD histogram polarization\n",
    "        self.data.MACDHIST = self.data.MACDHIST.shift(-1) - self.data.MACDHIST\n",
    "        self.data.MACDHIST = np.sign(self.data.MACDHIST.shift(-1) - self.data.MACDHIST)\n",
    "        self.data.drop('MACD',inplace=True,axis=1)\n",
    "        self.data.drop('MACDSIGNAL',inplace=True,axis=1)\n",
    "        self.data.drop('Adj Close',inplace=True,axis=1)\n",
    "\n",
    "\n",
    "\n",
    "\n",
    "\n",
    "    def windowing(self,data):\n",
    "        l = len(data)\n",
    "        s = l-self.windows\n",
    "        data = data.reset_index()\n",
    "        df_ls = []\n",
    "        keys = []\n",
    "        for i in range(self.windows):\n",
    "            keys.append(str(i))\n",
    "            df_ls.append(data.shift(-i))\n",
    "        mod_df = pd.concat(df_ls,keys=keys,axis=0).swaplevel().sort_index(axis=0,level=0)\n",
    "        return mod_df.loc[:s]\n",
    "\n",
    "    def window_dataset(self):\n",
    "        self.data.dropna(inplace=True)\n",
    "        if self.lookover:\n",
    "            p_data = self.data[self.data.index.normalize()!=self.data.index.normalize().unique()[0]]\n",
    "            for g in p_data.groupby(pd.Grouper(level='Datetime',freq='1D')):\n",
    "                if self.windowed_dataset is None:\n",
    "                    self.windowed_dataset = self.windowing(g[1])\n",
    "                else:\n",
    "                    wd = self.windowing(g[1])\n",
    "                    self.windowed_dataset = pd.concat([self.windowed_dataset,wd],axis=0)\n",
    "\n",
    "            self.windowed_dataset.reset_index(inplace=True)\n",
    "            for idx in range(0,len(self.windowed_dataset),self.windows):\n",
    "                ohcl = [\"Open\",\"High\",\"Low\",\"Close\"]\n",
    "                wd = self.windowed_dataset.loc[idx:idx+self.windows-1,ohcl]\n",
    "                mn = wd.to_numpy().mean()\n",
    "                std = wd.to_numpy().std()\n",
    "                self.windowed_dataset.loc[idx:idx+self.windows-1,ohcl] = (self.windowed_dataset.loc[idx:idx+self.windows-1,ohcl] - mn) / std\n",
    "            # self.windowed_dataset.drop('level_0',axis=1,inplace=True)\n",
    "        else:\n",
    "            self.windowed_dataset = self.windowing(self.data)\n",
    "\n",
    "\n",
    "    def to_numpy(self):\n",
    "        level_1 = self.windowed_dataset.level_1\n",
    "        level_0 = []\n",
    "        for j in range(int(len(level_1)/7)):\n",
    "            level_0+=[j]*7\n",
    "        level_1 = level_1.apply(pd.to_numeric)\n",
    "        data = self.windowed_dataset.drop(['Datetime','level_0','level_1'],axis=1)\n",
    "        shape = [len(np.unique(level_0)),len(np.unique(level_1)),len(data.columns)]\n",
    "        np_data = np.empty(shape=shape)\n",
    "        np_data[level_0,level_1.to_list()] = data.to_numpy()\n",
    "        return np_data"
   ],
   "metadata": {
    "collapsed": false,
    "ExecuteTime": {
     "start_time": "2023-10-27T19:54:40.361273Z",
     "end_time": "2023-10-27T19:54:40.480785Z"
    }
   }
  },
  {
   "cell_type": "code",
   "execution_count": 33,
   "outputs": [
    {
     "ename": "NameError",
     "evalue": "name 'level_1' is not defined",
     "output_type": "error",
     "traceback": [
      "\u001B[0;31m---------------------------------------------------------------------------\u001B[0m",
      "\u001B[0;31mNameError\u001B[0m                                 Traceback (most recent call last)",
      "Cell \u001B[0;32mIn[33], line 2\u001B[0m\n\u001B[1;32m      1\u001B[0m level_0 \u001B[38;5;241m=\u001B[39m []\n\u001B[0;32m----> 2\u001B[0m \u001B[38;5;28;01mfor\u001B[39;00m j \u001B[38;5;129;01min\u001B[39;00m \u001B[38;5;28mrange\u001B[39m(\u001B[38;5;28mint\u001B[39m(\u001B[38;5;28mlen\u001B[39m(\u001B[43mlevel_1\u001B[49m)\u001B[38;5;241m/\u001B[39m\u001B[38;5;241m7\u001B[39m)):\n\u001B[1;32m      3\u001B[0m     level_0 \u001B[38;5;241m+\u001B[39m\u001B[38;5;241m=\u001B[39m[j]\u001B[38;5;241m*\u001B[39m\u001B[38;5;241m7\u001B[39m\n\u001B[1;32m      4\u001B[0m level_1 \u001B[38;5;241m=\u001B[39m level_1\u001B[38;5;241m.\u001B[39mapply(pd\u001B[38;5;241m.\u001B[39mto_numeric)\n",
      "\u001B[0;31mNameError\u001B[0m: name 'level_1' is not defined"
     ]
    }
   ],
   "source": [],
   "metadata": {
    "collapsed": false
   }
  },
  {
   "cell_type": "code",
   "execution_count": 67,
   "outputs": [
    {
     "name": "stdout",
     "output_type": "stream",
     "text": [
      "[*********************100%***********************]  1 of 1 completed\n",
      "Calculating Indicators...\n",
      "Preprocessing the data...\n",
      "Windowing the dataset.\n",
      "Making Targets...\n"
     ]
    }
   ],
   "source": [
    "infy_data = Stock_Instrument(windows=7,horizon=1,lookover=True,ticker='INFY.NS',interval='5m',period='60d')"
   ],
   "metadata": {
    "collapsed": false,
    "ExecuteTime": {
     "start_time": "2023-10-27T19:54:42.604747Z",
     "end_time": "2023-10-27T19:54:59.659406Z"
    }
   }
  },
  {
   "cell_type": "code",
   "execution_count": 68,
   "outputs": [
    {
     "data": {
      "text/plain": "array([[[ 2.60352803,  2.60352803, -1.51352646, ..., -1.        ,\n          0.56178113, -1.        ],\n        [ 0.7911522 ,  0.97011182, -1.17789523, ...,  1.        ,\n          0.40214659, -1.        ],\n        [-0.97653835, -0.23813873, -0.97653835, ...,  1.        ,\n          0.41150505, -1.        ],\n        ...,\n        [-0.55137269,  0.07509522, -0.97653835, ...,  1.        ,\n          0.50203238, -1.        ],\n        [ 0.07509522,  0.7911522 , -0.10386439, ...,  1.        ,\n          0.51989926, -1.        ],\n        [ 0.27650673,  0.97011182,  0.09749249, ...,  1.        ,\n          0.52600426, -1.        ]],\n\n       [[ 1.27419226,  1.53693877, -1.61674121, ...,  1.        ,\n          0.40214659, -1.        ],\n        [-1.32111128, -0.2370012 , -1.32111128, ...,  1.        ,\n          0.41150505, -1.        ],\n        [-1.12397119, -0.07274453, -1.25542465, ...,  1.        ,\n          0.44206273, -1.        ],\n        ...,\n        [ 0.2228854 ,  1.27419226, -0.03986112, ...,  1.        ,\n          0.51989926, -1.        ],\n        [ 0.51859553,  1.53693877,  0.25576881, ...,  1.        ,\n          0.52600426, -1.        ],\n        [ 0.61716557,  1.43844893,  0.58428216, ..., -1.        ,\n          0.56382563, -1.        ]],\n\n       [[-1.58915982, -0.41819767, -1.58915982, ...,  1.        ,\n          0.41150505, -1.        ],\n        [-1.37622611, -0.24078179, -1.51821079, ...,  1.        ,\n          0.44206273, -1.        ],\n        [-0.91492749,  0.07853215, -1.58915982, ...,  1.        ,\n          0.50203238, -1.        ],\n        ...,\n        [ 0.39793271,  1.4978592 ,  0.11404997, ...,  1.        ,\n          0.52600426, -1.        ],\n        [ 0.50439956,  1.39147897,  0.46888174, ..., -1.        ,\n          0.56382563, -1.        ],\n        [ 1.17854526,  1.462428  ,  0.46888174, ...,  1.        ,\n          0.53251391, -1.        ]],\n\n       ...,\n\n       [[-0.42614326,  0.4769117 , -1.20037036, ..., -1.        ,\n          0.42332151, -1.        ],\n        [ 0.41234028,  0.4769117 , -1.13579894, ...,  1.        ,\n          0.38833844, -1.        ],\n        [-0.81325681,  0.28335492, -0.94224216, ...,  1.        ,\n          0.42793276, -1.        ],\n        ...,\n        [ 0.41234028,  0.4769117 , -2.10342532, ...,  1.        ,\n          0.41034215, -1.        ],\n        [-0.55528611,  1.70250878, -0.61970004, ..., -1.        ,\n          0.477907  , -1.        ],\n        [ 1.05742453,  1.31555273, -0.16817256, ...,  1.        ,\n          0.45975696, -1.        ]],\n\n       [[ 0.22381802,  0.28414888, -1.22265108, ...,  1.        ,\n          0.38833844, -1.        ],\n        [-0.92129109,  0.10330346, -1.04180565, ...,  1.        ,\n          0.42793276, -1.        ],\n        [-0.07754197,  1.85127969, -2.06640019, ..., -1.        ,\n          0.44453205, -1.        ],\n        ...,\n        [-0.68026195,  1.42925799, -0.74044566, ..., -1.        ,\n          0.477907  , -1.        ],\n        [ 0.82653801,  1.06771429, -0.3185711 , ...,  1.        ,\n          0.45975696, -1.        ],\n        [ 0.22381802,  1.5499197 , -0.19805654, ...,  1.        ,\n          0.50988315, -1.        ]],\n\n       [[-1.06177267, -0.17822046, -1.16569759, ...,  1.        ,\n          0.42793276, -1.        ],\n        [-0.3341713 ,  1.32913508, -2.0492498 , ..., -1.        ,\n          0.44453205, -1.        ],\n        [-0.07429554, -0.02226963, -2.10127571, ...,  1.        ,\n          0.41034215, -1.        ],\n        ...,\n        [ 0.44545598,  0.65343273, -0.54202115, ...,  1.        ,\n          0.45975696, -1.        ],\n        [-0.07429554,  1.06925932, -0.43809622, ...,  1.        ,\n          0.50988315, -1.        ],\n        [ 1.06925932,  1.95281153,  0.23760613, ..., -1.        ,\n          0.53977019, -1.        ]]])"
     },
     "execution_count": 68,
     "metadata": {},
     "output_type": "execute_result"
    }
   ],
   "source": [
    "infy_data.to_numpy()"
   ],
   "metadata": {
    "collapsed": false,
    "ExecuteTime": {
     "start_time": "2023-10-27T19:54:59.659085Z",
     "end_time": "2023-10-27T19:55:00.033460Z"
    }
   }
  },
  {
   "cell_type": "code",
   "execution_count": null,
   "outputs": [],
   "source": [],
   "metadata": {
    "collapsed": false
   }
  },
  {
   "cell_type": "code",
   "execution_count": 59,
   "outputs": [
    {
     "ename": "IndexingError",
     "evalue": "Unalignable boolean Series provided as indexer (index of the boolean Series and of the indexed object do not match).",
     "output_type": "error",
     "traceback": [
      "\u001B[0;31m---------------------------------------------------------------------------\u001B[0m",
      "\u001B[0;31mIndexingError\u001B[0m                             Traceback (most recent call last)",
      "Cell \u001B[0;32mIn[59], line 1\u001B[0m\n\u001B[0;32m----> 1\u001B[0m \u001B[43mtr\u001B[49m\u001B[43m[\u001B[49m\u001B[43minfy_data\u001B[49m\u001B[38;5;241;43m.\u001B[39;49m\u001B[43mwindowed_dataset\u001B[49m\u001B[43m[\u001B[49m\u001B[38;5;124;43m'\u001B[39;49m\u001B[38;5;124;43mlevel_1\u001B[39;49m\u001B[38;5;124;43m'\u001B[39;49m\u001B[43m]\u001B[49m\u001B[38;5;241;43m==\u001B[39;49m\u001B[38;5;124;43m'\u001B[39;49m\u001B[38;5;124;43m6\u001B[39;49m\u001B[38;5;124;43m'\u001B[39;49m\u001B[43m]\u001B[49m\n",
      "File \u001B[0;32m~/anaconda3/envs/algo_trading/lib/python3.9/site-packages/pandas/core/series.py:1003\u001B[0m, in \u001B[0;36mSeries.__getitem__\u001B[0;34m(self, key)\u001B[0m\n\u001B[1;32m   1000\u001B[0m     key \u001B[38;5;241m=\u001B[39m \u001B[38;5;28mlist\u001B[39m(key)\n\u001B[1;32m   1002\u001B[0m \u001B[38;5;28;01mif\u001B[39;00m com\u001B[38;5;241m.\u001B[39mis_bool_indexer(key):\n\u001B[0;32m-> 1003\u001B[0m     key \u001B[38;5;241m=\u001B[39m \u001B[43mcheck_bool_indexer\u001B[49m\u001B[43m(\u001B[49m\u001B[38;5;28;43mself\u001B[39;49m\u001B[38;5;241;43m.\u001B[39;49m\u001B[43mindex\u001B[49m\u001B[43m,\u001B[49m\u001B[43m \u001B[49m\u001B[43mkey\u001B[49m\u001B[43m)\u001B[49m\n\u001B[1;32m   1004\u001B[0m     key \u001B[38;5;241m=\u001B[39m np\u001B[38;5;241m.\u001B[39masarray(key, dtype\u001B[38;5;241m=\u001B[39m\u001B[38;5;28mbool\u001B[39m)\n\u001B[1;32m   1005\u001B[0m     \u001B[38;5;28;01mreturn\u001B[39;00m \u001B[38;5;28mself\u001B[39m\u001B[38;5;241m.\u001B[39m_get_values(key)\n",
      "File \u001B[0;32m~/anaconda3/envs/algo_trading/lib/python3.9/site-packages/pandas/core/indexing.py:2552\u001B[0m, in \u001B[0;36mcheck_bool_indexer\u001B[0;34m(index, key)\u001B[0m\n\u001B[1;32m   2550\u001B[0m indexer \u001B[38;5;241m=\u001B[39m result\u001B[38;5;241m.\u001B[39mindex\u001B[38;5;241m.\u001B[39mget_indexer_for(index)\n\u001B[1;32m   2551\u001B[0m \u001B[38;5;28;01mif\u001B[39;00m \u001B[38;5;241m-\u001B[39m\u001B[38;5;241m1\u001B[39m \u001B[38;5;129;01min\u001B[39;00m indexer:\n\u001B[0;32m-> 2552\u001B[0m     \u001B[38;5;28;01mraise\u001B[39;00m IndexingError(\n\u001B[1;32m   2553\u001B[0m         \u001B[38;5;124m\"\u001B[39m\u001B[38;5;124mUnalignable boolean Series provided as \u001B[39m\u001B[38;5;124m\"\u001B[39m\n\u001B[1;32m   2554\u001B[0m         \u001B[38;5;124m\"\u001B[39m\u001B[38;5;124mindexer (index of the boolean Series and of \u001B[39m\u001B[38;5;124m\"\u001B[39m\n\u001B[1;32m   2555\u001B[0m         \u001B[38;5;124m\"\u001B[39m\u001B[38;5;124mthe indexed object do not match).\u001B[39m\u001B[38;5;124m\"\u001B[39m\n\u001B[1;32m   2556\u001B[0m     )\n\u001B[1;32m   2558\u001B[0m result \u001B[38;5;241m=\u001B[39m result\u001B[38;5;241m.\u001B[39mtake(indexer)\n\u001B[1;32m   2560\u001B[0m \u001B[38;5;66;03m# fall through for boolean\u001B[39;00m\n",
      "\u001B[0;31mIndexingError\u001B[0m: Unalignable boolean Series provided as indexer (index of the boolean Series and of the indexed object do not match)."
     ]
    }
   ],
   "source": [],
   "metadata": {
    "collapsed": false
   }
  },
  {
   "cell_type": "code",
   "execution_count": 49,
   "outputs": [],
   "source": [
    "dt_win = infy_data.windowed_dataset.loc[infy_data.windowed_dataset['level_1']=='6'].Datetime\n",
    "dt_tr = infy_data.targets.index"
   ],
   "metadata": {
    "collapsed": false,
    "ExecuteTime": {
     "start_time": "2023-10-27T19:41:26.357236Z",
     "end_time": "2023-10-27T19:41:26.456712Z"
    }
   }
  },
  {
   "cell_type": "code",
   "execution_count": 58,
   "outputs": [
    {
     "data": {
      "text/plain": "Datetime\n2023-08-02 09:45:00+05:30    1.0\n2023-08-02 09:50:00+05:30   -1.0\n2023-08-02 09:55:00+05:30    1.0\n2023-08-02 10:00:00+05:30    1.0\n2023-08-02 10:05:00+05:30    1.0\n                            ... \n2023-10-27 15:00:00+05:30    1.0\n2023-10-27 15:05:00+05:30   -1.0\n2023-10-27 15:10:00+05:30    1.0\n2023-10-27 15:15:00+05:30    1.0\n2023-10-27 15:20:00+05:30   -1.0\nName: Close, Length: 4070, dtype: float64"
     },
     "execution_count": 58,
     "metadata": {},
     "output_type": "execute_result"
    }
   ],
   "source": [
    "tr[dt_win]"
   ],
   "metadata": {
    "collapsed": false,
    "ExecuteTime": {
     "start_time": "2023-10-27T19:47:24.710925Z",
     "end_time": "2023-10-27T19:47:24.894539Z"
    }
   }
  },
  {
   "cell_type": "code",
   "execution_count": 21,
   "outputs": [
    {
     "data": {
      "text/plain": "4070.0"
     },
     "execution_count": 21,
     "metadata": {},
     "output_type": "execute_result"
    }
   ],
   "source": [
    "28490/7"
   ],
   "metadata": {
    "collapsed": false,
    "ExecuteTime": {
     "start_time": "2023-10-27T19:22:21.177932Z",
     "end_time": "2023-10-27T19:22:21.243402Z"
    }
   }
  },
  {
   "cell_type": "code",
   "execution_count": 25,
   "outputs": [
    {
     "data": {
      "text/plain": "Timestamp('2023-08-01 00:00:00+0530', tz='Asia/Kolkata')"
     },
     "execution_count": 25,
     "metadata": {},
     "output_type": "execute_result"
    }
   ],
   "source": [
    "infy_data.targets.index.normalize().unique()[0]"
   ],
   "metadata": {
    "collapsed": false,
    "ExecuteTime": {
     "start_time": "2023-10-27T19:24:16.304120Z",
     "end_time": "2023-10-27T19:24:16.354829Z"
    }
   }
  },
  {
   "cell_type": "code",
   "execution_count": 6,
   "outputs": [],
   "source": [
    "infy_data.calculate_indicators()\n",
    "infy_data.make_targets()\n",
    "infy_data.preprocessing()\n",
    "infy_data.window_dataset()"
   ],
   "metadata": {
    "collapsed": false,
    "ExecuteTime": {
     "start_time": "2023-10-27T17:32:21.713674Z",
     "end_time": "2023-10-27T17:32:36.908385Z"
    }
   }
  },
  {
   "cell_type": "code",
   "execution_count": 7,
   "outputs": [
    {
     "data": {
      "text/plain": "Datetime\n2023-08-01 09:15:00+05:30   -0.549927\n2023-08-01 09:20:00+05:30    0.699951\n2023-08-01 09:25:00+05:30   -0.750000\n2023-08-01 09:30:00+05:30    0.150024\n2023-08-01 09:35:00+05:30   -0.500000\n                               ...   \n2023-10-27 14:35:00+05:30   -0.399902\n2023-10-27 14:40:00+05:30    1.000000\n2023-10-27 14:45:00+05:30    0.649902\n2023-10-27 14:50:00+05:30   -0.649902\n2023-10-27 14:55:00+05:30   -0.700073\nName: Close, Length: 4494, dtype: float64"
     },
     "execution_count": 7,
     "metadata": {},
     "output_type": "execute_result"
    }
   ],
   "source": [
    "infy_data.targets"
   ],
   "metadata": {
    "collapsed": false,
    "ExecuteTime": {
     "start_time": "2023-10-27T17:32:49.824763Z",
     "end_time": "2023-10-27T17:32:50.060538Z"
    }
   }
  },
  {
   "cell_type": "code",
   "execution_count": 79,
   "outputs": [
    {
     "data": {
      "text/plain": "                                  Open         High          Low        Close  \\\nDatetime                                                                        \n2023-07-28 12:00:00+05:30  1340.449951  1340.500000  1338.449951  1338.650024   \n2023-07-28 12:05:00+05:30  1338.650024  1340.000000  1337.550049  1339.949951   \n2023-07-28 12:10:00+05:30  1339.949951  1340.000000  1338.000000  1338.400024   \n2023-07-28 12:15:00+05:30  1338.250000  1339.599976  1338.199951  1339.500000   \n2023-07-28 12:20:00+05:30  1339.599976  1340.000000  1338.000000  1338.050049   \n...                                ...          ...          ...          ...   \n2023-10-25 15:00:00+05:30  1369.550049  1370.800049  1368.050049  1369.199951   \n2023-10-25 15:05:00+05:30  1369.199951  1369.199951  1367.099976  1368.699951   \n2023-10-25 15:10:00+05:30  1368.650024  1371.349976  1368.650024  1370.599976   \n2023-10-25 15:15:00+05:30  1370.550049  1371.250000  1370.199951  1370.349976   \n2023-10-25 15:20:00+05:30  1370.400024  1370.449951  1370.000000  1370.050049   \n\n                             Volume  MACDHIST       ADX       MFI  OBV  \\\nDatetime                                                                 \n2023-07-28 12:00:00+05:30  0.053616      -1.0  0.514104  0.366510  1.0   \n2023-07-28 12:05:00+05:30  0.038617       1.0  0.523682  0.376590 -1.0   \n2023-07-28 12:10:00+05:30  0.028248      -1.0  0.532577  0.211137  1.0   \n2023-07-28 12:15:00+05:30  0.026690      -1.0  0.540835  0.268256 -1.0   \n2023-07-28 12:20:00+05:30  0.046345       1.0  0.544005  0.158463 -1.0   \n...                             ...       ...       ...       ...  ...   \n2023-10-25 15:00:00+05:30  0.126196       1.0  0.237309  0.407750 -1.0   \n2023-10-25 15:05:00+05:30  0.090570      -1.0  0.239914  0.325096  1.0   \n2023-10-25 15:10:00+05:30  0.113152      -1.0  0.232341  0.429945 -1.0   \n2023-10-25 15:15:00+05:30  0.127112       1.0  0.225309  0.476456 -1.0   \n2023-10-25 15:20:00+05:30  0.101512      -1.0  0.219503  0.410061  1.0   \n\n                                RSI  SAR  \nDatetime                                  \n2023-07-28 12:00:00+05:30  0.195426 -1.0  \n2023-07-28 12:05:00+05:30  0.268653 -1.0  \n2023-07-28 12:10:00+05:30  0.240542 -1.0  \n2023-07-28 12:15:00+05:30  0.296780 -1.0  \n2023-07-28 12:20:00+05:30  0.268550 -1.0  \n...                             ...  ...  \n2023-10-25 15:00:00+05:30  0.416195 -1.0  \n2023-10-25 15:05:00+05:30  0.406716 -1.0  \n2023-10-25 15:10:00+05:30  0.457297 -1.0  \n2023-10-25 15:15:00+05:30  0.451839 -1.0  \n2023-10-25 15:20:00+05:30  0.444976 -1.0  \n\n[4466 rows x 11 columns]",
      "text/html": "<div>\n<style scoped>\n    .dataframe tbody tr th:only-of-type {\n        vertical-align: middle;\n    }\n\n    .dataframe tbody tr th {\n        vertical-align: top;\n    }\n\n    .dataframe thead th {\n        text-align: right;\n    }\n</style>\n<table border=\"1\" class=\"dataframe\">\n  <thead>\n    <tr style=\"text-align: right;\">\n      <th></th>\n      <th>Open</th>\n      <th>High</th>\n      <th>Low</th>\n      <th>Close</th>\n      <th>Volume</th>\n      <th>MACDHIST</th>\n      <th>ADX</th>\n      <th>MFI</th>\n      <th>OBV</th>\n      <th>RSI</th>\n      <th>SAR</th>\n    </tr>\n    <tr>\n      <th>Datetime</th>\n      <th></th>\n      <th></th>\n      <th></th>\n      <th></th>\n      <th></th>\n      <th></th>\n      <th></th>\n      <th></th>\n      <th></th>\n      <th></th>\n      <th></th>\n    </tr>\n  </thead>\n  <tbody>\n    <tr>\n      <th>2023-07-28 12:00:00+05:30</th>\n      <td>1340.449951</td>\n      <td>1340.500000</td>\n      <td>1338.449951</td>\n      <td>1338.650024</td>\n      <td>0.053616</td>\n      <td>-1.0</td>\n      <td>0.514104</td>\n      <td>0.366510</td>\n      <td>1.0</td>\n      <td>0.195426</td>\n      <td>-1.0</td>\n    </tr>\n    <tr>\n      <th>2023-07-28 12:05:00+05:30</th>\n      <td>1338.650024</td>\n      <td>1340.000000</td>\n      <td>1337.550049</td>\n      <td>1339.949951</td>\n      <td>0.038617</td>\n      <td>1.0</td>\n      <td>0.523682</td>\n      <td>0.376590</td>\n      <td>-1.0</td>\n      <td>0.268653</td>\n      <td>-1.0</td>\n    </tr>\n    <tr>\n      <th>2023-07-28 12:10:00+05:30</th>\n      <td>1339.949951</td>\n      <td>1340.000000</td>\n      <td>1338.000000</td>\n      <td>1338.400024</td>\n      <td>0.028248</td>\n      <td>-1.0</td>\n      <td>0.532577</td>\n      <td>0.211137</td>\n      <td>1.0</td>\n      <td>0.240542</td>\n      <td>-1.0</td>\n    </tr>\n    <tr>\n      <th>2023-07-28 12:15:00+05:30</th>\n      <td>1338.250000</td>\n      <td>1339.599976</td>\n      <td>1338.199951</td>\n      <td>1339.500000</td>\n      <td>0.026690</td>\n      <td>-1.0</td>\n      <td>0.540835</td>\n      <td>0.268256</td>\n      <td>-1.0</td>\n      <td>0.296780</td>\n      <td>-1.0</td>\n    </tr>\n    <tr>\n      <th>2023-07-28 12:20:00+05:30</th>\n      <td>1339.599976</td>\n      <td>1340.000000</td>\n      <td>1338.000000</td>\n      <td>1338.050049</td>\n      <td>0.046345</td>\n      <td>1.0</td>\n      <td>0.544005</td>\n      <td>0.158463</td>\n      <td>-1.0</td>\n      <td>0.268550</td>\n      <td>-1.0</td>\n    </tr>\n    <tr>\n      <th>...</th>\n      <td>...</td>\n      <td>...</td>\n      <td>...</td>\n      <td>...</td>\n      <td>...</td>\n      <td>...</td>\n      <td>...</td>\n      <td>...</td>\n      <td>...</td>\n      <td>...</td>\n      <td>...</td>\n    </tr>\n    <tr>\n      <th>2023-10-25 15:00:00+05:30</th>\n      <td>1369.550049</td>\n      <td>1370.800049</td>\n      <td>1368.050049</td>\n      <td>1369.199951</td>\n      <td>0.126196</td>\n      <td>1.0</td>\n      <td>0.237309</td>\n      <td>0.407750</td>\n      <td>-1.0</td>\n      <td>0.416195</td>\n      <td>-1.0</td>\n    </tr>\n    <tr>\n      <th>2023-10-25 15:05:00+05:30</th>\n      <td>1369.199951</td>\n      <td>1369.199951</td>\n      <td>1367.099976</td>\n      <td>1368.699951</td>\n      <td>0.090570</td>\n      <td>-1.0</td>\n      <td>0.239914</td>\n      <td>0.325096</td>\n      <td>1.0</td>\n      <td>0.406716</td>\n      <td>-1.0</td>\n    </tr>\n    <tr>\n      <th>2023-10-25 15:10:00+05:30</th>\n      <td>1368.650024</td>\n      <td>1371.349976</td>\n      <td>1368.650024</td>\n      <td>1370.599976</td>\n      <td>0.113152</td>\n      <td>-1.0</td>\n      <td>0.232341</td>\n      <td>0.429945</td>\n      <td>-1.0</td>\n      <td>0.457297</td>\n      <td>-1.0</td>\n    </tr>\n    <tr>\n      <th>2023-10-25 15:15:00+05:30</th>\n      <td>1370.550049</td>\n      <td>1371.250000</td>\n      <td>1370.199951</td>\n      <td>1370.349976</td>\n      <td>0.127112</td>\n      <td>1.0</td>\n      <td>0.225309</td>\n      <td>0.476456</td>\n      <td>-1.0</td>\n      <td>0.451839</td>\n      <td>-1.0</td>\n    </tr>\n    <tr>\n      <th>2023-10-25 15:20:00+05:30</th>\n      <td>1370.400024</td>\n      <td>1370.449951</td>\n      <td>1370.000000</td>\n      <td>1370.050049</td>\n      <td>0.101512</td>\n      <td>-1.0</td>\n      <td>0.219503</td>\n      <td>0.410061</td>\n      <td>1.0</td>\n      <td>0.444976</td>\n      <td>-1.0</td>\n    </tr>\n  </tbody>\n</table>\n<p>4466 rows × 11 columns</p>\n</div>"
     },
     "execution_count": 79,
     "metadata": {},
     "output_type": "execute_result"
    }
   ],
   "source": [
    "infy_data.data"
   ],
   "metadata": {
    "collapsed": false,
    "ExecuteTime": {
     "start_time": "2023-10-26T03:44:37.483441Z",
     "end_time": "2023-10-26T03:44:37.610149Z"
    }
   }
  },
  {
   "cell_type": "code",
   "execution_count": 222,
   "outputs": [
    {
     "name": "stdout",
     "output_type": "stream",
     "text": [
      "  level_1                  Datetime         Open         High          Low  \\\n",
      "0       0 2023-07-27 09:15:00+05:30  1359.349976  1363.000000  1359.349976   \n",
      "1       1 2023-07-27 09:20:00+05:30  1360.250000  1361.500000  1357.349976   \n",
      "2       2 2023-07-27 09:25:00+05:30  1357.449951  1359.349976  1357.000000   \n",
      "3       3 2023-07-27 09:30:00+05:30  1359.000000  1360.449951  1358.000000   \n",
      "4       4 2023-07-27 09:35:00+05:30  1360.099976  1362.800049  1360.099976   \n",
      "5       5 2023-07-27 09:40:00+05:30  1362.000000  1363.500000  1361.900024   \n",
      "6       6 2023-07-27 09:45:00+05:30  1362.500000  1362.550049  1358.449951   \n",
      "\n",
      "         Close    Volume  MACDHIST       ADX       MFI  OBV       RSI  SAR  \n",
      "0  1360.250000  0.000000      -1.0  0.218081  0.772049 -1.0  0.851834 -1.0  \n",
      "1  1357.900024  0.119614      -1.0  0.238678  0.679587  1.0  0.753109 -1.0  \n",
      "2  1359.000000  0.079061       1.0  0.255901  0.624199  1.0  0.766737 -1.0  \n",
      "3  1360.000000  0.084709      -1.0  0.273992  0.642995  1.0  0.778696 -1.0  \n",
      "4  1362.599976  0.101726      -1.0  0.294825  0.691420 -1.0  0.806477 -1.0  \n",
      "5  1362.500000  0.113437       1.0  0.315273  0.751775 -1.0  0.802306 -1.0  \n",
      "6  1358.900024  0.097002      -1.0  0.316317  0.691457 -1.0  0.668286 -1.0  \n"
     ]
    },
    {
     "name": "stderr",
     "output_type": "stream",
     "text": [
      "/tmp/ipykernel_4309/3795364825.py:5: SettingWithCopyWarning: \n",
      "A value is trying to be set on a copy of a slice from a DataFrame.\n",
      "Try using .loc[row_indexer,col_indexer] = value instead\n",
      "\n",
      "See the caveats in the documentation: https://pandas.pydata.org/pandas-docs/stable/user_guide/indexing.html#returning-a-view-versus-a-copy\n",
      "  w_data[i:i+7][[\"Open\",'High','Low','Close']] = ohcl\n"
     ]
    }
   ],
   "source": [
    "\n",
    "for i in range(0,len(w_data) - 7,7):\n",
    "    # print(w_data.iloc[i:i+7])\n",
    "    ohcl = w_data[[\"Open\",'High','Low','Close']].iloc[i:i+7]\n",
    "    \n",
    "    w_data[i:i+7][[\"Open\",'High','Low','Close']] = ohcl\n",
    "    print(w_data.iloc[i:i+7])\n",
    "    break"
   ],
   "metadata": {
    "collapsed": false,
    "ExecuteTime": {
     "start_time": "2023-10-23T05:04:22.185341Z",
     "end_time": "2023-10-23T05:04:22.293610Z"
    }
   }
  },
  {
   "cell_type": "code",
   "execution_count": null,
   "outputs": [],
   "source": [],
   "metadata": {
    "collapsed": false
   }
  },
  {
   "cell_type": "code",
   "execution_count": null,
   "outputs": [],
   "source": [],
   "metadata": {
    "collapsed": false
   }
  },
  {
   "cell_type": "code",
   "execution_count": null,
   "outputs": [],
   "source": [],
   "metadata": {
    "collapsed": false
   }
  },
  {
   "cell_type": "code",
   "execution_count": null,
   "outputs": [],
   "source": [],
   "metadata": {
    "collapsed": false
   }
  },
  {
   "cell_type": "code",
   "execution_count": 53,
   "outputs": [
    {
     "name": "stdout",
     "output_type": "stream",
     "text": [
      "<class 'pandas.core.frame.DataFrame'>\n"
     ]
    }
   ],
   "source": [
    "for g in infy_data.data.groupby(pd.Grouper(level='Datetime',freq='1D')):\n",
    "    print(type(g[1]))\n",
    "    break"
   ],
   "metadata": {
    "collapsed": false,
    "ExecuteTime": {
     "start_time": "2023-10-18T05:35:54.972737Z",
     "end_time": "2023-10-18T05:35:55.029977Z"
    }
   }
  },
  {
   "cell_type": "code",
   "execution_count": 197,
   "outputs": [
    {
     "ename": "TypeError",
     "evalue": "Singleton array array(0.02160587) cannot be considered a valid collection.",
     "output_type": "error",
     "traceback": [
      "\u001B[0;31m---------------------------------------------------------------------------\u001B[0m",
      "\u001B[0;31mTypeError\u001B[0m                                 Traceback (most recent call last)",
      "Cell \u001B[0;32mIn[197], line 1\u001B[0m\n\u001B[0;32m----> 1\u001B[0m \u001B[43mdata\u001B[49m\u001B[38;5;241;43m.\u001B[39;49m\u001B[43mVolume\u001B[49m\u001B[38;5;241;43m.\u001B[39;49m\u001B[43mapply\u001B[49m\u001B[43m(\u001B[49m\u001B[43mminmax_scale\u001B[49m\u001B[43m)\u001B[49m\n",
      "File \u001B[0;32m~/anaconda3/envs/algo_trading/lib/python3.9/site-packages/pandas/core/series.py:4771\u001B[0m, in \u001B[0;36mSeries.apply\u001B[0;34m(self, func, convert_dtype, args, **kwargs)\u001B[0m\n\u001B[1;32m   4661\u001B[0m \u001B[38;5;28;01mdef\u001B[39;00m \u001B[38;5;21mapply\u001B[39m(\n\u001B[1;32m   4662\u001B[0m     \u001B[38;5;28mself\u001B[39m,\n\u001B[1;32m   4663\u001B[0m     func: AggFuncType,\n\u001B[0;32m   (...)\u001B[0m\n\u001B[1;32m   4666\u001B[0m     \u001B[38;5;241m*\u001B[39m\u001B[38;5;241m*\u001B[39mkwargs,\n\u001B[1;32m   4667\u001B[0m ) \u001B[38;5;241m-\u001B[39m\u001B[38;5;241m>\u001B[39m DataFrame \u001B[38;5;241m|\u001B[39m Series:\n\u001B[1;32m   4668\u001B[0m     \u001B[38;5;124;03m\"\"\"\u001B[39;00m\n\u001B[1;32m   4669\u001B[0m \u001B[38;5;124;03m    Invoke function on values of Series.\u001B[39;00m\n\u001B[1;32m   4670\u001B[0m \n\u001B[0;32m   (...)\u001B[0m\n\u001B[1;32m   4769\u001B[0m \u001B[38;5;124;03m    dtype: float64\u001B[39;00m\n\u001B[1;32m   4770\u001B[0m \u001B[38;5;124;03m    \"\"\"\u001B[39;00m\n\u001B[0;32m-> 4771\u001B[0m     \u001B[38;5;28;01mreturn\u001B[39;00m \u001B[43mSeriesApply\u001B[49m\u001B[43m(\u001B[49m\u001B[38;5;28;43mself\u001B[39;49m\u001B[43m,\u001B[49m\u001B[43m \u001B[49m\u001B[43mfunc\u001B[49m\u001B[43m,\u001B[49m\u001B[43m \u001B[49m\u001B[43mconvert_dtype\u001B[49m\u001B[43m,\u001B[49m\u001B[43m \u001B[49m\u001B[43margs\u001B[49m\u001B[43m,\u001B[49m\u001B[43m \u001B[49m\u001B[43mkwargs\u001B[49m\u001B[43m)\u001B[49m\u001B[38;5;241;43m.\u001B[39;49m\u001B[43mapply\u001B[49m\u001B[43m(\u001B[49m\u001B[43m)\u001B[49m\n",
      "File \u001B[0;32m~/anaconda3/envs/algo_trading/lib/python3.9/site-packages/pandas/core/apply.py:1105\u001B[0m, in \u001B[0;36mSeriesApply.apply\u001B[0;34m(self)\u001B[0m\n\u001B[1;32m   1102\u001B[0m     \u001B[38;5;28;01mreturn\u001B[39;00m \u001B[38;5;28mself\u001B[39m\u001B[38;5;241m.\u001B[39mapply_str()\n\u001B[1;32m   1104\u001B[0m \u001B[38;5;66;03m# self.f is Callable\u001B[39;00m\n\u001B[0;32m-> 1105\u001B[0m \u001B[38;5;28;01mreturn\u001B[39;00m \u001B[38;5;28;43mself\u001B[39;49m\u001B[38;5;241;43m.\u001B[39;49m\u001B[43mapply_standard\u001B[49m\u001B[43m(\u001B[49m\u001B[43m)\u001B[49m\n",
      "File \u001B[0;32m~/anaconda3/envs/algo_trading/lib/python3.9/site-packages/pandas/core/apply.py:1156\u001B[0m, in \u001B[0;36mSeriesApply.apply_standard\u001B[0;34m(self)\u001B[0m\n\u001B[1;32m   1154\u001B[0m     \u001B[38;5;28;01melse\u001B[39;00m:\n\u001B[1;32m   1155\u001B[0m         values \u001B[38;5;241m=\u001B[39m obj\u001B[38;5;241m.\u001B[39mastype(\u001B[38;5;28mobject\u001B[39m)\u001B[38;5;241m.\u001B[39m_values\n\u001B[0;32m-> 1156\u001B[0m         mapped \u001B[38;5;241m=\u001B[39m \u001B[43mlib\u001B[49m\u001B[38;5;241;43m.\u001B[39;49m\u001B[43mmap_infer\u001B[49m\u001B[43m(\u001B[49m\n\u001B[1;32m   1157\u001B[0m \u001B[43m            \u001B[49m\u001B[43mvalues\u001B[49m\u001B[43m,\u001B[49m\n\u001B[1;32m   1158\u001B[0m \u001B[43m            \u001B[49m\u001B[43mf\u001B[49m\u001B[43m,\u001B[49m\n\u001B[1;32m   1159\u001B[0m \u001B[43m            \u001B[49m\u001B[43mconvert\u001B[49m\u001B[38;5;241;43m=\u001B[39;49m\u001B[38;5;28;43mself\u001B[39;49m\u001B[38;5;241;43m.\u001B[39;49m\u001B[43mconvert_dtype\u001B[49m\u001B[43m,\u001B[49m\n\u001B[1;32m   1160\u001B[0m \u001B[43m        \u001B[49m\u001B[43m)\u001B[49m\n\u001B[1;32m   1162\u001B[0m \u001B[38;5;28;01mif\u001B[39;00m \u001B[38;5;28mlen\u001B[39m(mapped) \u001B[38;5;129;01mand\u001B[39;00m \u001B[38;5;28misinstance\u001B[39m(mapped[\u001B[38;5;241m0\u001B[39m], ABCSeries):\n\u001B[1;32m   1163\u001B[0m     \u001B[38;5;66;03m# GH#43986 Need to do list(mapped) in order to get treated as nested\u001B[39;00m\n\u001B[1;32m   1164\u001B[0m     \u001B[38;5;66;03m#  See also GH#25959 regarding EA support\u001B[39;00m\n\u001B[1;32m   1165\u001B[0m     \u001B[38;5;28;01mreturn\u001B[39;00m obj\u001B[38;5;241m.\u001B[39m_constructor_expanddim(\u001B[38;5;28mlist\u001B[39m(mapped), index\u001B[38;5;241m=\u001B[39mobj\u001B[38;5;241m.\u001B[39mindex)\n",
      "File \u001B[0;32m~/anaconda3/envs/algo_trading/lib/python3.9/site-packages/pandas/_libs/lib.pyx:2918\u001B[0m, in \u001B[0;36mpandas._libs.lib.map_infer\u001B[0;34m()\u001B[0m\n",
      "File \u001B[0;32m~/anaconda3/envs/algo_trading/lib/python3.9/site-packages/sklearn/preprocessing/_data.py:624\u001B[0m, in \u001B[0;36mminmax_scale\u001B[0;34m(X, feature_range, axis, copy)\u001B[0m\n\u001B[1;32m    550\u001B[0m \u001B[38;5;124;03m\"\"\"Transform features by scaling each feature to a given range.\u001B[39;00m\n\u001B[1;32m    551\u001B[0m \n\u001B[1;32m    552\u001B[0m \u001B[38;5;124;03mThis estimator scales and translates each feature individually such\u001B[39;00m\n\u001B[0;32m   (...)\u001B[0m\n\u001B[1;32m    620\u001B[0m \u001B[38;5;124;03m<sphx_glr_auto_examples_preprocessing_plot_all_scaling.py>`.\u001B[39;00m\n\u001B[1;32m    621\u001B[0m \u001B[38;5;124;03m\"\"\"\u001B[39;00m\n\u001B[1;32m    622\u001B[0m \u001B[38;5;66;03m# Unlike the scaler object, this function allows 1d input.\u001B[39;00m\n\u001B[1;32m    623\u001B[0m \u001B[38;5;66;03m# If copy is required, it will be done inside the scaler object.\u001B[39;00m\n\u001B[0;32m--> 624\u001B[0m X \u001B[38;5;241m=\u001B[39m \u001B[43mcheck_array\u001B[49m\u001B[43m(\u001B[49m\n\u001B[1;32m    625\u001B[0m \u001B[43m    \u001B[49m\u001B[43mX\u001B[49m\u001B[43m,\u001B[49m\u001B[43m \u001B[49m\u001B[43mcopy\u001B[49m\u001B[38;5;241;43m=\u001B[39;49m\u001B[38;5;28;43;01mFalse\u001B[39;49;00m\u001B[43m,\u001B[49m\u001B[43m \u001B[49m\u001B[43mensure_2d\u001B[49m\u001B[38;5;241;43m=\u001B[39;49m\u001B[38;5;28;43;01mFalse\u001B[39;49;00m\u001B[43m,\u001B[49m\u001B[43m \u001B[49m\u001B[43mdtype\u001B[49m\u001B[38;5;241;43m=\u001B[39;49m\u001B[43mFLOAT_DTYPES\u001B[49m\u001B[43m,\u001B[49m\u001B[43m \u001B[49m\u001B[43mforce_all_finite\u001B[49m\u001B[38;5;241;43m=\u001B[39;49m\u001B[38;5;124;43m\"\u001B[39;49m\u001B[38;5;124;43mallow-nan\u001B[39;49m\u001B[38;5;124;43m\"\u001B[39;49m\n\u001B[1;32m    626\u001B[0m \u001B[43m\u001B[49m\u001B[43m)\u001B[49m\n\u001B[1;32m    627\u001B[0m original_ndim \u001B[38;5;241m=\u001B[39m X\u001B[38;5;241m.\u001B[39mndim\n\u001B[1;32m    629\u001B[0m \u001B[38;5;28;01mif\u001B[39;00m original_ndim \u001B[38;5;241m==\u001B[39m \u001B[38;5;241m1\u001B[39m:\n",
      "File \u001B[0;32m~/anaconda3/envs/algo_trading/lib/python3.9/site-packages/sklearn/utils/validation.py:927\u001B[0m, in \u001B[0;36mcheck_array\u001B[0;34m(array, accept_sparse, accept_large_sparse, dtype, order, copy, force_all_finite, ensure_2d, allow_nd, ensure_min_samples, ensure_min_features, estimator, input_name)\u001B[0m\n\u001B[1;32m    919\u001B[0m         _assert_all_finite(\n\u001B[1;32m    920\u001B[0m             array,\n\u001B[1;32m    921\u001B[0m             input_name\u001B[38;5;241m=\u001B[39minput_name,\n\u001B[1;32m    922\u001B[0m             estimator_name\u001B[38;5;241m=\u001B[39mestimator_name,\n\u001B[1;32m    923\u001B[0m             allow_nan\u001B[38;5;241m=\u001B[39mforce_all_finite \u001B[38;5;241m==\u001B[39m \u001B[38;5;124m\"\u001B[39m\u001B[38;5;124mallow-nan\u001B[39m\u001B[38;5;124m\"\u001B[39m,\n\u001B[1;32m    924\u001B[0m         )\n\u001B[1;32m    926\u001B[0m \u001B[38;5;28;01mif\u001B[39;00m ensure_min_samples \u001B[38;5;241m>\u001B[39m \u001B[38;5;241m0\u001B[39m:\n\u001B[0;32m--> 927\u001B[0m     n_samples \u001B[38;5;241m=\u001B[39m \u001B[43m_num_samples\u001B[49m\u001B[43m(\u001B[49m\u001B[43marray\u001B[49m\u001B[43m)\u001B[49m\n\u001B[1;32m    928\u001B[0m     \u001B[38;5;28;01mif\u001B[39;00m n_samples \u001B[38;5;241m<\u001B[39m ensure_min_samples:\n\u001B[1;32m    929\u001B[0m         \u001B[38;5;28;01mraise\u001B[39;00m \u001B[38;5;167;01mValueError\u001B[39;00m(\n\u001B[1;32m    930\u001B[0m             \u001B[38;5;124m\"\u001B[39m\u001B[38;5;124mFound array with \u001B[39m\u001B[38;5;132;01m%d\u001B[39;00m\u001B[38;5;124m sample(s) (shape=\u001B[39m\u001B[38;5;132;01m%s\u001B[39;00m\u001B[38;5;124m) while a\u001B[39m\u001B[38;5;124m\"\u001B[39m\n\u001B[1;32m    931\u001B[0m             \u001B[38;5;124m\"\u001B[39m\u001B[38;5;124m minimum of \u001B[39m\u001B[38;5;132;01m%d\u001B[39;00m\u001B[38;5;124m is required\u001B[39m\u001B[38;5;132;01m%s\u001B[39;00m\u001B[38;5;124m.\u001B[39m\u001B[38;5;124m\"\u001B[39m\n\u001B[1;32m    932\u001B[0m             \u001B[38;5;241m%\u001B[39m (n_samples, array\u001B[38;5;241m.\u001B[39mshape, ensure_min_samples, context)\n\u001B[1;32m    933\u001B[0m         )\n",
      "File \u001B[0;32m~/anaconda3/envs/algo_trading/lib/python3.9/site-packages/sklearn/utils/validation.py:335\u001B[0m, in \u001B[0;36m_num_samples\u001B[0;34m(x)\u001B[0m\n\u001B[1;32m    333\u001B[0m \u001B[38;5;28;01mif\u001B[39;00m \u001B[38;5;28mhasattr\u001B[39m(x, \u001B[38;5;124m\"\u001B[39m\u001B[38;5;124mshape\u001B[39m\u001B[38;5;124m\"\u001B[39m) \u001B[38;5;129;01mand\u001B[39;00m x\u001B[38;5;241m.\u001B[39mshape \u001B[38;5;129;01mis\u001B[39;00m \u001B[38;5;129;01mnot\u001B[39;00m \u001B[38;5;28;01mNone\u001B[39;00m:\n\u001B[1;32m    334\u001B[0m     \u001B[38;5;28;01mif\u001B[39;00m \u001B[38;5;28mlen\u001B[39m(x\u001B[38;5;241m.\u001B[39mshape) \u001B[38;5;241m==\u001B[39m \u001B[38;5;241m0\u001B[39m:\n\u001B[0;32m--> 335\u001B[0m         \u001B[38;5;28;01mraise\u001B[39;00m \u001B[38;5;167;01mTypeError\u001B[39;00m(\n\u001B[1;32m    336\u001B[0m             \u001B[38;5;124m\"\u001B[39m\u001B[38;5;124mSingleton array \u001B[39m\u001B[38;5;132;01m%r\u001B[39;00m\u001B[38;5;124m cannot be considered a valid collection.\u001B[39m\u001B[38;5;124m\"\u001B[39m \u001B[38;5;241m%\u001B[39m x\n\u001B[1;32m    337\u001B[0m         )\n\u001B[1;32m    338\u001B[0m     \u001B[38;5;66;03m# Check that shape is returning an integer or default to len\u001B[39;00m\n\u001B[1;32m    339\u001B[0m     \u001B[38;5;66;03m# Dask dataframes may not return numeric shape[0] value\u001B[39;00m\n\u001B[1;32m    340\u001B[0m     \u001B[38;5;28;01mif\u001B[39;00m \u001B[38;5;28misinstance\u001B[39m(x\u001B[38;5;241m.\u001B[39mshape[\u001B[38;5;241m0\u001B[39m], numbers\u001B[38;5;241m.\u001B[39mIntegral):\n",
      "\u001B[0;31mTypeError\u001B[0m: Singleton array array(0.02160587) cannot be considered a valid collection."
     ]
    }
   ],
   "source": [
    "data.Volume.apply(minmax_scale)"
   ],
   "metadata": {
    "collapsed": false,
    "ExecuteTime": {
     "start_time": "2023-10-23T04:47:28.421471Z",
     "end_time": "2023-10-23T04:47:28.550348Z"
    }
   }
  },
  {
   "cell_type": "code",
   "execution_count": 196,
   "outputs": [
    {
     "data": {
      "text/plain": "Datetime\n2023-07-26 12:00:00+05:30    0.021606\n2023-07-26 12:05:00+05:30    0.030037\n2023-07-26 12:10:00+05:30    0.027897\n2023-07-26 12:15:00+05:30    0.058139\n2023-07-26 12:20:00+05:30    0.037672\n                               ...   \n2023-10-20 15:10:00+05:30    0.129858\n2023-10-20 15:15:00+05:30    0.147952\n2023-10-20 15:20:00+05:30    0.139982\n2023-10-20 15:25:00+05:30    0.090380\n2023-10-20 15:30:00+05:30    0.000000\nName: Volume, Length: 4468, dtype: float64"
     },
     "execution_count": 196,
     "metadata": {},
     "output_type": "execute_result"
    }
   ],
   "source": [
    "data.Volume"
   ],
   "metadata": {
    "collapsed": false,
    "ExecuteTime": {
     "start_time": "2023-10-23T04:47:35.084868Z",
     "end_time": "2023-10-23T04:47:35.134509Z"
    }
   }
  },
  {
   "cell_type": "code",
   "execution_count": 6,
   "outputs": [
    {
     "data": {
      "text/plain": "                                  Open         High          Low        Close  \\\nDatetime                                                                        \n2023-07-26 09:15:00+05:30  1343.000000  1344.300049  1342.050049  1342.900024   \n2023-07-26 09:20:00+05:30  1342.449951  1343.650024  1340.550049  1343.250000   \n2023-07-26 09:25:00+05:30  1343.000000  1343.199951  1341.000000  1342.000000   \n2023-07-26 09:30:00+05:30  1341.750000  1343.000000  1340.250000  1341.500000   \n2023-07-26 09:35:00+05:30  1341.500000  1342.949951  1341.000000  1341.000000   \n...                                ...          ...          ...          ...   \n2023-10-20 15:10:00+05:30  1427.550049  1428.849976  1426.099976  1426.500000   \n2023-10-20 15:15:00+05:30  1426.500000  1427.550049  1425.349976  1426.199951   \n2023-10-20 15:20:00+05:30  1426.300049  1428.000000  1426.099976  1426.099976   \n2023-10-20 15:25:00+05:30  1426.199951  1428.000000  1426.000000  1426.449951   \n2023-10-20 15:30:00+05:30  1427.250000  1427.250000  1427.250000  1427.250000   \n\n                             Adj Close  Volume      MACD  MACDSIGNAL  \\\nDatetime                                                               \n2023-07-26 09:15:00+05:30  1342.900024       0       NaN         NaN   \n2023-07-26 09:20:00+05:30  1343.250000   86594       NaN         NaN   \n2023-07-26 09:25:00+05:30  1342.000000   83692       NaN         NaN   \n2023-07-26 09:30:00+05:30  1341.500000   68145       NaN         NaN   \n2023-07-26 09:35:00+05:30  1341.000000   53145       NaN         NaN   \n...                                ...     ...       ...         ...   \n2023-10-20 15:10:00+05:30  1426.500000  199759 -0.957601   -0.640720   \n2023-10-20 15:15:00+05:30  1426.199951  227592 -1.123564   -0.737288   \n2023-10-20 15:20:00+05:30  1426.099976  215332 -1.248763   -0.839583   \n2023-10-20 15:25:00+05:30  1426.449951  139030 -1.304704   -0.932608   \n2023-10-20 15:30:00+05:30  1427.250000       0 -1.269843   -1.000055   \n\n                           MACDHIST        ADX        MFI        OBV  \\\nDatetime                                                               \n2023-07-26 09:15:00+05:30       NaN        NaN        NaN        0.0   \n2023-07-26 09:20:00+05:30       NaN        NaN        NaN    86594.0   \n2023-07-26 09:25:00+05:30       NaN        NaN        NaN     2902.0   \n2023-07-26 09:30:00+05:30       NaN        NaN        NaN   -65243.0   \n2023-07-26 09:35:00+05:30       NaN        NaN        NaN  -118388.0   \n...                             ...        ...        ...        ...   \n2023-10-20 15:10:00+05:30 -0.316881  16.980145  17.736142  2556293.0   \n2023-10-20 15:15:00+05:30 -0.386275  18.358330  12.604586  2328701.0   \n2023-10-20 15:20:00+05:30 -0.409180  19.187955  27.837854  2113369.0   \n2023-10-20 15:25:00+05:30 -0.372097  20.013062  35.768869  2252399.0   \n2023-10-20 15:30:00+05:30 -0.269788  20.779233  36.217509  2252399.0   \n\n                                 RSI          SAR          SMA       ATR  \nDatetime                                                                  \n2023-07-26 09:15:00+05:30        NaN          NaN          NaN       NaN  \n2023-07-26 09:20:00+05:30        NaN  1344.300049          NaN       NaN  \n2023-07-26 09:25:00+05:30        NaN  1344.225049          NaN       NaN  \n2023-07-26 09:30:00+05:30        NaN  1344.151549          NaN       NaN  \n2023-07-26 09:35:00+05:30        NaN  1343.995487          NaN       NaN  \n...                              ...          ...          ...       ...  \n2023-10-20 15:10:00+05:30  28.755622  1431.546654  1430.209998  1.872206  \n2023-10-20 15:15:00+05:30  27.792259  1431.001986  1430.101664  1.895625  \n2023-10-20 15:20:00+05:30  27.462127  1430.323745  1429.988330  1.895939  \n2023-10-20 15:25:00+05:30  30.571209  1429.726893  1429.889994  1.903372  \n2023-10-20 15:30:00+05:30  37.198013  1429.201663  1429.798328  1.824563  \n\n[4501 rows x 16 columns]",
      "text/html": "<div>\n<style scoped>\n    .dataframe tbody tr th:only-of-type {\n        vertical-align: middle;\n    }\n\n    .dataframe tbody tr th {\n        vertical-align: top;\n    }\n\n    .dataframe thead th {\n        text-align: right;\n    }\n</style>\n<table border=\"1\" class=\"dataframe\">\n  <thead>\n    <tr style=\"text-align: right;\">\n      <th></th>\n      <th>Open</th>\n      <th>High</th>\n      <th>Low</th>\n      <th>Close</th>\n      <th>Adj Close</th>\n      <th>Volume</th>\n      <th>MACD</th>\n      <th>MACDSIGNAL</th>\n      <th>MACDHIST</th>\n      <th>ADX</th>\n      <th>MFI</th>\n      <th>OBV</th>\n      <th>RSI</th>\n      <th>SAR</th>\n      <th>SMA</th>\n      <th>ATR</th>\n    </tr>\n    <tr>\n      <th>Datetime</th>\n      <th></th>\n      <th></th>\n      <th></th>\n      <th></th>\n      <th></th>\n      <th></th>\n      <th></th>\n      <th></th>\n      <th></th>\n      <th></th>\n      <th></th>\n      <th></th>\n      <th></th>\n      <th></th>\n      <th></th>\n      <th></th>\n    </tr>\n  </thead>\n  <tbody>\n    <tr>\n      <th>2023-07-26 09:15:00+05:30</th>\n      <td>1343.000000</td>\n      <td>1344.300049</td>\n      <td>1342.050049</td>\n      <td>1342.900024</td>\n      <td>1342.900024</td>\n      <td>0</td>\n      <td>NaN</td>\n      <td>NaN</td>\n      <td>NaN</td>\n      <td>NaN</td>\n      <td>NaN</td>\n      <td>0.0</td>\n      <td>NaN</td>\n      <td>NaN</td>\n      <td>NaN</td>\n      <td>NaN</td>\n    </tr>\n    <tr>\n      <th>2023-07-26 09:20:00+05:30</th>\n      <td>1342.449951</td>\n      <td>1343.650024</td>\n      <td>1340.550049</td>\n      <td>1343.250000</td>\n      <td>1343.250000</td>\n      <td>86594</td>\n      <td>NaN</td>\n      <td>NaN</td>\n      <td>NaN</td>\n      <td>NaN</td>\n      <td>NaN</td>\n      <td>86594.0</td>\n      <td>NaN</td>\n      <td>1344.300049</td>\n      <td>NaN</td>\n      <td>NaN</td>\n    </tr>\n    <tr>\n      <th>2023-07-26 09:25:00+05:30</th>\n      <td>1343.000000</td>\n      <td>1343.199951</td>\n      <td>1341.000000</td>\n      <td>1342.000000</td>\n      <td>1342.000000</td>\n      <td>83692</td>\n      <td>NaN</td>\n      <td>NaN</td>\n      <td>NaN</td>\n      <td>NaN</td>\n      <td>NaN</td>\n      <td>2902.0</td>\n      <td>NaN</td>\n      <td>1344.225049</td>\n      <td>NaN</td>\n      <td>NaN</td>\n    </tr>\n    <tr>\n      <th>2023-07-26 09:30:00+05:30</th>\n      <td>1341.750000</td>\n      <td>1343.000000</td>\n      <td>1340.250000</td>\n      <td>1341.500000</td>\n      <td>1341.500000</td>\n      <td>68145</td>\n      <td>NaN</td>\n      <td>NaN</td>\n      <td>NaN</td>\n      <td>NaN</td>\n      <td>NaN</td>\n      <td>-65243.0</td>\n      <td>NaN</td>\n      <td>1344.151549</td>\n      <td>NaN</td>\n      <td>NaN</td>\n    </tr>\n    <tr>\n      <th>2023-07-26 09:35:00+05:30</th>\n      <td>1341.500000</td>\n      <td>1342.949951</td>\n      <td>1341.000000</td>\n      <td>1341.000000</td>\n      <td>1341.000000</td>\n      <td>53145</td>\n      <td>NaN</td>\n      <td>NaN</td>\n      <td>NaN</td>\n      <td>NaN</td>\n      <td>NaN</td>\n      <td>-118388.0</td>\n      <td>NaN</td>\n      <td>1343.995487</td>\n      <td>NaN</td>\n      <td>NaN</td>\n    </tr>\n    <tr>\n      <th>...</th>\n      <td>...</td>\n      <td>...</td>\n      <td>...</td>\n      <td>...</td>\n      <td>...</td>\n      <td>...</td>\n      <td>...</td>\n      <td>...</td>\n      <td>...</td>\n      <td>...</td>\n      <td>...</td>\n      <td>...</td>\n      <td>...</td>\n      <td>...</td>\n      <td>...</td>\n      <td>...</td>\n    </tr>\n    <tr>\n      <th>2023-10-20 15:10:00+05:30</th>\n      <td>1427.550049</td>\n      <td>1428.849976</td>\n      <td>1426.099976</td>\n      <td>1426.500000</td>\n      <td>1426.500000</td>\n      <td>199759</td>\n      <td>-0.957601</td>\n      <td>-0.640720</td>\n      <td>-0.316881</td>\n      <td>16.980145</td>\n      <td>17.736142</td>\n      <td>2556293.0</td>\n      <td>28.755622</td>\n      <td>1431.546654</td>\n      <td>1430.209998</td>\n      <td>1.872206</td>\n    </tr>\n    <tr>\n      <th>2023-10-20 15:15:00+05:30</th>\n      <td>1426.500000</td>\n      <td>1427.550049</td>\n      <td>1425.349976</td>\n      <td>1426.199951</td>\n      <td>1426.199951</td>\n      <td>227592</td>\n      <td>-1.123564</td>\n      <td>-0.737288</td>\n      <td>-0.386275</td>\n      <td>18.358330</td>\n      <td>12.604586</td>\n      <td>2328701.0</td>\n      <td>27.792259</td>\n      <td>1431.001986</td>\n      <td>1430.101664</td>\n      <td>1.895625</td>\n    </tr>\n    <tr>\n      <th>2023-10-20 15:20:00+05:30</th>\n      <td>1426.300049</td>\n      <td>1428.000000</td>\n      <td>1426.099976</td>\n      <td>1426.099976</td>\n      <td>1426.099976</td>\n      <td>215332</td>\n      <td>-1.248763</td>\n      <td>-0.839583</td>\n      <td>-0.409180</td>\n      <td>19.187955</td>\n      <td>27.837854</td>\n      <td>2113369.0</td>\n      <td>27.462127</td>\n      <td>1430.323745</td>\n      <td>1429.988330</td>\n      <td>1.895939</td>\n    </tr>\n    <tr>\n      <th>2023-10-20 15:25:00+05:30</th>\n      <td>1426.199951</td>\n      <td>1428.000000</td>\n      <td>1426.000000</td>\n      <td>1426.449951</td>\n      <td>1426.449951</td>\n      <td>139030</td>\n      <td>-1.304704</td>\n      <td>-0.932608</td>\n      <td>-0.372097</td>\n      <td>20.013062</td>\n      <td>35.768869</td>\n      <td>2252399.0</td>\n      <td>30.571209</td>\n      <td>1429.726893</td>\n      <td>1429.889994</td>\n      <td>1.903372</td>\n    </tr>\n    <tr>\n      <th>2023-10-20 15:30:00+05:30</th>\n      <td>1427.250000</td>\n      <td>1427.250000</td>\n      <td>1427.250000</td>\n      <td>1427.250000</td>\n      <td>1427.250000</td>\n      <td>0</td>\n      <td>-1.269843</td>\n      <td>-1.000055</td>\n      <td>-0.269788</td>\n      <td>20.779233</td>\n      <td>36.217509</td>\n      <td>2252399.0</td>\n      <td>37.198013</td>\n      <td>1429.201663</td>\n      <td>1429.798328</td>\n      <td>1.824563</td>\n    </tr>\n  </tbody>\n</table>\n<p>4501 rows × 16 columns</p>\n</div>"
     },
     "execution_count": 6,
     "metadata": {},
     "output_type": "execute_result"
    }
   ],
   "source": [
    "infy_data.data"
   ],
   "metadata": {
    "collapsed": false,
    "ExecuteTime": {
     "start_time": "2023-10-21T21:24:13.371875Z",
     "end_time": "2023-10-21T21:24:13.467167Z"
    }
   }
  },
  {
   "cell_type": "code",
   "execution_count": 145,
   "outputs": [],
   "source": [],
   "metadata": {
    "collapsed": false
   }
  },
  {
   "cell_type": "code",
   "execution_count": 24,
   "outputs": [],
   "source": [],
   "metadata": {
    "collapsed": false
   }
  },
  {
   "cell_type": "code",
   "execution_count": 7,
   "outputs": [],
   "source": [
    "infy_data.window_dataset()"
   ],
   "metadata": {
    "collapsed": false
   }
  },
  {
   "cell_type": "code",
   "execution_count": 89,
   "outputs": [
    {
     "data": {
      "text/plain": "      level_1                  Datetime         Open         High  \\\n0           0 2023-07-24 09:15:00+05:30  1348.199951  1348.199951   \n1           1 2023-07-24 09:20:00+05:30  1341.949951  1347.750000   \n2           2 2023-07-24 09:25:00+05:30  1340.150024  1341.300049   \n3           3 2023-07-24 09:30:00+05:30  1338.800049  1342.250000   \n4           4 2023-07-24 09:35:00+05:30  1340.400024  1340.400024   \n...       ...                       ...          ...          ...   \n28499       2 2023-10-17 15:10:00+05:30  1444.150024  1444.199951   \n28500       3 2023-10-17 15:15:00+05:30  1442.050049  1442.949951   \n28501       4 2023-10-17 15:20:00+05:30  1442.900024  1443.099976   \n28502       5 2023-10-17 15:25:00+05:30  1443.000000  1444.000000   \n28503       6 2023-10-17 15:30:00+05:30  1442.449951  1442.449951   \n\n               Low        Close    Adj Close    Volume      MACD  MACDSIGNAL  \\\n0      1337.849976  1341.500000  1341.500000       0.0  1.550172   -0.437801   \n1      1340.449951  1340.750000  1340.750000  526055.0  2.130130    0.075785   \n2      1336.800049  1338.800049  1338.800049  391902.0  2.404687    0.541565   \n3      1336.500000  1340.250000  1340.250000  236072.0  2.708057    0.974864   \n4      1337.000000  1337.050049  1337.050049  152925.0  2.659613    1.311814   \n...            ...          ...          ...       ...       ...         ...   \n28499  1442.050049  1442.099976  1442.099976   67514.0 -1.375745   -1.571707   \n28500  1441.349976  1442.949951  1442.949951   92657.0 -1.161044   -1.489574   \n28501  1442.550049  1443.050049  1443.050049   90479.0 -0.971615   -1.385982   \n28502  1442.400024  1443.000000  1443.000000   72605.0 -0.816122   -1.272010   \n28503  1442.449951  1442.449951  1442.449951       0.0 -0.728875   -1.163383   \n\n       MACDHIST        ADX        MFI        OBV        RSI          SAR  \\\n0      1.987973  29.560788  80.729521  1115581.0  73.846684  1325.358190   \n1      2.054345  31.817748  81.174240   589526.0  71.546879  1328.099202   \n2      1.863122  32.462760  76.461907   197624.0  65.808500  1330.511292   \n3      1.733194  33.205856  80.073962   433696.0  67.871965  1332.633931   \n4      1.347799  33.895874  82.802146   280771.0  59.357984  1334.501853   \n...         ...        ...        ...        ...        ...          ...   \n28499  0.195962  38.741646  51.599565  5289883.0  47.114112  1438.416987   \n28500  0.328530  36.012274  44.964337  5382540.0  49.916957  1438.672309   \n28501  0.414367  33.573387  53.959371  5473019.0  50.251339  1438.917419   \n28502  0.455888  31.868925  55.790779  5400414.0  50.071329  1439.152724   \n28503  0.434508  30.286211  57.453013  5400414.0  48.034775  1439.378617   \n\n               SMA       ATR  \n0      1329.161662  3.432078  \n1      1329.514994  3.708362  \n2      1329.733329  3.764907  \n3      1329.998328  3.906700  \n4      1330.131661  3.870508  \n...            ...       ...  \n28499  1445.169995  1.735420  \n28500  1444.928328  1.725746  \n28501  1444.623332  1.641759  \n28502  1444.289998  1.638774  \n28503  1444.014998  1.561008  \n\n[28504 rows x 18 columns]",
      "text/html": "<div>\n<style scoped>\n    .dataframe tbody tr th:only-of-type {\n        vertical-align: middle;\n    }\n\n    .dataframe tbody tr th {\n        vertical-align: top;\n    }\n\n    .dataframe thead th {\n        text-align: right;\n    }\n</style>\n<table border=\"1\" class=\"dataframe\">\n  <thead>\n    <tr style=\"text-align: right;\">\n      <th></th>\n      <th>level_1</th>\n      <th>Datetime</th>\n      <th>Open</th>\n      <th>High</th>\n      <th>Low</th>\n      <th>Close</th>\n      <th>Adj Close</th>\n      <th>Volume</th>\n      <th>MACD</th>\n      <th>MACDSIGNAL</th>\n      <th>MACDHIST</th>\n      <th>ADX</th>\n      <th>MFI</th>\n      <th>OBV</th>\n      <th>RSI</th>\n      <th>SAR</th>\n      <th>SMA</th>\n      <th>ATR</th>\n    </tr>\n  </thead>\n  <tbody>\n    <tr>\n      <th>0</th>\n      <td>0</td>\n      <td>2023-07-24 09:15:00+05:30</td>\n      <td>1348.199951</td>\n      <td>1348.199951</td>\n      <td>1337.849976</td>\n      <td>1341.500000</td>\n      <td>1341.500000</td>\n      <td>0.0</td>\n      <td>1.550172</td>\n      <td>-0.437801</td>\n      <td>1.987973</td>\n      <td>29.560788</td>\n      <td>80.729521</td>\n      <td>1115581.0</td>\n      <td>73.846684</td>\n      <td>1325.358190</td>\n      <td>1329.161662</td>\n      <td>3.432078</td>\n    </tr>\n    <tr>\n      <th>1</th>\n      <td>1</td>\n      <td>2023-07-24 09:20:00+05:30</td>\n      <td>1341.949951</td>\n      <td>1347.750000</td>\n      <td>1340.449951</td>\n      <td>1340.750000</td>\n      <td>1340.750000</td>\n      <td>526055.0</td>\n      <td>2.130130</td>\n      <td>0.075785</td>\n      <td>2.054345</td>\n      <td>31.817748</td>\n      <td>81.174240</td>\n      <td>589526.0</td>\n      <td>71.546879</td>\n      <td>1328.099202</td>\n      <td>1329.514994</td>\n      <td>3.708362</td>\n    </tr>\n    <tr>\n      <th>2</th>\n      <td>2</td>\n      <td>2023-07-24 09:25:00+05:30</td>\n      <td>1340.150024</td>\n      <td>1341.300049</td>\n      <td>1336.800049</td>\n      <td>1338.800049</td>\n      <td>1338.800049</td>\n      <td>391902.0</td>\n      <td>2.404687</td>\n      <td>0.541565</td>\n      <td>1.863122</td>\n      <td>32.462760</td>\n      <td>76.461907</td>\n      <td>197624.0</td>\n      <td>65.808500</td>\n      <td>1330.511292</td>\n      <td>1329.733329</td>\n      <td>3.764907</td>\n    </tr>\n    <tr>\n      <th>3</th>\n      <td>3</td>\n      <td>2023-07-24 09:30:00+05:30</td>\n      <td>1338.800049</td>\n      <td>1342.250000</td>\n      <td>1336.500000</td>\n      <td>1340.250000</td>\n      <td>1340.250000</td>\n      <td>236072.0</td>\n      <td>2.708057</td>\n      <td>0.974864</td>\n      <td>1.733194</td>\n      <td>33.205856</td>\n      <td>80.073962</td>\n      <td>433696.0</td>\n      <td>67.871965</td>\n      <td>1332.633931</td>\n      <td>1329.998328</td>\n      <td>3.906700</td>\n    </tr>\n    <tr>\n      <th>4</th>\n      <td>4</td>\n      <td>2023-07-24 09:35:00+05:30</td>\n      <td>1340.400024</td>\n      <td>1340.400024</td>\n      <td>1337.000000</td>\n      <td>1337.050049</td>\n      <td>1337.050049</td>\n      <td>152925.0</td>\n      <td>2.659613</td>\n      <td>1.311814</td>\n      <td>1.347799</td>\n      <td>33.895874</td>\n      <td>82.802146</td>\n      <td>280771.0</td>\n      <td>59.357984</td>\n      <td>1334.501853</td>\n      <td>1330.131661</td>\n      <td>3.870508</td>\n    </tr>\n    <tr>\n      <th>...</th>\n      <td>...</td>\n      <td>...</td>\n      <td>...</td>\n      <td>...</td>\n      <td>...</td>\n      <td>...</td>\n      <td>...</td>\n      <td>...</td>\n      <td>...</td>\n      <td>...</td>\n      <td>...</td>\n      <td>...</td>\n      <td>...</td>\n      <td>...</td>\n      <td>...</td>\n      <td>...</td>\n      <td>...</td>\n      <td>...</td>\n    </tr>\n    <tr>\n      <th>28499</th>\n      <td>2</td>\n      <td>2023-10-17 15:10:00+05:30</td>\n      <td>1444.150024</td>\n      <td>1444.199951</td>\n      <td>1442.050049</td>\n      <td>1442.099976</td>\n      <td>1442.099976</td>\n      <td>67514.0</td>\n      <td>-1.375745</td>\n      <td>-1.571707</td>\n      <td>0.195962</td>\n      <td>38.741646</td>\n      <td>51.599565</td>\n      <td>5289883.0</td>\n      <td>47.114112</td>\n      <td>1438.416987</td>\n      <td>1445.169995</td>\n      <td>1.735420</td>\n    </tr>\n    <tr>\n      <th>28500</th>\n      <td>3</td>\n      <td>2023-10-17 15:15:00+05:30</td>\n      <td>1442.050049</td>\n      <td>1442.949951</td>\n      <td>1441.349976</td>\n      <td>1442.949951</td>\n      <td>1442.949951</td>\n      <td>92657.0</td>\n      <td>-1.161044</td>\n      <td>-1.489574</td>\n      <td>0.328530</td>\n      <td>36.012274</td>\n      <td>44.964337</td>\n      <td>5382540.0</td>\n      <td>49.916957</td>\n      <td>1438.672309</td>\n      <td>1444.928328</td>\n      <td>1.725746</td>\n    </tr>\n    <tr>\n      <th>28501</th>\n      <td>4</td>\n      <td>2023-10-17 15:20:00+05:30</td>\n      <td>1442.900024</td>\n      <td>1443.099976</td>\n      <td>1442.550049</td>\n      <td>1443.050049</td>\n      <td>1443.050049</td>\n      <td>90479.0</td>\n      <td>-0.971615</td>\n      <td>-1.385982</td>\n      <td>0.414367</td>\n      <td>33.573387</td>\n      <td>53.959371</td>\n      <td>5473019.0</td>\n      <td>50.251339</td>\n      <td>1438.917419</td>\n      <td>1444.623332</td>\n      <td>1.641759</td>\n    </tr>\n    <tr>\n      <th>28502</th>\n      <td>5</td>\n      <td>2023-10-17 15:25:00+05:30</td>\n      <td>1443.000000</td>\n      <td>1444.000000</td>\n      <td>1442.400024</td>\n      <td>1443.000000</td>\n      <td>1443.000000</td>\n      <td>72605.0</td>\n      <td>-0.816122</td>\n      <td>-1.272010</td>\n      <td>0.455888</td>\n      <td>31.868925</td>\n      <td>55.790779</td>\n      <td>5400414.0</td>\n      <td>50.071329</td>\n      <td>1439.152724</td>\n      <td>1444.289998</td>\n      <td>1.638774</td>\n    </tr>\n    <tr>\n      <th>28503</th>\n      <td>6</td>\n      <td>2023-10-17 15:30:00+05:30</td>\n      <td>1442.449951</td>\n      <td>1442.449951</td>\n      <td>1442.449951</td>\n      <td>1442.449951</td>\n      <td>1442.449951</td>\n      <td>0.0</td>\n      <td>-0.728875</td>\n      <td>-1.163383</td>\n      <td>0.434508</td>\n      <td>30.286211</td>\n      <td>57.453013</td>\n      <td>5400414.0</td>\n      <td>48.034775</td>\n      <td>1439.378617</td>\n      <td>1444.014998</td>\n      <td>1.561008</td>\n    </tr>\n  </tbody>\n</table>\n<p>28504 rows × 18 columns</p>\n</div>"
     },
     "execution_count": 89,
     "metadata": {},
     "output_type": "execute_result"
    }
   ],
   "source": [
    "infy_data.windowed_dataset"
   ],
   "metadata": {
    "collapsed": false
   }
  },
  {
   "cell_type": "code",
   "execution_count": 8,
   "outputs": [
    {
     "data": {
      "text/plain": "                                  Open         High          Low        Close  \\\nDatetime                                                                        \n2023-07-26 12:00:00+05:30  1344.550049  1345.000000  1344.000000  1344.750000   \n2023-07-26 12:05:00+05:30  1344.699951  1345.900024  1344.500000  1345.699951   \n2023-07-26 12:10:00+05:30  1345.800049  1345.900024  1345.000000  1345.699951   \n2023-07-26 12:15:00+05:30  1345.500000  1346.550049  1345.150024  1346.199951   \n2023-07-26 12:20:00+05:30  1346.199951  1347.000000  1345.800049  1346.650024   \n\n                             Adj Close  Volume      MACD  MACDSIGNAL  \\\nDatetime                                                               \n2023-07-26 12:00:00+05:30  1344.750000   33236  0.568509    0.653149   \n2023-07-26 12:05:00+05:30  1345.699951   46206  0.663634    0.655246   \n2023-07-26 12:10:00+05:30  1345.699951   42914  0.730599    0.670316   \n2023-07-26 12:15:00+05:30  1346.199951   89434  0.814624    0.699178   \n2023-07-26 12:20:00+05:30  1346.650024   57950  0.907076    0.740757   \n\n                           MACDHIST        ADX        MFI       OBV  \\\nDatetime                                                              \n2023-07-26 12:00:00+05:30 -0.084639  10.791294  48.180934   42557.0   \n2023-07-26 12:05:00+05:30  0.008388  10.936112  48.180456   88763.0   \n2023-07-26 12:10:00+05:30  0.060282  11.070587  47.585772   88763.0   \n2023-07-26 12:15:00+05:30  0.115446  11.785185  51.374333  178197.0   \n2023-07-26 12:20:00+05:30  0.166319  12.820480  59.054528  236147.0   \n\n                                 RSI          SAR          SMA       ATR  \nDatetime                                                                  \n2023-07-26 12:00:00+05:30  57.065131  1345.118627  1343.300008  1.543856  \n2023-07-26 12:05:00+05:30  61.852024  1341.199951  1343.456673  1.533583  \n2023-07-26 12:10:00+05:30  61.852024  1341.293953  1343.620003  1.488328  \n2023-07-26 12:15:00+05:30  64.282874  1341.386074  1343.813334  1.482021  \n2023-07-26 12:20:00+05:30  66.360801  1341.592633  1343.948336  1.461873  ",
      "text/html": "<div>\n<style scoped>\n    .dataframe tbody tr th:only-of-type {\n        vertical-align: middle;\n    }\n\n    .dataframe tbody tr th {\n        vertical-align: top;\n    }\n\n    .dataframe thead th {\n        text-align: right;\n    }\n</style>\n<table border=\"1\" class=\"dataframe\">\n  <thead>\n    <tr style=\"text-align: right;\">\n      <th></th>\n      <th>Open</th>\n      <th>High</th>\n      <th>Low</th>\n      <th>Close</th>\n      <th>Adj Close</th>\n      <th>Volume</th>\n      <th>MACD</th>\n      <th>MACDSIGNAL</th>\n      <th>MACDHIST</th>\n      <th>ADX</th>\n      <th>MFI</th>\n      <th>OBV</th>\n      <th>RSI</th>\n      <th>SAR</th>\n      <th>SMA</th>\n      <th>ATR</th>\n    </tr>\n    <tr>\n      <th>Datetime</th>\n      <th></th>\n      <th></th>\n      <th></th>\n      <th></th>\n      <th></th>\n      <th></th>\n      <th></th>\n      <th></th>\n      <th></th>\n      <th></th>\n      <th></th>\n      <th></th>\n      <th></th>\n      <th></th>\n      <th></th>\n      <th></th>\n    </tr>\n  </thead>\n  <tbody>\n    <tr>\n      <th>2023-07-26 12:00:00+05:30</th>\n      <td>1344.550049</td>\n      <td>1345.000000</td>\n      <td>1344.000000</td>\n      <td>1344.750000</td>\n      <td>1344.750000</td>\n      <td>33236</td>\n      <td>0.568509</td>\n      <td>0.653149</td>\n      <td>-0.084639</td>\n      <td>10.791294</td>\n      <td>48.180934</td>\n      <td>42557.0</td>\n      <td>57.065131</td>\n      <td>1345.118627</td>\n      <td>1343.300008</td>\n      <td>1.543856</td>\n    </tr>\n    <tr>\n      <th>2023-07-26 12:05:00+05:30</th>\n      <td>1344.699951</td>\n      <td>1345.900024</td>\n      <td>1344.500000</td>\n      <td>1345.699951</td>\n      <td>1345.699951</td>\n      <td>46206</td>\n      <td>0.663634</td>\n      <td>0.655246</td>\n      <td>0.008388</td>\n      <td>10.936112</td>\n      <td>48.180456</td>\n      <td>88763.0</td>\n      <td>61.852024</td>\n      <td>1341.199951</td>\n      <td>1343.456673</td>\n      <td>1.533583</td>\n    </tr>\n    <tr>\n      <th>2023-07-26 12:10:00+05:30</th>\n      <td>1345.800049</td>\n      <td>1345.900024</td>\n      <td>1345.000000</td>\n      <td>1345.699951</td>\n      <td>1345.699951</td>\n      <td>42914</td>\n      <td>0.730599</td>\n      <td>0.670316</td>\n      <td>0.060282</td>\n      <td>11.070587</td>\n      <td>47.585772</td>\n      <td>88763.0</td>\n      <td>61.852024</td>\n      <td>1341.293953</td>\n      <td>1343.620003</td>\n      <td>1.488328</td>\n    </tr>\n    <tr>\n      <th>2023-07-26 12:15:00+05:30</th>\n      <td>1345.500000</td>\n      <td>1346.550049</td>\n      <td>1345.150024</td>\n      <td>1346.199951</td>\n      <td>1346.199951</td>\n      <td>89434</td>\n      <td>0.814624</td>\n      <td>0.699178</td>\n      <td>0.115446</td>\n      <td>11.785185</td>\n      <td>51.374333</td>\n      <td>178197.0</td>\n      <td>64.282874</td>\n      <td>1341.386074</td>\n      <td>1343.813334</td>\n      <td>1.482021</td>\n    </tr>\n    <tr>\n      <th>2023-07-26 12:20:00+05:30</th>\n      <td>1346.199951</td>\n      <td>1347.000000</td>\n      <td>1345.800049</td>\n      <td>1346.650024</td>\n      <td>1346.650024</td>\n      <td>57950</td>\n      <td>0.907076</td>\n      <td>0.740757</td>\n      <td>0.166319</td>\n      <td>12.820480</td>\n      <td>59.054528</td>\n      <td>236147.0</td>\n      <td>66.360801</td>\n      <td>1341.592633</td>\n      <td>1343.948336</td>\n      <td>1.461873</td>\n    </tr>\n  </tbody>\n</table>\n</div>"
     },
     "execution_count": 8,
     "metadata": {},
     "output_type": "execute_result"
    }
   ],
   "source": [
    "infy_data.data.head()"
   ],
   "metadata": {
    "collapsed": false
   }
  },
  {
   "cell_type": "code",
   "execution_count": 9,
   "outputs": [],
   "source": [
    "data = infy_data.data.copy()"
   ],
   "metadata": {
    "collapsed": false
   }
  },
  {
   "cell_type": "code",
   "execution_count": 11,
   "outputs": [
    {
     "data": {
      "text/plain": "Index(['Open', 'High', 'Low', 'Close', 'Adj Close', 'Volume', 'MACD',\n       'MACDSIGNAL', 'MACDHIST', 'ADX', 'MFI', 'OBV', 'RSI', 'SAR', 'SMA',\n       'ATR'],\n      dtype='object')"
     },
     "execution_count": 11,
     "metadata": {},
     "output_type": "execute_result"
    }
   ],
   "source": [
    "data.columns"
   ],
   "metadata": {
    "collapsed": false
   }
  },
  {
   "cell_type": "code",
   "execution_count": 12,
   "outputs": [
    {
     "data": {
      "text/plain": "              Open\ncount  4468.000000\nmean   1434.325404\nstd      45.841386\nmin    1336.400024\n25%    1398.387512\n50%    1435.599976\n75%    1473.050049\nmax    1516.900024",
      "text/html": "<div>\n<style scoped>\n    .dataframe tbody tr th:only-of-type {\n        vertical-align: middle;\n    }\n\n    .dataframe tbody tr th {\n        vertical-align: top;\n    }\n\n    .dataframe thead th {\n        text-align: right;\n    }\n</style>\n<table border=\"1\" class=\"dataframe\">\n  <thead>\n    <tr style=\"text-align: right;\">\n      <th></th>\n      <th>Open</th>\n    </tr>\n  </thead>\n  <tbody>\n    <tr>\n      <th>count</th>\n      <td>4468.000000</td>\n    </tr>\n    <tr>\n      <th>mean</th>\n      <td>1434.325404</td>\n    </tr>\n    <tr>\n      <th>std</th>\n      <td>45.841386</td>\n    </tr>\n    <tr>\n      <th>min</th>\n      <td>1336.400024</td>\n    </tr>\n    <tr>\n      <th>25%</th>\n      <td>1398.387512</td>\n    </tr>\n    <tr>\n      <th>50%</th>\n      <td>1435.599976</td>\n    </tr>\n    <tr>\n      <th>75%</th>\n      <td>1473.050049</td>\n    </tr>\n    <tr>\n      <th>max</th>\n      <td>1516.900024</td>\n    </tr>\n  </tbody>\n</table>\n</div>"
     },
     "execution_count": 12,
     "metadata": {},
     "output_type": "execute_result"
    }
   ],
   "source": [
    "data[['Open']].describe()"
   ],
   "metadata": {
    "collapsed": false
   }
  },
  {
   "cell_type": "code",
   "execution_count": 13,
   "outputs": [
    {
     "data": {
      "text/plain": "<AxesSubplot: xlabel='Datetime'>"
     },
     "execution_count": 13,
     "metadata": {},
     "output_type": "execute_result"
    },
    {
     "data": {
      "text/plain": "<Figure size 640x480 with 1 Axes>",
      "image/png": "[encoded data removed]"
     },
     "metadata": {},
     "output_type": "display_data"
    }
   ],
   "source": [
    "data[[\"Open\"]].plot()"
   ],
   "metadata": {
    "collapsed": false
   }
  },
  {
   "cell_type": "code",
   "execution_count": 16,
   "outputs": [
    {
     "data": {
      "text/plain": "<AxesSubplot: ylabel='Frequency'>"
     },
     "execution_count": 16,
     "metadata": {},
     "output_type": "execute_result"
    },
    {
     "data": {
      "text/plain": "<Figure size 640x480 with 1 Axes>",
      "image/png": "[encoded data removed]"
     },
     "metadata": {},
     "output_type": "display_data"
    }
   ],
   "source": [
    "data[[\"Open\"]].plot(kind=\"hist\")"
   ],
   "metadata": {
    "collapsed": false
   }
  },
  {
   "cell_type": "code",
   "execution_count": 17,
   "outputs": [
    {
     "data": {
      "text/plain": "              MACD\ncount  4468.000000\nmean      0.136757\nstd       1.944400\nmin     -13.863079\n25%      -0.767835\n50%       0.234306\n75%       1.156207\nmax       8.441294",
      "text/html": "<div>\n<style scoped>\n    .dataframe tbody tr th:only-of-type {\n        vertical-align: middle;\n    }\n\n    .dataframe tbody tr th {\n        vertical-align: top;\n    }\n\n    .dataframe thead th {\n        text-align: right;\n    }\n</style>\n<table border=\"1\" class=\"dataframe\">\n  <thead>\n    <tr style=\"text-align: right;\">\n      <th></th>\n      <th>MACD</th>\n    </tr>\n  </thead>\n  <tbody>\n    <tr>\n      <th>count</th>\n      <td>4468.000000</td>\n    </tr>\n    <tr>\n      <th>mean</th>\n      <td>0.136757</td>\n    </tr>\n    <tr>\n      <th>std</th>\n      <td>1.944400</td>\n    </tr>\n    <tr>\n      <th>min</th>\n      <td>-13.863079</td>\n    </tr>\n    <tr>\n      <th>25%</th>\n      <td>-0.767835</td>\n    </tr>\n    <tr>\n      <th>50%</th>\n      <td>0.234306</td>\n    </tr>\n    <tr>\n      <th>75%</th>\n      <td>1.156207</td>\n    </tr>\n    <tr>\n      <th>max</th>\n      <td>8.441294</td>\n    </tr>\n  </tbody>\n</table>\n</div>"
     },
     "execution_count": 17,
     "metadata": {},
     "output_type": "execute_result"
    }
   ],
   "source": [
    "data[['MACD']].describe()"
   ],
   "metadata": {
    "collapsed": false
   }
  },
  {
   "cell_type": "code",
   "execution_count": 38,
   "outputs": [
    {
     "data": {
      "text/plain": "[<matplotlib.lines.Line2D at 0x7fd665de7370>]"
     },
     "execution_count": 38,
     "metadata": {},
     "output_type": "execute_result"
    },
    {
     "data": {
      "text/plain": "<Figure size 640x480 with 1 Axes>",
      "image/png": "[encoded data removed]"
     },
     "metadata": {},
     "output_type": "display_data"
    }
   ],
   "source": [
    "new_macd = data['MACD'] - data['MACDSIGNAL']\n",
    "new_macd = new_macd.loc['2023-09-01']\n",
    "buy = new_macd[trend==1]\n",
    "sell = new_macd[trend==-1]\n",
    "yello = new_macd[trend==0]\n",
    "plt.scatter(buy.index,buy,c='g')\n",
    "plt.scatter(sell.index,sell,c='r')\n",
    "plt.scatter(yello.index,yello,c='y')\n",
    "plt.plot(new_macd)\n"
   ],
   "metadata": {
    "collapsed": false
   }
  },
  {
   "cell_type": "code",
   "execution_count": 27,
   "outputs": [],
   "source": [
    "trend = np.sign(data['Close'] - data['Close'].shift(1)).loc['2023-09-01'].shift(-1)"
   ],
   "metadata": {
    "collapsed": false
   }
  },
  {
   "cell_type": "code",
   "execution_count": 40,
   "outputs": [],
   "source": [
    "new_macd = data['MACD'] - data['MACDSIGNAL']"
   ],
   "metadata": {
    "collapsed": false
   }
  },
  {
   "cell_type": "code",
   "execution_count": 41,
   "outputs": [
    {
     "data": {
      "text/plain": "count    4468.000000\nmean       -0.001499\nstd         0.560298\nmin        -4.401539\n25%        -0.290583\n50%        -0.020882\n75%         0.269909\nmax         2.363616\ndtype: float64"
     },
     "execution_count": 41,
     "metadata": {},
     "output_type": "execute_result"
    }
   ],
   "source": [
    "new_macd.describe()"
   ],
   "metadata": {
    "collapsed": false
   }
  },
  {
   "cell_type": "code",
   "execution_count": 42,
   "outputs": [
    {
     "data": {
      "text/plain": "<AxesSubplot: ylabel='Frequency'>"
     },
     "execution_count": 42,
     "metadata": {},
     "output_type": "execute_result"
    },
    {
     "data": {
      "text/plain": "<Figure size 640x480 with 1 Axes>",
      "image/png": "[encoded data removed]"
     },
     "metadata": {},
     "output_type": "display_data"
    }
   ],
   "source": [
    "new_macd.plot(kind='hist')"
   ],
   "metadata": {
    "collapsed": false
   }
  },
  {
   "cell_type": "code",
   "execution_count": 43,
   "outputs": [
    {
     "data": {
      "text/plain": "Datetime\n2023-07-26 12:00:00+05:30    0.949951\n2023-07-26 12:05:00+05:30    0.000000\n2023-07-26 12:10:00+05:30    0.500000\n2023-07-26 12:15:00+05:30    0.450073\n2023-07-26 12:20:00+05:30    0.349976\n                               ...   \n2023-10-20 15:10:00+05:30   -0.300049\n2023-10-20 15:15:00+05:30   -0.099976\n2023-10-20 15:20:00+05:30    0.349976\n2023-10-20 15:25:00+05:30    0.800049\n2023-10-20 15:30:00+05:30         NaN\nName: Close, Length: 4468, dtype: float64"
     },
     "execution_count": 43,
     "metadata": {},
     "output_type": "execute_result"
    }
   ],
   "source": [
    "# data['ATR']\n",
    "(data['Close'].shift(-1) - data['Close'])"
   ],
   "metadata": {
    "collapsed": false
   }
  },
  {
   "cell_type": "code",
   "execution_count": 44,
   "outputs": [
    {
     "data": {
      "text/plain": "Datetime\n2023-07-26 12:00:00+05:30    1.543856\n2023-07-26 12:05:00+05:30    1.533583\n2023-07-26 12:10:00+05:30    1.488328\n2023-07-26 12:15:00+05:30    1.482021\n2023-07-26 12:20:00+05:30    1.461873\n                               ...   \n2023-10-20 15:10:00+05:30    1.872206\n2023-10-20 15:15:00+05:30    1.895625\n2023-10-20 15:20:00+05:30    1.895939\n2023-10-20 15:25:00+05:30    1.903372\n2023-10-20 15:30:00+05:30    1.824563\nName: ATR, Length: 4468, dtype: float64"
     },
     "execution_count": 44,
     "metadata": {},
     "output_type": "execute_result"
    }
   ],
   "source": [
    "data['ATR']"
   ],
   "metadata": {
    "collapsed": false
   }
  },
  {
   "cell_type": "code",
   "execution_count": 45,
   "outputs": [
    {
     "data": {
      "text/plain": "count    4468.000000\nmean        2.107918\nstd         0.707344\nmin         0.697480\n25%         1.629480\n50%         1.992130\n75%         2.473022\nmax         7.108454\nName: ATR, dtype: float64"
     },
     "execution_count": 45,
     "metadata": {},
     "output_type": "execute_result"
    }
   ],
   "source": [
    "data['ATR'].describe()"
   ],
   "metadata": {
    "collapsed": false
   }
  },
  {
   "cell_type": "code",
   "execution_count": 46,
   "outputs": [],
   "source": [
    "data['rets'] = data.Close.shift(-1) - data.Close\n",
    "corr_matrix = data[['rets','ATR']].corr()"
   ],
   "metadata": {
    "collapsed": false
   }
  },
  {
   "cell_type": "code",
   "execution_count": 47,
   "outputs": [
    {
     "data": {
      "text/plain": "          rets       ATR\nrets  1.000000 -0.040098\nATR  -0.040098  1.000000",
      "text/html": "<div>\n<style scoped>\n    .dataframe tbody tr th:only-of-type {\n        vertical-align: middle;\n    }\n\n    .dataframe tbody tr th {\n        vertical-align: top;\n    }\n\n    .dataframe thead th {\n        text-align: right;\n    }\n</style>\n<table border=\"1\" class=\"dataframe\">\n  <thead>\n    <tr style=\"text-align: right;\">\n      <th></th>\n      <th>rets</th>\n      <th>ATR</th>\n    </tr>\n  </thead>\n  <tbody>\n    <tr>\n      <th>rets</th>\n      <td>1.000000</td>\n      <td>-0.040098</td>\n    </tr>\n    <tr>\n      <th>ATR</th>\n      <td>-0.040098</td>\n      <td>1.000000</td>\n    </tr>\n  </tbody>\n</table>\n</div>"
     },
     "execution_count": 47,
     "metadata": {},
     "output_type": "execute_result"
    }
   ],
   "source": [
    "corr_matrix"
   ],
   "metadata": {
    "collapsed": false
   }
  },
  {
   "cell_type": "code",
   "execution_count": 51,
   "outputs": [],
   "source": [
    "corr_matrix = data[['High','Low','Open','Close','ATR']].corr()"
   ],
   "metadata": {
    "collapsed": false
   }
  },
  {
   "cell_type": "code",
   "execution_count": 52,
   "outputs": [
    {
     "data": {
      "text/plain": "           High       Low      Open     Close       ATR\nHigh   1.000000  0.999570  0.999701  0.999743  0.252402\nLow    0.999570  1.000000  0.999714  0.999740  0.237025\nOpen   0.999701  0.999714  1.000000  0.999483  0.244561\nClose  0.999743  0.999740  0.999483  1.000000  0.244540\nATR    0.252402  0.237025  0.244561  0.244540  1.000000",
      "text/html": "<div>\n<style scoped>\n    .dataframe tbody tr th:only-of-type {\n        vertical-align: middle;\n    }\n\n    .dataframe tbody tr th {\n        vertical-align: top;\n    }\n\n    .dataframe thead th {\n        text-align: right;\n    }\n</style>\n<table border=\"1\" class=\"dataframe\">\n  <thead>\n    <tr style=\"text-align: right;\">\n      <th></th>\n      <th>High</th>\n      <th>Low</th>\n      <th>Open</th>\n      <th>Close</th>\n      <th>ATR</th>\n    </tr>\n  </thead>\n  <tbody>\n    <tr>\n      <th>High</th>\n      <td>1.000000</td>\n      <td>0.999570</td>\n      <td>0.999701</td>\n      <td>0.999743</td>\n      <td>0.252402</td>\n    </tr>\n    <tr>\n      <th>Low</th>\n      <td>0.999570</td>\n      <td>1.000000</td>\n      <td>0.999714</td>\n      <td>0.999740</td>\n      <td>0.237025</td>\n    </tr>\n    <tr>\n      <th>Open</th>\n      <td>0.999701</td>\n      <td>0.999714</td>\n      <td>1.000000</td>\n      <td>0.999483</td>\n      <td>0.244561</td>\n    </tr>\n    <tr>\n      <th>Close</th>\n      <td>0.999743</td>\n      <td>0.999740</td>\n      <td>0.999483</td>\n      <td>1.000000</td>\n      <td>0.244540</td>\n    </tr>\n    <tr>\n      <th>ATR</th>\n      <td>0.252402</td>\n      <td>0.237025</td>\n      <td>0.244561</td>\n      <td>0.244540</td>\n      <td>1.000000</td>\n    </tr>\n  </tbody>\n</table>\n</div>"
     },
     "execution_count": 52,
     "metadata": {},
     "output_type": "execute_result"
    }
   ],
   "source": [
    "corr_matrix"
   ],
   "metadata": {
    "collapsed": false
   }
  },
  {
   "cell_type": "code",
   "execution_count": 53,
   "outputs": [
    {
     "data": {
      "text/plain": "count    4468.000000\nmean       -0.001499\nstd         0.560298\nmin        -4.401539\n25%        -0.290583\n50%        -0.020882\n75%         0.269909\nmax         2.363616\nName: MACDHIST, dtype: float64"
     },
     "execution_count": 53,
     "metadata": {},
     "output_type": "execute_result"
    }
   ],
   "source": [
    "data['MACDHIST'].describe()"
   ],
   "metadata": {
    "collapsed": false
   }
  },
  {
   "cell_type": "code",
   "execution_count": 54,
   "outputs": [
    {
     "data": {
      "text/plain": "<AxesSubplot: xlabel='Datetime'>"
     },
     "execution_count": 54,
     "metadata": {},
     "output_type": "execute_result"
    },
    {
     "data": {
      "text/plain": "<Figure size 640x480 with 1 Axes>",
      "image/png": "[encoded data removed]"
     },
     "metadata": {},
     "output_type": "display_data"
    }
   ],
   "source": [],
   "metadata": {
    "collapsed": false
   }
  },
  {
   "cell_type": "code",
   "execution_count": 75,
   "outputs": [
    {
     "data": {
      "text/plain": "<matplotlib.collections.PathCollection at 0x7fd664ff8c10>"
     },
     "execution_count": 75,
     "metadata": {},
     "output_type": "execute_result"
    },
    {
     "data": {
      "text/plain": "<Figure size 640x480 with 1 Axes>",
      "image/png": "[encoded data removed]"
     },
     "metadata": {},
     "output_type": "display_data"
    }
   ],
   "source": [
    "data['new_hist'] = (data.MACDHIST.shift(-1) - data.MACDHIST)\n",
    "data['new_hist'] = np.sign(data.new_hist.shift(-1) - data.new_hist)\n",
    "data['targets'] = np.sign(data.Close.shift(-1) - data.Close)\n",
    "buy = data['new_hist'][data['targets']==1]\n",
    "sell = data['new_hist'][data['targets']==-1]\n",
    "hold = data['new_hist'][data['targets']==0]\n",
    "plt.plot(data['new_hist'].loc['2023-08-01'],c='blue')\n",
    "plt.scatter(buy.loc['2023-08-01'].index,buy.loc['2023-08-01'],c='g')\n",
    "plt.scatter(sell.loc['2023-08-01'].index,sell.loc['2023-08-01'],c='r')\n",
    "plt.scatter(hold.loc['2023-08-01'].index,hold.loc['2023-08-01'],c='y')"
   ],
   "metadata": {
    "collapsed": false
   }
  },
  {
   "cell_type": "code",
   "execution_count": 76,
   "outputs": [],
   "source": [
    "c_table = pd.crosstab(data['new_hist'],data['targets'])"
   ],
   "metadata": {
    "collapsed": false
   }
  },
  {
   "cell_type": "code",
   "execution_count": 77,
   "outputs": [
    {
     "data": {
      "text/plain": "targets   -1.0   0.0   1.0\nnew_hist                  \n-1.0       746    81  1389\n 1.0      1355    81   814",
      "text/html": "<div>\n<style scoped>\n    .dataframe tbody tr th:only-of-type {\n        vertical-align: middle;\n    }\n\n    .dataframe tbody tr th {\n        vertical-align: top;\n    }\n\n    .dataframe thead th {\n        text-align: right;\n    }\n</style>\n<table border=\"1\" class=\"dataframe\">\n  <thead>\n    <tr style=\"text-align: right;\">\n      <th>targets</th>\n      <th>-1.0</th>\n      <th>0.0</th>\n      <th>1.0</th>\n    </tr>\n    <tr>\n      <th>new_hist</th>\n      <th></th>\n      <th></th>\n      <th></th>\n    </tr>\n  </thead>\n  <tbody>\n    <tr>\n      <th>-1.0</th>\n      <td>746</td>\n      <td>81</td>\n      <td>1389</td>\n    </tr>\n    <tr>\n      <th>1.0</th>\n      <td>1355</td>\n      <td>81</td>\n      <td>814</td>\n    </tr>\n  </tbody>\n</table>\n</div>"
     },
     "execution_count": 77,
     "metadata": {},
     "output_type": "execute_result"
    }
   ],
   "source": [
    "c_table"
   ],
   "metadata": {
    "collapsed": false
   }
  },
  {
   "cell_type": "code",
   "execution_count": 78,
   "outputs": [],
   "source": [
    "import scipy.stats\n",
    "from scipy.stats import chi2_contingency"
   ],
   "metadata": {
    "collapsed": false
   }
  },
  {
   "cell_type": "code",
   "execution_count": 79,
   "outputs": [],
   "source": [
    "chi_2, p, dof, expected =  chi2_contingency(c_table)"
   ],
   "metadata": {
    "collapsed": false
   }
  },
  {
   "cell_type": "code",
   "execution_count": 80,
   "outputs": [
    {
     "data": {
      "text/plain": "326.3654483498748"
     },
     "execution_count": 80,
     "metadata": {},
     "output_type": "execute_result"
    }
   ],
   "source": [
    "chi_2"
   ],
   "metadata": {
    "collapsed": false
   }
  },
  {
   "cell_type": "code",
   "execution_count": 82,
   "outputs": [
    {
     "data": {
      "text/plain": "Index(['Open', 'High', 'Low', 'Close', 'Adj Close', 'Volume', 'MACD',\n       'MACDSIGNAL', 'MACDHIST', 'ADX', 'MFI', 'OBV', 'RSI', 'SAR', 'SMA',\n       'ATR', 'rets', 'new_macd', 'targets', 'new_hist'],\n      dtype='object')"
     },
     "execution_count": 82,
     "metadata": {},
     "output_type": "execute_result"
    }
   ],
   "source": [
    "data.columns"
   ],
   "metadata": {
    "collapsed": false
   }
  },
  {
   "cell_type": "code",
   "execution_count": 86,
   "outputs": [],
   "source": [
    "data.drop('Adj Close',axis=1,inplace=True)"
   ],
   "metadata": {
    "collapsed": false
   }
  },
  {
   "cell_type": "code",
   "execution_count": 87,
   "outputs": [
    {
     "data": {
      "text/plain": "Index(['Open', 'High', 'Low', 'Close', 'Volume', 'MACD', 'MACDSIGNAL',\n       'MACDHIST', 'ADX', 'MFI', 'OBV', 'RSI', 'SAR', 'SMA', 'ATR', 'targets',\n       'new_hist'],\n      dtype='object')"
     },
     "execution_count": 87,
     "metadata": {},
     "output_type": "execute_result"
    }
   ],
   "source": [
    "data.columns"
   ],
   "metadata": {
    "collapsed": false
   }
  },
  {
   "cell_type": "code",
   "execution_count": 88,
   "outputs": [
    {
     "data": {
      "text/plain": "count    4468.000000\nmean       26.053906\nstd        10.895437\nmin         6.114661\n25%        17.666135\n50%        23.852445\n75%        32.519589\nmax        62.249624\nName: ADX, dtype: float64"
     },
     "execution_count": 88,
     "metadata": {},
     "output_type": "execute_result"
    }
   ],
   "source": [
    "data['ADX'].describe()"
   ],
   "metadata": {
    "collapsed": false
   }
  },
  {
   "cell_type": "code",
   "execution_count": 89,
   "outputs": [],
   "source": [
    "plus_dmi = talib.PLUS_DM(data.High,data.Low)\n",
    "minus_dmi = talib.MINUS_DM(data.High,data.Low)"
   ],
   "metadata": {
    "collapsed": false
   }
  },
  {
   "cell_type": "code",
   "execution_count": 90,
   "outputs": [
    {
     "data": {
      "text/plain": "count    4455.000000\nmean        6.302736\nstd         3.327183\nmin         1.080369\n25%         3.949762\n50%         5.595832\n75%         7.684724\nmax        27.683650\ndtype: float64"
     },
     "execution_count": 90,
     "metadata": {},
     "output_type": "execute_result"
    }
   ],
   "source": [
    "plus_dmi.describe()"
   ],
   "metadata": {
    "collapsed": false
   }
  },
  {
   "cell_type": "code",
   "execution_count": 91,
   "outputs": [
    {
     "data": {
      "text/plain": "count    4455.000000\nmean        6.145235\nstd         4.206904\nmin         0.371451\n25%         3.590187\n50%         5.199188\n75%         7.676725\nmax        61.868552\ndtype: float64"
     },
     "execution_count": 91,
     "metadata": {},
     "output_type": "execute_result"
    }
   ],
   "source": [
    "minus_dmi.describe()"
   ],
   "metadata": {
    "collapsed": false
   }
  },
  {
   "cell_type": "code",
   "execution_count": 92,
   "outputs": [
    {
     "data": {
      "text/plain": "Datetime\n2023-07-26 12:00:00+05:30         NaN\n2023-07-26 12:05:00+05:30         NaN\n2023-07-26 12:10:00+05:30         NaN\n2023-07-26 12:15:00+05:30         NaN\n2023-07-26 12:20:00+05:30         NaN\n                               ...   \n2023-10-20 15:10:00+05:30   -3.096568\n2023-10-20 15:15:00+05:30   -3.625385\n2023-10-20 15:20:00+05:30   -2.916478\n2023-10-20 15:25:00+05:30   -2.808133\n2023-10-20 15:30:00+05:30   -2.607552\nLength: 4468, dtype: float64"
     },
     "execution_count": 92,
     "metadata": {},
     "output_type": "execute_result"
    }
   ],
   "source": [
    "np.sign(plus_dmi - minus_dmi) * pd.cut"
   ],
   "metadata": {
    "collapsed": false
   }
  },
  {
   "cell_type": "code",
   "execution_count": 100,
   "outputs": [
    {
     "name": "stderr",
     "output_type": "stream",
     "text": [
      "/tmp/ipykernel_4309/2176643664.py:1: SettingWithCopyWarning: \n",
      "A value is trying to be set on a copy of a slice from a DataFrame\n",
      "\n",
      "See the caveats in the documentation: https://pandas.pydata.org/pandas-docs/stable/user_guide/indexing.html#returning-a-view-versus-a-copy\n",
      "  data['ADX'].loc[data['ADX'].between(0,25,'both')] = 1\n",
      "/tmp/ipykernel_4309/2176643664.py:2: SettingWithCopyWarning: \n",
      "A value is trying to be set on a copy of a slice from a DataFrame\n",
      "\n",
      "See the caveats in the documentation: https://pandas.pydata.org/pandas-docs/stable/user_guide/indexing.html#returning-a-view-versus-a-copy\n",
      "  data['ADX'].loc[data['ADX'].between(25,50,'right')] = 2\n",
      "/tmp/ipykernel_4309/2176643664.py:3: SettingWithCopyWarning: \n",
      "A value is trying to be set on a copy of a slice from a DataFrame\n",
      "\n",
      "See the caveats in the documentation: https://pandas.pydata.org/pandas-docs/stable/user_guide/indexing.html#returning-a-view-versus-a-copy\n",
      "  data['ADX'].loc[data['ADX'].between(50,75,'right')] = 3\n",
      "/tmp/ipykernel_4309/2176643664.py:4: SettingWithCopyWarning: \n",
      "A value is trying to be set on a copy of a slice from a DataFrame\n",
      "\n",
      "See the caveats in the documentation: https://pandas.pydata.org/pandas-docs/stable/user_guide/indexing.html#returning-a-view-versus-a-copy\n",
      "  data['ADX'].loc[data['ADX'].between(75,100,'right')] = 4\n"
     ]
    }
   ],
   "source": [
    "data['ADX'].loc[data['ADX'].between(0,25,'both')] = 1\n",
    "data['ADX'].loc[data['ADX'].between(25,50,'right')] = 2\n",
    "data['ADX'].loc[data['ADX'].between(50,75,'right')] = 3\n",
    "data['ADX'].loc[data['ADX'].between(75,100,'right')] = 4"
   ],
   "metadata": {
    "collapsed": false
   }
  },
  {
   "cell_type": "code",
   "execution_count": 120,
   "outputs": [],
   "source": [
    "data['new_ADX'] = (np.sign(plus_dmi - minus_dmi) * data['ADX'])"
   ],
   "metadata": {
    "collapsed": false
   }
  },
  {
   "cell_type": "code",
   "execution_count": 111,
   "outputs": [],
   "source": [
    "c_table = pd.crosstab(data['ADX'],data['targets'])"
   ],
   "metadata": {
    "collapsed": false
   }
  },
  {
   "cell_type": "code",
   "execution_count": 112,
   "outputs": [],
   "source": [
    "chi_2, p, dof, expected =  chi2_contingency(c_table)"
   ],
   "metadata": {
    "collapsed": false
   }
  },
  {
   "cell_type": "code",
   "execution_count": 114,
   "outputs": [
    {
     "data": {
      "text/plain": "2.7743436322703334"
     },
     "execution_count": 114,
     "metadata": {},
     "output_type": "execute_result"
    }
   ],
   "source": [
    "chi_2"
   ],
   "metadata": {
    "collapsed": false
   }
  },
  {
   "cell_type": "code",
   "execution_count": 115,
   "outputs": [
    {
     "data": {
      "text/plain": "4"
     },
     "execution_count": 115,
     "metadata": {},
     "output_type": "execute_result"
    }
   ],
   "source": [
    "dof"
   ],
   "metadata": {
    "collapsed": false
   }
  },
  {
   "cell_type": "code",
   "execution_count": 130,
   "outputs": [],
   "source": [
    "from scipy.stats import f_oneway\n",
    "buy = data['new_ADX'].loc[data['targets']==1].dropna()\n",
    "sell = data['new_ADX'].loc[data['targets']==-1].dropna()\n",
    "hold = data['new_ADX'].loc[data['targets']==0].dropna()\n",
    "f_stat = f_oneway(buy,sell,hold)"
   ],
   "metadata": {
    "collapsed": false
   }
  },
  {
   "cell_type": "code",
   "execution_count": 131,
   "outputs": [
    {
     "data": {
      "text/plain": "F_onewayResult(statistic=1.1163487853015068, pvalue=0.3275649610921221)"
     },
     "execution_count": 131,
     "metadata": {},
     "output_type": "execute_result"
    }
   ],
   "source": [
    "f_stat"
   ],
   "metadata": {
    "collapsed": false
   }
  },
  {
   "cell_type": "code",
   "execution_count": 132,
   "outputs": [
    {
     "data": {
      "text/plain": "4453"
     },
     "execution_count": 132,
     "metadata": {},
     "output_type": "execute_result"
    }
   ],
   "source": [
    "len(buy)+len(sell)+len(hold) - 1"
   ],
   "metadata": {
    "collapsed": false
   }
  },
  {
   "cell_type": "code",
   "execution_count": 118,
   "outputs": [],
   "source": [
    "data['ADX'] = infy_data.data.ADX"
   ],
   "metadata": {
    "collapsed": false
   }
  },
  {
   "cell_type": "code",
   "execution_count": 135,
   "outputs": [
    {
     "name": "stdout",
     "output_type": "stream",
     "text": [
      "19.495501179357362\n"
     ]
    }
   ],
   "source": [
    "print(scipy.stats.f.ppf(q=0.95,dfn=4453,dfd=2))"
   ],
   "metadata": {
    "collapsed": false
   }
  },
  {
   "cell_type": "code",
   "execution_count": 136,
   "outputs": [
    {
     "data": {
      "text/plain": "count    4468.000000\nmean        2.107918\nstd         0.707344\nmin         0.697480\n25%         1.629480\n50%         1.992130\n75%         2.473022\nmax         7.108454\nName: ATR, dtype: float64"
     },
     "execution_count": 136,
     "metadata": {},
     "output_type": "execute_result"
    }
   ],
   "source": [
    "data['ATR'].describe()"
   ],
   "metadata": {
    "collapsed": false
   }
  },
  {
   "cell_type": "code",
   "execution_count": 137,
   "outputs": [
    {
     "data": {
      "text/plain": "count    4.468000e+03\nmean     5.630813e+06\nstd      2.782056e+06\nmin     -5.466860e+05\n25%      3.709320e+06\n50%      5.442386e+06\n75%      7.582793e+06\nmax      1.246845e+07\nName: OBV, dtype: float64"
     },
     "execution_count": 137,
     "metadata": {},
     "output_type": "execute_result"
    }
   ],
   "source": [
    "data['OBV'].describe()"
   ],
   "metadata": {
    "collapsed": false
   }
  },
  {
   "cell_type": "code",
   "execution_count": 143,
   "outputs": [
    {
     "data": {
      "text/plain": "<matplotlib.collections.PathCollection at 0x7fd661c05ee0>"
     },
     "execution_count": 143,
     "metadata": {},
     "output_type": "execute_result"
    },
    {
     "data": {
      "text/plain": "<Figure size 640x480 with 1 Axes>",
      "image/png": "[encoded data removed]"
     },
     "metadata": {},
     "output_type": "display_data"
    }
   ],
   "source": [
    "plt.plot(data['OBV'].loc['2023-08-01'])\n",
    "plt.scatter(buy.loc['2023-08-01'].index,data['OBV'].loc[buy.loc['2023-08-01'].index],c='g')"
   ],
   "metadata": {
    "collapsed": false
   }
  },
  {
   "cell_type": "code",
   "execution_count": 179,
   "outputs": [
    {
     "data": {
      "text/plain": "<matplotlib.collections.PathCollection at 0x7fd66052dcd0>"
     },
     "execution_count": 179,
     "metadata": {},
     "output_type": "execute_result"
    },
    {
     "data": {
      "text/plain": "<Figure size 640x480 with 1 Axes>",
      "image/png": "[encoded data removed]"
     },
     "metadata": {},
     "output_type": "display_data"
    }
   ],
   "source": [
    "data['new_obv'] = np.sign(data['OBV'].shift(-1) - data['OBV'])\n",
    "plt.plot(data['new_obv'].loc['2023-08-01'])\n",
    "plt.scatter((data['new_obv'].loc[data['targets']==1]).loc['2023-08-01'].index,(data['new_obv'].loc[data['targets']==1]).loc['2023-08-01'],c='g')\n",
    "plt.scatter((data['new_obv'].loc[data['targets']==-1]).loc['2023-08-01'].index,(data['new_obv'].loc[data['targets']==-1]).loc['2023-08-01'],c='r')\n",
    "plt.scatter((data['new_obv'].loc[data['targets']==0]).loc['2023-08-01'].index,(data['new_obv'].loc[data['targets']==0]).loc['2023-08-01'],c='y')"
   ],
   "metadata": {
    "collapsed": false
   }
  },
  {
   "cell_type": "code",
   "execution_count": 148,
   "outputs": [],
   "source": [
    "c_table = pd.crosstab(data['new_obv'],data['targets'])\n",
    "chi_2, p, dof, freq = chi2_contingency(c_table)"
   ],
   "metadata": {
    "collapsed": false
   }
  },
  {
   "cell_type": "code",
   "execution_count": 149,
   "outputs": [
    {
     "data": {
      "text/plain": "7806.674654093318"
     },
     "execution_count": 149,
     "metadata": {},
     "output_type": "execute_result"
    }
   ],
   "source": [
    "chi_2"
   ],
   "metadata": {
    "collapsed": false
   }
  },
  {
   "cell_type": "code",
   "execution_count": 155,
   "outputs": [],
   "source": [
    "# data['RSI']\n",
    "buy = data['RSI'].loc[data['targets']==1]\n",
    "sell = data['RSI'].loc[data['targets']==-1]\n",
    "hold = data['RSI'].loc[data['targets']==0]\n",
    "f_stat, p = f_oneway(buy,sell,hold)"
   ],
   "metadata": {
    "collapsed": false
   }
  },
  {
   "cell_type": "code",
   "execution_count": 169,
   "outputs": [
    {
     "data": {
      "text/plain": "1"
     },
     "execution_count": 169,
     "metadata": {},
     "output_type": "execute_result"
    }
   ],
   "source": [
    "np.sign(90)"
   ],
   "metadata": {
    "collapsed": false
   }
  },
  {
   "cell_type": "code",
   "execution_count": 165,
   "outputs": [],
   "source": [
    "c_table = pd.crosstab(data['new_sar'],data['targets'])"
   ],
   "metadata": {
    "collapsed": false
   }
  },
  {
   "cell_type": "code",
   "execution_count": 166,
   "outputs": [],
   "source": [
    "chi_2, p, dof, _ = chi2_contingency(c_table)"
   ],
   "metadata": {
    "collapsed": false
   }
  },
  {
   "cell_type": "code",
   "execution_count": 167,
   "outputs": [
    {
     "data": {
      "text/plain": "0.20531449407492514"
     },
     "execution_count": 167,
     "metadata": {},
     "output_type": "execute_result"
    }
   ],
   "source": [
    "chi_2"
   ],
   "metadata": {
    "collapsed": false
   }
  },
  {
   "cell_type": "code",
   "execution_count": 170,
   "outputs": [
    {
     "data": {
      "text/plain": "count    4468.000000\nmean        2.107918\nstd         0.707344\nmin         0.697480\n25%         1.629480\n50%         1.992130\n75%         2.473022\nmax         7.108454\nName: ATR, dtype: float64"
     },
     "execution_count": 170,
     "metadata": {},
     "output_type": "execute_result"
    }
   ],
   "source": [
    "data['ATR'].describe()"
   ],
   "metadata": {
    "collapsed": false
   }
  },
  {
   "cell_type": "code",
   "execution_count": 180,
   "outputs": [
    {
     "data": {
      "text/plain": "<AxesSubplot: ylabel='Frequency'>"
     },
     "execution_count": 180,
     "metadata": {},
     "output_type": "execute_result"
    },
    {
     "data": {
      "text/plain": "<Figure size 640x480 with 1 Axes>",
      "image/png": "[encoded data removed]"
     },
     "metadata": {},
     "output_type": "display_data"
    }
   ],
   "source": [
    "data.Volume.plot(kind='hist')"
   ],
   "metadata": {
    "collapsed": false
   }
  },
  {
   "cell_type": "code",
   "execution_count": 172,
   "outputs": [
    {
     "data": {
      "text/plain": "count    4468.000000\nmean     1434.073426\nstd        45.982375\nmin      1339.806665\n25%      1397.931253\n50%      1435.588334\n75%      1473.220415\nmax      1513.521667\nName: SMA, dtype: float64"
     },
     "execution_count": 172,
     "metadata": {},
     "output_type": "execute_result"
    }
   ],
   "source": [
    "data['SMA'].describe()"
   ],
   "metadata": {
    "collapsed": false
   }
  },
  {
   "cell_type": "code",
   "execution_count": 174,
   "outputs": [
    {
     "data": {
      "text/plain": "<AxesSubplot: xlabel='Datetime'>"
     },
     "execution_count": 174,
     "metadata": {},
     "output_type": "execute_result"
    },
    {
     "data": {
      "text/plain": "<Figure size 640x480 with 1 Axes>",
      "image/png": "[encoded data removed]"
     },
     "metadata": {},
     "output_type": "display_data"
    }
   ],
   "source": [
    "data.SMA.plot()"
   ],
   "metadata": {
    "collapsed": false
   }
  },
  {
   "cell_type": "code",
   "execution_count": null,
   "outputs": [],
   "source": [],
   "metadata": {
    "collapsed": false
   }
  },
  {
   "cell_type": "code",
   "execution_count": 185,
   "outputs": [],
   "source": [
    "from sklearn.preprocessing import minmax_scale"
   ],
   "metadata": {
    "collapsed": false
   }
  },
  {
   "cell_type": "code",
   "execution_count": 186,
   "outputs": [
    {
     "data": {
      "text/plain": "array([0. , 0.6, 0.8, 1. , 0.4, 0.2])"
     },
     "execution_count": 186,
     "metadata": {},
     "output_type": "execute_result"
    }
   ],
   "source": [
    "minmax_scale([0,3,4,5,2,1])"
   ],
   "metadata": {
    "collapsed": false
   }
  },
  {
   "cell_type": "code",
   "execution_count": 72,
   "outputs": [],
   "source": [
    "df = pd.DataFrame({\"a\": [1,2,-3,4],\n",
    "                   \"b\": [7,8,9,10],\n",
    "                   \"c\": [11,12,34,-10]})\n"
   ],
   "metadata": {
    "collapsed": false
   }
  },
  {
   "cell_type": "code",
   "execution_count": 14,
   "outputs": [
    {
     "name": "stdout",
     "output_type": "stream",
     "text": [
      "1 10\n"
     ]
    }
   ],
   "source": [
    "a_min ="
   ],
   "metadata": {
    "collapsed": false
   }
  },
  {
   "cell_type": "code",
   "execution_count": 15,
   "outputs": [
    {
     "data": {
      "text/plain": "          a         b   c\n0  0.000000  0.666667  11\n1  0.111111  0.777778  12\n2 -0.444444  0.888889  34\n3  0.333333  1.000000  15",
      "text/html": "<div>\n<style scoped>\n    .dataframe tbody tr th:only-of-type {\n        vertical-align: middle;\n    }\n\n    .dataframe tbody tr th {\n        vertical-align: top;\n    }\n\n    .dataframe thead th {\n        text-align: right;\n    }\n</style>\n<table border=\"1\" class=\"dataframe\">\n  <thead>\n    <tr style=\"text-align: right;\">\n      <th></th>\n      <th>a</th>\n      <th>b</th>\n      <th>c</th>\n    </tr>\n  </thead>\n  <tbody>\n    <tr>\n      <th>0</th>\n      <td>0.000000</td>\n      <td>0.666667</td>\n      <td>11</td>\n    </tr>\n    <tr>\n      <th>1</th>\n      <td>0.111111</td>\n      <td>0.777778</td>\n      <td>12</td>\n    </tr>\n    <tr>\n      <th>2</th>\n      <td>-0.444444</td>\n      <td>0.888889</td>\n      <td>34</td>\n    </tr>\n    <tr>\n      <th>3</th>\n      <td>0.333333</td>\n      <td>1.000000</td>\n      <td>15</td>\n    </tr>\n  </tbody>\n</table>\n</div>"
     },
     "execution_count": 15,
     "metadata": {},
     "output_type": "execute_result"
    }
   ],
   "source": [
    "df"
   ],
   "metadata": {
    "collapsed": false
   }
  },
  {
   "cell_type": "code",
   "execution_count": 73,
   "outputs": [],
   "source": [
    "for k in range(0,len(df),2):\n",
    "    x = df.loc[k:k+1]\n",
    "    a = x['a'].to_numpy()[0]\n",
    "    c = x['c'].to_numpy()[-1]\n",
    "    df.loc[k:k+1] = (df.loc[k:k+1] - a) / (c - a)\n"
   ],
   "metadata": {
    "collapsed": false
   }
  },
  {
   "cell_type": "code",
   "execution_count": 74,
   "outputs": [
    {
     "data": {
      "text/plain": "          a         b         c\n0  0.000000  0.545455  0.909091\n1  0.090909  0.636364  1.000000\n2 -0.000000 -1.714286 -5.285714\n3 -1.000000 -1.857143  1.000000",
      "text/html": "<div>\n<style scoped>\n    .dataframe tbody tr th:only-of-type {\n        vertical-align: middle;\n    }\n\n    .dataframe tbody tr th {\n        vertical-align: top;\n    }\n\n    .dataframe thead th {\n        text-align: right;\n    }\n</style>\n<table border=\"1\" class=\"dataframe\">\n  <thead>\n    <tr style=\"text-align: right;\">\n      <th></th>\n      <th>a</th>\n      <th>b</th>\n      <th>c</th>\n    </tr>\n  </thead>\n  <tbody>\n    <tr>\n      <th>0</th>\n      <td>0.000000</td>\n      <td>0.545455</td>\n      <td>0.909091</td>\n    </tr>\n    <tr>\n      <th>1</th>\n      <td>0.090909</td>\n      <td>0.636364</td>\n      <td>1.000000</td>\n    </tr>\n    <tr>\n      <th>2</th>\n      <td>-0.000000</td>\n      <td>-1.714286</td>\n      <td>-5.285714</td>\n    </tr>\n    <tr>\n      <th>3</th>\n      <td>-1.000000</td>\n      <td>-1.857143</td>\n      <td>1.000000</td>\n    </tr>\n  </tbody>\n</table>\n</div>"
     },
     "execution_count": 74,
     "metadata": {},
     "output_type": "execute_result"
    }
   ],
   "source": [
    "df"
   ],
   "metadata": {
    "collapsed": false
   }
  },
  {
   "cell_type": "code",
   "execution_count": 45,
   "outputs": [
    {
     "name": "stdout",
     "output_type": "stream",
     "text": [
      "0\n",
      "2\n"
     ]
    }
   ],
   "source": [
    "for k in range(0,len(df),2):\n",
    "    print(k)"
   ],
   "metadata": {
    "collapsed": false
   }
  },
  {
   "cell_type": "code",
   "execution_count": 49,
   "outputs": [
    {
     "data": {
      "text/plain": "          a         b         c\n0  0.000000  0.055556  0.916667\n1  0.009259  0.064815  1.000000",
      "text/html": "<div>\n<style scoped>\n    .dataframe tbody tr th:only-of-type {\n        vertical-align: middle;\n    }\n\n    .dataframe tbody tr th {\n        vertical-align: top;\n    }\n\n    .dataframe thead th {\n        text-align: right;\n    }\n</style>\n<table border=\"1\" class=\"dataframe\">\n  <thead>\n    <tr style=\"text-align: right;\">\n      <th></th>\n      <th>a</th>\n      <th>b</th>\n      <th>c</th>\n    </tr>\n  </thead>\n  <tbody>\n    <tr>\n      <th>0</th>\n      <td>0.000000</td>\n      <td>0.055556</td>\n      <td>0.916667</td>\n    </tr>\n    <tr>\n      <th>1</th>\n      <td>0.009259</td>\n      <td>0.064815</td>\n      <td>1.000000</td>\n    </tr>\n  </tbody>\n</table>\n</div>"
     },
     "execution_count": 49,
     "metadata": {},
     "output_type": "execute_result"
    }
   ],
   "source": [
    "df.loc[0:1]"
   ],
   "metadata": {
    "collapsed": false
   }
  },
  {
   "cell_type": "code",
   "execution_count": 84,
   "outputs": [
    {
     "data": {
      "text/plain": "          a         b         c\n0  0.000000  0.545455  0.909091\n1  0.090909  0.636364  1.000000\n2 -0.000000 -1.714286 -5.285714\n3 -1.000000 -1.857143  1.000000",
      "text/html": "<div>\n<style scoped>\n    .dataframe tbody tr th:only-of-type {\n        vertical-align: middle;\n    }\n\n    .dataframe tbody tr th {\n        vertical-align: top;\n    }\n\n    .dataframe thead th {\n        text-align: right;\n    }\n</style>\n<table border=\"1\" class=\"dataframe\">\n  <thead>\n    <tr style=\"text-align: right;\">\n      <th></th>\n      <th>a</th>\n      <th>b</th>\n      <th>c</th>\n    </tr>\n  </thead>\n  <tbody>\n    <tr>\n      <th>0</th>\n      <td>0.000000</td>\n      <td>0.545455</td>\n      <td>0.909091</td>\n    </tr>\n    <tr>\n      <th>1</th>\n      <td>0.090909</td>\n      <td>0.636364</td>\n      <td>1.000000</td>\n    </tr>\n    <tr>\n      <th>2</th>\n      <td>-0.000000</td>\n      <td>-1.714286</td>\n      <td>-5.285714</td>\n    </tr>\n    <tr>\n      <th>3</th>\n      <td>-1.000000</td>\n      <td>-1.857143</td>\n      <td>1.000000</td>\n    </tr>\n  </tbody>\n</table>\n</div>"
     },
     "execution_count": 84,
     "metadata": {},
     "output_type": "execute_result"
    }
   ],
   "source": [
    "df"
   ],
   "metadata": {
    "collapsed": false
   }
  },
  {
   "cell_type": "code",
   "execution_count": 94,
   "outputs": [],
   "source": [
    "ls = [0,0,1,1]\n",
    "ls_2 = [0,1,0,1]\n",
    "a = np.empty(shape = [2,2,3])\n",
    "a[ls,ls_2] = df.to_numpy()"
   ],
   "metadata": {
    "collapsed": false
   }
  },
  {
   "cell_type": "code",
   "execution_count": 95,
   "outputs": [
    {
     "data": {
      "text/plain": "array([[[ 0.        ,  0.54545455,  0.90909091],\n        [ 0.09090909,  0.63636364,  1.        ]],\n\n       [[-0.        , -1.71428571, -5.28571429],\n        [-1.        , -1.85714286,  1.        ]]])"
     },
     "execution_count": 95,
     "metadata": {},
     "output_type": "execute_result"
    }
   ],
   "source": [
    "a"
   ],
   "metadata": {
    "collapsed": false
   }
  },
  {
   "cell_type": "code",
   "execution_count": 96,
   "outputs": [
    {
     "data": {
      "text/plain": "Index(['level_0', 'level_1', 'Datetime', 'Open', 'High', 'Low', 'Close',\n       'Volume', 'MACDHIST', 'ADX', 'MFI', 'OBV', 'RSI', 'SAR'],\n      dtype='object')"
     },
     "execution_count": 96,
     "metadata": {},
     "output_type": "execute_result"
    }
   ],
   "source": [
    "infy_data.windowed_dataset.columns"
   ],
   "metadata": {
    "collapsed": false
   }
  },
  {
   "cell_type": "code",
   "execution_count": 114,
   "outputs": [],
   "source": [
    "level_0 = infy_data.windowed_dataset.level_0\n",
    "level_1 = infy_data.windowed_dataset.level_1\n",
    "data = infy_data.windowed_dataset.drop(['level_0','level_1'],axis=1)"
   ],
   "metadata": {
    "collapsed": false
   }
  },
  {
   "cell_type": "code",
   "execution_count": 102,
   "outputs": [
    {
     "data": {
      "text/plain": "array([ 0,  1,  2,  3,  4,  5,  6,  7,  8,  9, 10, 11, 12, 13, 14, 15, 16,\n       17, 18, 19, 20, 21, 22, 23, 24, 25, 26, 27, 28, 29, 30, 31, 32, 33,\n       34, 35, 36, 37, 38, 39, 40, 41, 42, 43, 44, 45, 46, 47, 48, 49, 50,\n       51, 52, 53, 54, 55, 56, 57, 58, 59, 60, 61, 62, 63, 64, 65, 66, 67,\n       68])"
     },
     "execution_count": 102,
     "metadata": {},
     "output_type": "execute_result"
    }
   ],
   "source": [
    "np.unique(level_0)"
   ],
   "metadata": {
    "collapsed": false
   }
  },
  {
   "cell_type": "code",
   "execution_count": 104,
   "outputs": [
    {
     "data": {
      "text/plain": "count    28490.000000\nmean        33.991646\nstd         19.912156\nmin          0.000000\n25%         17.000000\n50%         34.000000\n75%         51.000000\nmax         68.000000\nName: level_0, dtype: float64"
     },
     "execution_count": 104,
     "metadata": {},
     "output_type": "execute_result"
    }
   ],
   "source": [
    "level_0.describe()"
   ],
   "metadata": {
    "collapsed": false
   }
  },
  {
   "cell_type": "code",
   "execution_count": 115,
   "outputs": [
    {
     "name": "stdout",
     "output_type": "stream",
     "text": [
      "0\n",
      "0       0.0\n",
      "1       0.0\n",
      "2       0.0\n",
      "3       0.0\n",
      "4       0.0\n",
      "      ...  \n",
      "64      9.0\n",
      "65      9.0\n",
      "66      9.0\n",
      "67      NaN\n",
      "68    281.0\n",
      "Name: level_0, Length: 69, dtype: float64\n"
     ]
    }
   ],
   "source": [
    "for i,idx in enumerate(range(0,len(level_0),69)):\n",
    "    print(i)\n",
    "    print(68*i+level_0.loc[idx:idx+68])\n",
    "    break"
   ],
   "metadata": {
    "collapsed": false
   }
  },
  {
   "cell_type": "code",
   "execution_count": 109,
   "outputs": [
    {
     "data": {
      "text/plain": "count    28072.000000\nmean     42668.474174\nstd      24674.631403\nmin          0.000000\n25%      21267.000000\n50%      42669.500000\n75%      64072.000000\nmax      85339.000000\nName: level_0, dtype: float64"
     },
     "execution_count": 109,
     "metadata": {},
     "output_type": "execute_result"
    }
   ],
   "source": [
    "level_0.describe()"
   ],
   "metadata": {
    "collapsed": false
   }
  },
  {
   "cell_type": "code",
   "execution_count": 110,
   "outputs": [
    {
     "data": {
      "text/plain": "28490"
     },
     "execution_count": 110,
     "metadata": {},
     "output_type": "execute_result"
    }
   ],
   "source": [
    "len(infy_data.windowed_dataset)"
   ],
   "metadata": {
    "collapsed": false
   }
  },
  {
   "cell_type": "code",
   "execution_count": 111,
   "outputs": [
    {
     "data": {
      "text/plain": "4070.0"
     },
     "execution_count": 111,
     "metadata": {},
     "output_type": "execute_result"
    }
   ],
   "source": [
    "28490/7"
   ],
   "metadata": {
    "collapsed": false
   }
  },
  {
   "cell_type": "code",
   "execution_count": 113,
   "outputs": [
    {
     "data": {
      "text/plain": "2926"
     },
     "execution_count": 113,
     "metadata": {},
     "output_type": "execute_result"
    }
   ],
   "source": [
    "418*7"
   ],
   "metadata": {
    "collapsed": false
   }
  },
  {
   "cell_type": "code",
   "execution_count": 116,
   "outputs": [
    {
     "data": {
      "text/plain": "        level_0 level_1                  Datetime      Open      High  \\\n0           0.0       0 2023-07-31 09:15:00+05:30  2.445953  2.445953   \n1           0.0       1 2023-07-31 09:20:00+05:30 -0.147622  0.421315   \n2           0.0       2 2023-07-31 09:25:00+05:30 -0.917304 -0.080667   \n3           0.0       3 2023-07-31 09:30:00+05:30 -0.214537  1.241204   \n4           0.0       4 2023-07-31 09:35:00+05:30  0.053203  0.538437   \n...         ...     ...                       ...       ...       ...   \n28485  113763.0       2 2023-10-25 15:00:00+05:30 -0.507167  0.094586   \n28486  113763.0       3 2023-10-25 15:05:00+05:30 -0.675705 -0.675705   \n28487  113763.0       4 2023-10-25 15:10:00+05:30 -0.940441  0.359323   \n28488  113763.0       5 2023-10-25 15:15:00+05:30 -0.025764  0.311194   \n28489  113763.0       6 2023-10-25 15:20:00+05:30 -0.097986 -0.073952   \n\n            Low     Close    Volume  MACDHIST       ADX       MFI  OBV  \\\n0     -2.557122 -0.381865  0.000000       1.0  0.152629  0.566137 -1.0   \n1     -1.753942 -0.816932  0.094845       1.0  0.166952  0.543825  1.0   \n2     -0.917304 -0.147622  0.118956       1.0  0.180252  0.607257  1.0   \n3     -0.331658  0.053203  0.142810      -1.0  0.202490  0.679259  1.0   \n4     -0.465528  0.287445  0.044739       1.0  0.220709  0.691024 -1.0   \n...         ...       ...       ...       ...       ...       ...  ...   \n28485 -1.229271 -0.675705  0.126196       1.0  0.237309  0.407750 -1.0   \n28486 -1.686639 -0.916406  0.090570      -1.0  0.239914  0.325096  1.0   \n28487 -0.940441 -0.001729  0.113152      -1.0  0.232341  0.429945 -1.0   \n28488 -0.194302 -0.122080  0.127112       1.0  0.225309  0.476456 -1.0   \n28489 -0.290559 -0.266466  0.101512      -1.0  0.219503  0.410061  1.0   \n\n            RSI  SAR  \n0      0.480385 -1.0  \n1      0.425763 -1.0  \n2      0.516790 -1.0  \n3      0.540335 -1.0  \n4      0.566847 -1.0  \n...         ...  ...  \n28485  0.416195 -1.0  \n28486  0.406716 -1.0  \n28487  0.457297 -1.0  \n28488  0.451839 -1.0  \n28489  0.444976 -1.0  \n\n[28490 rows x 14 columns]",
      "text/html": "<div>\n<style scoped>\n    .dataframe tbody tr th:only-of-type {\n        vertical-align: middle;\n    }\n\n    .dataframe tbody tr th {\n        vertical-align: top;\n    }\n\n    .dataframe thead th {\n        text-align: right;\n    }\n</style>\n<table border=\"1\" class=\"dataframe\">\n  <thead>\n    <tr style=\"text-align: right;\">\n      <th></th>\n      <th>level_0</th>\n      <th>level_1</th>\n      <th>Datetime</th>\n      <th>Open</th>\n      <th>High</th>\n      <th>Low</th>\n      <th>Close</th>\n      <th>Volume</th>\n      <th>MACDHIST</th>\n      <th>ADX</th>\n      <th>MFI</th>\n      <th>OBV</th>\n      <th>RSI</th>\n      <th>SAR</th>\n    </tr>\n  </thead>\n  <tbody>\n    <tr>\n      <th>0</th>\n      <td>0.0</td>\n      <td>0</td>\n      <td>2023-07-31 09:15:00+05:30</td>\n      <td>2.445953</td>\n      <td>2.445953</td>\n      <td>-2.557122</td>\n      <td>-0.381865</td>\n      <td>0.000000</td>\n      <td>1.0</td>\n      <td>0.152629</td>\n      <td>0.566137</td>\n      <td>-1.0</td>\n      <td>0.480385</td>\n      <td>-1.0</td>\n    </tr>\n    <tr>\n      <th>1</th>\n      <td>0.0</td>\n      <td>1</td>\n      <td>2023-07-31 09:20:00+05:30</td>\n      <td>-0.147622</td>\n      <td>0.421315</td>\n      <td>-1.753942</td>\n      <td>-0.816932</td>\n      <td>0.094845</td>\n      <td>1.0</td>\n      <td>0.166952</td>\n      <td>0.543825</td>\n      <td>1.0</td>\n      <td>0.425763</td>\n      <td>-1.0</td>\n    </tr>\n    <tr>\n      <th>2</th>\n      <td>0.0</td>\n      <td>2</td>\n      <td>2023-07-31 09:25:00+05:30</td>\n      <td>-0.917304</td>\n      <td>-0.080667</td>\n      <td>-0.917304</td>\n      <td>-0.147622</td>\n      <td>0.118956</td>\n      <td>1.0</td>\n      <td>0.180252</td>\n      <td>0.607257</td>\n      <td>1.0</td>\n      <td>0.516790</td>\n      <td>-1.0</td>\n    </tr>\n    <tr>\n      <th>3</th>\n      <td>0.0</td>\n      <td>3</td>\n      <td>2023-07-31 09:30:00+05:30</td>\n      <td>-0.214537</td>\n      <td>1.241204</td>\n      <td>-0.331658</td>\n      <td>0.053203</td>\n      <td>0.142810</td>\n      <td>-1.0</td>\n      <td>0.202490</td>\n      <td>0.679259</td>\n      <td>1.0</td>\n      <td>0.540335</td>\n      <td>-1.0</td>\n    </tr>\n    <tr>\n      <th>4</th>\n      <td>0.0</td>\n      <td>4</td>\n      <td>2023-07-31 09:35:00+05:30</td>\n      <td>0.053203</td>\n      <td>0.538437</td>\n      <td>-0.465528</td>\n      <td>0.287445</td>\n      <td>0.044739</td>\n      <td>1.0</td>\n      <td>0.220709</td>\n      <td>0.691024</td>\n      <td>-1.0</td>\n      <td>0.566847</td>\n      <td>-1.0</td>\n    </tr>\n    <tr>\n      <th>...</th>\n      <td>...</td>\n      <td>...</td>\n      <td>...</td>\n      <td>...</td>\n      <td>...</td>\n      <td>...</td>\n      <td>...</td>\n      <td>...</td>\n      <td>...</td>\n      <td>...</td>\n      <td>...</td>\n      <td>...</td>\n      <td>...</td>\n      <td>...</td>\n    </tr>\n    <tr>\n      <th>28485</th>\n      <td>113763.0</td>\n      <td>2</td>\n      <td>2023-10-25 15:00:00+05:30</td>\n      <td>-0.507167</td>\n      <td>0.094586</td>\n      <td>-1.229271</td>\n      <td>-0.675705</td>\n      <td>0.126196</td>\n      <td>1.0</td>\n      <td>0.237309</td>\n      <td>0.407750</td>\n      <td>-1.0</td>\n      <td>0.416195</td>\n      <td>-1.0</td>\n    </tr>\n    <tr>\n      <th>28486</th>\n      <td>113763.0</td>\n      <td>3</td>\n      <td>2023-10-25 15:05:00+05:30</td>\n      <td>-0.675705</td>\n      <td>-0.675705</td>\n      <td>-1.686639</td>\n      <td>-0.916406</td>\n      <td>0.090570</td>\n      <td>-1.0</td>\n      <td>0.239914</td>\n      <td>0.325096</td>\n      <td>1.0</td>\n      <td>0.406716</td>\n      <td>-1.0</td>\n    </tr>\n    <tr>\n      <th>28487</th>\n      <td>113763.0</td>\n      <td>4</td>\n      <td>2023-10-25 15:10:00+05:30</td>\n      <td>-0.940441</td>\n      <td>0.359323</td>\n      <td>-0.940441</td>\n      <td>-0.001729</td>\n      <td>0.113152</td>\n      <td>-1.0</td>\n      <td>0.232341</td>\n      <td>0.429945</td>\n      <td>-1.0</td>\n      <td>0.457297</td>\n      <td>-1.0</td>\n    </tr>\n    <tr>\n      <th>28488</th>\n      <td>113763.0</td>\n      <td>5</td>\n      <td>2023-10-25 15:15:00+05:30</td>\n      <td>-0.025764</td>\n      <td>0.311194</td>\n      <td>-0.194302</td>\n      <td>-0.122080</td>\n      <td>0.127112</td>\n      <td>1.0</td>\n      <td>0.225309</td>\n      <td>0.476456</td>\n      <td>-1.0</td>\n      <td>0.451839</td>\n      <td>-1.0</td>\n    </tr>\n    <tr>\n      <th>28489</th>\n      <td>113763.0</td>\n      <td>6</td>\n      <td>2023-10-25 15:20:00+05:30</td>\n      <td>-0.097986</td>\n      <td>-0.073952</td>\n      <td>-0.290559</td>\n      <td>-0.266466</td>\n      <td>0.101512</td>\n      <td>-1.0</td>\n      <td>0.219503</td>\n      <td>0.410061</td>\n      <td>1.0</td>\n      <td>0.444976</td>\n      <td>-1.0</td>\n    </tr>\n  </tbody>\n</table>\n<p>28490 rows × 14 columns</p>\n</div>"
     },
     "execution_count": 116,
     "metadata": {},
     "output_type": "execute_result"
    }
   ],
   "source": [
    "infy_data.windowed_dataset"
   ],
   "metadata": {
    "collapsed": false
   }
  },
  {
   "cell_type": "code",
   "execution_count": 119,
   "outputs": [
    {
     "data": {
      "text/plain": "0        0\n1        1\n2        2\n3        3\n4        4\n        ..\n28485    2\n28486    3\n28487    4\n28488    5\n28489    6\nName: level_1, Length: 28490, dtype: object"
     },
     "execution_count": 119,
     "metadata": {},
     "output_type": "execute_result"
    }
   ],
   "source": [
    "level_1"
   ],
   "metadata": {
    "collapsed": false
   }
  },
  {
   "cell_type": "code",
   "execution_count": 121,
   "outputs": [
    {
     "data": {
      "text/plain": "4070.0"
     },
     "execution_count": 121,
     "metadata": {},
     "output_type": "execute_result"
    }
   ],
   "source": [
    "len(level_1)/7"
   ],
   "metadata": {
    "collapsed": false
   }
  },
  {
   "cell_type": "code",
   "execution_count": 122,
   "outputs": [],
   "source": [],
   "metadata": {
    "collapsed": false
   }
  },
  {
   "cell_type": "code",
   "execution_count": 124,
   "outputs": [
    {
     "data": {
      "text/plain": "array([   0,    1,    2, ..., 4067, 4068, 4069])"
     },
     "execution_count": 124,
     "metadata": {},
     "output_type": "execute_result"
    }
   ],
   "source": [
    "np.unique(level_0)"
   ],
   "metadata": {
    "collapsed": false
   }
  },
  {
   "cell_type": "code",
   "execution_count": 19,
   "outputs": [
    {
     "data": {
      "text/plain": "     a\n0  2.0\n1  2.0\n2  2.0\n3  2.0\n4  NaN\n5  NaN",
      "text/html": "<div>\n<style scoped>\n    .dataframe tbody tr th:only-of-type {\n        vertical-align: middle;\n    }\n\n    .dataframe tbody tr th {\n        vertical-align: top;\n    }\n\n    .dataframe thead th {\n        text-align: right;\n    }\n</style>\n<table border=\"1\" class=\"dataframe\">\n  <thead>\n    <tr style=\"text-align: right;\">\n      <th></th>\n      <th>a</th>\n    </tr>\n  </thead>\n  <tbody>\n    <tr>\n      <th>0</th>\n      <td>2.0</td>\n    </tr>\n    <tr>\n      <th>1</th>\n      <td>2.0</td>\n    </tr>\n    <tr>\n      <th>2</th>\n      <td>2.0</td>\n    </tr>\n    <tr>\n      <th>3</th>\n      <td>2.0</td>\n    </tr>\n    <tr>\n      <th>4</th>\n      <td>NaN</td>\n    </tr>\n    <tr>\n      <th>5</th>\n      <td>NaN</td>\n    </tr>\n  </tbody>\n</table>\n</div>"
     },
     "execution_count": 19,
     "metadata": {},
     "output_type": "execute_result"
    }
   ],
   "source": [
    "df = pd.DataFrame({'a': [1,2,3,4,5,6]})\n",
    "df.diff(2).shift(-2)"
   ],
   "metadata": {
    "collapsed": false,
    "ExecuteTime": {
     "start_time": "2023-10-27T19:21:13.775300Z",
     "end_time": "2023-10-27T19:21:13.943732Z"
    }
   }
  },
  {
   "cell_type": "code",
   "execution_count": null,
   "outputs": [],
   "source": [],
   "metadata": {
    "collapsed": false
   }
  }
 ],
 "metadata": {
  "kernelspec": {
   "display_name": "Python 3",
   "language": "python",
   "name": "python3"
  },
  "language_info": {
   "codemirror_mode": {
    "name": "ipython",
    "version": 2
   },
   "file_extension": ".py",
   "mimetype": "text/x-python",
   "name": "python",
   "nbconvert_exporter": "python",
   "pygments_lexer": "ipython2",
   "version": "2.7.6"
  }
 },
 "nbformat": 4,
 "nbformat_minor": 0
}
