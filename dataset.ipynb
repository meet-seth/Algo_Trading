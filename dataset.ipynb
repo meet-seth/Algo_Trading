{
 "cells": [
  {
   "cell_type": "code",
   "execution_count": 21,
   "metadata": {
    "collapsed": true
   },
   "outputs": [],
   "source": [
    "from finance_analysis import FinancialInstrument as fi\n",
    "import numpy as np\n",
    "import pandas as pd\n",
    "import matplotlib.pyplot as plt\n",
    "from itertools import product\n",
    "\n",
    "class Stock_Dataset(fi):\n",
    "    def __init__(self,windows: list,horizons: list,intercross: bool,lookover: bool,**kwargs):\n",
    "        \"\"\"\n",
    "        This class creates multiple datasets with varying windows and varying horizons so that multiple datasets\n",
    "        can be created quickly.\n",
    "        :param windows: List of windows to be produced. i.e if window is 7 then number of prices in X would be 7\n",
    "        :param horizons: List of horizons to be produced. i.e. if horizon is 1 then Y will have price movement for 1 day.\n",
    "        :param intercross: if true: eg. if windows = [5,7] and horizon = [2,3] then dataset produced would have\n",
    "        [(5,2),(5,3),(7,2),(7,3)] windows and horizon pair respectively.\n",
    "        else: the window horizon pair would be [(5,2),(7,3)]\n",
    "        :param lookover: if true then single day windows would have prices for that day only not for the previous day where as otherwise\n",
    "        they would have prices from previous day too. It is specifically for intra-day trading where we might not want previous day's prices to\n",
    "        affect the model.\n",
    "        :param kwargs: keyword arguments for Financial Instrument class which are ticker, start, end and interval specifically.\n",
    "        \"\"\"\n",
    "        super().__init__(**kwargs)\n",
    "        self.windows = windows\n",
    "        self.horizons = horizons\n",
    "        self.lookover = lookover\n",
    "        self.intercross = intercross\n",
    "\n",
    "    def create_dataset(self):\n",
    "        self.dataset = {}\n",
    "        if self.intercross:\n",
    "            wh_list = list(product(self.windows,self.horizons))\n",
    "        else:\n",
    "            wh_list = [(i,j) for i,j in zip(self.windows,self.horizons)]\n",
    "\n",
    "        for (i,j) in wh_list:\n",
    "            tmp_dataset = self.create_windows_horizons(i,j)\n",
    "            self.dataset[f'data_{i}_{j}'] = tmp_dataset\n",
    "\n",
    "\n",
    "    def w_h(self,data,window,horizon):\n",
    "        data['position'] = np.log(data.price / data.price.shift(horizon)).apply(lambda x: 1 if x>=0 else -1)\n",
    "        data.dropna(inplace=True)\n",
    "        for i in range(1,window+1):\n",
    "            col = f't-{i}'\n",
    "            data[col] = data.log_returns.shift(i)\n",
    "\n",
    "        data.dropna(inplace=True)\n",
    "        return data.copy()\n",
    "\n",
    "    def create_windows_horizons(self,window,horizon):\n",
    "        if self.lookover:\n",
    "            grp = self.data.groupby(pd.Grouper(freq='D'))\n",
    "            data_f = None\n",
    "            for (t,val) in grp:\n",
    "                val_2 = val.copy()\n",
    "                tmp_data = self.w_h(val_2,window,horizon)\n",
    "                if data_f is None:\n",
    "                    data_f = tmp_data\n",
    "                else:\n",
    "                    data_f = pd.concat([data_f,tmp_data])\n",
    "\n",
    "        else:\n",
    "            data_f = self.w_h(self.data.copy(),window,horizon)\n",
    "\n",
    "        return data_f\n",
    "\n"
   ]
  },
  {
   "cell_type": "code",
   "execution_count": 46,
   "outputs": [
    {
     "name": "stdout",
     "output_type": "stream",
     "text": [
      "[*********************100%***********************]  1 of 1 completed\n"
     ]
    }
   ],
   "source": [
    "tata_data = Stock_Dataset(windows=[10],horizons=[3],intercross=False,lookover=False,ticker='TATAMOTORS.NS',start='2018-01-01',end=pd.Timestamp.today(),interval='1D')"
   ],
   "metadata": {
    "collapsed": false
   }
  },
  {
   "cell_type": "code",
   "execution_count": 22,
   "outputs": [
    {
     "name": "stdout",
     "output_type": "stream",
     "text": [
      "[*********************100%***********************]  1 of 1 completed\n"
     ]
    }
   ],
   "source": [
    "infy_data = Stock_Dataset(windows=[10],horizons=[3],intercross=False,lookover=False,ticker='INFY.NS',start='2018-01-01',end=pd.Timestamp.today(),interval='1D')"
   ],
   "metadata": {
    "collapsed": false
   }
  },
  {
   "cell_type": "code",
   "execution_count": 97,
   "outputs": [],
   "source": [
    "tata_data.create_dataset()"
   ],
   "metadata": {
    "collapsed": false
   }
  },
  {
   "cell_type": "code",
   "execution_count": 103,
   "outputs": [
    {
     "data": {
      "text/plain": "Date\n2018-01-16 00:00:00+05:30   -1\n2018-01-17 00:00:00+05:30   -1\n2018-01-18 00:00:00+05:30   -1\n2018-01-19 00:00:00+05:30    1\n2018-01-22 00:00:00+05:30    1\nName: position, dtype: int64"
     },
     "execution_count": 103,
     "metadata": {},
     "output_type": "execute_result"
    }
   ],
   "source": [
    "tata_data.dataset['data_10_3'].position.head()"
   ],
   "metadata": {
    "collapsed": false
   }
  },
  {
   "cell_type": "code",
   "execution_count": 104,
   "outputs": [
    {
     "data": {
      "text/plain": "-1    642\n 1    627\nName: position, dtype: int64"
     },
     "execution_count": 104,
     "metadata": {},
     "output_type": "execute_result"
    }
   ],
   "source": [
    "tata_data.dataset['data_10_3'].position.value_counts()"
   ],
   "metadata": {
    "collapsed": false
   }
  },
  {
   "cell_type": "code",
   "execution_count": 44,
   "outputs": [
    {
     "data": {
      "text/plain": "5.303444152856573"
     },
     "execution_count": 44,
     "metadata": {},
     "output_type": "execute_result"
    }
   ],
   "source": [
    "np.log(infy_data.data.price / infy_data.data.price.shift(3)).dropna().iloc[::3].apply(lambda x: x if x>=0 else 0).sum()"
   ],
   "metadata": {
    "collapsed": false
   }
  },
  {
   "cell_type": "code",
   "execution_count": 58,
   "outputs": [
    {
     "data": {
      "text/plain": "Date\n2018-01-04 00:00:00+05:30    0.012875\n2018-01-09 00:00:00+05:30    0.017522\n2018-01-12 00:00:00+05:30   -0.001029\n2018-01-17 00:00:00+05:30   -0.032908\n2018-01-22 00:00:00+05:30   -0.002486\n                               ...   \n2023-02-14 00:00:00+05:30    0.008663\n2023-02-17 00:00:00+05:30   -0.001477\n2023-02-22 00:00:00+05:30   -0.024042\n2023-02-27 00:00:00+05:30   -0.027144\n2023-03-02 00:00:00+05:30    0.005964\nName: price, Length: 426, dtype: float64"
     },
     "execution_count": 58,
     "metadata": {},
     "output_type": "execute_result"
    }
   ],
   "source": [
    "np.log(tata_data.data.price / tata_data.data.price.shift(3)).dropna().iloc[::3] #.apply(lambda x: x if x>=0 else 0).sum()"
   ],
   "metadata": {
    "collapsed": false
   }
  },
  {
   "cell_type": "code",
   "execution_count": 89,
   "outputs": [
    {
     "name": "stdout",
     "output_type": "stream",
     "text": [
      "8.931071044530674\n",
      "6.030765331238655\n",
      "5.873857402438013\n"
     ]
    }
   ],
   "source": [
    "resampled_first = infy_data.data.price.resample('3D').first()\n",
    "resampled_last = infy_data.data.price.iloc[2:].resample('3D').first()\n",
    "resampled_mid = infy_data.data.price.iloc[1:].resample('3D').first()\n",
    "funct = (lambda x: x if x>=0 else 0)\n",
    "log_1 = np.log(resampled_first / resampled_first.shift(1))\n",
    "log_2 = np.log(resampled_mid/ resampled_mid.shift(1))\n",
    "log_3 = np.log(resampled_last / resampled_last.shift(1))\n",
    "print(log.apply(funct).sum())\n",
    "print(log_2.apply(funct).sum())\n",
    "print(log_3.apply(funct).sum())"
   ],
   "metadata": {
    "collapsed": false
   }
  },
  {
   "cell_type": "code",
   "execution_count": 85,
   "outputs": [
    {
     "data": {
      "text/plain": "Date\n2018-01-03 00:00:00+05:30    433.899994\n2018-01-06 00:00:00+05:30    433.549988\n2018-01-09 00:00:00+05:30    437.549988\n2018-01-12 00:00:00+05:30    437.100006\n2018-01-15 00:00:00+05:30    432.350006\n                                ...    \n2023-02-18 00:00:00+05:30    443.000000\n2023-02-21 00:00:00+05:30    436.500000\n2023-02-24 00:00:00+05:30    427.750000\n2023-02-27 00:00:00+05:30    417.950012\n2023-03-02 00:00:00+05:30    420.450012\nFreq: 3D, Name: price, Length: 629, dtype: float64"
     },
     "execution_count": 85,
     "metadata": {},
     "output_type": "execute_result"
    }
   ],
   "source": [
    "resampled_last"
   ],
   "metadata": {
    "collapsed": false
   }
  },
  {
   "cell_type": "code",
   "execution_count": 72,
   "outputs": [
    {
     "name": "stdout",
     "output_type": "stream",
     "text": [
      "Date\n",
      "2018-01-01 00:00:00+05:30           NaN\n",
      "2018-01-04 00:00:00+05:30    424.450012\n",
      "2018-01-09 00:00:00+05:30    429.950012\n",
      "2018-01-12 00:00:00+05:30    437.549988\n",
      "2018-01-17 00:00:00+05:30    437.100006\n",
      "Name: price, dtype: float64\n"
     ]
    }
   ],
   "source": [
    "print(tata_data.data.price.shift(3).iloc[::3].head())"
   ],
   "metadata": {
    "collapsed": false
   }
  },
  {
   "cell_type": "code",
   "execution_count": 90,
   "outputs": [
    {
     "data": {
      "text/plain": "3348.3999633789062"
     },
     "execution_count": 90,
     "metadata": {},
     "output_type": "execute_result"
    }
   ],
   "source": [
    "tata_data.data.price.diff(1).apply(lambda x: x if x>=0 else 0).sum()"
   ],
   "metadata": {
    "collapsed": false
   }
  },
  {
   "cell_type": "code",
   "execution_count": 92,
   "outputs": [
    {
     "data": {
      "text/plain": "424.45001220703125"
     },
     "execution_count": 92,
     "metadata": {},
     "output_type": "execute_result"
    }
   ],
   "source": [
    "tata_data.data.price[0]"
   ],
   "metadata": {
    "collapsed": false
   }
  },
  {
   "cell_type": "code",
   "execution_count": 93,
   "outputs": [
    {
     "data": {
      "text/plain": "7.89622641509434"
     },
     "execution_count": 93,
     "metadata": {},
     "output_type": "execute_result"
    }
   ],
   "source": [
    "3348/424"
   ],
   "metadata": {
    "collapsed": false
   }
  },
  {
   "cell_type": "code",
   "execution_count": 49,
   "outputs": [],
   "source": [
    "from finance_analysis import FinancialInstrument as fi\n",
    "import numpy as np\n",
    "import pandas as pd\n",
    "import matplotlib.pyplot as plt\n",
    "from itertools import product\n",
    "\n",
    "class Stock_Dataset(fi):\n",
    "    def __init__(self,**kwargs):\n",
    "        super().__init__(**kwargs)\n",
    "        self.dataset = None\n",
    "\n",
    "    def create_dataset(self,qty=3,window=None,horizon=None):\n",
    "        self.window = window\n",
    "        self.horizon = horizon\n",
    "        self.qty=qty\n",
    "        signal_dict = {}\n",
    "        for i in range(len(self.data)-self.horizon):\n",
    "            price_on_day = self.data.price[i]\n",
    "            for j in range(1,self.horizon+1):\n",
    "                if f't+{j}' not in signal_dict.keys():\n",
    "                    signal_dict[f't+{j}'] = []\n",
    "                f_price = self.data.price.iloc[i+j]\n",
    "                turnover = self.qty*(f_price+price_on_day)\n",
    "                stt = round(0.1*turnover/100)\n",
    "                txn_nse = round(0.00345*turnover/100,2)\n",
    "                gst = round(18/100*txn_nse,2)\n",
    "                stamp = round(0.015/100*qty*self.data.price.iloc[i])\n",
    "                dp = 15.94\n",
    "                tax = stt+txn_nse+gst+stamp+dp\n",
    "                s_pnl = f_price - price_on_day\n",
    "                if s_pnl>0:\n",
    "                    pnl = s_pnl-tax\n",
    "                    if pnl>0:\n",
    "                        signal_dict[f't+{j}'].append(1)\n",
    "                    else:\n",
    "                        signal_dict[f't+{j}'].append(0)\n",
    "                else:\n",
    "                    pnl = s_pnl + tax\n",
    "                    if pnl>0:\n",
    "                        signal_dict[f't+{j}'].append(0)\n",
    "                    else:\n",
    "                        signal_dict[f't+{j}'].append(-1)\n",
    "\n",
    "\n",
    "        for i in signal_dict.keys():\n",
    "            self.data[i] = signal_dict[i]+[None]*self.horizon\n",
    "\n",
    "        for i in range(1,self.window):\n",
    "            self.data[f't-{i}'] = self.data.log_returns.shift(i)\n",
    "\n",
    "        key_ls = []\n",
    "        for k in range(-self.window+1,self.horizon+1):\n",
    "            if k==0:\n",
    "                key = 'log_returns'\n",
    "            else:\n",
    "                key = f't+{k}' if k>0 else f't{k}'\n",
    "            key_ls.append(key)\n",
    "\n",
    "        self.data[key_ls].dropna(inplace=True)\n",
    "\n",
    "        new_targets = []\n",
    "        target_ls = [f't+{i}' for i in range(1,self.horizon+1)]\n",
    "        target_array = self.data[target_ls].to_numpy().astype(np.int32)\n",
    "        for i in target_array:\n",
    "            n_zero = 0\n",
    "            for j in i:\n",
    "                if j!=0:\n",
    "                    n_zero=1\n",
    "                    new_targets.append(j)\n",
    "                    break\n",
    "            if n_zero==0:\n",
    "                new_targets.append(0)\n",
    "        self.data['final_targets'] = new_targets\n",
    "\n",
    "        key_ls = ['price'] + key_ls + ['final_targets']\n",
    "        self.dataset = self.data[key_ls].dropna().copy()\n",
    "        return self.dataset\n"
   ],
   "metadata": {
    "collapsed": false
   }
  },
  {
   "cell_type": "code",
   "execution_count": 51,
   "outputs": [
    {
     "name": "stdout",
     "output_type": "stream",
     "text": [
      "[*********************100%***********************]  1 of 1 completed\n"
     ]
    }
   ],
   "source": [
    "tata_stock = Stock_Dataset(ticker='TATAMOTORS.NS',start='2011-01-01',end=pd.Timestamp.today(),interval='1D')"
   ],
   "metadata": {
    "collapsed": false
   }
  },
  {
   "cell_type": "code",
   "execution_count": 55,
   "outputs": [
    {
     "name": "stderr",
     "output_type": "stream",
     "text": [
      "/tmp/ipykernel_6804/271236298.py:59: SettingWithCopyWarning: \n",
      "A value is trying to be set on a copy of a slice from a DataFrame\n",
      "\n",
      "See the caveats in the documentation: https://pandas.pydata.org/pandas-docs/stable/user_guide/indexing.html#returning-a-view-versus-a-copy\n",
      "  self.data[key_ls].dropna(inplace=True)\n"
     ]
    }
   ],
   "source": [
    "tata_ds = tata_stock.create_dataset(qty=3,window=20,horizon=10)"
   ],
   "metadata": {
    "collapsed": false
   }
  },
  {
   "cell_type": "code",
   "execution_count": 56,
   "outputs": [
    {
     "data": {
      "text/plain": " 0    1055\n 1     971\n-1     961\nName: final_targets, dtype: int64"
     },
     "execution_count": 56,
     "metadata": {},
     "output_type": "execute_result"
    }
   ],
   "source": [
    "tata_ds.final_targets.value_counts()"
   ],
   "metadata": {
    "collapsed": false
   }
  },
  {
   "cell_type": "code",
   "execution_count": 34,
   "outputs": [],
   "source": [
    "target_ls = [f't+{i}' for i in range(1,8)]\n",
    "target_array = tata_ds[target_ls].to_numpy().astype(np.int32)"
   ],
   "metadata": {
    "collapsed": false
   }
  },
  {
   "cell_type": "code",
   "execution_count": 35,
   "outputs": [],
   "source": [
    "new_targets = []\n",
    "for i in target_array:\n",
    "    n_zero = 0\n",
    "    for j in i:\n",
    "        if j!=0:\n",
    "            n_zero=1\n",
    "            new_targets.append(j)\n",
    "            break\n",
    "    if n_zero==0:\n",
    "        new_targets.append(0)"
   ],
   "metadata": {
    "collapsed": false
   }
  },
  {
   "cell_type": "code",
   "execution_count": 18,
   "outputs": [],
   "source": [
    "target_s = pd.Series(new_targets)"
   ],
   "metadata": {
    "collapsed": false
   }
  },
  {
   "cell_type": "code",
   "execution_count": 19,
   "outputs": [
    {
     "data": {
      "text/plain": "0    1\n1    0\n2    0\n3    1\n4    1\ndtype: int64"
     },
     "execution_count": 19,
     "metadata": {},
     "output_type": "execute_result"
    }
   ],
   "source": [
    "target_s.head()"
   ],
   "metadata": {
    "collapsed": false
   }
  },
  {
   "cell_type": "code",
   "execution_count": 20,
   "outputs": [
    {
     "data": {
      "text/plain": " 0    1517\n 1     736\n-1     736\ndtype: int64"
     },
     "execution_count": 20,
     "metadata": {},
     "output_type": "execute_result"
    }
   ],
   "source": [
    "target_s.value_counts()"
   ],
   "metadata": {
    "collapsed": false
   }
  },
  {
   "cell_type": "code",
   "execution_count": 37,
   "outputs": [
    {
     "data": {
      "text/plain": "2989"
     },
     "execution_count": 37,
     "metadata": {},
     "output_type": "execute_result"
    }
   ],
   "source": [
    "len(tata_ds)"
   ],
   "metadata": {
    "collapsed": false
   }
  },
  {
   "cell_type": "code",
   "execution_count": 38,
   "outputs": [
    {
     "data": {
      "text/plain": " 0    1517\n 1     736\n-1     736\nName: final_targets, dtype: int64"
     },
     "execution_count": 38,
     "metadata": {},
     "output_type": "execute_result"
    }
   ],
   "source": [
    "tata_ds.final_targets.value_counts()"
   ],
   "metadata": {
    "collapsed": false
   }
  },
  {
   "cell_type": "code",
   "execution_count": 46,
   "outputs": [
    {
     "data": {
      "text/plain": "<matplotlib.collections.PathCollection at 0x7f460e5b0c10>"
     },
     "execution_count": 46,
     "metadata": {},
     "output_type": "execute_result"
    },
    {
     "data": {
      "text/plain": "<Figure size 640x480 with 1 Axes>",
      "image/png": "[encoded data removed]"
     },
     "metadata": {},
     "output_type": "display_data"
    }
   ],
   "source": [
    "x=100\n",
    "plt.plot(tata_ds.price[-x:])\n",
    "plt.scatter(y=tata_ds.price[-x:].loc[tata_ds.final_targets[-x:]==1],x=tata_ds.price[-x:].loc[tata_ds.final_targets[-x:]==1].index,color='g')\n",
    "plt.scatter(y=tata_ds.price[-x:].loc[tata_ds.final_targets[-x:]==-1],x=tata_ds.price[-x:].loc[tata_ds.final_targets[-x:]==-1].index,color='r')\n",
    "plt.scatter(y=tata_ds.price[-x:].loc[tata_ds.final_targets[-x:]==0],x=tata_ds.price[-x:].loc[tata_ds.final_targets[-x:]==0].index,color='b')"
   ],
   "metadata": {
    "collapsed": false
   }
  },
  {
   "cell_type": "code",
   "execution_count": null,
   "outputs": [],
   "source": [],
   "metadata": {
    "collapsed": false
   }
  }
 ],
 "metadata": {
  "kernelspec": {
   "display_name": "Python 3",
   "language": "python",
   "name": "python3"
  },
  "language_info": {
   "codemirror_mode": {
    "name": "ipython",
    "version": 2
   },
   "file_extension": ".py",
   "mimetype": "text/x-python",
   "name": "python",
   "nbconvert_exporter": "python",
   "pygments_lexer": "ipython2",
   "version": "2.7.6"
  }
 },
 "nbformat": 4,
 "nbformat_minor": 0
}
